{
  "nbformat": 4,
  "nbformat_minor": 0,
  "metadata": {
    "colab": {
      "name": "Copia de PracticaSpark_pruebas_berni.ipynb",
      "provenance": [],
      "collapsed_sections": [
        "A5-Zr47G_ogp"
      ],
      "toc_visible": true,
      "include_colab_link": true
    },
    "kernelspec": {
      "name": "python3",
      "display_name": "Python 3"
    }
  },
  "cells": [
    {
      "cell_type": "markdown",
      "metadata": {
        "id": "view-in-github",
        "colab_type": "text"
      },
      "source": [
        "<a href=\"https://colab.research.google.com/github/ParalelaUCM/biciMAD/blob/master/Copia_de_PracticaSpark_pruebas_berni.ipynb\" target=\"_parent\"><img src=\"https://colab.research.google.com/assets/colab-badge.svg\" alt=\"Open In Colab\"/></a>"
      ]
    },
    {
      "cell_type": "markdown",
      "metadata": {
        "id": "o6JLekeSkduf",
        "colab_type": "text"
      },
      "source": [
        "# **Setup**\n",
        "\n",
        "Instalamos y configuramos las herramientas necesarias para empezar a trabajar"
      ]
    },
    {
      "cell_type": "code",
      "metadata": {
        "id": "1dvQgdvjkcPT",
        "colab_type": "code",
        "outputId": "72a590d4-7e4b-4cca-9234-c6ca9159ab78",
        "colab": {
          "base_uri": "https://localhost:8080/",
          "height": 1000
        }
      },
      "source": [
        "!apt-get install openjdk-8-jdk\n",
        "!apt install unzip\n",
        "import os\n",
        "os.environ[\"JAVA_HOME\"] = \"/usr/lib/jvm/java-8-openjdk-amd64\"\n",
        "!pip install pyspark"
      ],
      "execution_count": 1,
      "outputs": [
        {
          "output_type": "stream",
          "text": [
            "Reading package lists... Done\n",
            "Building dependency tree       \n",
            "Reading state information... Done\n",
            "The following additional packages will be installed:\n",
            "  fonts-dejavu-core fonts-dejavu-extra libatk-wrapper-java\n",
            "  libatk-wrapper-java-jni libxxf86dga1 openjdk-8-jdk-headless openjdk-8-jre\n",
            "  openjdk-8-jre-headless x11-utils\n",
            "Suggested packages:\n",
            "  openjdk-8-demo openjdk-8-source visualvm icedtea-8-plugin libnss-mdns\n",
            "  fonts-ipafont-gothic fonts-ipafont-mincho fonts-wqy-microhei\n",
            "  fonts-wqy-zenhei fonts-indic mesa-utils\n",
            "The following NEW packages will be installed:\n",
            "  fonts-dejavu-core fonts-dejavu-extra libatk-wrapper-java\n",
            "  libatk-wrapper-java-jni libxxf86dga1 openjdk-8-jdk openjdk-8-jdk-headless\n",
            "  openjdk-8-jre openjdk-8-jre-headless x11-utils\n",
            "0 upgraded, 10 newly installed, 0 to remove and 32 not upgraded.\n",
            "Need to get 40.7 MB of archives.\n",
            "After this operation, 153 MB of additional disk space will be used.\n",
            "Get:1 http://archive.ubuntu.com/ubuntu bionic/main amd64 libxxf86dga1 amd64 2:1.1.4-1 [13.7 kB]\n",
            "Get:2 http://archive.ubuntu.com/ubuntu bionic/main amd64 fonts-dejavu-core all 2.37-1 [1,041 kB]\n",
            "Get:3 http://archive.ubuntu.com/ubuntu bionic/main amd64 fonts-dejavu-extra all 2.37-1 [1,953 kB]\n",
            "Get:4 http://archive.ubuntu.com/ubuntu bionic/main amd64 x11-utils amd64 7.7+3build1 [196 kB]\n",
            "Get:5 http://archive.ubuntu.com/ubuntu bionic/main amd64 libatk-wrapper-java all 0.33.3-20ubuntu0.1 [34.7 kB]\n",
            "Get:6 http://archive.ubuntu.com/ubuntu bionic/main amd64 libatk-wrapper-java-jni amd64 0.33.3-20ubuntu0.1 [28.3 kB]\n",
            "Get:7 http://archive.ubuntu.com/ubuntu bionic-updates/universe amd64 openjdk-8-jre-headless amd64 8u252-b09-1~18.04 [27.5 MB]\n",
            "Get:8 http://archive.ubuntu.com/ubuntu bionic-updates/universe amd64 openjdk-8-jre amd64 8u252-b09-1~18.04 [69.8 kB]\n",
            "Get:9 http://archive.ubuntu.com/ubuntu bionic-updates/universe amd64 openjdk-8-jdk-headless amd64 8u252-b09-1~18.04 [8,250 kB]\n",
            "Get:10 http://archive.ubuntu.com/ubuntu bionic-updates/universe amd64 openjdk-8-jdk amd64 8u252-b09-1~18.04 [1,622 kB]\n",
            "Fetched 40.7 MB in 7s (5,733 kB/s)\n",
            "Selecting previously unselected package libxxf86dga1:amd64.\n",
            "(Reading database ... 144467 files and directories currently installed.)\n",
            "Preparing to unpack .../0-libxxf86dga1_2%3a1.1.4-1_amd64.deb ...\n",
            "Unpacking libxxf86dga1:amd64 (2:1.1.4-1) ...\n",
            "Selecting previously unselected package fonts-dejavu-core.\n",
            "Preparing to unpack .../1-fonts-dejavu-core_2.37-1_all.deb ...\n",
            "Unpacking fonts-dejavu-core (2.37-1) ...\n",
            "Selecting previously unselected package fonts-dejavu-extra.\n",
            "Preparing to unpack .../2-fonts-dejavu-extra_2.37-1_all.deb ...\n",
            "Unpacking fonts-dejavu-extra (2.37-1) ...\n",
            "Selecting previously unselected package x11-utils.\n",
            "Preparing to unpack .../3-x11-utils_7.7+3build1_amd64.deb ...\n",
            "Unpacking x11-utils (7.7+3build1) ...\n",
            "Selecting previously unselected package libatk-wrapper-java.\n",
            "Preparing to unpack .../4-libatk-wrapper-java_0.33.3-20ubuntu0.1_all.deb ...\n",
            "Unpacking libatk-wrapper-java (0.33.3-20ubuntu0.1) ...\n",
            "Selecting previously unselected package libatk-wrapper-java-jni:amd64.\n",
            "Preparing to unpack .../5-libatk-wrapper-java-jni_0.33.3-20ubuntu0.1_amd64.deb ...\n",
            "Unpacking libatk-wrapper-java-jni:amd64 (0.33.3-20ubuntu0.1) ...\n",
            "Selecting previously unselected package openjdk-8-jre-headless:amd64.\n",
            "Preparing to unpack .../6-openjdk-8-jre-headless_8u252-b09-1~18.04_amd64.deb ...\n",
            "Unpacking openjdk-8-jre-headless:amd64 (8u252-b09-1~18.04) ...\n",
            "Selecting previously unselected package openjdk-8-jre:amd64.\n",
            "Preparing to unpack .../7-openjdk-8-jre_8u252-b09-1~18.04_amd64.deb ...\n",
            "Unpacking openjdk-8-jre:amd64 (8u252-b09-1~18.04) ...\n",
            "Selecting previously unselected package openjdk-8-jdk-headless:amd64.\n",
            "Preparing to unpack .../8-openjdk-8-jdk-headless_8u252-b09-1~18.04_amd64.deb ...\n",
            "Unpacking openjdk-8-jdk-headless:amd64 (8u252-b09-1~18.04) ...\n",
            "Selecting previously unselected package openjdk-8-jdk:amd64.\n",
            "Preparing to unpack .../9-openjdk-8-jdk_8u252-b09-1~18.04_amd64.deb ...\n",
            "Unpacking openjdk-8-jdk:amd64 (8u252-b09-1~18.04) ...\n",
            "Setting up fonts-dejavu-core (2.37-1) ...\n",
            "Setting up libxxf86dga1:amd64 (2:1.1.4-1) ...\n",
            "Setting up fonts-dejavu-extra (2.37-1) ...\n",
            "Setting up openjdk-8-jre-headless:amd64 (8u252-b09-1~18.04) ...\n",
            "update-alternatives: using /usr/lib/jvm/java-8-openjdk-amd64/jre/bin/orbd to provide /usr/bin/orbd (orbd) in auto mode\n",
            "update-alternatives: using /usr/lib/jvm/java-8-openjdk-amd64/jre/bin/servertool to provide /usr/bin/servertool (servertool) in auto mode\n",
            "update-alternatives: using /usr/lib/jvm/java-8-openjdk-amd64/jre/bin/tnameserv to provide /usr/bin/tnameserv (tnameserv) in auto mode\n",
            "Setting up openjdk-8-jdk-headless:amd64 (8u252-b09-1~18.04) ...\n",
            "update-alternatives: using /usr/lib/jvm/java-8-openjdk-amd64/bin/idlj to provide /usr/bin/idlj (idlj) in auto mode\n",
            "update-alternatives: using /usr/lib/jvm/java-8-openjdk-amd64/bin/wsimport to provide /usr/bin/wsimport (wsimport) in auto mode\n",
            "update-alternatives: using /usr/lib/jvm/java-8-openjdk-amd64/bin/jsadebugd to provide /usr/bin/jsadebugd (jsadebugd) in auto mode\n",
            "update-alternatives: using /usr/lib/jvm/java-8-openjdk-amd64/bin/native2ascii to provide /usr/bin/native2ascii (native2ascii) in auto mode\n",
            "update-alternatives: using /usr/lib/jvm/java-8-openjdk-amd64/bin/javah to provide /usr/bin/javah (javah) in auto mode\n",
            "update-alternatives: using /usr/lib/jvm/java-8-openjdk-amd64/bin/clhsdb to provide /usr/bin/clhsdb (clhsdb) in auto mode\n",
            "update-alternatives: using /usr/lib/jvm/java-8-openjdk-amd64/bin/extcheck to provide /usr/bin/extcheck (extcheck) in auto mode\n",
            "update-alternatives: using /usr/lib/jvm/java-8-openjdk-amd64/bin/hsdb to provide /usr/bin/hsdb (hsdb) in auto mode\n",
            "update-alternatives: using /usr/lib/jvm/java-8-openjdk-amd64/bin/schemagen to provide /usr/bin/schemagen (schemagen) in auto mode\n",
            "update-alternatives: using /usr/lib/jvm/java-8-openjdk-amd64/bin/xjc to provide /usr/bin/xjc (xjc) in auto mode\n",
            "update-alternatives: using /usr/lib/jvm/java-8-openjdk-amd64/bin/jhat to provide /usr/bin/jhat (jhat) in auto mode\n",
            "update-alternatives: using /usr/lib/jvm/java-8-openjdk-amd64/bin/wsgen to provide /usr/bin/wsgen (wsgen) in auto mode\n",
            "Setting up x11-utils (7.7+3build1) ...\n",
            "Setting up libatk-wrapper-java (0.33.3-20ubuntu0.1) ...\n",
            "Setting up libatk-wrapper-java-jni:amd64 (0.33.3-20ubuntu0.1) ...\n",
            "Setting up openjdk-8-jre:amd64 (8u252-b09-1~18.04) ...\n",
            "update-alternatives: using /usr/lib/jvm/java-8-openjdk-amd64/jre/bin/policytool to provide /usr/bin/policytool (policytool) in auto mode\n",
            "Setting up openjdk-8-jdk:amd64 (8u252-b09-1~18.04) ...\n",
            "update-alternatives: using /usr/lib/jvm/java-8-openjdk-amd64/bin/appletviewer to provide /usr/bin/appletviewer (appletviewer) in auto mode\n",
            "update-alternatives: using /usr/lib/jvm/java-8-openjdk-amd64/bin/jconsole to provide /usr/bin/jconsole (jconsole) in auto mode\n",
            "Processing triggers for man-db (2.8.3-2ubuntu0.1) ...\n",
            "Processing triggers for hicolor-icon-theme (0.17-2) ...\n",
            "Processing triggers for fontconfig (2.12.6-0ubuntu2) ...\n",
            "Processing triggers for mime-support (3.60ubuntu1) ...\n",
            "Processing triggers for libc-bin (2.27-3ubuntu1) ...\n",
            "/sbin/ldconfig.real: /usr/local/lib/python3.6/dist-packages/ideep4py/lib/libmkldnn.so.0 is not a symbolic link\n",
            "\n",
            "Reading package lists... Done\n",
            "Building dependency tree       \n",
            "Reading state information... Done\n",
            "unzip is already the newest version (6.0-21ubuntu1).\n",
            "0 upgraded, 0 newly installed, 0 to remove and 32 not upgraded.\n",
            "Collecting pyspark\n",
            "\u001b[?25l  Downloading https://files.pythonhosted.org/packages/9a/5a/271c416c1c2185b6cb0151b29a91fff6fcaed80173c8584ff6d20e46b465/pyspark-2.4.5.tar.gz (217.8MB)\n",
            "\u001b[K     |████████████████████████████████| 217.8MB 61kB/s \n",
            "\u001b[?25hCollecting py4j==0.10.7\n",
            "\u001b[?25l  Downloading https://files.pythonhosted.org/packages/e3/53/c737818eb9a7dc32a7cd4f1396e787bd94200c3997c72c1dbe028587bd76/py4j-0.10.7-py2.py3-none-any.whl (197kB)\n",
            "\u001b[K     |████████████████████████████████| 204kB 44.3MB/s \n",
            "\u001b[?25hBuilding wheels for collected packages: pyspark\n",
            "  Building wheel for pyspark (setup.py) ... \u001b[?25l\u001b[?25hdone\n",
            "  Created wheel for pyspark: filename=pyspark-2.4.5-py2.py3-none-any.whl size=218257927 sha256=ea23423913aa9ce41b89da2e6d95a6ba0732386fff8ba1dcd7a38cf7a4374bd1\n",
            "  Stored in directory: /root/.cache/pip/wheels/bf/db/04/61d66a5939364e756eb1c1be4ec5bdce6e04047fc7929a3c3c\n",
            "Successfully built pyspark\n",
            "Installing collected packages: py4j, pyspark\n",
            "Successfully installed py4j-0.10.7 pyspark-2.4.5\n"
          ],
          "name": "stdout"
        }
      ]
    },
    {
      "cell_type": "code",
      "metadata": {
        "id": "7izn4SSoktQB",
        "colab_type": "code",
        "outputId": "99b3971c-c921-4351-dbbb-56b80a783e67",
        "colab": {
          "base_uri": "https://localhost:8080/",
          "height": 104
        }
      },
      "source": [
        "!apt install unzip"
      ],
      "execution_count": 2,
      "outputs": [
        {
          "output_type": "stream",
          "text": [
            "Reading package lists... Done\n",
            "Building dependency tree       \n",
            "Reading state information... Done\n",
            "unzip is already the newest version (6.0-21ubuntu1).\n",
            "0 upgraded, 0 newly installed, 0 to remove and 32 not upgraded.\n"
          ],
          "name": "stdout"
        }
      ]
    },
    {
      "cell_type": "code",
      "metadata": {
        "id": "C1Yn_yv0kFQH",
        "colab_type": "code",
        "colab": {}
      },
      "source": [
        "import json\n",
        "import os\n",
        "import matplotlib.pyplot as plt\n",
        "import statistics as stats\n",
        "from pyspark import SparkContext"
      ],
      "execution_count": 0,
      "outputs": []
    },
    {
      "cell_type": "code",
      "metadata": {
        "id": "wewQ_aLlkFx3",
        "colab_type": "code",
        "colab": {}
      },
      "source": [
        "sc = SparkContext()"
      ],
      "execution_count": 0,
      "outputs": []
    },
    {
      "cell_type": "markdown",
      "metadata": {
        "id": "9xB2HI4RlCAv",
        "colab_type": "text"
      },
      "source": [
        "# **Descargamos los datasets de bicimad**\n",
        "Descargaremos cada dataset de la web oficial) de biciMAD. Los renombraremos a '.zip' para poder descomprimirlos y una vez descomprimidos los movemos a la carpeta 'datasets'. Por último eliminamos los ficheros comprimidos."
      ]
    },
    {
      "cell_type": "code",
      "metadata": {
        "id": "zynUfS6zlO2x",
        "colab_type": "code",
        "colab": {}
      },
      "source": [
        "#Estructura de carpetas para el dataset\n",
        "!mkdir dataset\n",
        "!cd dataset/\n",
        "!mkdir dataset/usages\n",
        "!mkdir dataset/stations"
      ],
      "execution_count": 0,
      "outputs": []
    },
    {
      "cell_type": "markdown",
      "metadata": {
        "id": "v7icuhVjkW3K",
        "colab_type": "text"
      },
      "source": [
        "## Datasets de uso"
      ]
    },
    {
      "cell_type": "code",
      "metadata": {
        "id": "OsU-TGDTlc20",
        "colab_type": "code",
        "colab": {}
      },
      "source": [
        "#Enero de 2019\n",
        "!wget -N \"https://opendata.emtmadrid.es/getattachment/2ebcc70a-4914-43c6-9ada-a0f0520032a4/201901_Usage_Bicimad.aspx\"\n",
        "!mv 201901_Usage_Bicimad.aspx 201901_Usage_Bicimad.zip\n",
        "!unzip 201901_Usage_Bicimad.zip\n",
        "!mv 201901_Usage_Bicimad.json dataset/usages\n",
        "!rm 201901_Usage_Bicimad.zip"
      ],
      "execution_count": 0,
      "outputs": []
    },
    {
      "cell_type": "code",
      "metadata": {
        "id": "0VdEV7PJ5gjH",
        "colab_type": "code",
        "colab": {}
      },
      "source": [
        "\n",
        "#Febrero de 2019\n",
        "!wget -N \"https://opendata.emtmadrid.es/getattachment/aa8c34d2-ddba-46d9-b6db-882c0b4a12f0/201902_Usage_Bicimad.aspx\"\n",
        "!mv 201902_Usage_Bicimad.aspx 201902_Usage_Bicimad.zip \n",
        "!unzip 201902_Usage_Bicimad.zip\n",
        "!mv 201902_Usage_Bicimad.json dataset/usages\n",
        "!rm 201902_Usage_Bicimad.zip\n"
      ],
      "execution_count": 0,
      "outputs": []
    },
    {
      "cell_type": "code",
      "metadata": {
        "id": "o0QGROiOoPc_",
        "colab_type": "code",
        "colab": {}
      },
      "source": [
        "#Marzo de 2019\n",
        "!wget -N \"https://opendata.emtmadrid.es/getattachment/9407161f-c66e-4b80-ac22-0d58fe3e7a63/201903_Usage_Bicimad.aspx\"\n",
        "!mv 201903_Usage_Bicimad.aspx 201903_Usage_Bicimad.zip \n",
        "!unzip 201903_Usage_Bicimad.zip\n",
        "!mv 201903_Usage_Bicimad.json dataset/usages\n",
        "!rm 201903_Usage_Bicimad.zip"
      ],
      "execution_count": 0,
      "outputs": []
    },
    {
      "cell_type": "code",
      "metadata": {
        "id": "xsbs4nvAoa3A",
        "colab_type": "code",
        "colab": {}
      },
      "source": [
        "#Abril de 2019\n",
        "!wget -N \"https://opendata.emtmadrid.es/getattachment/fe6d4549-6e3d-4efe-8cb7-1669f8dd1c3d/201904_Usage_Bicimad.aspx\"\n",
        "!mv 201904_Usage_Bicimad.aspx 201904_Usage_Bicimad.zip \n",
        "!unzip 201904_Usage_Bicimad.zip\n",
        "!mv 201904_Usage_Bicimad.json dataset/usages\n",
        "!rm 201904_Usage_Bicimad.zip"
      ],
      "execution_count": 0,
      "outputs": []
    },
    {
      "cell_type": "code",
      "metadata": {
        "id": "mWgPfe7Now-P",
        "colab_type": "code",
        "colab": {}
      },
      "source": [
        "#Mayo de 2019\n",
        "!wget -N \"https://opendata.emtmadrid.es/getattachment/cda2be99-80ac-4bc9-b3a5-97c6c5e92f61/201905_Usage_Bicimad.aspx\"\n",
        "!mv 201905_Usage_Bicimad.aspx 201905_Usage_Bicimad.zip \n",
        "!unzip 201905_Usage_Bicimad.zip\n",
        "!mv 201905_Usage_Bicimad.json dataset/usages\n",
        "!rm 201905_Usage_Bicimad.zip"
      ],
      "execution_count": 0,
      "outputs": []
    },
    {
      "cell_type": "code",
      "metadata": {
        "id": "WhWzg0HZ5hKJ",
        "colab_type": "code",
        "colab": {}
      },
      "source": [
        "#Junio de 2019\n",
        "!wget -N \"https://opendata.emtmadrid.es/getattachment/7517a650-ccdf-4ab1-b1b0-a1d13694472e/201906_Usage_Bicimad.aspx\"\n",
        "!mv 201906_Usage_Bicimad.aspx 201906_Usage_Bicimad.zip\n",
        "!unzip 201906_Usage_Bicimad.zip\n",
        "!mv 201906_Usage_Bicimad.json dataset/usages\n",
        "!rm 201906_Usage_Bicimad.zip"
      ],
      "execution_count": 0,
      "outputs": []
    },
    {
      "cell_type": "markdown",
      "metadata": {
        "id": "7wH5DQtnk0o8",
        "colab_type": "text"
      },
      "source": [
        "## Dataset de estaciones\n",
        "Aquí nos descargamos los datasets de ocupacion por estación y los movemos dentro de la carpeta stations/ dentro de datasets/"
      ]
    },
    {
      "cell_type": "code",
      "metadata": {
        "id": "65PTGNwvk9gn",
        "colab_type": "code",
        "colab": {
          "base_uri": "https://localhost:8080/",
          "height": 263
        },
        "outputId": "84ea2d00-8f4e-4f2e-e885-633de13f42f8"
      },
      "source": [
        "#Enero de 2019\n",
        "!wget -N \"https://opendata.emtmadrid.es/getattachment/17206b97-1de9-4c95-a20f-3331d699d2fa/Bicimad_Stations_201901.aspx\"\n",
        "!mv Bicimad_Stations_201901.aspx 201901_Bicimad_Stations.zip\n",
        "!unzip 201901_Bicimad_Stations.zip\n",
        "!mv Bicimad_Stations_201901.json dataset/stations\n",
        "!rm 201901_Bicimad_Stations.zip\n",
        "!mv dataset/stations/Bicimad_Stations_201901.json dataset/stations/201901_Stations_Bicimad.json"
      ],
      "execution_count": 70,
      "outputs": [
        {
          "output_type": "stream",
          "text": [
            "--2020-06-04 16:31:25--  https://opendata.emtmadrid.es/getattachment/17206b97-1de9-4c95-a20f-3331d699d2fa/Bicimad_Stations_201901.aspx\n",
            "Resolving opendata.emtmadrid.es (opendata.emtmadrid.es)... 185.79.130.130\n",
            "Connecting to opendata.emtmadrid.es (opendata.emtmadrid.es)|185.79.130.130|:443... connected.\n",
            "HTTP request sent, awaiting response... 200 OK\n",
            "Length: 5217347 (5.0M) [application/zip]\n",
            "Saving to: ‘Bicimad_Stations_201901.aspx’\n",
            "\n",
            "Bicimad_Stations_20 100%[===================>]   4.98M   800KB/s    in 7.8s    \n",
            "\n",
            "2020-06-04 16:31:34 (657 KB/s) - ‘Bicimad_Stations_201901.aspx’ saved [5217347/5217347]\n",
            "\n",
            "Archive:  201901_Bicimad_Stations.zip\n",
            "  inflating: Bicimad_Stations_201901.json  \n"
          ],
          "name": "stdout"
        }
      ]
    },
    {
      "cell_type": "code",
      "metadata": {
        "id": "jjeHYr_LJFSq",
        "colab_type": "code",
        "colab": {
          "base_uri": "https://localhost:8080/",
          "height": 384
        },
        "outputId": "d09b5c41-4104-45e0-b07c-8dc08a154549"
      },
      "source": [
        "#Febrero de 2019\n",
        "!wget -N \"https://opendata.emtmadrid.es/getattachment/97a8bc50-124f-487b-8c24-902241ae8e24/Bicimad_Stations_201902.aspx\"\n",
        "!mv Bicimad_Stations_201902.aspx 201902_Bicimad_Stations.zip\n",
        "!unzip 201902_Bicimad_Stations.zip\n",
        "!mv Bicimad_Stations_201902.json dataset/stations\n",
        "!rm 201902_Bicimad_Stations.zip\n",
        "!mv dataset/stations/Bicimad_Stations_201902.json dataset/stations/201902_Stations_Bicimad.json"
      ],
      "execution_count": 71,
      "outputs": [
        {
          "output_type": "stream",
          "text": [
            "--2020-06-04 16:36:32--  https://opendata.emtmadrid.es/getattachment/97a8bc50-124f-487b-8c24-902241ae8e24/Bicimad_Stations_201902.aspx\n",
            "Resolving opendata.emtmadrid.es (opendata.emtmadrid.es)... 185.79.130.130\n",
            "Connecting to opendata.emtmadrid.es (opendata.emtmadrid.es)|185.79.130.130|:443... connected.\n",
            "HTTP request sent, awaiting response... 200 OK\n",
            "Length: 643728 (629K) [application/octet-stream]\n",
            "Saving to: ‘Bicimad_Stations_201902.aspx’\n",
            "\n",
            "Bicimad_Stations_20 100%[===================>] 628.64K   349KB/s    in 1.8s    \n",
            "\n",
            "2020-06-04 16:36:35 (349 KB/s) - ‘Bicimad_Stations_201902.aspx’ saved [643728/643728]\n",
            "\n",
            "Archive:  201902_Bicimad_Stations.zip\n",
            "  End-of-central-directory signature not found.  Either this file is not\n",
            "  a zipfile, or it constitutes one disk of a multi-part archive.  In the\n",
            "  latter case the central directory and zipfile comment will be found on\n",
            "  the last disk(s) of this archive.\n",
            "unzip:  cannot find zipfile directory in one of 201902_Bicimad_Stations.zip or\n",
            "        201902_Bicimad_Stations.zip.zip, and cannot find 201902_Bicimad_Stations.zip.ZIP, period.\n",
            "mv: cannot stat 'Bicimad_Stations_201902.json': No such file or directory\n",
            "mv: cannot stat 'dataset/stations/Bicimad_Stations_201902.json': No such file or directory\n"
          ],
          "name": "stdout"
        }
      ]
    },
    {
      "cell_type": "code",
      "metadata": {
        "id": "eWgiSz7GJG0u",
        "colab_type": "code",
        "colab": {
          "base_uri": "https://localhost:8080/",
          "height": 384
        },
        "outputId": "f86d5dd9-d621-4b2a-855a-c57eceba035e"
      },
      "source": [
        "#Marzo de 2019\n",
        "!wget -N \"https://opendata.emtmadrid.es/getattachment/7be1ee81-a3d5-4b2e-8e7a-57725f191cb5/Bicimad_Stations_201903.aspx\"\n",
        "!mv Bicimad_Stations_201903.aspx 201903_Bicimad_Stations.zip\n",
        "!unzip 201903_Bicimad_Stations.zip\n",
        "!mv Bicimad_Stations_201903.json dataset/stations\n",
        "!rm 201903_Bicimad_Stations.zip\n",
        "!mv dataset/stations/Bicimad_Stations_201903.json dataset/stations/201903_Stations_Bicimad.json"
      ],
      "execution_count": 72,
      "outputs": [
        {
          "output_type": "stream",
          "text": [
            "--2020-06-04 16:37:25--  https://opendata.emtmadrid.es/getattachment/7be1ee81-a3d5-4b2e-8e7a-57725f191cb5/Bicimad_Stations_201903.aspx\n",
            "Resolving opendata.emtmadrid.es (opendata.emtmadrid.es)... 185.79.130.130\n",
            "Connecting to opendata.emtmadrid.es (opendata.emtmadrid.es)|185.79.130.130|:443... connected.\n",
            "HTTP request sent, awaiting response... 200 OK\n",
            "Length: 713535 (697K) [application/octet-stream]\n",
            "Saving to: ‘Bicimad_Stations_201903.aspx’\n",
            "\n",
            "Bicimad_Stations_20 100%[===================>] 696.81K   369KB/s    in 1.9s    \n",
            "\n",
            "2020-06-04 16:37:28 (369 KB/s) - ‘Bicimad_Stations_201903.aspx’ saved [713535/713535]\n",
            "\n",
            "Archive:  201903_Bicimad_Stations.zip\n",
            "  End-of-central-directory signature not found.  Either this file is not\n",
            "  a zipfile, or it constitutes one disk of a multi-part archive.  In the\n",
            "  latter case the central directory and zipfile comment will be found on\n",
            "  the last disk(s) of this archive.\n",
            "unzip:  cannot find zipfile directory in one of 201903_Bicimad_Stations.zip or\n",
            "        201903_Bicimad_Stations.zip.zip, and cannot find 201903_Bicimad_Stations.zip.ZIP, period.\n",
            "mv: cannot stat 'Bicimad_Stations_201903.json': No such file or directory\n",
            "mv: cannot stat 'dataset/stations/Bicimad_Stations_201903.json': No such file or directory\n"
          ],
          "name": "stdout"
        }
      ]
    },
    {
      "cell_type": "code",
      "metadata": {
        "id": "vKdfuhxMJHow",
        "colab_type": "code",
        "colab": {
          "base_uri": "https://localhost:8080/",
          "height": 384
        },
        "outputId": "aaa37b5f-3d31-4a81-cb73-211866be8ed9"
      },
      "source": [
        "#Abril de 2019\n",
        "!wget -N \"https://opendata.emtmadrid.es/getattachment/a2db1369-6546-4dbe-acd4-c02abc97b58b/Bicimad_Stations_201904.aspx\"\n",
        "!mv Bicimad_Stations_201904.aspx 201904_Bicimad_Stations.zip\n",
        "!unzip 201904_Bicimad_Stations.zip\n",
        "!mv Bicimad_Stations_201904.json dataset/stations\n",
        "!rm 201904_Bicimad_Stations.zip\n",
        "!mv dataset/stations/Bicimad_Stations_201904.json dataset/stations/201904_Stations_Bicimad.json"
      ],
      "execution_count": 73,
      "outputs": [
        {
          "output_type": "stream",
          "text": [
            "--2020-06-04 16:39:23--  https://opendata.emtmadrid.es/getattachment/a2db1369-6546-4dbe-acd4-c02abc97b58b/Bicimad_Stations_201904.aspx\n",
            "Resolving opendata.emtmadrid.es (opendata.emtmadrid.es)... 185.79.130.130\n",
            "Connecting to opendata.emtmadrid.es (opendata.emtmadrid.es)|185.79.130.130|:443... connected.\n",
            "HTTP request sent, awaiting response... 200 OK\n",
            "Length: 661196 (646K) [application/octet-stream]\n",
            "Saving to: ‘Bicimad_Stations_201904.aspx’\n",
            "\n",
            "Bicimad_Stations_20 100%[===================>] 645.70K   358KB/s    in 1.8s    \n",
            "\n",
            "2020-06-04 16:39:26 (358 KB/s) - ‘Bicimad_Stations_201904.aspx’ saved [661196/661196]\n",
            "\n",
            "Archive:  201904_Bicimad_Stations.zip\n",
            "  End-of-central-directory signature not found.  Either this file is not\n",
            "  a zipfile, or it constitutes one disk of a multi-part archive.  In the\n",
            "  latter case the central directory and zipfile comment will be found on\n",
            "  the last disk(s) of this archive.\n",
            "unzip:  cannot find zipfile directory in one of 201904_Bicimad_Stations.zip or\n",
            "        201904_Bicimad_Stations.zip.zip, and cannot find 201904_Bicimad_Stations.zip.ZIP, period.\n",
            "mv: cannot stat 'Bicimad_Stations_201904.json': No such file or directory\n",
            "mv: cannot stat 'dataset/stations/Bicimad_Stations_201904.json': No such file or directory\n"
          ],
          "name": "stdout"
        }
      ]
    },
    {
      "cell_type": "code",
      "metadata": {
        "id": "LEGWdU4fJIPL",
        "colab_type": "code",
        "colab": {
          "base_uri": "https://localhost:8080/",
          "height": 384
        },
        "outputId": "1bcd2a47-994a-413f-c31e-a3efac98a9f6"
      },
      "source": [
        "#Mayo de 2019\n",
        "!wget -N \"https://opendata.emtmadrid.es/getattachment/0f82facc-f98d-4be4-a3ff-59930b810fdb/Bicimad_Stations_201905.aspx\"\n",
        "!mv Bicimad_Stations_201905.aspx 201905_Bicimad_Stations.zip\n",
        "!unzip 201905_Bicimad_Stations.zip\n",
        "!mv Bicimad_Stations_201905.json dataset/stations\n",
        "!rm 201905_Bicimad_Stations.zip\n",
        "!mv dataset/stations/Bicimad_Stations_201905.json dataset/stations/201905_Stations_Bicimad.json"
      ],
      "execution_count": 74,
      "outputs": [
        {
          "output_type": "stream",
          "text": [
            "--2020-06-04 16:40:35--  https://opendata.emtmadrid.es/getattachment/0f82facc-f98d-4be4-a3ff-59930b810fdb/Bicimad_Stations_201905.aspx\n",
            "Resolving opendata.emtmadrid.es (opendata.emtmadrid.es)... 185.79.130.130\n",
            "Connecting to opendata.emtmadrid.es (opendata.emtmadrid.es)|185.79.130.130|:443... connected.\n",
            "HTTP request sent, awaiting response... 200 OK\n",
            "Length: 724673 (708K) [application/octet-stream]\n",
            "Saving to: ‘Bicimad_Stations_201905.aspx’\n",
            "\n",
            "Bicimad_Stations_20 100%[===================>] 707.69K   333KB/s    in 2.1s    \n",
            "\n",
            "2020-06-04 16:40:39 (333 KB/s) - ‘Bicimad_Stations_201905.aspx’ saved [724673/724673]\n",
            "\n",
            "Archive:  201905_Bicimad_Stations.zip\n",
            "  End-of-central-directory signature not found.  Either this file is not\n",
            "  a zipfile, or it constitutes one disk of a multi-part archive.  In the\n",
            "  latter case the central directory and zipfile comment will be found on\n",
            "  the last disk(s) of this archive.\n",
            "unzip:  cannot find zipfile directory in one of 201905_Bicimad_Stations.zip or\n",
            "        201905_Bicimad_Stations.zip.zip, and cannot find 201905_Bicimad_Stations.zip.ZIP, period.\n",
            "mv: cannot stat 'Bicimad_Stations_201905.json': No such file or directory\n",
            "mv: cannot stat 'dataset/stations/Bicimad_Stations_201905.json': No such file or directory\n"
          ],
          "name": "stdout"
        }
      ]
    },
    {
      "cell_type": "code",
      "metadata": {
        "id": "hSX0vYdlJIwH",
        "colab_type": "code",
        "colab": {}
      },
      "source": [
        "#Junio de 2019\n",
        "!wget -N \"https://opendata.emtmadrid.es/getattachment/8ed37748-d63f-44f0-a1bd-89e43e70f35a/Bicimad_Stations_201906.aspx\"\n",
        "!mv Bicimad_Stations_201906.aspx 201906_Bicimad_Stations.zip\n",
        "!unzip 201906_Bicimad_Stations.zip\n",
        "!mv Bicimad_Stations_201906.json dataset/stations\n",
        "!rm 201906_Bicimad_Stations.zip\n",
        "!mv dataset/stations/Bicimad_Stations_201906.json dataset/stations/201906_Stations_Bicimad.json"
      ],
      "execution_count": 0,
      "outputs": []
    },
    {
      "cell_type": "markdown",
      "metadata": {
        "id": "6l1JrKnQlPbm",
        "colab_type": "text"
      },
      "source": [
        "# **Creamos los RDD**\n",
        "Una vez tenemos las bases de datos descargadas vamos a codificarlas de forma cómoda."
      ]
    },
    {
      "cell_type": "markdown",
      "metadata": {
        "id": "s2_J09HfldNw",
        "colab_type": "text"
      },
      "source": [
        "Para tener los datos almacenados de una forma cómoda primero creamos un diccionario cuya clave va a ser un string con el mes y el año del dataset y como valor va a tener el rdd asociado al uso por usuario de ese mes.\n",
        "\n",
        "La funcion `mapper_usages` nos servirá para crear la rdd mas legible. Nos quedaremos con los datos necesarios y cada linea la codificaremos como un diccionario."
      ]
    },
    {
      "cell_type": "code",
      "metadata": {
        "id": "qKXOxYtPlUPZ",
        "colab_type": "code",
        "colab": {}
      },
      "source": [
        "rdd_usages = {} "
      ],
      "execution_count": 0,
      "outputs": []
    },
    {
      "cell_type": "code",
      "metadata": {
        "id": "fQ1WZW9ylnFQ",
        "colab_type": "code",
        "colab": {}
      },
      "source": [
        "def mapper_usages(line):\n",
        "  data = json.loads(line)\n",
        "  user = data['user_type']\n",
        "  user_day = data['user_day_code']\n",
        "  start = data['idunplug_station']\n",
        "  end = data['idplug_station']\n",
        "  date = data['unplug_hourTime']['$date'][0:10]\n",
        "  hora = data['unplug_hourTime']['$date'][11:19]\n",
        "  time = data['travel_time']\n",
        "  age = data['ageRange']\n",
        "  return {\"age\": age,\n",
        "          \"hour\": hora,\n",
        "          \"date\": date,\n",
        "          \"travel_time\": time,\n",
        "          \"end\": end,\n",
        "          \"start\": start,\n",
        "          \"user_day_code\": user_day,\n",
        "          \"user_type\": user}"
      ],
      "execution_count": 0,
      "outputs": []
    },
    {
      "cell_type": "code",
      "metadata": {
        "id": "d9pIrqUclrQl",
        "colab_type": "code",
        "outputId": "529b957d-fa8e-4055-c329-cd18e4f88e6d",
        "colab": {
          "base_uri": "https://localhost:8080/",
          "height": 121
        }
      },
      "source": [
        "directory = 'dataset/usages'\n",
        "for filename in os.listdir(directory):\n",
        "    if filename.endswith(\".json\"):\n",
        "      #Nos quedamos con la fecha del dataset en formato YYYYMM\n",
        "      name = filename.split(\"_\")[0]\n",
        "      rdd_usages[name] = \\\n",
        "      sc.textFile(os.path.join(directory, filename)).map(mapper_usages)\n",
        "      #DEBUG starts\n",
        "      print(name)\n",
        "      #DEBUG ends\n",
        "    else:\n",
        "        continue"
      ],
      "execution_count": 15,
      "outputs": [
        {
          "output_type": "stream",
          "text": [
            "201906\n",
            "201905\n",
            "201902\n",
            "201901\n",
            "201903\n",
            "201904\n"
          ],
          "name": "stdout"
        }
      ]
    },
    {
      "cell_type": "code",
      "metadata": {
        "id": "1jHkWWJcBg9H",
        "colab_type": "code",
        "colab": {}
      },
      "source": [
        "#Juntamos todos los datos de los meses en uno solo dataset\n",
        "rdd_usages['201901-06'] = rdd_usages['201901'].union(rdd_usages['201902'].union(rdd_usages['201903'].union(rdd_usages['201904'].union(rdd_usages['201905'].union(rdd_usages['201906'])))))\n",
        "#rdd_usages['201901-06'] = rdd_usages['201901'].concat(rdd_usages['201902'])"
      ],
      "execution_count": 0,
      "outputs": []
    },
    {
      "cell_type": "code",
      "metadata": {
        "id": "IHVwJiV1EtYD",
        "colab_type": "code",
        "colab": {}
      },
      "source": [
        "rdd_usages['201901-06'].take(1)"
      ],
      "execution_count": 0,
      "outputs": []
    },
    {
      "cell_type": "markdown",
      "metadata": {
        "id": "muBX-1kTly_Y",
        "colab_type": "text"
      },
      "source": [
        "Por otro lado un diccionario cuya clave va a ser tambien un string con el mes y el año del dataset y como valor va a tener el rdd asociado a la ocupacion de las estaciones en ese mes.\n",
        "\n",
        "Aquí usaremos la funcion `mapper_stations` para acomodar los datos."
      ]
    },
    {
      "cell_type": "code",
      "metadata": {
        "id": "Do-vrp0Ul3uZ",
        "colab_type": "code",
        "colab": {}
      },
      "source": [
        "rdd_stations = {} "
      ],
      "execution_count": 0,
      "outputs": []
    },
    {
      "cell_type": "code",
      "metadata": {
        "id": "HhR9BSlSl5xZ",
        "colab_type": "code",
        "colab": {}
      },
      "source": [
        "def mapper_stations(line):\n",
        "  data = json.loads(line)\n",
        "  day = data['_id'][0:10]\n",
        "  hour = data['_id'][11:27]\n",
        "  station = data['stations']\n",
        "  return {\"day\": day, \"hour\": hour, \"station\": station}"
      ],
      "execution_count": 0,
      "outputs": []
    },
    {
      "cell_type": "code",
      "metadata": {
        "id": "pLEPxjcBl77p",
        "colab_type": "code",
        "outputId": "0855eeb1-b9d5-40e4-9208-573265f69d05",
        "colab": {
          "base_uri": "https://localhost:8080/",
          "height": 35
        }
      },
      "source": [
        "directory = 'dataset/stations'\n",
        "for filename in os.listdir(directory):\n",
        "    if filename.endswith(\".json\"):\n",
        "      #Nos quedamos con la fecha del dataset en formato YYYYMM\n",
        "      name = filename.split(\"_\")[0]\n",
        "      rdd_stations[name] = \\\n",
        "      sc.textFile(os.path.join(directory, filename)).map(mapper_stations)\n",
        "      #DEBUG starts\n",
        "      print(name)\n",
        "      #DEBUG ends\n",
        "    else:\n",
        "        continue"
      ],
      "execution_count": 19,
      "outputs": [
        {
          "output_type": "stream",
          "text": [
            "201901\n"
          ],
          "name": "stdout"
        }
      ]
    },
    {
      "cell_type": "markdown",
      "metadata": {
        "id": "-C02tMVwlhC8",
        "colab_type": "text"
      },
      "source": [
        "# **Ahora ya podemos empezar**"
      ]
    },
    {
      "cell_type": "code",
      "metadata": {
        "id": "FqR2bB3jE7mE",
        "colab_type": "code",
        "colab": {}
      },
      "source": [
        "#sc.stop() # Esto lo he puesto aquí antes, porque he ido a ejecutar y me decia que ya habia uno, blablabla, pero que en teoría se puede quitar, vaya."
      ],
      "execution_count": 0,
      "outputs": []
    },
    {
      "cell_type": "code",
      "metadata": {
        "id": "JifNMwNfrK2V",
        "colab_type": "code",
        "colab": {
          "base_uri": "https://localhost:8080/",
          "height": 55
        },
        "outputId": "d3497dcb-87c1-4bb9-a42d-cd98ee427aad"
      },
      "source": [
        "\"\"\"\n",
        "#Para usar dataFrames que puede ser interesante (No he usado nada de esto abajo)\n",
        "from pyspark.sql import SparkSession\n",
        "spark = SparkSession.builder.getOrCreate()\n",
        "df = spark.read.json(\"/content/dataset/201901_Usage_Bicimad.json\")\n",
        "df.show()\n",
        "\"\"\""
      ],
      "execution_count": 55,
      "outputs": [
        {
          "output_type": "execute_result",
          "data": {
            "text/plain": [
              "'\\n#Para usar dataFrames que puede ser interesante (No he usado nada de esto abajo)\\nfrom pyspark.sql import SparkSession\\nspark = SparkSession.builder.getOrCreate()\\ndf = spark.read.json(\"/content/dataset/201901_Usage_Bicimad.json\")\\ndf.show()\\n'"
            ]
          },
          "metadata": {
            "tags": []
          },
          "execution_count": 55
        }
      ]
    },
    {
      "cell_type": "markdown",
      "metadata": {
        "id": "KosiIgA650BR",
        "colab_type": "text"
      },
      "source": [
        "### **Analisis y comparativas entre datos nocturnos y diurnos**"
      ]
    },
    {
      "cell_type": "code",
      "metadata": {
        "id": "w1G9j_Utr5Ux",
        "colab_type": "code",
        "colab": {}
      },
      "source": [
        "def mapper(data):\n",
        "  #data = json.loads(line)\n",
        "  user = data['user_type']\n",
        "  user_day = data['user_day_code']\n",
        "  start = data['start']\n",
        "  end = data['end']\n",
        "  date = data['date']\n",
        "  hora = data['hour']\n",
        "  time = data['travel_time']\n",
        "  age = data['age']\n",
        "  return user, user_day, start, end , time, date, hora, age"
      ],
      "execution_count": 0,
      "outputs": []
    },
    {
      "cell_type": "code",
      "metadata": {
        "id": "rq8O6lpjmNht",
        "colab_type": "code",
        "colab": {}
      },
      "source": [
        "def horasNocturnas(data):\n",
        "  #data = json.loads(line)\n",
        "  #hora_minima = 3600 #Esto seria pasar las 01:00:00 horas a segundos‬\n",
        "  hora_minima = 0 #Lo pongo en 0 ya que si no estamos perdiendo algun dato relevante para el ultimo problema\n",
        "  hora_maxima = 18000 #Esto seria pasar las 05:00:00 horas a segundos‬\n",
        "  hora = data['hour']\n",
        "  hora_actual = int(hora[0:2]) * 3600 + int(hora[3:5]) * 60 + int(hora[6:8])\n",
        "  #En teoria con multipicar solo las horas ya valdria porque no hay ni minutos ni segundos\n",
        "  return hora_actual <= hora_maxima\n",
        "rddNocturna = rdd_usages['201901-06'].filter(horasNocturnas)"
      ],
      "execution_count": 0,
      "outputs": []
    },
    {
      "cell_type": "code",
      "metadata": {
        "id": "hsZPcvOumRhZ",
        "colab_type": "code",
        "outputId": "99b242d0-17da-4827-a737-007b964b0f20",
        "colab": {
          "base_uri": "https://localhost:8080/",
          "height": 156
        }
      },
      "source": [
        "rddNocturna.take(1)"
      ],
      "execution_count": 0,
      "outputs": [
        {
          "output_type": "execute_result",
          "data": {
            "text/plain": [
              "[{'age': 5,\n",
              "  'date': '2019-01-01',\n",
              "  'end': 95,\n",
              "  'hour': '01:00:00',\n",
              "  'start': 102,\n",
              "  'travel_time': 318,\n",
              "  'user_day_code': '19b185c5dd95c1ef7f807c94d159e980d1eb31c53f2093c33d1d7dcd54c4a7d1',\n",
              "  'user_type': 1}]"
            ]
          },
          "metadata": {
            "tags": []
          },
          "execution_count": 28
        }
      ]
    },
    {
      "cell_type": "code",
      "metadata": {
        "id": "LUr-oo96mVlY",
        "colab_type": "code",
        "outputId": "83de52d4-9cc4-4c12-8cff-a4a6fafd0e28",
        "colab": {
          "base_uri": "https://localhost:8080/",
          "height": 35
        }
      },
      "source": [
        "#Separamos ahora por tipo de usuario y vemos cuantos hay de cada tipo en total en todo el mes(para caso nocturno)\n",
        "night_data = rddNocturna.map(lambda x: x['user_type']).countByValue()\n",
        "night_data"
      ],
      "execution_count": 0,
      "outputs": [
        {
          "output_type": "execute_result",
          "data": {
            "text/plain": [
              "defaultdict(int, {0: 157, 1: 13843, 2: 132, 3: 2432})"
            ]
          },
          "metadata": {
            "tags": []
          },
          "execution_count": 62
        }
      ]
    },
    {
      "cell_type": "code",
      "metadata": {
        "id": "elTfuGWJpLA2",
        "colab_type": "code",
        "outputId": "080db481-7d5c-41b2-db3a-0d4c6e4e238f",
        "colab": {
          "base_uri": "https://localhost:8080/",
          "height": 303
        }
      },
      "source": [
        "plt.title('Datos por tipo de usuario nocturnos')\n",
        "names = list(night_data.keys()) \n",
        "values = list(night_data.values())\n",
        "plt.bar(names, values, 1)\n",
        "plt.xlabel('Tipo de usuarios', fontsize=18)\n",
        "plt.ylabel('Cantidad de usuarios', fontsize=16)\n",
        "names.sort()\n",
        "plt.xticks(names, [\"0\",\"1\",\"2\",\"3\"])\n",
        "plt.show()"
      ],
      "execution_count": 0,
      "outputs": [
        {
          "output_type": "display_data",
          "data": {
            "image/png": "[encoded data removed]",
            "text/plain": [
              "<Figure size 432x288 with 1 Axes>"
            ]
          },
          "metadata": {
            "tags": [],
            "needs_background": "light"
          }
        }
      ]
    },
    {
      "cell_type": "markdown",
      "metadata": {
        "id": "ifDFmsLAoQ-m",
        "colab_type": "text"
      },
      "source": [
        "Podemos observar como la mayoría de usuarios que han usado bicimad por la noche son usuarios del tipo 1, que son los usuarios anuales mientras que hay muy pocos usuarios ocasionales. Veamos una comparación con los datos diurnos."
      ]
    },
    {
      "cell_type": "code",
      "metadata": {
        "id": "CiDPrAkonlY9",
        "colab_type": "code",
        "colab": {}
      },
      "source": [
        "def horasDiurnas(data):\n",
        "  #data = json.loads(line)\n",
        "  hora_minima = 18000 #Esto seria pasar las 05:00:00 horas a segundos‬\n",
        "  hora = data['hour']\n",
        "  hora_actual = int(hora[0:2]) * 3600 + int(hora[3:5]) * 60 + int(hora[6:8])\n",
        "  #En teoria con multipicar solo las horas ya valdria porque no hay ni minutos ni segundos\n",
        "  return hora_minima < hora_actual\n",
        "rddDiurna =  rdd_usages['201901-06'].filter(horasDiurnas)"
      ],
      "execution_count": 0,
      "outputs": []
    },
    {
      "cell_type": "code",
      "metadata": {
        "id": "SZPKRLMbpf3X",
        "colab_type": "code",
        "outputId": "e9cd163b-c027-45da-e61f-bedf291a6756",
        "colab": {
          "base_uri": "https://localhost:8080/",
          "height": 54
        }
      },
      "source": [
        "rddDiurna.take(1)"
      ],
      "execution_count": 0,
      "outputs": [
        {
          "output_type": "execute_result",
          "data": {
            "text/plain": [
              "['{ \"_id\" : { \"$oid\" : \"5c4b07ef2f38432e007dae95\" }, \"user_day_code\" : \"963823d9e2087febb35ccffa49f4311dc679dede68cc5aafe7a385f24009575d\", \"idplug_base\" : 5, \"track\" : { \"type\" : \"FeatureCollection\", \"features\" : [ { \"geometry\" : { \"type\" : \"Point\", \"coordinates\" : [ -3.6910045, 40.4080585997222 ] }, \"type\" : \"Feature\", \"properties\" : { \"var\" : \"28007,ES,Madrid,Madrid,AVDA CIUDAD DE BARCELONA 2D,Madrid\", \"speed\" : 7.27, \"secondsfromstart\" : 314 } }, { \"geometry\" : { \"type\" : \"Point\", \"coordinates\" : [ -3.69283509972222, 40.4106409997222 ] }, \"type\" : \"Feature\", \"properties\" : { \"var\" : \"28014,ES,Madrid,Madrid,PASEO PRADO 38,Madrid\", \"speed\" : 7.5, \"secondsfromstart\" : 254 } }, { \"geometry\" : { \"type\" : \"Point\", \"coordinates\" : [ -3.6943575, 40.4149359997222 ] }, \"type\" : \"Feature\", \"properties\" : { \"var\" : \"28014,ES,Madrid,Madrid,PASEO PRADO,Madrid\", \"speed\" : 8, \"secondsfromstart\" : 194 } }, { \"geometry\" : { \"type\" : \"Point\", \"coordinates\" : [ -3.69392699972222, 40.4191884997222 ] }, \"type\" : \"Feature\", \"properties\" : { \"var\" : \"28014,ES,Madrid,Madrid,CALLE ALCALA 48,Madrid\", \"speed\" : 5.61, \"secondsfromstart\" : 135 } }, { \"geometry\" : { \"type\" : \"Point\", \"coordinates\" : [ -3.6965545, 40.4201945 ] }, \"type\" : \"Feature\", \"properties\" : { \"var\" : \"28004,ES,Madrid,Madrid,CALLE INFANTAS 31,Madrid\", \"speed\" : 7.52, \"secondsfromstart\" : 75 } } ] }, \"user_type\" : 1, \"idunplug_base\" : 24, \"travel_time\" : 334, \"idunplug_station\" : 19, \"ageRange\" : 0, \"idplug_station\" : 85, \"unplug_hourTime\" : { \"$date\" : \"2019-01-01T06:00:00.000+0100\" }, \"zip_code\" : \"\" }']"
            ]
          },
          "metadata": {
            "tags": []
          },
          "execution_count": 25
        }
      ]
    },
    {
      "cell_type": "code",
      "metadata": {
        "id": "lsgyxLYbpCJx",
        "colab_type": "code",
        "outputId": "da7cc4c7-0571-4183-d947-50796cf3ad4f",
        "colab": {
          "base_uri": "https://localhost:8080/",
          "height": 35
        }
      },
      "source": [
        "#Separamos ahora por tipo de usuario y vemos cuantos hay de cada tipo en total en todo el mes(para caso diurno)\n",
        "rddDiurna_datos = rddDiurna.map(mapper)\n",
        "day_data = rddDiurna_datos.countByKey()\n",
        "day_data"
      ],
      "execution_count": 0,
      "outputs": [
        {
          "output_type": "execute_result",
          "data": {
            "text/plain": [
              "defaultdict(int, {0: 1646, 1: 233460, 2: 1793, 3: 18328})"
            ]
          },
          "metadata": {
            "tags": []
          },
          "execution_count": 12
        }
      ]
    },
    {
      "cell_type": "code",
      "metadata": {
        "id": "R3-qnozJ7I6f",
        "colab_type": "code",
        "outputId": "87894f33-079d-4965-b09d-923b191bf5ef",
        "colab": {
          "base_uri": "https://localhost:8080/",
          "height": 303
        }
      },
      "source": [
        "plt.title('Datos por tipo de usuario diurnos')\n",
        "names = list(day_data.keys()) \n",
        "values = list(day_data.values())\n",
        "plt.bar(names, values, 1)\n",
        "plt.xlabel('Tipo de usuarios', fontsize=18)\n",
        "plt.ylabel('Cantidad de usuarios', fontsize=16)\n",
        "names.sort()\n",
        "plt.xticks(names, [\"0\",\"1\",\"2\",\"3\"])\n",
        "plt.show()"
      ],
      "execution_count": 0,
      "outputs": [
        {
          "output_type": "display_data",
          "data": {
            "image/png": "[encoded data removed]",
            "text/plain": [
              "<Figure size 432x288 with 1 Axes>"
            ]
          },
          "metadata": {
            "tags": [],
            "needs_background": "light"
          }
        }
      ]
    },
    {
      "cell_type": "markdown",
      "metadata": {
        "id": "IJb9B0UlqVoB",
        "colab_type": "text"
      },
      "source": [
        "Los datos de los histogramas son muy parecidos por lo que para ver la diferencia entre los datos nocturnos y los diurnos, es necesario hacer una proporcion para ver como son estos datos"
      ]
    },
    {
      "cell_type": "code",
      "metadata": {
        "id": "HN6Jm3fiqrlO",
        "colab_type": "code",
        "outputId": "f171627a-4fc7-45e2-9431-815ada29a96a",
        "colab": {
          "base_uri": "https://localhost:8080/",
          "height": 34
        }
      },
      "source": [
        "#Proporcion datos nocturnos\n",
        "print(\"Proporción entre tipo 2 sobre tipo 1: \", 132/13843)"
      ],
      "execution_count": 0,
      "outputs": [
        {
          "output_type": "stream",
          "text": [
            "Proporción entre tipo 2 sobre tipo 1:  0.00953550530954273\n"
          ],
          "name": "stdout"
        }
      ]
    },
    {
      "cell_type": "code",
      "metadata": {
        "id": "aQ6gNFlNqfOJ",
        "colab_type": "code",
        "outputId": "4d87f4c5-ea41-4278-e5bb-2c42386a9233",
        "colab": {
          "base_uri": "https://localhost:8080/",
          "height": 34
        }
      },
      "source": [
        "#Proporcion datos diurnos\n",
        "print(\"Proporción entre tipo 2 sobre tipo 1: \", 1793/233460)"
      ],
      "execution_count": 0,
      "outputs": [
        {
          "output_type": "stream",
          "text": [
            "Proporción entre tipo 2 sobre tipo 1:  0.007680116508181273\n"
          ],
          "name": "stdout"
        }
      ]
    },
    {
      "cell_type": "markdown",
      "metadata": {
        "id": "iy479xLdqyf4",
        "colab_type": "text"
      },
      "source": [
        "Las proporciones son muy parecidas por lo que podriamos considerar que no afecta en gran medida el tipo de usuarios dependiendo de las horas"
      ]
    },
    {
      "cell_type": "markdown",
      "metadata": {
        "id": "5HHl--Qv6IJR",
        "colab_type": "text"
      },
      "source": [
        "### **Analisis profundo de datos nocturnos**"
      ]
    },
    {
      "cell_type": "markdown",
      "metadata": {
        "id": "lkdxOGgnhFxw",
        "colab_type": "text"
      },
      "source": [
        "Veamos ahora, los fines de semana. Si nos vamos a enero de 2019, los fines de semana (viernes-domingo) fueron los días, 4,5,6,11,12,13,18,19,20,25,26,27.\n"
      ]
    },
    {
      "cell_type": "code",
      "metadata": {
        "id": "VoS5uMvzwk1-",
        "colab_type": "code",
        "colab": {}
      },
      "source": [
        "#Esta funcion, dado cualquier dia, te dice si fue fin de semana o no en el año 2019. Tendiendo en cuenta\n",
        "#que la 'noche' del viernes es sabado ya, por lo que queremos los dias sabado, domingo y lunes.\n",
        "def is_weekend(data):\n",
        "  months = [31, 28, 31, 30, 31, 30]#Los dias que tiene cada mes desde enero a junio\n",
        "  #El 1 de enero de 2019 cayo en Martes\n",
        "  fin_semana = [4,5,6] #Corrspondiente a los fines de semana.\n",
        "  fecha_actual = data['date']\n",
        "  mes_actual = int(fecha_actual[5:7])\n",
        "  dia_actual = int(fecha_actual[8:10])\n",
        "  dias_transcurridos = months[mes_actual-1]*(mes_actual-1) + dia_actual\n",
        "  return dias_transcurridos % 7 in fin_semana\n"
      ],
      "execution_count": 0,
      "outputs": []
    },
    {
      "cell_type": "code",
      "metadata": {
        "id": "Qg6WMd5Thz2k",
        "colab_type": "code",
        "colab": {}
      },
      "source": [
        "def weekend(line):\n",
        "  #Como en realidad queremos las noches, 'la noche del vierne' sería el sabado ya, entonces, buscamos los\n",
        "  #días: 5,6,7,12,13,14,19,20,21,26,27,28.\n",
        "  data=json.loads(line)\n",
        "  days=['2019-01-05', '2019-01-06', '2019-01-07','2019-01-12','2019-01-13','2019-01-14', '2019-01-19', '2019-01-20','2019-01-21','2019-01-26', '2019-01-27', '2019-01-28']\n",
        "  dia_actual=data['unplug_hourTime']['$date'][0:10]\n",
        "  return dia_actual in days"
      ],
      "execution_count": 0,
      "outputs": []
    },
    {
      "cell_type": "code",
      "metadata": {
        "id": "mhw8JA0wki-7",
        "colab_type": "code",
        "outputId": "2783345e-4504-46ac-a3c1-7effa7def1fd",
        "colab": {
          "base_uri": "https://localhost:8080/",
          "height": 35
        }
      },
      "source": [
        "rddWeekend=rddNocturna.filter(lambda x: is_weekend(x))\n",
        "#rddWeekend_datos=rddWeekend.map(mapper)\n",
        "weekend_data=rddWeekend.map(lambda x: x['user_type']).countByValue()\n",
        "weekend_data"
      ],
      "execution_count": 0,
      "outputs": [
        {
          "output_type": "execute_result",
          "data": {
            "text/plain": [
              "defaultdict(int, {0: 101, 1: 8791, 2: 90, 3: 1085})"
            ]
          },
          "metadata": {
            "tags": []
          },
          "execution_count": 60
        }
      ]
    },
    {
      "cell_type": "code",
      "metadata": {
        "id": "MEFxYX_d3_SS",
        "colab_type": "code",
        "outputId": "d2f0f850-61db-4b21-fae2-968769097a28",
        "colab": {
          "base_uri": "https://localhost:8080/",
          "height": 134
        }
      },
      "source": [
        "fig=plt.figure()\n",
        "fig.subplots_adjust(bottom=0.025, left=0.05, top = 0.975, right=0.975)\n",
        "fig.add_subplot(1,4,1)\n",
        "plt.pie([night_data[0]-weekend_data[0], weekend_data[0]], labels=['L-J', 'V-D'],\n",
        "        autopct='%1.1f%%', shadow=True, startangle=90)\n",
        "plt.title('Indefinido')\n",
        "fig.add_subplot(1,4,2)\n",
        "plt.pie([night_data[1]-weekend_data[1], weekend_data[1]], labels=['L-J', 'V-D'],\n",
        "        autopct='%1.1f%%', shadow=True, startangle=90)\n",
        "plt.title('Anuales')\n",
        "fig.add_subplot(1,4,3)\n",
        "plt.pie([night_data[2]-weekend_data[2], weekend_data[2]], labels=['L-J', 'V-D'],\n",
        "        autopct='%1.1f%%', shadow=True, startangle=90)\n",
        "plt.title('Ocasionales')\n",
        "fig.add_subplot(1,4,4)\n",
        "plt.pie([night_data[3]-weekend_data[3], weekend_data[3]], labels=['L-J', 'V-D'],\n",
        "        autopct='%1.1f%%', shadow=True, startangle=90)\n",
        "plt.title('Trabajadores')\n",
        "#plt.legend(['entre semana', 'fin de semana'], loc=4)\n",
        "plt.show()"
      ],
      "execution_count": 0,
      "outputs": [
        {
          "output_type": "display_data",
          "data": {
            "image/png": "[encoded data removed]",
            "text/plain": [
              "<Figure size 432x288 with 4 Axes>"
            ]
          },
          "metadata": {
            "tags": []
          }
        }
      ]
    },
    {
      "cell_type": "markdown",
      "metadata": {
        "id": "ADqigq0d1LwJ",
        "colab_type": "text"
      },
      "source": [
        "Como vemos, más de la mitad de viajeros ordinarios nocturnos, utilizan BiciMad en el fin de semana, incluso más del 60% en los viajeros ocasionales. Sin embargo, de los trabajadores de la empresa, solo el 37% lo hace en fin de semana.\n"
      ]
    },
    {
      "cell_type": "markdown",
      "metadata": {
        "id": "FKK2lUlid6EW",
        "colab_type": "text"
      },
      "source": [
        "Veamos ahora, los movimientos por horas.\n"
      ]
    },
    {
      "cell_type": "code",
      "metadata": {
        "id": "H5mxPxhseSov",
        "colab_type": "code",
        "outputId": "fd698509-75b6-40e6-ca4e-a7f6e32654c3",
        "colab": {
          "base_uri": "https://localhost:8080/",
          "height": 121
        }
      },
      "source": [
        "def movimientosPorHoras(data):\n",
        "  #data= json.loads(line)\n",
        "  hora= data['hour']\n",
        "  user=data['user_type']\n",
        "  return hora, user\n",
        "rddHoras=rddNocturna.map(movimientosPorHoras)\n",
        "time_data=rddHoras.countByKey()\n",
        "time_data"
      ],
      "execution_count": 0,
      "outputs": [
        {
          "output_type": "execute_result",
          "data": {
            "text/plain": [
              "defaultdict(int,\n",
              "            {'01:00:00': 5521,\n",
              "             '02:00:00': 4394,\n",
              "             '03:00:00': 2612,\n",
              "             '04:00:00': 2207,\n",
              "             '05:00:00': 1830})"
            ]
          },
          "metadata": {
            "tags": []
          },
          "execution_count": 65
        }
      ]
    },
    {
      "cell_type": "code",
      "metadata": {
        "id": "jvF6nnsHBuhi",
        "colab_type": "code",
        "outputId": "89416802-b441-4a5d-ac1f-9937f14651b7",
        "colab": {
          "base_uri": "https://localhost:8080/",
          "height": 121
        }
      },
      "source": [
        "rddHorasWeekend=rddWeekend.map(movimientosPorHoras)\n",
        "weekend_time_data = rddHorasWeekend.countByKey()\n",
        "weekend_time_data"
      ],
      "execution_count": 0,
      "outputs": [
        {
          "output_type": "execute_result",
          "data": {
            "text/plain": [
              "defaultdict(int,\n",
              "            {'01:00:00': 3095,\n",
              "             '02:00:00': 2673,\n",
              "             '03:00:00': 1807,\n",
              "             '04:00:00': 1430,\n",
              "             '05:00:00': 1062})"
            ]
          },
          "metadata": {
            "tags": []
          },
          "execution_count": 66
        }
      ]
    },
    {
      "cell_type": "code",
      "metadata": {
        "id": "sz70AxnqAEkI",
        "colab_type": "code",
        "outputId": "4dc67b48-fe56-43a4-98c8-4bdba33b2483",
        "colab": {
          "base_uri": "https://localhost:8080/",
          "height": 244
        }
      },
      "source": [
        "fig=plt.figure()\n",
        "fig.subplots_adjust(bottom=0.025, left=0.05, top = 0.975, right=0.975)\n",
        "fig.add_subplot(1,2,1)\n",
        "plt.pie(list(time_data.values()), labels=list(time_data.keys()),\n",
        "        autopct='%1.1f%%', shadow=True, startangle=90)\n",
        "plt.title('Viajes nocturnos\\n por horas L-J')\n",
        "fig.add_subplot(1,2,2)\n",
        "plt.pie(list(weekend_time_data.values()), labels=list(weekend_time_data.keys()),\n",
        "        autopct='%1.1f%%', shadow=True, startangle=90)\n",
        "plt.title('Viajes nocturnos\\n por horas V-D')\n",
        "plt.show()"
      ],
      "execution_count": 0,
      "outputs": [
        {
          "output_type": "display_data",
          "data": {
            "image/png": "[encoded data removed]",
            "text/plain": [
              "<Figure size 432x288 with 2 Axes>"
            ]
          },
          "metadata": {
            "tags": []
          }
        }
      ]
    },
    {
      "cell_type": "markdown",
      "metadata": {
        "id": "gFViHoToCZyZ",
        "colab_type": "text"
      },
      "source": [
        "Como vemos, en ambos casos, la mayoría de viajes se producen entre la 1 y las 3 de la madrugada, quizás se deba a que a partir de una cierta hora, sea más seguro otro tipo de transporte que la bici.\n",
        "Durante el fin de semana, baja el tanto porciento de viajes entre la 1 y las 2 en un 3,2% y sin embargo, hay un incremento entre las 3 y las 4 del 2,2%, y entre las 4 y las 5 del 1,6%."
      ]
    },
    {
      "cell_type": "markdown",
      "metadata": {
        "id": "BZFdCqgXGv5H",
        "colab_type": "text"
      },
      "source": [
        "Para entenderlo mejor, veamos también distinciones por horas y usuarios."
      ]
    },
    {
      "cell_type": "code",
      "metadata": {
        "id": "xg87ylMrh79t",
        "colab_type": "code",
        "outputId": "a0b3fee5-f1f0-43ed-bc90-de24cab569ad",
        "colab": {
          "base_uri": "https://localhost:8080/",
          "height": 1000
        }
      },
      "source": [
        "horas = ['01:00:00', '02:00:00', '03:00:00', '04:00:00', '05:00:00']\n",
        "#fig=plt.figure()\n",
        "#fig.subplots_adjust(bottom=0.025, left=0.05, top = 0.975, right=0.975) \n",
        "#fig.add_subplot(3,5,1)\n",
        "def grafica(dic, value):\n",
        "  fig=plt.figure()\n",
        "  fig.subplots_adjust(bottom=0.025, left=0.05, top = 0.975, right=0.975) \n",
        "  #linea = value/2 +1\n",
        "  #pos = (value % 2) + 1\n",
        "  #fig.add_subplot(linea,5,pos)\n",
        "  plt.pie(list(dic.values()), labels=list(dic.keys()),\n",
        "        autopct='%1.1f%%', shadow=True, startangle=90)\n",
        "  plt.title('Viajes segun tipos a las '+horas[value]+' horas')\n",
        "  plt.show()\n",
        "for i in range(5):\n",
        "  grafica(rddHoras.filter(lambda x: x[0] == horas[i]).map(lambda x: (x[1], 1)).countByKey(), i)\n",
        "#Tarda un rato y he intentado ponerlo como lo ponia elisa pero quedaba muy pequeño y no se absolutamente nada. Asi se ve mas pero a lo mejor\n",
        "#ocupa demasiado."
      ],
      "execution_count": 0,
      "outputs": [
        {
          "output_type": "display_data",
          "data": {
            "image/png": "[encoded data removed]",
            "text/plain": [
              "<Figure size 432x288 with 1 Axes>"
            ]
          },
          "metadata": {
            "tags": []
          }
        },
        {
          "output_type": "display_data",
          "data": {
            "image/png": "[encoded data removed]",
            "text/plain": [
              "<Figure size 432x288 with 1 Axes>"
            ]
          },
          "metadata": {
            "tags": []
          }
        },
        {
          "output_type": "display_data",
          "data": {
            "image/png": "[encoded data removed]",
            "text/plain": [
              "<Figure size 432x288 with 1 Axes>"
            ]
          },
          "metadata": {
            "tags": []
          }
        },
        {
          "output_type": "display_data",
          "data": {
            "image/png": "[encoded data removed]",
            "text/plain": [
              "<Figure size 432x288 with 1 Axes>"
            ]
          },
          "metadata": {
            "tags": []
          }
        },
        {
          "output_type": "display_data",
          "data": {
            "image/png": "[encoded data removed]",
            "text/plain": [
              "<Figure size 432x288 with 1 Axes>"
            ]
          },
          "metadata": {
            "tags": []
          }
        }
      ]
    },
    {
      "cell_type": "markdown",
      "metadata": {
        "id": "UovvYw8m20tD",
        "colab_type": "text"
      },
      "source": [
        "Como ya habíamos visto, la mayoría de los trayectos que se realizan son por los usuarios de tipo 1, los anuales, pero también hay que tener en cuenta que entre las 1 horas, 2 horas y 4 horas, hay más de un 15% de los viajes que son realizados por los trabajadores de la empresa. \n",
        " "
      ]
    },
    {
      "cell_type": "markdown",
      "metadata": {
        "id": "MRaBKCFIrKb2",
        "colab_type": "text"
      },
      "source": [
        "No se muy bien que conclusiones sacarle a esto o para que lo podemos usar del todo pero bueno yo lo dejo aqui porque si no no sabia que mas hacer,\n",
        "SALU2"
      ]
    },
    {
      "cell_type": "markdown",
      "metadata": {
        "id": "YSALHRjwFgfn",
        "colab_type": "text"
      },
      "source": [
        "Otro punto interesante, seria estudiar la diferencia en los usos segun los rangos de edad"
      ]
    },
    {
      "cell_type": "code",
      "metadata": {
        "id": "VZ4Tc3vhFvK9",
        "colab_type": "code",
        "outputId": "4ed26589-7f06-468d-ca59-4a965c1d6659",
        "colab": {
          "base_uri": "https://localhost:8080/",
          "height": 299
        }
      },
      "source": [
        "#Empezemos estudiando los usos nocturnos en fines de semana.\n",
        "rddW_ages = rddWeekend.map(lambda x: (x['age'], 1)).countByKey()\n",
        "print(sorted(rddW_ages.items(), key=lambda x:x[0]))\n",
        "plt.bar(list(rddW_ages.keys()), list(rddW_ages.values()))\n",
        "plt.title('Viajes segun los rangos de edad')\n",
        "plt.show()"
      ],
      "execution_count": 0,
      "outputs": [
        {
          "output_type": "stream",
          "text": [
            "[(0, 5080), (1, 73), (2, 79), (3, 843), (4, 2603), (5, 1371), (6, 18)]\n"
          ],
          "name": "stdout"
        },
        {
          "output_type": "display_data",
          "data": {
            "image/png": "[encoded data removed]",
            "text/plain": [
              "<Figure size 432x288 with 1 Axes>"
            ]
          },
          "metadata": {
            "tags": [],
            "needs_background": "light"
          }
        }
      ]
    },
    {
      "cell_type": "markdown",
      "metadata": {
        "id": "uRQ8LMm1JYfc",
        "colab_type": "text"
      },
      "source": [
        "A parte de los usuarios no identificados, los que mas hacen un uso nocturno los fines de semana son los que estan en la franja de edad 4, entre 27 y 40 años, lo que nos puede indicar que parte de la gente que utiliza bicimad es gente joven. Veamos ahora si este comportamiento es similiar a los dias entre semana."
      ]
    },
    {
      "cell_type": "code",
      "metadata": {
        "id": "7aH-cp7u4qCP",
        "colab_type": "code",
        "colab": {}
      },
      "source": [
        "#Esta funcion, dado cualquier dia, te dice si fue fin de semana o no en el año 2019. Tendiendo en cuenta\n",
        "#que la 'noche' del viernes es sabado ya, por lo que queremos los dias sabado, domingo y lunes.\n",
        "#Como ahora nos interesan los dias entre diario, pues cogemos aquellos que no sean fin de semana.\n",
        "def is_workDays(data):\n",
        "  months = [31, 28, 31, 30, 31, 30]#Los dias que tiene cada mes desde enero a junio\n",
        "  #El 1 de enero de 2019 cayo en Martes\n",
        "  fin_semana = [4,5,6] #Corrspondiente a los fines de semana.\n",
        "  fecha_actual = data['date']\n",
        "  mes_actual = int(fecha_actual[5:7])\n",
        "  dia_actual = int(fecha_actual[8:10])\n",
        "  dias_transcurridos = months[mes_actual-1]*(mes_actual-1) + dia_actual\n",
        "  return dias_transcurridos % 7 not in fin_semana"
      ],
      "execution_count": 0,
      "outputs": []
    },
    {
      "cell_type": "code",
      "metadata": {
        "id": "Nh9DNoSjKRUN",
        "colab_type": "code",
        "colab": {}
      },
      "source": [
        "def workDays(line):\n",
        "  #Como en realidad queremos las noches, 'la noche del vierne' sería el sabado ya, entonces, buscamos los\n",
        "  #días: 5,6,7,12,13,14,19,20,21,26,27,28.\n",
        "  #Como estos son los dias de fin de semana, necexitamos coger los dias que no estan en esta lista simplemente\n",
        "  data=json.loads(line)\n",
        "  days=['2019-01-05', '2019-01-06', '2019-01-07','2019-01-12','2019-01-13','2019-01-14', '2019-01-19', '2019-01-20','2019-01-21','2019-01-26', '2019-01-27', '2019-01-28']\n",
        "  dia_actual=data['unplug_hourTime']['$date'][0:10]\n",
        "  return dia_actual not in days"
      ],
      "execution_count": 0,
      "outputs": []
    },
    {
      "cell_type": "code",
      "metadata": {
        "id": "iKWxf5K0KRSP",
        "colab_type": "code",
        "outputId": "04f3f5c6-c6e9-44ed-d9aa-2158751d5e48",
        "colab": {
          "base_uri": "https://localhost:8080/",
          "height": 299
        }
      },
      "source": [
        "#Partimos de la RDD que tenia los datos filtrados por las horas nocturnas\n",
        "rddWD_ages = rddNocturna.filter(is_workDays).map(lambda x: (x['age'])).countByValue()\n",
        "print(sorted(rddWD_ages.items(), key=lambda x:x[0]))\n",
        "plt.bar(list(rddWD_ages.keys()), list(rddWD_ages.values()))\n",
        "plt.title('Viajes segun los rangos de edad en días laborables')\n",
        "plt.show()"
      ],
      "execution_count": 0,
      "outputs": [
        {
          "output_type": "stream",
          "text": [
            "[(0, 3106), (1, 150), (2, 43), (3, 461), (4, 1645), (5, 1081), (6, 11)]\n"
          ],
          "name": "stdout"
        },
        {
          "output_type": "display_data",
          "data": {
            "image/png": "[encoded data removed]",
            "text/plain": [
              "<Figure size 432x288 with 1 Axes>"
            ]
          },
          "metadata": {
            "tags": [],
            "needs_background": "light"
          }
        }
      ]
    },
    {
      "cell_type": "markdown",
      "metadata": {
        "id": "0DE4bLS-GLXe",
        "colab_type": "text"
      },
      "source": [
        "Aunque ambas gráficas son muy parecidas, mirando el numero exacto de datos, se observa un claro aumento de los usurios de tipo 3 y 4 en los fines de semana, que son aquellos cuyas edades están entre 19 y 26 años y entre 27 y 40 años respectivamente. Podemos suponer por lo tanto, que los usuarios jóvenes son los que más demanda tienen en horas nocturnas, y por ser más concretos, las personas mayores de edad. Además, hay que tener en cuenta que los datos recogidos los fines de semana se establecen en menos días que los datos de diario por lo que el porcentaje de crecimiento es aun mayor. \n",
        "\n",
        "Esto tiene bastante que ver con las gráficas vistas anteriormente en las que se observa claramente como hay un mayor uso los fines de semana.\n"
      ]
    },
    {
      "cell_type": "markdown",
      "metadata": {
        "id": "1Q81IyBrJfBr",
        "colab_type": "text"
      },
      "source": [
        "En estos datos analizados, estamos teniendo en cuenta aquellos que se obtienen por los trabajadores de la empresa y como no nos interesan, veamos si hay algun cambio mayor en estos datos."
      ]
    },
    {
      "cell_type": "code",
      "metadata": {
        "id": "EIvxTnCIJ8QW",
        "colab_type": "code",
        "outputId": "6b177e33-f0e9-4cd4-c0f5-48a5633172ca",
        "colab": {
          "base_uri": "https://localhost:8080/",
          "height": 52
        }
      },
      "source": [
        "#eliminamos a los trabajadores de la empresa\n",
        "rddWD_ages2 = rddWD_datos.filter(lambda x: not(x[0] == 3)).map(lambda x: (x[7], 1)).countByKey()\n",
        "rddW_ages2 = rddWeekend_datos.filter(lambda x: not(x[0] == 3)).map(lambda x: (x[7], 1)).countByKey()\n",
        "print(\"Días laborables:\", sorted(rddWD_ages2.items(), key=lambda x:x[0]))\n",
        "print(\"Fines de semana:\", sorted(rddW_ages2.items(), key=lambda x:x[0]))"
      ],
      "execution_count": 0,
      "outputs": [
        {
          "output_type": "stream",
          "text": [
            "Días laborables: [(0, 2991), (1, 3), (2, 50), (3, 525), (4, 1421), (5, 692), (6, 13)]\n",
            "Fines de semana: [(0, 4440), (1, 9), (2, 72), (3, 779), (4, 2219), (5, 902), (6, 16)]\n"
          ],
          "name": "stdout"
        }
      ]
    },
    {
      "cell_type": "markdown",
      "metadata": {
        "id": "9MKmESvVRw9P",
        "colab_type": "text"
      },
      "source": [
        "Los datos son muy parecidos, aunque se observa, como habiamos visto antes un mayor decrecimiento en los datos diarios ya que hay un mayor uso por parte de los trabajdores."
      ]
    },
    {
      "cell_type": "markdown",
      "metadata": {
        "id": "94H1EyV88Vcp",
        "colab_type": "text"
      },
      "source": [
        "Esto de aqui abajo lo he hecho pero no sabia por que y lo he dejado asi jaja"
      ]
    },
    {
      "cell_type": "code",
      "metadata": {
        "id": "KU7ETUMV8pqy",
        "colab_type": "code",
        "colab": {}
      },
      "source": [
        "#Esta RDD ya tiene los datos importantes usando la funcion mapper        \n",
        "rddNocturna_ordenada = rddNocturna_datos.map(lambda x: (x[2], 1)).groupByKey().mapValues(tuple).map(lambda x: (len(x[1]), x[0]))\n",
        "rddNocturna_ordenada.sortByKey(False).map(lambda x: (x[1], x[0])).take(50)"
      ],
      "execution_count": 0,
      "outputs": []
    },
    {
      "cell_type": "code",
      "metadata": {
        "id": "WmHXETtfdQzK",
        "colab_type": "code",
        "outputId": "d8b6c8ca-b692-4b56-f051-00425aa62e54",
        "colab": {
          "base_uri": "https://localhost:8080/",
          "height": 537
        }
      },
      "source": [
        "rddNocturna_datos.filter(lambda x: x[2] == 57).map(lambda x: (x[2], x[3])).take(30)"
      ],
      "execution_count": 0,
      "outputs": [
        {
          "output_type": "execute_result",
          "data": {
            "text/plain": [
              "[(57, 16),\n",
              " (57, 134),\n",
              " (57, 52),\n",
              " (57, 52),\n",
              " (57, 133),\n",
              " (57, 135),\n",
              " (57, 128),\n",
              " (57, 131),\n",
              " (57, 71),\n",
              " (57, 168),\n",
              " (57, 34),\n",
              " (57, 160),\n",
              " (57, 59),\n",
              " (57, 135),\n",
              " (57, 40),\n",
              " (57, 17),\n",
              " (57, 59),\n",
              " (57, 128),\n",
              " (57, 62),\n",
              " (57, 30),\n",
              " (57, 44),\n",
              " (57, 46),\n",
              " (57, 38),\n",
              " (57, 38),\n",
              " (57, 69),\n",
              " (57, 90),\n",
              " (57, 85),\n",
              " (57, 38),\n",
              " (57, 114),\n",
              " (57, 169)]"
            ]
          },
          "metadata": {
            "tags": []
          },
          "execution_count": 45
        }
      ]
    },
    {
      "cell_type": "markdown",
      "metadata": {
        "id": "VOwaGVj1WjlW",
        "colab_type": "text"
      },
      "source": [
        "La estacion de la que parten mas bicis es de la 57, veamos que estaciones tienen como destino"
      ]
    },
    {
      "cell_type": "markdown",
      "metadata": {
        "id": "A5-Zr47G_ogp",
        "colab_type": "text"
      },
      "source": [
        "# Pruebas berni"
      ]
    },
    {
      "cell_type": "code",
      "metadata": {
        "id": "2UZqP0d-_47e",
        "colab_type": "code",
        "outputId": "65dd4ca9-8145-4344-ab0c-824caf855a5b",
        "colab": {
          "base_uri": "https://localhost:8080/",
          "height": 51
        }
      },
      "source": [
        "#rdb es el rdd de los trabajadores\n",
        "rdb = rdd_raw.map(mapper).filter(lambda x: x[0]==3).map(lambda x: ((x[1],[x[i] for i in range(2,7)])))\n",
        "rdb.take(1)"
      ],
      "execution_count": 0,
      "outputs": [
        {
          "output_type": "execute_result",
          "data": {
            "text/plain": [
              "[('32de90d829ddeadfe35f013b3140bcc092c62b804d3dcc55600121d362e952bd',\n",
              "  [129, 112, 2119, '2019-01-01', '06'])]"
            ]
          },
          "metadata": {
            "tags": []
          },
          "execution_count": 39
        }
      ]
    },
    {
      "cell_type": "code",
      "metadata": {
        "id": "BP9GkNnsGTfu",
        "colab_type": "code",
        "colab": {}
      },
      "source": [
        "#rdb por usuarios\n",
        "rdbpu=rdb.groupByKey().mapValues(len)\n",
        "rdbpu.count()\n",
        "#hay 853, diferenciados por día (unos 43 trabajadores fijos??)\n",
        "rdbpu.take(10)"
      ],
      "execution_count": 0,
      "outputs": []
    },
    {
      "cell_type": "code",
      "metadata": {
        "id": "kATFdteYB30x",
        "colab_type": "code",
        "outputId": "4932ff07-db8c-4798-f43d-03c4a91d3774",
        "colab": {
          "base_uri": "https://localhost:8080/",
          "height": 337
        }
      },
      "source": [
        "#rdb por días\n",
        "rdbpd = rdb.map(lambda x: (x[1][3][-3:],1))\n",
        "rdbpd.take(2)\n",
        "pd_dicc=rdbpd.countByKey()\n",
        "pd_list = sorted(pd_dicc.items(), key=lambda x:x[0])\n",
        "plt.figure(figsize=(15,5))\n",
        "plt.bar(pd_dicc.keys(), pd_dicc.values())\n",
        "#no nos da mucha info (quizá ver cuándo son los findes)"
      ],
      "execution_count": 0,
      "outputs": [
        {
          "output_type": "execute_result",
          "data": {
            "text/plain": [
              "<BarContainer object of 31 artists>"
            ]
          },
          "metadata": {
            "tags": []
          },
          "execution_count": 41
        },
        {
          "output_type": "display_data",
          "data": {
            "image/png": "[encoded data removed]",
            "text/plain": [
              "<Figure size 1080x360 with 1 Axes>"
            ]
          },
          "metadata": {
            "tags": [],
            "needs_background": "light"
          }
        }
      ]
    },
    {
      "cell_type": "code",
      "metadata": {
        "id": "5Ck1YZCVFrxJ",
        "colab_type": "code",
        "outputId": "239ab33a-dbaf-406a-eb84-222e2e81f00e",
        "colab": {
          "base_uri": "https://localhost:8080/",
          "height": 337
        }
      },
      "source": [
        "#rdb por horas\n",
        "rdbph = rdb.map(lambda x: (x[1][4],x[0]))\n",
        "rdbph.take(2)\n",
        "ph_dicc=rdbph.countByKey()\n",
        "ph_list = sorted(ph_dicc.items(), key=lambda x:x[0])\n",
        "plt.figure(figsize=(15,5))\n",
        "plt.bar(ph_dicc.keys(), ph_dicc.values())"
      ],
      "execution_count": 0,
      "outputs": [
        {
          "output_type": "execute_result",
          "data": {
            "text/plain": [
              "<BarContainer object of 24 artists>"
            ]
          },
          "metadata": {
            "tags": []
          },
          "execution_count": 42
        },
        {
          "output_type": "display_data",
          "data": {
            "image/png": "[encoded data removed]",
            "text/plain": [
              "<Figure size 1080x360 with 1 Axes>"
            ]
          },
          "metadata": {
            "tags": [],
            "needs_background": "light"
          }
        }
      ]
    },
    {
      "cell_type": "code",
      "metadata": {
        "id": "Y5ENYzf4LQfa",
        "colab_type": "code",
        "colab": {}
      },
      "source": [
        "def reparacion(line):\n",
        "  #se trata de una reparación en la misma estación\n",
        "  data = json.loads(line)\n",
        "  user = data['user_type']\n",
        "  start = data['idunplug_station']\n",
        "  end = data['idplug_station']\n",
        "  time = data['travel_time']\n",
        "  return user==3 and start==end\n",
        "def traslado(line):\n",
        "  #se trata de una reparación en la misma estación\n",
        "  data = json.loads(line)\n",
        "  user = data['user_type']\n",
        "  start = data['idunplug_station']\n",
        "  end = data['idplug_station']\n",
        "  time = data['travel_time']\n",
        "  return user==3 and start!=end\n",
        "def no_funciona (line):\n",
        "  #se trata de una reparación en la misma estación\n",
        "  data = json.loads(line)\n",
        "  user = data['user_type']\n",
        "  start = data['idunplug_station']\n",
        "  end = data['idplug_station']\n",
        "  time = data['travel_time']\n",
        "  return user!=3 and start==end #and time < 121"
      ],
      "execution_count": 0,
      "outputs": []
    },
    {
      "cell_type": "code",
      "metadata": {
        "id": "po9-P9ijNSvl",
        "colab_type": "code",
        "outputId": "1d823a22-88da-4b0e-c921-c8b274989f1a",
        "colab": {
          "base_uri": "https://localhost:8080/",
          "height": 136
        }
      },
      "source": [
        "#nos quedamos con las reparaciones\n",
        "rddrep = rdd_raw.filter(reparacion).map(mapper)\n",
        "repN = rddrep.count() #hay 5361 veamos cuantas son reparadas de verdad, o solo comprobadas\n",
        "rddrep.take(1)"
      ],
      "execution_count": 0,
      "outputs": [
        {
          "output_type": "execute_result",
          "data": {
            "text/plain": [
              "[(3,\n",
              "  'e0ff3901943dc86e6c3a38f13545d286a9a02625f5d978609c322af8d40d4b94',\n",
              "  136,\n",
              "  136,\n",
              "  17,\n",
              "  '2019-01-01',\n",
              "  '07')]"
            ]
          },
          "metadata": {
            "tags": []
          },
          "execution_count": 44
        }
      ]
    },
    {
      "cell_type": "code",
      "metadata": {
        "id": "rSvVlTbpPi_B",
        "colab_type": "code",
        "colab": {}
      },
      "source": [
        "limite=61\n",
        "repF=rddrep.filter(lambda x: x[4]<limite).map(lambda x:(x[4],1)).count()\n",
        "repT=rddrep.filter(lambda x: x[4]>=limite).map(lambda x:(x[4],1)).count()"
      ],
      "execution_count": 0,
      "outputs": []
    },
    {
      "cell_type": "code",
      "metadata": {
        "id": "XT_Goc46RzH9",
        "colab_type": "code",
        "outputId": "4ed7e7a9-ce87-45b6-fc67-c1278dd13e40",
        "colab": {
          "base_uri": "https://localhost:8080/",
          "height": 283
        }
      },
      "source": [
        "repF/(repN) #proporción del 95% de reparaciones rápidas\n",
        "plt.figure(figsize=(10,4))\n",
        "plt.bar((\"reparaciones rápidas\",\"reparaciones pausadas\"),(repF,repT))"
      ],
      "execution_count": 0,
      "outputs": [
        {
          "output_type": "execute_result",
          "data": {
            "text/plain": [
              "<BarContainer object of 2 artists>"
            ]
          },
          "metadata": {
            "tags": []
          },
          "execution_count": 46
        },
        {
          "output_type": "display_data",
          "data": {
            "image/png": "[encoded data removed]",
            "text/plain": [
              "<Figure size 720x288 with 1 Axes>"
            ]
          },
          "metadata": {
            "tags": [],
            "needs_background": "light"
          }
        }
      ]
    },
    {
      "cell_type": "code",
      "metadata": {
        "id": "i_1l0FZbUybR",
        "colab_type": "code",
        "outputId": "edc76a39-eb7c-4ba2-adf7-c6be48870671",
        "colab": {
          "base_uri": "https://localhost:8080/",
          "height": 136
        }
      },
      "source": [
        "#nos quedamos con los traslados\n",
        "rddtra = rdd_raw.filter(traslado).map(mapper)\n",
        "traN = rddtra.count() #16115\n",
        "rddtra.take(1)"
      ],
      "execution_count": 0,
      "outputs": [
        {
          "output_type": "execute_result",
          "data": {
            "text/plain": [
              "[(3,\n",
              "  '32de90d829ddeadfe35f013b3140bcc092c62b804d3dcc55600121d362e952bd',\n",
              "  129,\n",
              "  112,\n",
              "  2119,\n",
              "  '2019-01-01',\n",
              "  '06')]"
            ]
          },
          "metadata": {
            "tags": []
          },
          "execution_count": 47
        }
      ]
    },
    {
      "cell_type": "code",
      "metadata": {
        "id": "ecOTSb5QVSYt",
        "colab_type": "code",
        "outputId": "a2b20d88-6feb-44fa-b089-587aac7eea5e",
        "colab": {
          "base_uri": "https://localhost:8080/",
          "height": 282
        }
      },
      "source": [
        "repF/(repN) #proporción del 95% de reparaciones rápidas\n",
        "plt.figure(figsize=(10,4))\n",
        "plt.bar((\"reparaciones\",\"traslados\"),(repN,traN))"
      ],
      "execution_count": 0,
      "outputs": [
        {
          "output_type": "execute_result",
          "data": {
            "text/plain": [
              "<BarContainer object of 2 artists>"
            ]
          },
          "metadata": {
            "tags": []
          },
          "execution_count": 48
        },
        {
          "output_type": "display_data",
          "data": {
            "image/png": "[encoded data removed]",
            "text/plain": [
              "<Figure size 720x288 with 1 Axes>"
            ]
          },
          "metadata": {
            "tags": [],
            "needs_background": "light"
          }
        }
      ]
    },
    {
      "cell_type": "code",
      "metadata": {
        "id": "-DJa6ebAVgoh",
        "colab_type": "code",
        "outputId": "03344fcd-a6b7-413b-c35f-b2149ee3c5b5",
        "colab": {
          "base_uri": "https://localhost:8080/",
          "height": 136
        }
      },
      "source": [
        "#nos quedamos con los viajes en que no funciona la bici\n",
        "rddnof = rdd_raw.filter(no_funciona).map(mapper)\n",
        "nofN = rddnof.count() #16115\n",
        "rddnof.take(1)"
      ],
      "execution_count": 0,
      "outputs": [
        {
          "output_type": "execute_result",
          "data": {
            "text/plain": [
              "[(1,\n",
              "  'c0c28561f757759a933520ac9b8dedd9a4c4d1f1e79d0b9e00c415004d234193',\n",
              "  79,\n",
              "  79,\n",
              "  1003,\n",
              "  '2019-01-01',\n",
              "  '00')]"
            ]
          },
          "metadata": {
            "tags": []
          },
          "execution_count": 49
        }
      ]
    },
    {
      "cell_type": "code",
      "metadata": {
        "id": "Q26J0PupWRjQ",
        "colab_type": "code",
        "outputId": "fd76e52a-6d83-410d-9834-d94a0f5d613b",
        "colab": {
          "base_uri": "https://localhost:8080/",
          "height": 34
        }
      },
      "source": [
        "qwe = rddnof.map(lambda x: (x[4],1)).groupByKey().mapValues(len)\n",
        "qwe.count()"
      ],
      "execution_count": 0,
      "outputs": [
        {
          "output_type": "execute_result",
          "data": {
            "text/plain": [
              "3616"
            ]
          },
          "metadata": {
            "tags": []
          },
          "execution_count": 50
        }
      ]
    },
    {
      "cell_type": "code",
      "metadata": {
        "id": "yImxNMu3WKyK",
        "colab_type": "code",
        "outputId": "8e4525fa-18cb-4893-fda0-e3c6869da897",
        "colab": {
          "base_uri": "https://localhost:8080/",
          "height": 85
        }
      },
      "source": [
        "#vamos a ver cuantos de los que cogen la bici por la noche la cogen luego otra vez en ese día\n",
        "#sin contar trabajadores\n",
        "rdda = rdd_raw.map(mapper).filter(lambda x: x[0]!=3).map(lambda x: ((x[0],x[1]),tuple(x[2:7])))\n",
        "rdda.take(2)"
      ],
      "execution_count": 0,
      "outputs": [
        {
          "output_type": "execute_result",
          "data": {
            "text/plain": [
              "[((1, 'b3b5b61509ab89afbf4d1e589d229bebe6637c2de819f5d612762c939b8d7f1f'),\n",
              "  (82, 83, 162, '2019-01-01', '00')),\n",
              " ((1, 'a18550d468153bb8e1808d4f0a85955579951832772996de08a154d7b4b11ee0'),\n",
              "  (133, 36, 415, '2019-01-01', '00'))]"
            ]
          },
          "metadata": {
            "tags": []
          },
          "execution_count": 137
        }
      ]
    },
    {
      "cell_type": "code",
      "metadata": {
        "id": "Acasy0IZXx8Y",
        "colab_type": "code",
        "colab": {}
      },
      "source": [
        "a1 = rdda.groupByKey().mapValues(len).filter(lambda x: x[1]==1).count() #cuantos hacen solo un viaje:  89036"
      ],
      "execution_count": 0,
      "outputs": []
    },
    {
      "cell_type": "code",
      "metadata": {
        "id": "aVqZtS22X0yx",
        "colab_type": "code",
        "colab": {}
      },
      "source": [
        "a2 = rdda.groupByKey().mapValues(len).filter(lambda x: x[1]!=1).count() #cuantos hacen mas de un viaje: 68954"
      ],
      "execution_count": 0,
      "outputs": []
    },
    {
      "cell_type": "code",
      "metadata": {
        "id": "2wkhzn8EZF1E",
        "colab_type": "code",
        "colab": {}
      },
      "source": [
        "rddan = rdda.map(lambda x: (x[0],int(x[1][4])))"
      ],
      "execution_count": 0,
      "outputs": []
    },
    {
      "cell_type": "code",
      "metadata": {
        "id": "jVuW3R6wcSA9",
        "colab_type": "code",
        "outputId": "72acfce5-5d12-40fd-c88d-d78c045c1d49",
        "colab": {
          "base_uri": "https://localhost:8080/",
          "height": 34
        }
      },
      "source": [
        "rddan.take(1)"
      ],
      "execution_count": 0,
      "outputs": [
        {
          "output_type": "execute_result",
          "data": {
            "text/plain": [
              "[((1, 'b3b5b61509ab89afbf4d1e589d229bebe6637c2de819f5d612762c939b8d7f1f'), 0)]"
            ]
          },
          "metadata": {
            "tags": []
          },
          "execution_count": 141
        }
      ]
    },
    {
      "cell_type": "code",
      "metadata": {
        "id": "WBXfcwRuknn4",
        "colab_type": "code",
        "colab": {}
      },
      "source": [
        "def to_list(a):\n",
        "    return [a]\n",
        "\n",
        "def append(a, b):\n",
        "    a.append(b)\n",
        "    return a\n",
        "\n",
        "def extend(a, b):\n",
        "    a.extend(b)\n",
        "    return a"
      ],
      "execution_count": 0,
      "outputs": []
    },
    {
      "cell_type": "code",
      "metadata": {
        "id": "K5r71I1coMfK",
        "colab_type": "code",
        "colab": {}
      },
      "source": [
        "qwe = rddan.combineByKey(to_list, append, extend).map(lambda x: (sorted(x[1]),x[0]))"
      ],
      "execution_count": 0,
      "outputs": []
    },
    {
      "cell_type": "code",
      "metadata": {
        "id": "boOhNnmKokGH",
        "colab_type": "code",
        "outputId": "380c0d36-35e9-43d3-82b3-131848e968c2",
        "colab": {
          "base_uri": "https://localhost:8080/",
          "height": 119
        }
      },
      "source": [
        "qwe.take(3)"
      ],
      "execution_count": 0,
      "outputs": [
        {
          "output_type": "execute_result",
          "data": {
            "text/plain": [
              "[([0],\n",
              "  (1, '8915d1921889c15d2e8ca100e773de53cd50e1f23f92743420d74cf2fbe37a47')),\n",
              " ([0],\n",
              "  (1, 'f0ab0d86a7f0dcbacf9363865c115a9900eb9ce2ac8fd76b2953c2c645e9ca41')),\n",
              " ([0],\n",
              "  (1, 'c5f698723c1d725dd9883a63511514a8b02050417e87eaf195e1fa93f2121884'))]"
            ]
          },
          "metadata": {
            "tags": []
          },
          "execution_count": 144
        }
      ]
    },
    {
      "cell_type": "code",
      "metadata": {
        "id": "T-W_nEtAl4uW",
        "colab_type": "code",
        "colab": {}
      },
      "source": [
        "qwe1 = qwe.filter(lambda x: len(x[0])==1 and min(x[0])<6)\n",
        "qwe2 = qwe.filter(lambda x: len(x[0])>1 and min(x[0])<6)"
      ],
      "execution_count": 0,
      "outputs": []
    },
    {
      "cell_type": "code",
      "metadata": {
        "id": "FFqHITavmJbd",
        "colab_type": "code",
        "outputId": "616f61f4-d417-49b6-fa25-62ab13ff016a",
        "colab": {
          "base_uri": "https://localhost:8080/",
          "height": 34
        }
      },
      "source": [
        "qwe1.count() #10698 la usan solo una vez"
      ],
      "execution_count": 0,
      "outputs": [
        {
          "output_type": "execute_result",
          "data": {
            "text/plain": [
              "10698"
            ]
          },
          "metadata": {
            "tags": []
          },
          "execution_count": 135
        }
      ]
    },
    {
      "cell_type": "code",
      "metadata": {
        "id": "wTIiN8W-n6D6",
        "colab_type": "code",
        "outputId": "d5c6be85-525a-499e-88e7-124c9447b357",
        "colab": {
          "base_uri": "https://localhost:8080/",
          "height": 34
        }
      },
      "source": [
        "qwe2.count() #7915 la usan más veces además de en horario nocturno"
      ],
      "execution_count": 0,
      "outputs": [
        {
          "output_type": "execute_result",
          "data": {
            "text/plain": [
              "7915"
            ]
          },
          "metadata": {
            "tags": []
          },
          "execution_count": 136
        }
      ]
    },
    {
      "cell_type": "code",
      "metadata": {
        "id": "HA3y-XN2prcv",
        "colab_type": "code",
        "colab": {}
      },
      "source": [
        "#ahora vemos de estos las proporciones de usuarios de tipo 1 y 2\n",
        "qwe11=qwe1.filter(lambda x: x[1][0]==1).count()\n",
        "qwe12=qwe1.filter(lambda x: x[1][0]==2).count()"
      ],
      "execution_count": 0,
      "outputs": []
    },
    {
      "cell_type": "code",
      "metadata": {
        "id": "_gKw_c1jqPWQ",
        "colab_type": "code",
        "colab": {}
      },
      "source": [
        "qwe21=qwe2.filter(lambda x: x[1][0]==1).count()\n",
        "qwe22=qwe2.filter(lambda x: x[1][0]==2).count()"
      ],
      "execution_count": 0,
      "outputs": []
    },
    {
      "cell_type": "markdown",
      "metadata": {
        "id": "c51Tzz5PWhSO",
        "colab_type": "text"
      },
      "source": [
        "# **PROBLEMA**\n",
        "  Un usuario desea viajar de una estación a otra en una cierta hora pero no sabe como será la disponibilidad de bicicletas en ese sitio ni si habrá sitio en el lugar de destino, por lo que basando en el historial de ese mismo mes, veremos si el cliente podrá realizar su viaje sin problemas o habrá que recoemndarle rutas alternativas"
      ]
    },
    {
      "cell_type": "code",
      "metadata": {
        "id": "BCVO8hysXP3G",
        "colab_type": "code",
        "colab": {}
      },
      "source": [
        "origen = input('Estación de la que se desea partir: ')\n",
        "destino = input('Estación a la que se desea llegar: ')\n",
        "hora_Viaje = input('Hora a la que se desea realizar el viaje: ')  "
      ],
      "execution_count": 0,
      "outputs": []
    },
    {
      "cell_type": "markdown",
      "metadata": {
        "id": "EdMt5GtPZHRu",
        "colab_type": "text"
      },
      "source": [
        "Voy a hacer un filtrado simple del fichero de datos de las situaciones de las estaciones para ver como podriamos obtener la informacion que nos interesa dependiendo de la estacion del cliente."
      ]
    },
    {
      "cell_type": "code",
      "metadata": {
        "id": "Y56-esIUqxQQ",
        "colab_type": "code",
        "outputId": "742bcd22-ecbb-4ba5-e970-b458c10a923d",
        "colab": {
          "base_uri": "https://localhost:8080/",
          "height": 104
        }
      },
      "source": [
        "#Hagamos una lista con los datos de todas las estaciones para tenerlos a \n",
        "def crearDiEst(lista):\n",
        "  dicEstac = {}\n",
        "  for station in lista:\n",
        "    dicEstac[station['number']] = {}\n",
        "    dicEstac[station['number']]['id'] = station['id']\n",
        "    dicEstac[station['number']]['latitude'] = station['latitude']\n",
        "    dicEstac[station['number']]['longitude'] = station['longitude']\n",
        "    dicEstac[station['number']]['name'] = station['name']\n",
        "    dicEstac[station['number']]['total_bases'] = station['total_bases']\n",
        "  return dicEstac\n",
        "\n",
        "listEstacion = rdd_stations['201901'].map(lambda x: crearDiEst(x['station'])).take(1)\n",
        "dicEstaciones = listEstacion[0]\n",
        "dicEstaciones['57']#Datos de la estacion 57"
      ],
      "execution_count": 20,
      "outputs": [
        {
          "output_type": "execute_result",
          "data": {
            "text/plain": [
              "{'id': 61,\n",
              " 'latitude': '40.4295658',\n",
              " 'longitude': '-3.7126299',\n",
              " 'name': 'Santa Cruz del Marcenado',\n",
              " 'total_bases': 24}"
            ]
          },
          "metadata": {
            "tags": []
          },
          "execution_count": 20
        }
      ]
    },
    {
      "cell_type": "code",
      "metadata": {
        "id": "mAjDLNd4ar3A",
        "colab_type": "code",
        "colab": {}
      },
      "source": [
        "#Intentemos ver ahora la probabilidad de encontrar bici a la hora que nos dice el cliente.\n",
        "#De momento establezco yo la hora por comodidad, la estacion de origen y destino tambien\n",
        "origen = '57'\n",
        "destino = '38'\n",
        "horaCliente = '03:00:00'"
      ],
      "execution_count": 0,
      "outputs": []
    },
    {
      "cell_type": "code",
      "metadata": {
        "id": "XeSKsPb1bCy0",
        "colab_type": "code",
        "colab": {}
      },
      "source": [
        "#De todas las estaciones que hay en todos los datos vamos a intentar quedarnos tan solo con los que son de la estacion que queremos\n",
        "def estaciones(lista):\n",
        "  filtro = []\n",
        "  for estacion in lista['station']:\n",
        "    if estacion['number'] == origen or estacion['number'] == destino:\n",
        "      filtro.append(estacion)\n",
        "  return {\"day\":lista['day'],\n",
        "          \"hour\":lista['hour'],\n",
        "          \"station\":filtro}\n",
        "\n",
        "rddE_Sit_fil = rdd_stations['201901'].map(estaciones)\n",
        "rddE_Sit_fil.take(3)\n"
      ],
      "execution_count": 0,
      "outputs": []
    },
    {
      "cell_type": "code",
      "metadata": {
        "id": "CiBsSYYOKCCU",
        "colab_type": "code",
        "outputId": "36c8e8fe-c541-40a6-c53c-da635c6d0ebd",
        "colab": {
          "base_uri": "https://localhost:8080/",
          "height": 52
        }
      },
      "source": [
        "#Veamos ahora la probabilidad de que el usuario encuentre una bici disponible en la estacion de partida\n",
        "\n",
        "def filtPorHora(hora, rango):\n",
        "    horaViaje = int(horaCliente[0:2]) * 3600 + int(horaCliente[3:5]) * 60 + int(horaCliente[6:8])\n",
        "    horaDatos = int(hora[0:2]) * 3600 + int(hora[3:5]) * 60 + int(hora[6:8])\n",
        "    if horaViaje - rango < 0:\n",
        "      return horaDatos < horaViaje + rango\n",
        "    else:\n",
        "      return horaViaje - rango < horaDatos < horaViaje + rango\n",
        "\n",
        "def calcularBicisLibres(lista):\n",
        "  #bicisLibres = []\n",
        "  for station in lista:\n",
        "    if station['number'] == origen:\n",
        "      return station['dock_bikes'] - station['reservations_count']\n",
        "\n",
        "bicisLibres = rddE_Sit_fil.filter(lambda x: filtPorHora(x['hour'], 3600)).map(lambda x: [calcularBicisLibres(x['station'])]).reduce(lambda a, b: a+b)\n",
        "\n",
        "print('La media de bicicletas libres respecto a la hora elegida es:',int(stats.mean(bicisLibres)))\n",
        "#La media esta realizada para los datos obtenidos en el rango una hora respecto a la dicha por el cliente\n",
        "\n",
        "#Por lo tanto la probabilidad de que encuentre una bici disponible es la siguiente\n",
        "basesTotales = dicEstaciones[origen]['total_bases']\n",
        "prob = sum(bicisLibres) / (basesTotales * len(bicisLibres))\n",
        "print('La probabilidad de que haya una bicicleta libre es del', str(100*prob)+'%')"
      ],
      "execution_count": 83,
      "outputs": [
        {
          "output_type": "stream",
          "text": [
            "La media de bicicletas libres respecto a la hora elegida es: 9\n",
            "La probabilidad de que haya una bicicleta libre es del 38.306451612903224%\n"
          ],
          "name": "stdout"
        }
      ]
    },
    {
      "cell_type": "markdown",
      "metadata": {
        "id": "2DO51242ZZiD",
        "colab_type": "text"
      },
      "source": [
        ""
      ]
    },
    {
      "cell_type": "markdown",
      "metadata": {
        "id": "oMiZlGyZviMM",
        "colab_type": "text"
      },
      "source": [
        "Antes de esto que esta hecho, podriamos hacer unas graficas indicando las hora en las que se hacen esos viajes, si son mas comunes en fin de semana o entre semana... (Le podemos dar el toque nocturno y ademas usar todo lo que esta arriba de los graficos que tiene relacion con esto)"
      ]
    },
    {
      "cell_type": "code",
      "metadata": {
        "id": "Kusg7bSYfK3P",
        "colab_type": "code",
        "colab": {}
      },
      "source": [
        "#Esta rdd es mas comoda, ya junta los datos de enero y febrero en una rdd y ya con los datos mapeados\n",
        "rddT = rdd_usages.union(rddFebrero.map(mapper))"
      ],
      "execution_count": 0,
      "outputs": []
    },
    {
      "cell_type": "markdown",
      "metadata": {
        "id": "_crjdx0PuxE1",
        "colab_type": "text"
      },
      "source": [
        "Primero vamos a hacer un analisis del viaje que quiere realizar el cliente"
      ]
    },
    {
      "cell_type": "code",
      "metadata": {
        "id": "AJN1dcA-YyfH",
        "colab_type": "code",
        "outputId": "4a0a52a2-2d74-48c8-d9bc-6d369f6bb41c",
        "colab": {
          "base_uri": "https://localhost:8080/",
          "height": 35
        }
      },
      "source": [
        "rddInvierno_viaje = rdd_usages['201901-06'].filter(lambda x: x['start'] == int(origen) and x['end'] == int(destino))\n",
        "print('Total de viajes similares al del cliente: ', rddInvierno_viaje.count())"
      ],
      "execution_count": 24,
      "outputs": [
        {
          "output_type": "stream",
          "text": [
            "Total de viajes similares al del cliente:  690\n"
          ],
          "name": "stdout"
        }
      ]
    },
    {
      "cell_type": "code",
      "metadata": {
        "id": "SH_KTppE96QB",
        "colab_type": "code",
        "colab": {}
      },
      "source": [
        "rddInvierno_viaje.filter(lambda x: x['hour'] == '00:00:00').take(19)"
      ],
      "execution_count": 0,
      "outputs": []
    },
    {
      "cell_type": "code",
      "metadata": {
        "id": "MqsQZLTk8zar",
        "colab_type": "code",
        "colab": {
          "base_uri": "https://localhost:8080/",
          "height": 35
        },
        "outputId": "c361a07b-f9e4-4097-c5cc-1abbd0610d4c"
      },
      "source": [
        "listaRaros = rddInvierno_viaje.filter(lambda x: x['hour'] == '00:00:00').map(lambda x: ([x['travel_time']])).reduce(lambda a, b: a + b)\n",
        "print(len(listaRaros))"
      ],
      "execution_count": 36,
      "outputs": [
        {
          "output_type": "stream",
          "text": [
            "19\n"
          ],
          "name": "stdout"
        }
      ]
    },
    {
      "cell_type": "code",
      "metadata": {
        "id": "BpxzbYfO9mgU",
        "colab_type": "code",
        "colab": {
          "base_uri": "https://localhost:8080/",
          "height": 35
        },
        "outputId": "81175994-c3de-445c-b507-0165349677b5"
      },
      "source": [
        "print(listaRaros)"
      ],
      "execution_count": 37,
      "outputs": [
        {
          "output_type": "stream",
          "text": [
            "[258, 376, 262, 433, 249, 200, 487, 387, 331, 328, 331, 328, 252, 712, 449, 821, 665, 645, 642]\n"
          ],
          "name": "stdout"
        }
      ]
    },
    {
      "cell_type": "code",
      "metadata": {
        "id": "WY5lJYnCvF5a",
        "colab_type": "code",
        "outputId": "4687954d-0233-454e-ecd8-bad8ca80c061",
        "colab": {
          "base_uri": "https://localhost:8080/",
          "height": 343
        }
      },
      "source": [
        "#Veamos cuales son las horas mas comunes para realizar este tipo de viaje.\n",
        "#fig = plt.figure()\n",
        "dicc = rddInvierno_viaje.map(lambda x: (int(x['hour'][0:2]), 1)).countByKey()\n",
        "dicc_list = sorted(dicc.keys())\n",
        "plt.figure(figsize=(15,5))\n",
        "plt.title(\"Usuarios que realizan el viaje \"+origen+ \" --> \"+destino )\n",
        "plt.bar(dicc.keys(), dicc.values())\n",
        "plt.xlabel('Horas', fontsize=18)\n",
        "plt.ylabel('Cantidad de usuarios', fontsize=16)\n",
        "plt.show()\n",
        "#plt.xticks(dicc.keys(), dicc_list) No he conseguido que se ponga el numero en todos los contenedores"
      ],
      "execution_count": 38,
      "outputs": [
        {
          "output_type": "display_data",
          "data": {
            "image/png": "[encoded data removed]",
            "text/plain": [
              "<Figure size 1080x360 with 1 Axes>"
            ]
          },
          "metadata": {
            "tags": [],
            "needs_background": "light"
          }
        }
      ]
    },
    {
      "cell_type": "code",
      "metadata": {
        "id": "DT0_WQ0R9uSB",
        "colab_type": "code",
        "outputId": "cd673194-78c1-47b1-8bc5-0cef9a241cec",
        "colab": {
          "base_uri": "https://localhost:8080/",
          "height": 35
        }
      },
      "source": [
        "#Veamos si hay alguna diferencia en el tipo de usuarios que han realizado el viaje\n",
        "rddInvierno_viaje.map(lambda x: (x['user_type'], 1)).countByKey()"
      ],
      "execution_count": 26,
      "outputs": [
        {
          "output_type": "execute_result",
          "data": {
            "text/plain": [
              "defaultdict(int, {0: 1, 1: 684, 2: 3, 3: 2})"
            ]
          },
          "metadata": {
            "tags": []
          },
          "execution_count": 26
        }
      ]
    },
    {
      "cell_type": "code",
      "metadata": {
        "id": "GIJd8QuR7tss",
        "colab_type": "code",
        "outputId": "c6fd04b0-b812-4985-923a-a11dfc3b6488",
        "colab": {
          "base_uri": "https://localhost:8080/",
          "height": 35
        }
      },
      "source": [
        "#Veamos la edad de los usuarios que predomina realizando este viaje. \n",
        "rddInvierno_viaje.map(lambda x: (x['age'], 1)).countByKey()"
      ],
      "execution_count": 27,
      "outputs": [
        {
          "output_type": "execute_result",
          "data": {
            "text/plain": [
              "defaultdict(int, {0: 455, 2: 1, 3: 14, 4: 139, 5: 80, 6: 1})"
            ]
          },
          "metadata": {
            "tags": []
          },
          "execution_count": 27
        }
      ]
    },
    {
      "cell_type": "code",
      "metadata": {
        "id": "78IrAbTkaHQf",
        "colab_type": "code",
        "outputId": "6f3f6568-5907-4b16-f683-6c03d6e29710",
        "colab": {
          "base_uri": "https://localhost:8080/",
          "height": 35
        }
      },
      "source": [
        "#Estudiemos ahora las medias en tiempo de todos los viajes, el coste del viaje, etc.\n",
        "import statistics as stats\n",
        "listaTiempos = rddInvierno_viaje.map(lambda x: ([x['travel_time']])).reduce(lambda a, b: a + b)\n",
        "print('La media de tiempo empleado por otros usuarios es: ',stats.mean(listaTiempos), 'segundos')"
      ],
      "execution_count": 50,
      "outputs": [
        {
          "output_type": "stream",
          "text": [
            "La media de tiempo empleado por otros usuarios es:  541.2376811594203 segundos\n"
          ],
          "name": "stdout"
        }
      ]
    },
    {
      "cell_type": "markdown",
      "metadata": {
        "id": "TsbmXr3w2wCW",
        "colab_type": "text"
      },
      "source": [
        "Esta media de tiempo incluye los viajes a cualquier tipo de hora, pero los que nos interesan son los que se realizan por la noche. Veamos ahora si realizar este trayecto por el día o por la noche afecta en el tiempo medio para recorrer el trayecto. Con este analisis, se verá si afecta el tráfico ya que es el principal causante del incremento en el tiempo de un viaje"
      ]
    },
    {
      "cell_type": "code",
      "metadata": {
        "id": "JuVv0eWrmtmx",
        "colab_type": "code",
        "colab": {}
      },
      "source": [
        "#Diferencias de los tiempos medios entre las horas nocturnas y las horas diurnas\n",
        "\n",
        "tiemposNoc = rddInvierno_viaje.filter(horasNocturnas).map(lambda x: ([x['travel_time']])).reduce(lambda a, b: a + b)\n",
        "tiemposDiu = rddInvierno_viaje.filter(horasDiurnas).map(lambda x: ([x['travel_time']])).reduce(lambda a, b: a + b)"
      ],
      "execution_count": 0,
      "outputs": []
    },
    {
      "cell_type": "code",
      "metadata": {
        "id": "T4xKJ-R07MB-",
        "colab_type": "code",
        "colab": {
          "base_uri": "https://localhost:8080/",
          "height": 104
        },
        "outputId": "ad2d1927-421b-45ed-9889-f8d7e1ce5ee7"
      },
      "source": [
        "mediaNocturna = stats.mean(tiemposNoc)\n",
        "mediaDiurna = stats.mean(tiemposDiu)\n",
        "print('Tiempo medio de viajes nocturnos es: ',mediaNocturna, 'segundos')\n",
        "print('Tiempo medio de viajes diurnos es: ',mediaDiurna, 'segundos')\n",
        "if mediaNocturna < mediaDiurna:\n",
        "  print(\"\\nEl tiempo para recorrer el trayecto si se ve afectado por el tráfico, reduciendolo, \\nen las horas nocturnas\")\n",
        "else:\n",
        "  print(\"El tráfico no afecta a este trayecto\")"
      ],
      "execution_count": 64,
      "outputs": [
        {
          "output_type": "stream",
          "text": [
            "Tiempo medio de viajes nocturnos es:  426.3453237410072 segundos\n",
            "Tiempo medio de viajes diurnos es:  570.2214156079855 segundos\n",
            "\n",
            "El tiempo para recorrer el trayecto si se ve afectado por el tráfico, reduciendolo, \n",
            "en las horas nocturnas\n"
          ],
          "name": "stdout"
        }
      ]
    },
    {
      "cell_type": "code",
      "metadata": {
        "id": "x-Z8ZI0DGcqM",
        "colab_type": "code",
        "colab": {}
      },
      "source": [
        ""
      ],
      "execution_count": 0,
      "outputs": []
    },
    {
      "cell_type": "markdown",
      "metadata": {
        "id": "UuHsKmAwHR1w",
        "colab_type": "text"
      },
      "source": [
        "Hagamos ahora el mismo estudio que al principio y veamos la cantidad de huecos libres que hay en la estación de destino. "
      ]
    },
    {
      "cell_type": "code",
      "metadata": {
        "id": "Iu1Tt6i-IA6n",
        "colab_type": "code",
        "colab": {
          "base_uri": "https://localhost:8080/",
          "height": 52
        },
        "outputId": "f226317c-b29a-406b-cc52-dd3702c851f1"
      },
      "source": [
        "def filtPorHora2(hora, rango):\n",
        "    horaViaje = int(horaCliente[0:2]) * 3600 + int(horaCliente[3:5]) * 60 + int(horaCliente[6:8]) + mediaNocturna\n",
        "    horaDatos = int(hora[0:2]) * 3600 + int(hora[3:5]) * 60 + int(hora[6:8])\n",
        "    if horaViaje - rango < 0:\n",
        "      return horaDatos < horaViaje + rango\n",
        "    else:\n",
        "      return horaViaje - rango < horaDatos < horaViaje + rango\n",
        "\n",
        "def calcularBasesLibres(lista):\n",
        "  #bicisLibres = []\n",
        "  for station in lista:\n",
        "    if station['number'] == destino:\n",
        "      return station['free_bases']\n",
        "\n",
        "basesLibres = rddE_Sit_fil.filter(lambda x: filtPorHora2(x['hour'], 3600)).map(lambda x: [calcularBasesLibres(x['station'])]).reduce(lambda a, b: a+b)\n",
        "\n",
        "print('La media de bicicletas libres respecto a la hora elegida es:',int(stats.mean(basesLibres)))\n",
        "#La media esta realizada para los datos obtenidos en el rango una hora respecto a la dicha por el cliente\n",
        "\n",
        "#Por lo tanto la probabilidad de que encuentre una bici disponible es la siguiente\n",
        "basesTotales = dicEstaciones[destino]['total_bases']\n",
        "prob = sum(basesLibres) / (basesTotales * len(basesLibres))\n",
        "print('La probabilidad de que haya una bicicleta libre es del', str(100*prob)+'%')"
      ],
      "execution_count": 84,
      "outputs": [
        {
          "output_type": "stream",
          "text": [
            "La media de bicicletas libres respecto a la hora elegida es: 7\n",
            "La probabilidad de que haya una bicicleta libre es del 32.795698924731184%\n"
          ],
          "name": "stdout"
        }
      ]
    },
    {
      "cell_type": "code",
      "metadata": {
        "id": "QSc3eTiW-MG4",
        "colab_type": "code",
        "outputId": "9f706294-3431-4b77-f48c-914251895c0c",
        "colab": {
          "base_uri": "https://localhost:8080/",
          "height": 1000
        }
      },
      "source": [
        "rdd_stations['201901'].take(1)"
      ],
      "execution_count": 76,
      "outputs": [
        {
          "output_type": "execute_result",
          "data": {
            "text/plain": [
              "[{'day': '2019-01-01',\n",
              "  'hour': '00:50:23.009468',\n",
              "  'station': [{'activate': 1,\n",
              "    'address': 'Puerta del Sol n� 1',\n",
              "    'dock_bikes': 0,\n",
              "    'free_bases': 0,\n",
              "    'id': 1,\n",
              "    'latitude': '40.4168961',\n",
              "    'light': 3,\n",
              "    'longitude': '-3.7024255',\n",
              "    'name': 'Puerta del Sol A',\n",
              "    'no_available': 1,\n",
              "    'number': '1a',\n",
              "    'reservations_count': 0,\n",
              "    'total_bases': 24},\n",
              "   {'activate': 1,\n",
              "    'address': 'Puerta del Sol n� 1',\n",
              "    'dock_bikes': 0,\n",
              "    'free_bases': 0,\n",
              "    'id': 2,\n",
              "    'latitude': '40.4170009',\n",
              "    'light': 3,\n",
              "    'longitude': '-3.7024207',\n",
              "    'name': 'Puerta del Sol B',\n",
              "    'no_available': 1,\n",
              "    'number': '1b',\n",
              "    'reservations_count': 0,\n",
              "    'total_bases': 24},\n",
              "   {'activate': 1,\n",
              "    'address': 'Calle Miguel Moya n� 1',\n",
              "    'dock_bikes': 2,\n",
              "    'free_bases': 20,\n",
              "    'id': 3,\n",
              "    'latitude': '40.4205886',\n",
              "    'light': 0,\n",
              "    'longitude': '-3.7058415',\n",
              "    'name': 'Miguel Moya',\n",
              "    'no_available': 0,\n",
              "    'number': '2',\n",
              "    'reservations_count': 0,\n",
              "    'total_bases': 24},\n",
              "   {'activate': 1,\n",
              "    'address': 'Plaza del Conde Suchil n� 2-4',\n",
              "    'dock_bikes': 12,\n",
              "    'free_bases': 4,\n",
              "    'id': 4,\n",
              "    'latitude': '40.4302937',\n",
              "    'light': 1,\n",
              "    'longitude': '-3.7069171',\n",
              "    'name': 'Plaza Conde Suchil',\n",
              "    'no_available': 0,\n",
              "    'number': '3',\n",
              "    'reservations_count': 0,\n",
              "    'total_bases': 18},\n",
              "   {'activate': 1,\n",
              "    'address': 'Calle Manuela Malasa�a n� 5',\n",
              "    'dock_bikes': 9,\n",
              "    'free_bases': 10,\n",
              "    'id': 5,\n",
              "    'latitude': '40.4285524',\n",
              "    'light': 2,\n",
              "    'longitude': '-3.7025875',\n",
              "    'name': 'Malasa�a',\n",
              "    'no_available': 0,\n",
              "    'number': '4',\n",
              "    'reservations_count': 0,\n",
              "    'total_bases': 24},\n",
              "   {'activate': 1,\n",
              "    'address': 'Calle Fuencarral n� 108',\n",
              "    'dock_bikes': 2,\n",
              "    'free_bases': 20,\n",
              "    'id': 6,\n",
              "    'latitude': '40.4285280',\n",
              "    'light': 0,\n",
              "    'longitude': '-3.7020599',\n",
              "    'name': 'Fuencarral',\n",
              "    'no_available': 0,\n",
              "    'number': '5',\n",
              "    'reservations_count': 0,\n",
              "    'total_bases': 27},\n",
              "   {'activate': 1,\n",
              "    'address': 'Calle Hortaleza n� 63',\n",
              "    'dock_bikes': 2,\n",
              "    'free_bases': 22,\n",
              "    'id': 7,\n",
              "    'latitude': '40.4241480',\n",
              "    'light': 0,\n",
              "    'longitude': '-3.6984470',\n",
              "    'name': 'Colegio Arquitectos',\n",
              "    'no_available': 0,\n",
              "    'number': '6',\n",
              "    'reservations_count': 0,\n",
              "    'total_bases': 24},\n",
              "   {'activate': 1,\n",
              "    'address': 'Calle Hortaleza n� 75',\n",
              "    'dock_bikes': 3,\n",
              "    'free_bases': 18,\n",
              "    'id': 8,\n",
              "    'latitude': '40.4251906',\n",
              "    'light': 0,\n",
              "    'longitude': '-3.6977715',\n",
              "    'name': 'Hortaleza',\n",
              "    'no_available': 0,\n",
              "    'number': '7',\n",
              "    'reservations_count': 0,\n",
              "    'total_bases': 21},\n",
              "   {'activate': 1,\n",
              "    'address': 'Plaza de Alonso Mart�nez n� 5',\n",
              "    'dock_bikes': 6,\n",
              "    'free_bases': 17,\n",
              "    'id': 9,\n",
              "    'latitude': '40.4278682',\n",
              "    'light': 0,\n",
              "    'longitude': '-3.6954403',\n",
              "    'name': 'Alonso Mart�nez',\n",
              "    'no_available': 0,\n",
              "    'number': '8',\n",
              "    'reservations_count': 0,\n",
              "    'total_bases': 24},\n",
              "   {'activate': 1,\n",
              "    'address': 'Plaza de San Miguel n� 9',\n",
              "    'dock_bikes': 0,\n",
              "    'free_bases': 0,\n",
              "    'id': 10,\n",
              "    'latitude': '40.4156057',\n",
              "    'light': 3,\n",
              "    'longitude': '-3.7095084',\n",
              "    'name': 'Plaza de San Miguel',\n",
              "    'no_available': 1,\n",
              "    'number': '9',\n",
              "    'reservations_count': 0,\n",
              "    'total_bases': 24},\n",
              "   {'activate': 1,\n",
              "    'address': 'Calle Marqu�s de la Ensenada n� 16',\n",
              "    'dock_bikes': 9,\n",
              "    'free_bases': 15,\n",
              "    'id': 11,\n",
              "    'latitude': '40.4250863',\n",
              "    'light': 2,\n",
              "    'longitude': '-3.6918807',\n",
              "    'name': 'Marqu�s de la Ensenada',\n",
              "    'no_available': 0,\n",
              "    'number': '10',\n",
              "    'reservations_count': 0,\n",
              "    'total_bases': 24},\n",
              "   {'activate': 1,\n",
              "    'address': 'Calle San Andr�s n� 18',\n",
              "    'dock_bikes': 3,\n",
              "    'free_bases': 16,\n",
              "    'id': 12,\n",
              "    'latitude': '40.4269483',\n",
              "    'light': 0,\n",
              "    'longitude': '-3.7035918',\n",
              "    'name': 'San Andr�s',\n",
              "    'no_available': 0,\n",
              "    'number': '11',\n",
              "    'reservations_count': 0,\n",
              "    'total_bases': 24},\n",
              "   {'activate': 1,\n",
              "    'address': 'Calle San Bernardo n� 85',\n",
              "    'dock_bikes': 14,\n",
              "    'free_bases': 9,\n",
              "    'id': 13,\n",
              "    'latitude': '40.4284246',\n",
              "    'light': 2,\n",
              "    'longitude': '-3.7061931',\n",
              "    'name': 'San Hermenegildo',\n",
              "    'no_available': 0,\n",
              "    'number': '12',\n",
              "    'reservations_count': 0,\n",
              "    'total_bases': 24},\n",
              "   {'activate': 1,\n",
              "    'address': 'Calle Conde Duque n� 22',\n",
              "    'dock_bikes': 11,\n",
              "    'free_bases': 12,\n",
              "    'id': 14,\n",
              "    'latitude': '40.4273264',\n",
              "    'light': 2,\n",
              "    'longitude': '-3.7104417',\n",
              "    'name': 'Conde Duque',\n",
              "    'no_available': 0,\n",
              "    'number': '13',\n",
              "    'reservations_count': 0,\n",
              "    'total_bases': 24},\n",
              "   {'activate': 1,\n",
              "    'address': 'Calle Ventura Rodr�guez n� 2',\n",
              "    'dock_bikes': 16,\n",
              "    'free_bases': 8,\n",
              "    'id': 15,\n",
              "    'latitude': '40.4260957',\n",
              "    'light': 2,\n",
              "    'longitude': '-3.7134790',\n",
              "    'name': 'Ventura Rodr�guez',\n",
              "    'no_available': 0,\n",
              "    'number': '14',\n",
              "    'reservations_count': 0,\n",
              "    'total_bases': 24},\n",
              "   {'activate': 1,\n",
              "    'address': 'Calle San Vicente Ferrer n� 64',\n",
              "    'dock_bikes': 2,\n",
              "    'free_bases': 18,\n",
              "    'id': 16,\n",
              "    'latitude': '40.4261649',\n",
              "    'light': 0,\n",
              "    'longitude': '-3.7073764',\n",
              "    'name': 'San Vicente Ferrer',\n",
              "    'no_available': 0,\n",
              "    'number': '15',\n",
              "    'reservations_count': 0,\n",
              "    'total_bases': 21},\n",
              "   {'activate': 1,\n",
              "    'address': 'Calle San Bernardo n� 22',\n",
              "    'dock_bikes': 9,\n",
              "    'free_bases': 7,\n",
              "    'id': 17,\n",
              "    'latitude': '40.4230721',\n",
              "    'light': 2,\n",
              "    'longitude': '-3.7075065',\n",
              "    'name': 'San Bernardo',\n",
              "    'no_available': 0,\n",
              "    'number': '16',\n",
              "    'reservations_count': 0,\n",
              "    'total_bases': 21},\n",
              "   {'activate': 1,\n",
              "    'address': 'Plaza de Carlos Cambronero n� 2',\n",
              "    'dock_bikes': 1,\n",
              "    'free_bases': 22,\n",
              "    'id': 18,\n",
              "    'latitude': '40.4232649',\n",
              "    'light': 0,\n",
              "    'longitude': '-3.7038312',\n",
              "    'name': 'Carlos Cambronero',\n",
              "    'no_available': 0,\n",
              "    'number': '17',\n",
              "    'reservations_count': 0,\n",
              "    'total_bases': 24},\n",
              "   {'activate': 1,\n",
              "    'address': 'Plaza de Pedro Zerolo',\n",
              "    'dock_bikes': 5,\n",
              "    'free_bases': 17,\n",
              "    'id': 19,\n",
              "    'latitude': '40.4207773',\n",
              "    'light': 0,\n",
              "    'longitude': '-3.6996502',\n",
              "    'name': 'Plaza de Pedro Zerolo',\n",
              "    'no_available': 0,\n",
              "    'number': '18',\n",
              "    'reservations_count': 0,\n",
              "    'total_bases': 24},\n",
              "   {'activate': 1,\n",
              "    'address': 'Calle Prim n� 2',\n",
              "    'dock_bikes': 9,\n",
              "    'free_bases': 15,\n",
              "    'id': 20,\n",
              "    'latitude': '40.4218616',\n",
              "    'light': 2,\n",
              "    'longitude': '-3.6954983',\n",
              "    'name': 'Prim',\n",
              "    'no_available': 0,\n",
              "    'number': '19',\n",
              "    'reservations_count': 0,\n",
              "    'total_bases': 24},\n",
              "   {'activate': 1,\n",
              "    'address': 'Calle Alcal� n� 49',\n",
              "    'dock_bikes': 21,\n",
              "    'free_bases': 6,\n",
              "    'id': 21,\n",
              "    'latitude': '40.4192342',\n",
              "    'light': 1,\n",
              "    'longitude': '-3.6954615',\n",
              "    'name': 'Banco de Espa�a A',\n",
              "    'no_available': 0,\n",
              "    'number': '20a',\n",
              "    'reservations_count': 0,\n",
              "    'total_bases': 30},\n",
              "   {'activate': 1,\n",
              "    'address': 'Calle Montera n� 48',\n",
              "    'dock_bikes': 0,\n",
              "    'free_bases': 0,\n",
              "    'id': 23,\n",
              "    'latitude': '40.4197872',\n",
              "    'light': 3,\n",
              "    'longitude': '-3.7014814',\n",
              "    'name': 'Red de San Luis A',\n",
              "    'no_available': 1,\n",
              "    'number': '21a',\n",
              "    'reservations_count': 0,\n",
              "    'total_bases': 24},\n",
              "   {'activate': 1,\n",
              "    'address': 'Calle Montera n� 47',\n",
              "    'dock_bikes': 0,\n",
              "    'free_bases': 0,\n",
              "    'id': 24,\n",
              "    'latitude': '40.4197204',\n",
              "    'light': 3,\n",
              "    'longitude': '-3.7015235',\n",
              "    'name': 'Red de San Luis B',\n",
              "    'no_available': 1,\n",
              "    'number': '21b',\n",
              "    'reservations_count': 0,\n",
              "    'total_bases': 24},\n",
              "   {'activate': 1,\n",
              "    'address': 'Calle Jacometrezo n� 3',\n",
              "    'dock_bikes': 2,\n",
              "    'free_bases': 20,\n",
              "    'id': 25,\n",
              "    'latitude': '40.4200783',\n",
              "    'light': 0,\n",
              "    'longitude': '-3.7065376',\n",
              "    'name': 'Jacometrezo',\n",
              "    'no_available': 0,\n",
              "    'number': '22',\n",
              "    'reservations_count': 0,\n",
              "    'total_bases': 24},\n",
              "   {'activate': 1,\n",
              "    'address': 'Plaza de Santo Domingo n� 1',\n",
              "    'dock_bikes': 0,\n",
              "    'free_bases': 23,\n",
              "    'id': 26,\n",
              "    'latitude': '40.4197429',\n",
              "    'light': 0,\n",
              "    'longitude': '-3.7080733',\n",
              "    'name': 'Santo Domingo',\n",
              "    'no_available': 0,\n",
              "    'number': '23',\n",
              "    'reservations_count': 0,\n",
              "    'total_bases': 24},\n",
              "   {'activate': 1,\n",
              "    'address': 'Calle Carlos III n� 1',\n",
              "    'dock_bikes': 16,\n",
              "    'free_bases': 8,\n",
              "    'id': 27,\n",
              "    'latitude': '40.4182146',\n",
              "    'light': 2,\n",
              "    'longitude': '-3.7103538',\n",
              "    'name': 'Palacio de Oriente',\n",
              "    'no_available': 0,\n",
              "    'number': '24',\n",
              "    'reservations_count': 0,\n",
              "    'total_bases': 24},\n",
              "   {'activate': 1,\n",
              "    'address': 'Plaza de Celenque n� 1',\n",
              "    'dock_bikes': 0,\n",
              "    'free_bases': 0,\n",
              "    'id': 28,\n",
              "    'latitude': '40.4173114',\n",
              "    'light': 3,\n",
              "    'longitude': '-3.7064809',\n",
              "    'name': 'Plaza de Celenque A',\n",
              "    'no_available': 1,\n",
              "    'number': '25a',\n",
              "    'reservations_count': 0,\n",
              "    'total_bases': 24},\n",
              "   {'activate': 1,\n",
              "    'address': 'Plaza de Celenque n� 1',\n",
              "    'dock_bikes': 0,\n",
              "    'free_bases': 0,\n",
              "    'id': 29,\n",
              "    'latitude': '40.4172781',\n",
              "    'light': 3,\n",
              "    'longitude': '-3.7063837',\n",
              "    'name': 'Plaza de Celenque B',\n",
              "    'no_available': 1,\n",
              "    'number': '25b',\n",
              "    'reservations_count': 0,\n",
              "    'total_bases': 24},\n",
              "   {'activate': 1,\n",
              "    'address': 'Plaza de las Salesas 7',\n",
              "    'dock_bikes': 1,\n",
              "    'free_bases': 23,\n",
              "    'id': 30,\n",
              "    'latitude': '40.423855',\n",
              "    'light': 0,\n",
              "    'longitude': '-3.694475',\n",
              "    'name': 'Plaza de las Salesas',\n",
              "    'no_available': 0,\n",
              "    'number': '26',\n",
              "    'reservations_count': 0,\n",
              "    'total_bases': 24},\n",
              "   {'activate': 1,\n",
              "    'address': 'Calle Jes�s n� 1',\n",
              "    'dock_bikes': 13,\n",
              "    'free_bases': 11,\n",
              "    'id': 31,\n",
              "    'latitude': '40.4132798',\n",
              "    'light': 2,\n",
              "    'longitude': '-3.6956178',\n",
              "    'name': 'Huertas',\n",
              "    'no_available': 0,\n",
              "    'number': '27',\n",
              "    'reservations_count': 0,\n",
              "    'total_bases': 24},\n",
              "   {'activate': 1,\n",
              "    'address': 'Calle Alcal� n� 27',\n",
              "    'dock_bikes': 0,\n",
              "    'free_bases': 0,\n",
              "    'id': 32,\n",
              "    'latitude': '40.4181663',\n",
              "    'light': 3,\n",
              "    'longitude': '-3.6992600',\n",
              "    'name': 'Sevilla',\n",
              "    'no_available': 1,\n",
              "    'number': '28',\n",
              "    'reservations_count': 0,\n",
              "    'total_bases': 24},\n",
              "   {'activate': 1,\n",
              "    'address': 'Calle del Marqu�s de Cubas n� 25',\n",
              "    'dock_bikes': 1,\n",
              "    'free_bases': 21,\n",
              "    'id': 33,\n",
              "    'latitude': '40.4162619',\n",
              "    'light': 0,\n",
              "    'longitude': '-3.6957355',\n",
              "    'name': 'Marqu�s de Cubas',\n",
              "    'no_available': 0,\n",
              "    'number': '29',\n",
              "    'reservations_count': 0,\n",
              "    'total_bases': 24},\n",
              "   {'activate': 1,\n",
              "    'address': 'Calle Pav�a n� 6',\n",
              "    'dock_bikes': 17,\n",
              "    'free_bases': 10,\n",
              "    'id': 34,\n",
              "    'latitude': '40.4192095',\n",
              "    'light': 2,\n",
              "    'longitude': '-3.7115040',\n",
              "    'name': 'San Quint�n',\n",
              "    'no_available': 0,\n",
              "    'number': '30',\n",
              "    'reservations_count': 0,\n",
              "    'total_bases': 27},\n",
              "   {'activate': 1,\n",
              "    'address': 'Calle Mayor n� 20',\n",
              "    'dock_bikes': 0,\n",
              "    'free_bases': 0,\n",
              "    'id': 35,\n",
              "    'latitude': '40.4163638',\n",
              "    'light': 3,\n",
              "    'longitude': '-3.7068969',\n",
              "    'name': 'Calle Mayor',\n",
              "    'no_available': 1,\n",
              "    'number': '31',\n",
              "    'reservations_count': 0,\n",
              "    'total_bases': 27},\n",
              "   {'activate': 1,\n",
              "    'address': 'Plaza de la Provincia n� 1',\n",
              "    'dock_bikes': 11,\n",
              "    'free_bases': 7,\n",
              "    'id': 36,\n",
              "    'latitude': '40.4150099',\n",
              "    'light': 2,\n",
              "    'longitude': '-3.7061032',\n",
              "    'name': 'Plaza de la Provincia',\n",
              "    'no_available': 0,\n",
              "    'number': '32',\n",
              "    'reservations_count': 0,\n",
              "    'total_bases': 18},\n",
              "   {'activate': 1,\n",
              "    'address': 'Calle Carretas n� 8',\n",
              "    'dock_bikes': 0,\n",
              "    'free_bases': 0,\n",
              "    'id': 37,\n",
              "    'latitude': '40.4157138',\n",
              "    'light': 3,\n",
              "    'longitude': '-3.7031808',\n",
              "    'name': 'Carretas',\n",
              "    'no_available': 1,\n",
              "    'number': '33',\n",
              "    'reservations_count': 0,\n",
              "    'total_bases': 24},\n",
              "   {'activate': 1,\n",
              "    'address': 'Plaza de Jacinto Benavente',\n",
              "    'dock_bikes': 0,\n",
              "    'free_bases': 0,\n",
              "    'id': 38,\n",
              "    'latitude': '40.4146755',\n",
              "    'light': 3,\n",
              "    'longitude': '-3.7036825',\n",
              "    'name': 'Jacinto Benavente',\n",
              "    'no_available': 1,\n",
              "    'number': '34',\n",
              "    'reservations_count': 0,\n",
              "    'total_bases': 24},\n",
              "   {'activate': 1,\n",
              "    'address': 'Plaza del Cord�n n� 1',\n",
              "    'dock_bikes': 15,\n",
              "    'free_bases': 9,\n",
              "    'id': 39,\n",
              "    'latitude': '40.4141931',\n",
              "    'light': 2,\n",
              "    'longitude': '-3.7103285',\n",
              "    'name': 'Plaza del Cord�n',\n",
              "    'no_available': 0,\n",
              "    'number': '35',\n",
              "    'reservations_count': 0,\n",
              "    'total_bases': 24},\n",
              "   {'activate': 1,\n",
              "    'address': 'Plaza de Ramales n� 1',\n",
              "    'dock_bikes': 20,\n",
              "    'free_bases': 3,\n",
              "    'id': 40,\n",
              "    'latitude': '40.4167281',\n",
              "    'light': 1,\n",
              "    'longitude': '-3.7124038',\n",
              "    'name': 'Plaza de Ramales',\n",
              "    'no_available': 0,\n",
              "    'number': '36',\n",
              "    'reservations_count': 0,\n",
              "    'total_bases': 24},\n",
              "   {'activate': 1,\n",
              "    'address': 'Plaza de San Francisco n� 5',\n",
              "    'dock_bikes': 3,\n",
              "    'free_bases': 18,\n",
              "    'id': 41,\n",
              "    'latitude': '40.4108442',\n",
              "    'light': 0,\n",
              "    'longitude': '-3.7144964',\n",
              "    'name': 'Plaza San Francisco',\n",
              "    'no_available': 0,\n",
              "    'number': '37',\n",
              "    'reservations_count': 0,\n",
              "    'total_bases': 24},\n",
              "   {'activate': 1,\n",
              "    'address': 'Carrera de San Francisco n� 1',\n",
              "    'dock_bikes': 6,\n",
              "    'free_bases': 14,\n",
              "    'id': 42,\n",
              "    'latitude': '40.4110406',\n",
              "    'light': 0,\n",
              "    'longitude': '-3.7120734',\n",
              "    'name': 'Plaza de los Carros',\n",
              "    'no_available': 0,\n",
              "    'number': '38',\n",
              "    'reservations_count': 0,\n",
              "    'total_bases': 24},\n",
              "   {'activate': 1,\n",
              "    'address': 'Plaza de la Cebada n� 16 ',\n",
              "    'dock_bikes': 16,\n",
              "    'free_bases': 10,\n",
              "    'id': 43,\n",
              "    'latitude': '40.4112744',\n",
              "    'light': 2,\n",
              "    'longitude': '-3.7088337',\n",
              "    'name': 'Plaza de la Cebada',\n",
              "    'no_available': 0,\n",
              "    'number': '39',\n",
              "    'reservations_count': 1,\n",
              "    'total_bases': 27},\n",
              "   {'activate': 1,\n",
              "    'address': 'Plaza del Conde de Romanones n� 9',\n",
              "    'dock_bikes': 22,\n",
              "    'free_bases': 0,\n",
              "    'id': 44,\n",
              "    'latitude': '40.4138846',\n",
              "    'light': 1,\n",
              "    'longitude': '-3.7049407',\n",
              "    'name': 'Conde de Romanones',\n",
              "    'no_available': 0,\n",
              "    'number': '40',\n",
              "    'reservations_count': 0,\n",
              "    'total_bases': 24},\n",
              "   {'activate': 1,\n",
              "    'address': 'Calle Atocha n� 54',\n",
              "    'dock_bikes': 0,\n",
              "    'free_bases': 0,\n",
              "    'id': 45,\n",
              "    'latitude': '40.4122047',\n",
              "    'light': 3,\n",
              "    'longitude': '-3.6991147',\n",
              "    'name': 'Ant�n Mart�n',\n",
              "    'no_available': 1,\n",
              "    'number': '41',\n",
              "    'reservations_count': 0,\n",
              "    'total_bases': 21},\n",
              "   {'activate': 1,\n",
              "    'address': 'Calle Santa Isabel n� 32',\n",
              "    'dock_bikes': 13,\n",
              "    'free_bases': 9,\n",
              "    'id': 46,\n",
              "    'latitude': '40.4107085',\n",
              "    'light': 2,\n",
              "    'longitude': '-3.6982318',\n",
              "    'name': 'Santa Isabel',\n",
              "    'no_available': 0,\n",
              "    'number': '42',\n",
              "    'reservations_count': 0,\n",
              "    'total_bases': 24},\n",
              "   {'activate': 1,\n",
              "    'address': 'Calle Lavapi�s n� 34-36',\n",
              "    'dock_bikes': 2,\n",
              "    'free_bases': 13,\n",
              "    'id': 47,\n",
              "    'latitude': '40.4101564',\n",
              "    'light': 0,\n",
              "    'longitude': '-3.7025024',\n",
              "    'name': 'Jes�s y Mar�a',\n",
              "    'no_available': 0,\n",
              "    'number': '43',\n",
              "    'reservations_count': 0,\n",
              "    'total_bases': 24},\n",
              "   {'activate': 1,\n",
              "    'address': 'Calle Mes�n de Paredes n� 35',\n",
              "    'dock_bikes': 18,\n",
              "    'free_bases': 3,\n",
              "    'id': 48,\n",
              "    'latitude': '40.4097617',\n",
              "    'light': 1,\n",
              "    'longitude': '-3.7040666',\n",
              "    'name': 'Plaza de Nelson Mandela',\n",
              "    'no_available': 0,\n",
              "    'number': '44',\n",
              "    'reservations_count': 0,\n",
              "    'total_bases': 21},\n",
              "   {'activate': 1,\n",
              "    'address': 'Glorieta de la Puerta de Toledo n� 1',\n",
              "    'dock_bikes': 8,\n",
              "    'free_bases': 11,\n",
              "    'id': 49,\n",
              "    'latitude': '40.4070358',\n",
              "    'light': 2,\n",
              "    'longitude': '-3.7110513',\n",
              "    'name': 'Puerta de Toledo',\n",
              "    'no_available': 0,\n",
              "    'number': '45',\n",
              "    'reservations_count': 0,\n",
              "    'total_bases': 21},\n",
              "   {'activate': 1,\n",
              "    'address': 'Calle Ribera de Curtidores n� 28',\n",
              "    'dock_bikes': 21,\n",
              "    'free_bases': 3,\n",
              "    'id': 50,\n",
              "    'latitude': '40.4053153',\n",
              "    'light': 1,\n",
              "    'longitude': '-3.7071259',\n",
              "    'name': 'Ribera de Curtidores',\n",
              "    'no_available': 0,\n",
              "    'number': '46',\n",
              "    'reservations_count': 0,\n",
              "    'total_bases': 24},\n",
              "   {'activate': 1,\n",
              "    'address': 'Glorieta de Embajadores n� 6',\n",
              "    'dock_bikes': 10,\n",
              "    'free_bases': 9,\n",
              "    'id': 51,\n",
              "    'latitude': '40.4047851',\n",
              "    'light': 2,\n",
              "    'longitude': '-3.7028265',\n",
              "    'name': 'Embajadores 1',\n",
              "    'no_available': 0,\n",
              "    'number': '47',\n",
              "    'reservations_count': 0,\n",
              "    'total_bases': 24},\n",
              "   {'activate': 1,\n",
              "    'address': 'Glorieta de Embajadores n� 2',\n",
              "    'dock_bikes': 5,\n",
              "    'free_bases': 15,\n",
              "    'id': 52,\n",
              "    'latitude': '40.4056107',\n",
              "    'light': 0,\n",
              "    'longitude': '-3.7022591',\n",
              "    'name': 'Embajadores 2',\n",
              "    'no_available': 0,\n",
              "    'number': '48',\n",
              "    'reservations_count': 0,\n",
              "    'total_bases': 24},\n",
              "   {'activate': 1,\n",
              "    'address': 'Ronda de Atocha n� 34',\n",
              "    'dock_bikes': 18,\n",
              "    'free_bases': 6,\n",
              "    'id': 53,\n",
              "    'latitude': '40.4060941',\n",
              "    'light': 1,\n",
              "    'longitude': '-3.6992759',\n",
              "    'name': 'Casa Encendida',\n",
              "    'no_available': 0,\n",
              "    'number': '49',\n",
              "    'reservations_count': 0,\n",
              "    'total_bases': 24},\n",
              "   {'activate': 1,\n",
              "    'address': 'Calle Santa Isabel n� 57',\n",
              "    'dock_bikes': 14,\n",
              "    'free_bases': 2,\n",
              "    'id': 54,\n",
              "    'latitude': '40.4083684',\n",
              "    'light': 1,\n",
              "    'longitude': '-3.6933463',\n",
              "    'name': 'Museo Reina Sof�a',\n",
              "    'no_available': 0,\n",
              "    'number': '50',\n",
              "    'reservations_count': 0,\n",
              "    'total_bases': 24},\n",
              "   {'activate': 1,\n",
              "    'address': 'Ronda de Atocha n� 2',\n",
              "    'dock_bikes': 14,\n",
              "    'free_bases': 11,\n",
              "    'id': 55,\n",
              "    'latitude': '40.4075606',\n",
              "    'light': 2,\n",
              "    'longitude': '-3.6935205',\n",
              "    'name': 'Ronda de Atocha',\n",
              "    'no_available': 0,\n",
              "    'number': '51',\n",
              "    'reservations_count': 0,\n",
              "    'total_bases': 27},\n",
              "   {'activate': 1,\n",
              "    'address': 'Plaza de Santa Ana n� 10',\n",
              "    'dock_bikes': 20,\n",
              "    'free_bases': 1,\n",
              "    'id': 56,\n",
              "    'latitude': '40.4144226',\n",
              "    'light': 1,\n",
              "    'longitude': '-3.7007164',\n",
              "    'name': 'Plaza de Santa Ana',\n",
              "    'no_available': 0,\n",
              "    'number': '52',\n",
              "    'reservations_count': 0,\n",
              "    'total_bases': 24},\n",
              "   {'activate': 1,\n",
              "    'address': 'Calle Valencia n� 1',\n",
              "    'dock_bikes': 7,\n",
              "    'free_bases': 8,\n",
              "    'id': 57,\n",
              "    'latitude': '40.4089282',\n",
              "    'light': 2,\n",
              "    'longitude': '-3.7008803',\n",
              "    'name': 'Plaza de Lavapi�s',\n",
              "    'no_available': 0,\n",
              "    'number': '53',\n",
              "    'reservations_count': 0,\n",
              "    'total_bases': 24},\n",
              "   {'activate': 1,\n",
              "    'address': 'Calle Barcel� n� 7',\n",
              "    'dock_bikes': 5,\n",
              "    'free_bases': 16,\n",
              "    'id': 58,\n",
              "    'latitude': '40.4266828',\n",
              "    'light': 0,\n",
              "    'longitude': '-3.7004230',\n",
              "    'name': 'Barcel�',\n",
              "    'no_available': 0,\n",
              "    'number': '54',\n",
              "    'reservations_count': 0,\n",
              "    'total_bases': 21},\n",
              "   {'activate': 1,\n",
              "    'address': 'Plaza de San Ildefonso n� 3',\n",
              "    'dock_bikes': 8,\n",
              "    'free_bases': 13,\n",
              "    'id': 59,\n",
              "    'latitude': '40.4239757',\n",
              "    'light': 2,\n",
              "    'longitude': '-3.7020842',\n",
              "    'name': 'Plaza de San Ildefonso',\n",
              "    'no_available': 0,\n",
              "    'number': '55',\n",
              "    'reservations_count': 0,\n",
              "    'total_bases': 24},\n",
              "   {'activate': 1,\n",
              "    'address': 'Plaza del Carmen n� 1',\n",
              "    'dock_bikes': 3,\n",
              "    'free_bases': 18,\n",
              "    'id': 60,\n",
              "    'latitude': '40.4184192',\n",
              "    'light': 0,\n",
              "    'longitude': '-3.7032414',\n",
              "    'name': 'Plaza del Carmen ',\n",
              "    'no_available': 0,\n",
              "    'number': '56',\n",
              "    'reservations_count': 0,\n",
              "    'total_bases': 24},\n",
              "   {'activate': 1,\n",
              "    'address': 'Calle Santa Cruz del Marcenado n� 24',\n",
              "    'dock_bikes': 12,\n",
              "    'free_bases': 10,\n",
              "    'id': 61,\n",
              "    'latitude': '40.4295658',\n",
              "    'light': 2,\n",
              "    'longitude': '-3.7126299',\n",
              "    'name': 'Santa Cruz del Marcenado',\n",
              "    'no_available': 0,\n",
              "    'number': '57',\n",
              "    'reservations_count': 0,\n",
              "    'total_bases': 24},\n",
              "   {'activate': 1,\n",
              "    'address': 'Calle Augusto Figueroa n� 33',\n",
              "    'dock_bikes': 4,\n",
              "    'free_bases': 16,\n",
              "    'id': 62,\n",
              "    'latitude': '40.4222862',\n",
              "    'light': 0,\n",
              "    'longitude': '-3.6978950',\n",
              "    'name': 'Augusto Figueroa',\n",
              "    'no_available': 0,\n",
              "    'number': '58',\n",
              "    'reservations_count': 1,\n",
              "    'total_bases': 24},\n",
              "   {'activate': 1,\n",
              "    'address': 'Calle Esp�ritu Santo n� 30',\n",
              "    'dock_bikes': 2,\n",
              "    'free_bases': 19,\n",
              "    'id': 63,\n",
              "    'latitude': '40.4255495',\n",
              "    'light': 0,\n",
              "    'longitude': '-3.7043418',\n",
              "    'name': 'Plaza de Juan Pujol',\n",
              "    'no_available': 0,\n",
              "    'number': '59',\n",
              "    'reservations_count': 0,\n",
              "    'total_bases': 21},\n",
              "   {'activate': 1,\n",
              "    'address': 'Plaza de la Independencia n� 6',\n",
              "    'dock_bikes': 19,\n",
              "    'free_bases': 3,\n",
              "    'id': 64,\n",
              "    'latitude': '40.4197520',\n",
              "    'light': 1,\n",
              "    'longitude': '-3.6883980',\n",
              "    'name': 'Plaza de la Independencia',\n",
              "    'no_available': 0,\n",
              "    'number': '60',\n",
              "    'reservations_count': 0,\n",
              "    'total_bases': 24},\n",
              "   {'activate': 1,\n",
              "    'address': \"Calle O'Donnell n� 28\",\n",
              "    'dock_bikes': 20,\n",
              "    'free_bases': 4,\n",
              "    'id': 65,\n",
              "    'latitude': '40.4213983',\n",
              "    'light': 1,\n",
              "    'longitude': '-3.6752045',\n",
              "    'name': 'Narv�ez',\n",
              "    'no_available': 0,\n",
              "    'number': '61',\n",
              "    'reservations_count': 0,\n",
              "    'total_bases': 24},\n",
              "   {'activate': 1,\n",
              "    'address': \"Calle O'Donnell n� 50\",\n",
              "    'dock_bikes': 12,\n",
              "    'free_bases': 11,\n",
              "    'id': 66,\n",
              "    'latitude': '40.4213148',\n",
              "    'light': 2,\n",
              "    'longitude': '-3.6724968',\n",
              "    'name': \"O'Donnell\",\n",
              "    'no_available': 0,\n",
              "    'number': '62',\n",
              "    'reservations_count': 0,\n",
              "    'total_bases': 24},\n",
              "   {'activate': 1,\n",
              "    'address': 'Calle Ibiza n� 62',\n",
              "    'dock_bikes': 6,\n",
              "    'free_bases': 17,\n",
              "    'id': 67,\n",
              "    'latitude': '40.4179237',\n",
              "    'light': 0,\n",
              "    'longitude': '-3.6708959',\n",
              "    'name': 'Ibiza',\n",
              "    'no_available': 0,\n",
              "    'number': '63',\n",
              "    'reservations_count': 1,\n",
              "    'total_bases': 24},\n",
              "   {'activate': 1,\n",
              "    'address': 'Calle Antonio Maura n� 15',\n",
              "    'dock_bikes': 16,\n",
              "    'free_bases': 8,\n",
              "    'id': 69,\n",
              "    'latitude': '40.4165605',\n",
              "    'light': 2,\n",
              "    'longitude': '-3.6904525',\n",
              "    'name': 'Antonio Maura',\n",
              "    'no_available': 0,\n",
              "    'number': '65',\n",
              "    'reservations_count': 0,\n",
              "    'total_bases': 24},\n",
              "   {'activate': 1,\n",
              "    'address': 'Calle Almad�n n� 28',\n",
              "    'dock_bikes': 8,\n",
              "    'free_bases': 15,\n",
              "    'id': 71,\n",
              "    'latitude': '40.4108472',\n",
              "    'light': 2,\n",
              "    'longitude': '-3.6932250',\n",
              "    'name': 'Almad�n',\n",
              "    'no_available': 0,\n",
              "    'number': '67',\n",
              "    'reservations_count': 0,\n",
              "    'total_bases': 24},\n",
              "   {'activate': 1,\n",
              "    'address': 'Calle Espalter n� 1',\n",
              "    'dock_bikes': 6,\n",
              "    'free_bases': 12,\n",
              "    'id': 72,\n",
              "    'latitude': '40.4128372',\n",
              "    'light': 2,\n",
              "    'longitude': '-3.6912023',\n",
              "    'name': 'Espalter',\n",
              "    'no_available': 0,\n",
              "    'number': '68',\n",
              "    'reservations_count': 0,\n",
              "    'total_bases': 21},\n",
              "   {'activate': 1,\n",
              "    'address': 'Avenida de Alfonso XII n� 54',\n",
              "    'dock_bikes': 17,\n",
              "    'free_bases': 10,\n",
              "    'id': 73,\n",
              "    'latitude': '40.4098080',\n",
              "    'light': 2,\n",
              "    'longitude': '-3.6888220',\n",
              "    'name': 'Puerta del �ngel Ca�do',\n",
              "    'no_available': 0,\n",
              "    'number': '69',\n",
              "    'reservations_count': 0,\n",
              "    'total_bases': 27},\n",
              "   {'activate': 1,\n",
              "    'address': 'Avenida de Men�ndez Pelayo n� 63',\n",
              "    'dock_bikes': 13,\n",
              "    'free_bases': 10,\n",
              "    'id': 74,\n",
              "    'latitude': '40.4153053',\n",
              "    'light': 2,\n",
              "    'longitude': '-3.6779232',\n",
              "    'name': 'Puerta del Doce de Octubre',\n",
              "    'no_available': 0,\n",
              "    'number': '70',\n",
              "    'reservations_count': 0,\n",
              "    'total_bases': 24},\n",
              "   {'activate': 1,\n",
              "    'address': 'Calle Doce de Octubre n� 28',\n",
              "    'dock_bikes': 11,\n",
              "    'free_bases': 13,\n",
              "    'id': 75,\n",
              "    'latitude': '40.4159569',\n",
              "    'light': 2,\n",
              "    'longitude': '-3.6738865',\n",
              "    'name': 'Doce de Octubre',\n",
              "    'no_available': 0,\n",
              "    'number': '71',\n",
              "    'reservations_count': 0,\n",
              "    'total_bases': 24},\n",
              "   {'activate': 1,\n",
              "    'address': 'Calle Doctor Esquerdo n� 99',\n",
              "    'dock_bikes': 11,\n",
              "    'free_bases': 13,\n",
              "    'id': 76,\n",
              "    'latitude': '40.4157413',\n",
              "    'light': 2,\n",
              "    'longitude': '-3.6691838',\n",
              "    'name': 'Sainz de Baranda',\n",
              "    'no_available': 0,\n",
              "    'number': '72',\n",
              "    'reservations_count': 0,\n",
              "    'total_bases': 24},\n",
              "   {'activate': 1,\n",
              "    'address': 'Avenida de Nazaret n� 7',\n",
              "    'dock_bikes': 15,\n",
              "    'free_bases': 6,\n",
              "    'id': 77,\n",
              "    'latitude': '40.4114475',\n",
              "    'light': 1,\n",
              "    'longitude': '-3.6689089',\n",
              "    'name': 'Plaza de los Astros',\n",
              "    'no_available': 0,\n",
              "    'number': '73',\n",
              "    'reservations_count': 0,\n",
              "    'total_bases': 24},\n",
              "   {'activate': 1,\n",
              "    'address': 'Avenida de Men�ndez Pelayo n� 73',\n",
              "    'dock_bikes': 19,\n",
              "    'free_bases': 4,\n",
              "    'id': 78,\n",
              "    'latitude': '40.4117627',\n",
              "    'light': 1,\n",
              "    'longitude': '-3.6766813',\n",
              "    'name': 'Puerta del Pac�fico ',\n",
              "    'no_available': 0,\n",
              "    'number': '74',\n",
              "    'reservations_count': 0,\n",
              "    'total_bases': 24},\n",
              "   {'activate': 1,\n",
              "    'address': 'Avenida de Men�ndez Pelayo n� 90',\n",
              "    'dock_bikes': 10,\n",
              "    'free_bases': 14,\n",
              "    'id': 79,\n",
              "    'latitude': '40.4082805',\n",
              "    'light': 2,\n",
              "    'longitude': '-3.6784838',\n",
              "    'name': 'Men�ndez Pelayo',\n",
              "    'no_available': 0,\n",
              "    'number': '75',\n",
              "    'reservations_count': 0,\n",
              "    'total_bases': 24},\n",
              "   {'activate': 1,\n",
              "    'address': 'Avenida del Mediterr�neo n� 19',\n",
              "    'dock_bikes': 4,\n",
              "    'free_bases': 20,\n",
              "    'id': 80,\n",
              "    'latitude': '40.4076726',\n",
              "    'light': 0,\n",
              "    'longitude': '-3.6750121',\n",
              "    'name': 'Puerta de Mariano de Cavia',\n",
              "    'no_available': 0,\n",
              "    'number': '76',\n",
              "    'reservations_count': 0,\n",
              "    'total_bases': 24},\n",
              "   {'activate': 1,\n",
              "    'address': 'Plaza del Conde de Casal n� 8',\n",
              "    'dock_bikes': 17,\n",
              "    'free_bases': 5,\n",
              "    'id': 81,\n",
              "    'latitude': '40.4063500',\n",
              "    'light': 1,\n",
              "    'longitude': '-3.6704220',\n",
              "    'name': 'Conde de Casal',\n",
              "    'no_available': 0,\n",
              "    'number': '77',\n",
              "    'reservations_count': 0,\n",
              "    'total_bases': 22},\n",
              "   {'activate': 1,\n",
              "    'address': 'Calle Cerro de la Plata n� 2',\n",
              "    'dock_bikes': 0,\n",
              "    'free_bases': 21,\n",
              "    'id': 82,\n",
              "    'latitude': '40.4009101',\n",
              "    'light': 0,\n",
              "    'longitude': '-3.6744804',\n",
              "    'name': 'Pedro Bosch',\n",
              "    'no_available': 0,\n",
              "    'number': '78',\n",
              "    'reservations_count': 0,\n",
              "    'total_bases': 24},\n",
              "   {'activate': 1,\n",
              "    'address': 'Avenida de Men�ndez Pelayo n� 38',\n",
              "    'dock_bikes': 4,\n",
              "    'free_bases': 18,\n",
              "    'id': 83,\n",
              "    'latitude': '40.4051451',\n",
              "    'light': 0,\n",
              "    'longitude': '-3.6803874',\n",
              "    'name': 'Puerta de Granada',\n",
              "    'no_available': 0,\n",
              "    'number': '79',\n",
              "    'reservations_count': 0,\n",
              "    'total_bases': 24},\n",
              "   {'activate': 1,\n",
              "    'address': 'Paseo de la Infanta Isabel n� 3',\n",
              "    'dock_bikes': 15,\n",
              "    'free_bases': 7,\n",
              "    'id': 84,\n",
              "    'latitude': '40.4075685',\n",
              "    'light': 2,\n",
              "    'longitude': '-3.6902255',\n",
              "    'name': 'Atocha A',\n",
              "    'no_available': 0,\n",
              "    'number': '80a',\n",
              "    'reservations_count': 0,\n",
              "    'total_bases': 24},\n",
              "   {'activate': 1,\n",
              "    'address': 'Paseo de la Infanta Isabel n� 3',\n",
              "    'dock_bikes': 16,\n",
              "    'free_bases': 4,\n",
              "    'id': 85,\n",
              "    'latitude': '40.4074902',\n",
              "    'light': 1,\n",
              "    'longitude': '-3.6901234',\n",
              "    'name': 'Atocha B',\n",
              "    'no_available': 0,\n",
              "    'number': '80b',\n",
              "    'reservations_count': 0,\n",
              "    'total_bases': 27},\n",
              "   {'activate': 1,\n",
              "    'address': 'Plaza del Emperador Carlos V n� 11',\n",
              "    'dock_bikes': 6,\n",
              "    'free_bases': 16,\n",
              "    'id': 86,\n",
              "    'latitude': '40.4092970',\n",
              "    'light': 0,\n",
              "    'longitude': '-3.6919870',\n",
              "    'name': 'Cuesta de Moyano',\n",
              "    'no_available': 0,\n",
              "    'number': '81',\n",
              "    'reservations_count': 0,\n",
              "    'total_bases': 24},\n",
              "   {'activate': 1,\n",
              "    'address': 'Calle Doctor Esquerdo n� 161',\n",
              "    'dock_bikes': 9,\n",
              "    'free_bases': 14,\n",
              "    'id': 87,\n",
              "    'latitude': '40.4084556',\n",
              "    'light': 2,\n",
              "    'longitude': '-3.6697526',\n",
              "    'name': 'Ni�o Jes�s',\n",
              "    'no_available': 0,\n",
              "    'number': '82',\n",
              "    'reservations_count': 0,\n",
              "    'total_bases': 24},\n",
              "   {'activate': 1,\n",
              "    'address': 'Calle P�o Baroja n� 10',\n",
              "    'dock_bikes': 18,\n",
              "    'free_bases': 6,\n",
              "    'id': 88,\n",
              "    'latitude': '40.4130243',\n",
              "    'light': 1,\n",
              "    'longitude': '-3.6751105',\n",
              "    'name': 'P�o Baroja',\n",
              "    'no_available': 0,\n",
              "    'number': '83',\n",
              "    'reservations_count': 0,\n",
              "    'total_bases': 24},\n",
              "   {'activate': 1,\n",
              "    'address': 'Calle Doctor Esquerdo n� 191',\n",
              "    'dock_bikes': 5,\n",
              "    'free_bases': 18,\n",
              "    'id': 89,\n",
              "    'latitude': '40.4032501',\n",
              "    'light': 0,\n",
              "    'longitude': '-3.6726019',\n",
              "    'name': 'Valderribas',\n",
              "    'no_available': 0,\n",
              "    'number': '84',\n",
              "    'reservations_count': 0,\n",
              "    'total_bases': 24},\n",
              "   {'activate': 1,\n",
              "    'address': 'Avenida de Men�ndez Pelayo n� 11',\n",
              "    'dock_bikes': 20,\n",
              "    'free_bases': 7,\n",
              "    'id': 90,\n",
              "    'latitude': '40.4215010',\n",
              "    'light': 1,\n",
              "    'longitude': '-3.6800080',\n",
              "    'name': 'Puerta de Madrid',\n",
              "    'no_available': 0,\n",
              "    'number': '85',\n",
              "    'reservations_count': 0,\n",
              "    'total_bases': 27},\n",
              "   {'activate': 1,\n",
              "    'address': 'Paseo del Prado n� 1',\n",
              "    'dock_bikes': 11,\n",
              "    'free_bases': 9,\n",
              "    'id': 91,\n",
              "    'latitude': '40.4186148',\n",
              "    'light': 2,\n",
              "    'longitude': '-3.6926217',\n",
              "    'name': 'Cibeles',\n",
              "    'no_available': 0,\n",
              "    'number': '86',\n",
              "    'reservations_count': 0,\n",
              "    'total_bases': 21},\n",
              "   {'activate': 1,\n",
              "    'address': 'Calle Ayala n� 44',\n",
              "    'dock_bikes': 7,\n",
              "    'free_bases': 16,\n",
              "    'id': 92,\n",
              "    'latitude': '40.4277360',\n",
              "    'light': 0,\n",
              "    'longitude': '-3.6832566',\n",
              "    'name': 'Ayala',\n",
              "    'no_available': 0,\n",
              "    'number': '87',\n",
              "    'reservations_count': 0,\n",
              "    'total_bases': 24},\n",
              "   {'activate': 1,\n",
              "    'address': 'Calle Vel�zquez n� 75',\n",
              "    'dock_bikes': 5,\n",
              "    'free_bases': 19,\n",
              "    'id': 93,\n",
              "    'latitude': '40.4313576',\n",
              "    'light': 0,\n",
              "    'longitude': '-3.6838303',\n",
              "    'name': 'Embajada de Italia',\n",
              "    'no_available': 0,\n",
              "    'number': '88',\n",
              "    'reservations_count': 0,\n",
              "    'total_bases': 24},\n",
              "   {'activate': 1,\n",
              "    'address': 'Calle Ayala n� 102',\n",
              "    'dock_bikes': 13,\n",
              "    'free_bases': 10,\n",
              "    'id': 94,\n",
              "    'latitude': '40.4272582',\n",
              "    'light': 2,\n",
              "    'longitude': '-3.6752024',\n",
              "    'name': 'Conde Pe�alver',\n",
              "    'no_available': 0,\n",
              "    'number': '89',\n",
              "    'reservations_count': 0,\n",
              "    'total_bases': 24},\n",
              "   {'activate': 1,\n",
              "    'address': 'Calle Goya n� 18',\n",
              "    'dock_bikes': 6,\n",
              "    'free_bases': 23,\n",
              "    'id': 95,\n",
              "    'latitude': '40.4250361',\n",
              "    'light': 0,\n",
              "    'longitude': '-3.6837876',\n",
              "    'name': 'General Pardi�as',\n",
              "    'no_available': 0,\n",
              "    'number': '90',\n",
              "    'reservations_count': 0,\n",
              "    'total_bases': 30},\n",
              "   {'activate': 1,\n",
              "    'address': 'Calle Hermosilla n� 70',\n",
              "    'dock_bikes': 10,\n",
              "    'free_bases': 13,\n",
              "    'id': 96,\n",
              "    'latitude': '40.4261340',\n",
              "    'light': 2,\n",
              "    'longitude': '-3.6787441',\n",
              "    'name': 'Pr�ncipe de Vergara',\n",
              "    'no_available': 0,\n",
              "    'number': '91',\n",
              "    'reservations_count': 0,\n",
              "    'total_bases': 24},\n",
              "   {'activate': 1,\n",
              "    'address': 'Calle Claudio Coello n� 45',\n",
              "    'dock_bikes': 8,\n",
              "    'free_bases': 16,\n",
              "    'id': 97,\n",
              "    'latitude': '40.4262945',\n",
              "    'light': 2,\n",
              "    'longitude': '-3.6865463',\n",
              "    'name': 'Claudio Coello',\n",
              "    'no_available': 0,\n",
              "    'number': '92',\n",
              "    'reservations_count': 0,\n",
              "    'total_bases': 24},\n",
              "   {'activate': 1,\n",
              "    'address': 'Calle Goya n� 1',\n",
              "    'dock_bikes': 0,\n",
              "    'free_bases': 23,\n",
              "    'id': 98,\n",
              "    'latitude': '40.4257046',\n",
              "    'light': 0,\n",
              "    'longitude': '-3.6893698',\n",
              "    'name': 'Plaza de Col�n',\n",
              "    'no_available': 0,\n",
              "    'number': '93',\n",
              "    'reservations_count': 0,\n",
              "    'total_bases': 24},\n",
              "   {'activate': 1,\n",
              "    'address': 'Paseo de Recoletos n� 32-34',\n",
              "    'dock_bikes': 0,\n",
              "    'free_bases': 20,\n",
              "    'id': 99,\n",
              "    'latitude': '40.4226990',\n",
              "    'light': 0,\n",
              "    'longitude': '-3.6909648',\n",
              "    'name': 'Biblioteca Nacional',\n",
              "    'no_available': 0,\n",
              "    'number': '94',\n",
              "    'reservations_count': 0,\n",
              "    'total_bases': 21},\n",
              "   {'activate': 1,\n",
              "    'address': 'Calle Claudio Coello n� 109',\n",
              "    'dock_bikes': 7,\n",
              "    'free_bases': 17,\n",
              "    'id': 100,\n",
              "    'latitude': '40.4226584',\n",
              "    'light': 0,\n",
              "    'longitude': '-3.6870548',\n",
              "    'name': 'Villanueva',\n",
              "    'no_available': 0,\n",
              "    'number': '95',\n",
              "    'reservations_count': 0,\n",
              "    'total_bases': 24},\n",
              "   {'activate': 1,\n",
              "    'address': 'Calle Alcal� n� 111',\n",
              "    'dock_bikes': 12,\n",
              "    'free_bases': 14,\n",
              "    'id': 101,\n",
              "    'latitude': '40.4220640',\n",
              "    'light': 2,\n",
              "    'longitude': '-3.6821793',\n",
              "    'name': 'Castell�',\n",
              "    'no_available': 0,\n",
              "    'number': '96',\n",
              "    'reservations_count': 0,\n",
              "    'total_bases': 27},\n",
              "   {'activate': 1,\n",
              "    'address': 'Avenida de Men�ndez Pelayo n� 3',\n",
              "    'dock_bikes': 8,\n",
              "    'free_bases': 18,\n",
              "    'id': 102,\n",
              "    'latitude': '40.4226906',\n",
              "    'light': 0,\n",
              "    'longitude': '-3.6801307',\n",
              "    'name': 'Alcal�',\n",
              "    'no_available': 0,\n",
              "    'number': '97',\n",
              "    'reservations_count': 0,\n",
              "    'total_bases': 27},\n",
              "   {'activate': 1,\n",
              "    'address': 'Plaza de Felipe II',\n",
              "    'dock_bikes': 10,\n",
              "    'free_bases': 13,\n",
              "    'id': 103,\n",
              "    'latitude': '40.4242625',\n",
              "    'light': 2,\n",
              "    'longitude': '-3.6753567',\n",
              "    'name': 'Plaza de Felipe II',\n",
              "    'no_available': 0,\n",
              "    'number': '98',\n",
              "    'reservations_count': 0,\n",
              "    'total_bases': 24},\n",
              "   {'activate': 1,\n",
              "    'address': 'Calle Alc�ntara n� 2',\n",
              "    'dock_bikes': 16,\n",
              "    'free_bases': 8,\n",
              "    'id': 104,\n",
              "    'latitude': '40.4261851',\n",
              "    'light': 2,\n",
              "    'longitude': '-3.6738714',\n",
              "    'name': 'Alc�ntara',\n",
              "    'no_available': 0,\n",
              "    'number': '99',\n",
              "    'reservations_count': 0,\n",
              "    'total_bases': 24},\n",
              "   {'activate': 1,\n",
              "    'address': 'Calle Goya n� 99',\n",
              "    'dock_bikes': 6,\n",
              "    'free_bases': 17,\n",
              "    'id': 105,\n",
              "    'latitude': '40.4248457',\n",
              "    'light': 0,\n",
              "    'longitude': '-3.6738635',\n",
              "    'name': 'Palacio de Deportes',\n",
              "    'no_available': 0,\n",
              "    'number': '100',\n",
              "    'reservations_count': 0,\n",
              "    'total_bases': 24},\n",
              "   {'activate': 1,\n",
              "    'address': 'Calle Jorge Juan n� 131',\n",
              "    'dock_bikes': 14,\n",
              "    'free_bases': 10,\n",
              "    'id': 106,\n",
              "    'latitude': '40.4231526',\n",
              "    'light': 2,\n",
              "    'longitude': '-3.6691523',\n",
              "    'name': 'Jorge Juan',\n",
              "    'no_available': 0,\n",
              "    'number': '101',\n",
              "    'reservations_count': 0,\n",
              "    'total_bases': 24},\n",
              "   {'activate': 1,\n",
              "    'address': 'Calle Alcal� n� 95',\n",
              "    'dock_bikes': 9,\n",
              "    'free_bases': 15,\n",
              "    'id': 107,\n",
              "    'latitude': '40.4211802',\n",
              "    'light': 2,\n",
              "    'longitude': '-3.6840229',\n",
              "    'name': 'Vel�zquez',\n",
              "    'no_available': 0,\n",
              "    'number': '102',\n",
              "    'reservations_count': 0,\n",
              "    'total_bases': 24},\n",
              "   {'activate': 1,\n",
              "    'address': 'Calle Ortega y Gasset n� 6',\n",
              "    'dock_bikes': 14,\n",
              "    'free_bases': 10,\n",
              "    'id': 108,\n",
              "    'latitude': '40.4303057',\n",
              "    'light': 2,\n",
              "    'longitude': '-3.6865654',\n",
              "    'name': 'Ortega y Gasset',\n",
              "    'no_available': 0,\n",
              "    'number': '103',\n",
              "    'reservations_count': 0,\n",
              "    'total_bases': 24},\n",
              "   {'activate': 1,\n",
              "    'address': 'Paseo de la Castellana n� 4',\n",
              "    'dock_bikes': 8,\n",
              "    'free_bases': 13,\n",
              "    'id': 109,\n",
              "    'latitude': '40.4268331',\n",
              "    'light': 2,\n",
              "    'longitude': '-3.6895336',\n",
              "    'name': 'Castellana',\n",
              "    'no_available': 0,\n",
              "    'number': '104',\n",
              "    'reservations_count': 0,\n",
              "    'total_bases': 21},\n",
              "   {'activate': 1,\n",
              "    'address': 'Calle Serrano n� 54',\n",
              "    'dock_bikes': 5,\n",
              "    'free_bases': 19,\n",
              "    'id': 110,\n",
              "    'latitude': '40.4267905',\n",
              "    'light': 0,\n",
              "    'longitude': '-3.6873922',\n",
              "    'name': 'Serrano',\n",
              "    'no_available': 0,\n",
              "    'number': '105',\n",
              "    'reservations_count': 0,\n",
              "    'total_bases': 24},\n",
              "   {'activate': 1,\n",
              "    'address': 'Calle Serrano n� 34',\n",
              "    'dock_bikes': 2,\n",
              "    'free_bases': 16,\n",
              "    'id': 111,\n",
              "    'latitude': '40.4251002',\n",
              "    'light': 0,\n",
              "    'longitude': '-3.6877227',\n",
              "    'name': 'Col�n A',\n",
              "    'no_available': 0,\n",
              "    'number': '106a',\n",
              "    'reservations_count': 0,\n",
              "    'total_bases': 18},\n",
              "   {'activate': 1,\n",
              "    'address': 'Calle Serrano n� 34',\n",
              "    'dock_bikes': 1,\n",
              "    'free_bases': 17,\n",
              "    'id': 112,\n",
              "    'latitude': '40.4249630',\n",
              "    'light': 0,\n",
              "    'longitude': '-3.6877450',\n",
              "    'name': 'Col�n B',\n",
              "    'no_available': 0,\n",
              "    'number': '106b',\n",
              "    'reservations_count': 0,\n",
              "    'total_bases': 18},\n",
              "   {'activate': 1,\n",
              "    'address': 'Calle Serrano n� 6',\n",
              "    'dock_bikes': 1,\n",
              "    'free_bases': 22,\n",
              "    'id': 113,\n",
              "    'latitude': '40.4215246',\n",
              "    'light': 0,\n",
              "    'longitude': '-3.6884369',\n",
              "    'name': 'Columela',\n",
              "    'no_available': 0,\n",
              "    'number': '107',\n",
              "    'reservations_count': 0,\n",
              "    'total_bases': 24},\n",
              "   {'activate': 1,\n",
              "    'address': 'Calle M�rtires Concepcionistas n� 2',\n",
              "    'dock_bikes': 22,\n",
              "    'free_bases': 3,\n",
              "    'id': 114,\n",
              "    'latitude': '40.4273005',\n",
              "    'light': 1,\n",
              "    'longitude': '-3.6706024',\n",
              "    'name': 'M�rtires Concepcionistas',\n",
              "    'no_available': 0,\n",
              "    'number': '108',\n",
              "    'reservations_count': 0,\n",
              "    'total_bases': 27},\n",
              "   {'activate': 1,\n",
              "    'address': 'Calle Jos� Ortega y Gasset n� 30',\n",
              "    'dock_bikes': 9,\n",
              "    'free_bases': 13,\n",
              "    'id': 115,\n",
              "    'latitude': '40.4300481',\n",
              "    'light': 2,\n",
              "    'longitude': '-3.6816402',\n",
              "    'name': 'Marqu�s de Salamanca',\n",
              "    'no_available': 0,\n",
              "    'number': '109',\n",
              "    'reservations_count': 0,\n",
              "    'total_bases': 24},\n",
              "   {'activate': 1,\n",
              "    'address': 'Paseo de Moret n� 2',\n",
              "    'dock_bikes': 23,\n",
              "    'free_bases': 1,\n",
              "    'id': 116,\n",
              "    'latitude': '40.4344969',\n",
              "    'light': 1,\n",
              "    'longitude': '-3.7206893',\n",
              "    'name': 'Moncloa',\n",
              "    'no_available': 0,\n",
              "    'number': '110',\n",
              "    'reservations_count': 0,\n",
              "    'total_bases': 24},\n",
              "   {'activate': 1,\n",
              "    'address': 'Calle Arcipreste de Hita n� 12',\n",
              "    'dock_bikes': 19,\n",
              "    'free_bases': 5,\n",
              "    'id': 117,\n",
              "    'latitude': '40.4337322',\n",
              "    'light': 1,\n",
              "    'longitude': '-3.7175435',\n",
              "    'name': 'Arcipreste de Hita A',\n",
              "    'no_available': 0,\n",
              "    'number': '111a',\n",
              "    'reservations_count': 0,\n",
              "    'total_bases': 24},\n",
              "   {'activate': 1,\n",
              "    'address': 'Calle Arcipreste de Hita n� 12',\n",
              "    'dock_bikes': 22,\n",
              "    'free_bases': 1,\n",
              "    'id': 118,\n",
              "    'latitude': '40.4337036',\n",
              "    'light': 1,\n",
              "    'longitude': '-3.7175115',\n",
              "    'name': 'Arcipreste de Hita B',\n",
              "    'no_available': 0,\n",
              "    'number': '111b',\n",
              "    'reservations_count': 0,\n",
              "    'total_bases': 24},\n",
              "   {'activate': 1,\n",
              "    'address': 'Paseo de Moret n� 11',\n",
              "    'dock_bikes': 16,\n",
              "    'free_bases': 7,\n",
              "    'id': 119,\n",
              "    'latitude': '40.4325991',\n",
              "    'light': 2,\n",
              "    'longitude': '-3.7246532',\n",
              "    'name': 'Paseo de Moret',\n",
              "    'no_available': 0,\n",
              "    'number': '112',\n",
              "    'reservations_count': 0,\n",
              "    'total_bases': 24},\n",
              "   {'activate': 1,\n",
              "    'address': 'Paseo del Pintor Rosales n� 38',\n",
              "    'dock_bikes': 16,\n",
              "    'free_bases': 7,\n",
              "    'id': 120,\n",
              "    'latitude': '40.4276570',\n",
              "    'light': 2,\n",
              "    'longitude': '-3.7205129',\n",
              "    'name': 'Pintor Rosales',\n",
              "    'no_available': 0,\n",
              "    'number': '113',\n",
              "    'reservations_count': 0,\n",
              "    'total_bases': 24},\n",
              "   {'activate': 1,\n",
              "    'address': 'Calle Quintana n� 11-13',\n",
              "    'dock_bikes': 6,\n",
              "    'free_bases': 18,\n",
              "    'id': 121,\n",
              "    'latitude': '40.4277456',\n",
              "    'light': 0,\n",
              "    'longitude': '-3.7174158',\n",
              "    'name': 'Quintana',\n",
              "    'no_available': 0,\n",
              "    'number': '114',\n",
              "    'reservations_count': 0,\n",
              "    'total_bases': 24},\n",
              "   {'activate': 1,\n",
              "    'address': 'Calle Evaristo San Miguel n� 2',\n",
              "    'dock_bikes': 15,\n",
              "    'free_bases': 9,\n",
              "    'id': 122,\n",
              "    'latitude': '40.4253944',\n",
              "    'light': 2,\n",
              "    'longitude': '-3.7170448',\n",
              "    'name': 'Ferraz',\n",
              "    'no_available': 0,\n",
              "    'number': '115',\n",
              "    'reservations_count': 0,\n",
              "    'total_bases': 24},\n",
              "   {'activate': 1,\n",
              "    'address': 'Plaza de Espa�a',\n",
              "    'dock_bikes': 9,\n",
              "    'free_bases': 15,\n",
              "    'id': 123,\n",
              "    'latitude': '40.4240200',\n",
              "    'light': 2,\n",
              "    'longitude': '-3.7116030',\n",
              "    'name': 'Plaza de Espa�a A',\n",
              "    'no_available': 0,\n",
              "    'number': '116a',\n",
              "    'reservations_count': 0,\n",
              "    'total_bases': 24},\n",
              "   {'activate': 1,\n",
              "    'address': 'Plaza de Espa�a',\n",
              "    'dock_bikes': 9,\n",
              "    'free_bases': 14,\n",
              "    'id': 124,\n",
              "    'latitude': '40.4241200',\n",
              "    'light': 2,\n",
              "    'longitude': '-3.7117030',\n",
              "    'name': 'Plaza de Espa�a B',\n",
              "    'no_available': 0,\n",
              "    'number': '116b',\n",
              "    'reservations_count': 0,\n",
              "    'total_bases': 24},\n",
              "   {'activate': 1,\n",
              "    'address': 'Calle Altamirano n� 24',\n",
              "    'dock_bikes': 9,\n",
              "    'free_bases': 13,\n",
              "    'id': 125,\n",
              "    'latitude': '40.4309797',\n",
              "    'light': 2,\n",
              "    'longitude': '-3.7188898',\n",
              "    'name': 'Altamirano',\n",
              "    'no_available': 0,\n",
              "    'number': '117',\n",
              "    'reservations_count': 1,\n",
              "    'total_bases': 24},\n",
              "   {'activate': 1,\n",
              "    'address': 'Calle Juan Mart�n el Empecinado n� 14',\n",
              "    'dock_bikes': 14,\n",
              "    'free_bases': 8,\n",
              "    'id': 126,\n",
              "    'latitude': '40.4007810',\n",
              "    'light': 2,\n",
              "    'longitude': '-3.6882407',\n",
              "    'name': 'Juan Mart�n',\n",
              "    'no_available': 0,\n",
              "    'number': '118',\n",
              "    'reservations_count': 0,\n",
              "    'total_bases': 24},\n",
              "   {'activate': 1,\n",
              "    'address': 'Calle M�ndez �lvaro n� 11',\n",
              "    'dock_bikes': 14,\n",
              "    'free_bases': 9,\n",
              "    'id': 127,\n",
              "    'latitude': '40.4013216',\n",
              "    'light': 2,\n",
              "    'longitude': '-3.6863218',\n",
              "    'name': 'M�ndez �lvaro',\n",
              "    'no_available': 0,\n",
              "    'number': '119',\n",
              "    'reservations_count': 0,\n",
              "    'total_bases': 24},\n",
              "   {'activate': 1,\n",
              "    'address': 'Calle Palos de la Frontera n� 40',\n",
              "    'dock_bikes': 9,\n",
              "    'free_bases': 14,\n",
              "    'id': 128,\n",
              "    'latitude': '40.4032208',\n",
              "    'light': 2,\n",
              "    'longitude': '-3.6944768',\n",
              "    'name': 'Palos de la Frontera',\n",
              "    'no_available': 0,\n",
              "    'number': '120',\n",
              "    'reservations_count': 1,\n",
              "    'total_bases': 24},\n",
              "   {'activate': 1,\n",
              "    'address': 'Paseo de Santa Mar�a de la Cabeza n� 58',\n",
              "    'dock_bikes': 22,\n",
              "    'free_bases': 1,\n",
              "    'id': 129,\n",
              "    'latitude': '40.4017926',\n",
              "    'light': 1,\n",
              "    'longitude': '-3.6987665',\n",
              "    'name': 'Santa Mar�a de la Cabeza',\n",
              "    'no_available': 0,\n",
              "    'number': '121',\n",
              "    'reservations_count': 0,\n",
              "    'total_bases': 24},\n",
              "   {'activate': 1,\n",
              "    'address': 'Calle Santa Engracia n� 14',\n",
              "    'dock_bikes': 13,\n",
              "    'free_bases': 11,\n",
              "    'id': 130,\n",
              "    'latitude': '40.4295863',\n",
              "    'light': 2,\n",
              "    'longitude': '-3.6963983',\n",
              "    'name': 'Santa Engracia 14',\n",
              "    'no_available': 0,\n",
              "    'number': '122',\n",
              "    'reservations_count': 0,\n",
              "    'total_bases': 24},\n",
              "   {'activate': 1,\n",
              "    'address': 'Calle Guzm�n el Bueno n� 2',\n",
              "    'dock_bikes': 9,\n",
              "    'free_bases': 14,\n",
              "    'id': 131,\n",
              "    'latitude': '40.4306458',\n",
              "    'light': 2,\n",
              "    'longitude': '-3.7133412',\n",
              "    'name': 'Guzm�n el Bueno',\n",
              "    'no_available': 0,\n",
              "    'number': '123',\n",
              "    'reservations_count': 0,\n",
              "    'total_bases': 24},\n",
              "   {'activate': 1,\n",
              "    'address': 'Calle Manuel Silvela n� 20',\n",
              "    'dock_bikes': 5,\n",
              "    'free_bases': 15,\n",
              "    'id': 169,\n",
              "    'latitude': '40.4309524',\n",
              "    'light': 0,\n",
              "    'longitude': '-3.6993465',\n",
              "    'name': 'Manuel Silvela',\n",
              "    'no_available': 0,\n",
              "    'number': '124',\n",
              "    'reservations_count': 0,\n",
              "    'total_bases': 24},\n",
              "   {'activate': 1,\n",
              "    'address': 'Calle Fern�ndez de la Hoz n� 29',\n",
              "    'dock_bikes': 9,\n",
              "    'free_bases': 15,\n",
              "    'id': 164,\n",
              "    'latitude': '40.4352850',\n",
              "    'light': 2,\n",
              "    'longitude': '-3.6948626',\n",
              "    'name': 'General Mart�nez Campos ',\n",
              "    'no_available': 0,\n",
              "    'number': '125',\n",
              "    'reservations_count': 0,\n",
              "    'total_bases': 24},\n",
              "   {'activate': 1,\n",
              "    'address': 'Calle del General �lvarez de Castro n� 2',\n",
              "    'dock_bikes': 2,\n",
              "    'free_bases': 20,\n",
              "    'id': 163,\n",
              "    'latitude': '40.4344731',\n",
              "    'light': 0,\n",
              "    'longitude': '-3.7015686',\n",
              "    'name': 'General �lvarez de Castro',\n",
              "    'no_available': 0,\n",
              "    'number': '126',\n",
              "    'reservations_count': 0,\n",
              "    'total_bases': 24},\n",
              "   {'activate': 1,\n",
              "    'address': 'Calle Fernando el Cat�lico n� 19',\n",
              "    'dock_bikes': 9,\n",
              "    'free_bases': 14,\n",
              "    'id': 168,\n",
              "    'latitude': '40.4338516',\n",
              "    'light': 2,\n",
              "    'longitude': '-3.7084390',\n",
              "    'name': 'Fernando el Cat�lico',\n",
              "    'no_available': 0,\n",
              "    'number': '127',\n",
              "    'reservations_count': 0,\n",
              "    'total_bases': 24},\n",
              "   {'activate': 1,\n",
              "    'address': 'Calle Cea Berm�dez n� 59',\n",
              "    'dock_bikes': 23,\n",
              "    'free_bases': 3,\n",
              "    'id': 160,\n",
              "    'latitude': '40.4389940',\n",
              "    'light': 1,\n",
              "    'longitude': '-3.7154329',\n",
              "    'name': 'Cea Berm�dez',\n",
              "    'no_available': 0,\n",
              "    'number': '128',\n",
              "    'reservations_count': 0,\n",
              "    'total_bases': 27},\n",
              "   {'activate': 1,\n",
              "    'address': 'Calle Jos� Abascal n� 33',\n",
              "    'dock_bikes': 21,\n",
              "    'free_bases': 2,\n",
              "    'id': 161,\n",
              "    'latitude': '40.4385316',\n",
              "    'light': 1,\n",
              "    'longitude': '-3.6982209',\n",
              "    'name': 'Jos� Abascal',\n",
              "    'no_available': 0,\n",
              "    'number': '129',\n",
              "    'reservations_count': 0,\n",
              "    'total_bases': 24},\n",
              "   {'activate': 1,\n",
              "    'address': 'Calle Santa Engracia n� 127',\n",
              "    'dock_bikes': 15,\n",
              "    'free_bases': 5,\n",
              "    'id': 157,\n",
              "    'latitude': '40.4413860',\n",
              "    'light': 1,\n",
              "    'longitude': '-3.7016321',\n",
              "    'name': 'Santa Engracia 127',\n",
              "    'no_available': 0,\n",
              "    'number': '130',\n",
              "    'reservations_count': 0,\n",
              "    'total_bases': 20},\n",
              "   {'activate': 1,\n",
              "    'address': 'Calle Bravo Murillo n� 44',\n",
              "    'dock_bikes': 8,\n",
              "    'free_bases': 16,\n",
              "    'id': 156,\n",
              "    'latitude': '40.4412115',\n",
              "    'light': 2,\n",
              "    'longitude': '-3.7039582',\n",
              "    'name': 'Bravo Murillo 44',\n",
              "    'no_available': 0,\n",
              "    'number': '131',\n",
              "    'reservations_count': 0,\n",
              "    'total_bases': 24},\n",
              "   {'activate': 1,\n",
              "    'address': 'Calle Santa Engracia n� 168',\n",
              "    'dock_bikes': 6,\n",
              "    'free_bases': 18,\n",
              "    'id': 149,\n",
              "    'latitude': '40.4463667',\n",
              "    'light': 0,\n",
              "    'longitude': '-3.7036675',\n",
              "    'name': 'Glorieta de los Cuatro Caminos',\n",
              "    'no_available': 0,\n",
              "    'number': '132',\n",
              "    'reservations_count': 0,\n",
              "    'total_bases': 24},\n",
              "   {'activate': 1,\n",
              "    'address': 'Calle Raimundo Fern�ndez Villaverde n� 33-35',\n",
              "    'dock_bikes': 12,\n",
              "    'free_bases': 7,\n",
              "    'id': 150,\n",
              "    'latitude': '40.4471250',\n",
              "    'light': 2,\n",
              "    'longitude': '-3.7001669',\n",
              "    'name': 'Raimundo Fern�ndez',\n",
              "    'no_available': 0,\n",
              "    'number': '133',\n",
              "    'reservations_count': 0,\n",
              "    'total_bases': 24},\n",
              "   {'activate': 1,\n",
              "    'address': 'Calle Mar�a de Guzm�n n� 58',\n",
              "    'dock_bikes': 21,\n",
              "    'free_bases': 3,\n",
              "    'id': 153,\n",
              "    'latitude': '40.4440297',\n",
              "    'light': 1,\n",
              "    'longitude': '-3.6956047',\n",
              "    'name': 'Agust�n de Betancourt',\n",
              "    'no_available': 0,\n",
              "    'number': '134',\n",
              "    'reservations_count': 0,\n",
              "    'total_bases': 24},\n",
              "   {'activate': 1,\n",
              "    'address': 'Plaza de San Juan de la Cruz n� 11',\n",
              "    'dock_bikes': 18,\n",
              "    'free_bases': 5,\n",
              "    'id': 158,\n",
              "    'latitude': '40.4415974',\n",
              "    'light': 1,\n",
              "    'longitude': '-3.6927821',\n",
              "    'name': 'Plaza de San Juan de la Cruz',\n",
              "    'no_available': 0,\n",
              "    'number': '135',\n",
              "    'reservations_count': 0,\n",
              "    'total_bases': 24},\n",
              "   {'activate': 1,\n",
              "    'address': 'Paseo de la Castellana n� 106',\n",
              "    'dock_bikes': 17,\n",
              "    'free_bases': 6,\n",
              "    'id': 151,\n",
              "    'latitude': '40.4453307',\n",
              "    'light': 1,\n",
              "    'longitude': '-3.6908610',\n",
              "    'name': 'Castellana 106',\n",
              "    'no_available': 0,\n",
              "    'number': '136',\n",
              "    'reservations_count': 0,\n",
              "    'total_bases': 24},\n",
              "   {'activate': 1,\n",
              "    'address': 'Plaza de la Rep�blica Argentina n� 6-7',\n",
              "    'dock_bikes': 6,\n",
              "    'free_bases': 15,\n",
              "    'id': 152,\n",
              "    'latitude': '40.4454110',\n",
              "    'light': 0,\n",
              "    'longitude': '-3.6853312',\n",
              "    'name': 'Plaza de la Rep�blica Argentina',\n",
              "    'no_available': 0,\n",
              "    'number': '137',\n",
              "    'reservations_count': 0,\n",
              "    'total_bases': 24},\n",
              "   {'activate': 1,\n",
              "    'address': 'Paseo de la Castellana n� 67',\n",
              "    'dock_bikes': 13,\n",
              "    'free_bases': 11,\n",
              "    'id': 154,\n",
              "    'latitude': '40.4457414',\n",
              "    'light': 2,\n",
              "    'longitude': '-3.6917932',\n",
              "    'name': 'Paseo de la Castellana con Raimundo Fern�ndez',\n",
              "    'no_available': 0,\n",
              "    'number': '138',\n",
              "    'reservations_count': 0,\n",
              "    'total_bases': 24},\n",
              "   {'activate': 1,\n",
              "    'address': 'Calle Jos� Guti�rrez Abascal n� 2',\n",
              "    'dock_bikes': 12,\n",
              "    'free_bases': 12,\n",
              "    'id': 159,\n",
              "    'latitude': '40.4396792',\n",
              "    'light': 2,\n",
              "    'longitude': '-3.6907784',\n",
              "    'name': 'Jos� Guti�rrez Abascal ',\n",
              "    'no_available': 0,\n",
              "    'number': '139',\n",
              "    'reservations_count': 0,\n",
              "    'total_bases': 24},\n",
              "   {'activate': 1,\n",
              "    'address': 'Calle Vel�zquez n� 130',\n",
              "    'dock_bikes': 8,\n",
              "    'free_bases': 14,\n",
              "    'id': 162,\n",
              "    'latitude': '40.4379444',\n",
              "    'light': 2,\n",
              "    'longitude': '-3.6828620',\n",
              "    'name': 'Vel�zquez 130',\n",
              "    'no_available': 0,\n",
              "    'number': '140',\n",
              "    'reservations_count': 0,\n",
              "    'total_bases': 24},\n",
              "   {'activate': 1,\n",
              "    'address': 'Paseo de la Castellana n� 43',\n",
              "    'dock_bikes': 1,\n",
              "    'free_bases': 11,\n",
              "    'id': 165,\n",
              "    'latitude': '40.4355143',\n",
              "    'light': 0,\n",
              "    'longitude': '-3.6892368',\n",
              "    'name': 'P� Castellana - Glorieta de Emilio Castelar',\n",
              "    'no_available': 0,\n",
              "    'number': '141',\n",
              "    'reservations_count': 0,\n",
              "    'total_bases': 12},\n",
              "   {'activate': 1,\n",
              "    'address': 'Paseo de la Castellana n� 42',\n",
              "    'dock_bikes': 3,\n",
              "    'free_bases': 21,\n",
              "    'id': 167,\n",
              "    'latitude': '40.4334087',\n",
              "    'light': 0,\n",
              "    'longitude': '-3.6879154',\n",
              "    'name': 'Castellana 42',\n",
              "    'no_available': 0,\n",
              "    'number': '142',\n",
              "    'reservations_count': 0,\n",
              "    'total_bases': 24},\n",
              "   {'activate': 1,\n",
              "    'address': 'Calle Diego de Le�n n� 52',\n",
              "    'dock_bikes': 10,\n",
              "    'free_bases': 14,\n",
              "    'id': 166,\n",
              "    'latitude': '40.4345973',\n",
              "    'light': 2,\n",
              "    'longitude': '-3.6784920',\n",
              "    'name': 'Diego de Le�n 52',\n",
              "    'no_available': 0,\n",
              "    'number': '143',\n",
              "    'reservations_count': 0,\n",
              "    'total_bases': 24},\n",
              "   {'activate': 1,\n",
              "    'address': 'Calle Juan Bravo n� 50',\n",
              "    'dock_bikes': 8,\n",
              "    'free_bases': 16,\n",
              "    'id': 170,\n",
              "    'latitude': '40.4323655',\n",
              "    'light': 2,\n",
              "    'longitude': '-3.6758555',\n",
              "    'name': 'Juan Bravo 50',\n",
              "    'no_available': 0,\n",
              "    'number': '144',\n",
              "    'reservations_count': 0,\n",
              "    'total_bases': 24},\n",
              "   {'activate': 1,\n",
              "    'address': 'Calle Ortega y Gasset n� 87',\n",
              "    'dock_bikes': 21,\n",
              "    'free_bases': 2,\n",
              "    'id': 171,\n",
              "    'latitude': '40.4298870',\n",
              "    'light': 1,\n",
              "    'longitude': '-3.6712823',\n",
              "    'name': 'Ortega y Gasset 87',\n",
              "    'no_available': 0,\n",
              "    'number': '145',\n",
              "    'reservations_count': 0,\n",
              "    'total_bases': 24},\n",
              "   {'activate': 1,\n",
              "    'address': 'Calle Mar�a Francisca n� 1',\n",
              "    'dock_bikes': 12,\n",
              "    'free_bases': 6,\n",
              "    'id': 155,\n",
              "    'latitude': '40.4442258',\n",
              "    'light': 2,\n",
              "    'longitude': '-3.6787169',\n",
              "    'name': 'Mar�a Francisca 1',\n",
              "    'no_available': 0,\n",
              "    'number': '146',\n",
              "    'reservations_count': 0,\n",
              "    'total_bases': 18},\n",
              "   {'activate': 1,\n",
              "    'address': 'Avenida del Doctor Arce n� 45',\n",
              "    'dock_bikes': 14,\n",
              "    'free_bases': 9,\n",
              "    'id': 148,\n",
              "    'latitude': '40.4483269',\n",
              "    'light': 2,\n",
              "    'longitude': '-3.6797296',\n",
              "    'name': 'Doctor Arce 45',\n",
              "    'no_available': 0,\n",
              "    'number': '147',\n",
              "    'reservations_count': 0,\n",
              "    'total_bases': 24},\n",
              "   {'activate': 1,\n",
              "    'address': 'Calle Serrano n� 210',\n",
              "    'dock_bikes': 0,\n",
              "    'free_bases': 24,\n",
              "    'id': 144,\n",
              "    'latitude': '40.4510188',\n",
              "    'light': 0,\n",
              "    'longitude': '-3.6817962',\n",
              "    'name': 'Serrano 210',\n",
              "    'no_available': 0,\n",
              "    'number': '148',\n",
              "    'reservations_count': 0,\n",
              "    'total_bases': 24},\n",
              "   {'activate': 1,\n",
              "    'address': 'Paseo de la Habana n� 42',\n",
              "    'dock_bikes': 10,\n",
              "    'free_bases': 13,\n",
              "    'id': 146,\n",
              "    'latitude': '40.4498613',\n",
              "    'light': 2,\n",
              "    'longitude': '-3.6881689',\n",
              "    'name': 'Paseo de la Habana 42',\n",
              "    'no_available': 0,\n",
              "    'number': '149',\n",
              "    'reservations_count': 0,\n",
              "    'total_bases': 24},\n",
              "   {'activate': 1,\n",
              "    'address': 'Paseo de la Castellana n� 124',\n",
              "    'dock_bikes': 13,\n",
              "    'free_bases': 11,\n",
              "    'id': 147,\n",
              "    'latitude': '40.4488924',\n",
              "    'light': 2,\n",
              "    'longitude': '-3.6905604',\n",
              "    'name': 'Castellana frente a Hermanos Pinz�n',\n",
              "    'no_available': 0,\n",
              "    'number': '150',\n",
              "    'reservations_count': 0,\n",
              "    'total_bases': 24},\n",
              "   {'activate': 1,\n",
              "    'address': 'Calle Orense n� 12',\n",
              "    'dock_bikes': 11,\n",
              "    'free_bases': 13,\n",
              "    'id': 145,\n",
              "    'latitude': '40.4480662',\n",
              "    'light': 2,\n",
              "    'longitude': '-3.6952860',\n",
              "    'name': 'Orense 12',\n",
              "    'no_available': 0,\n",
              "    'number': '151',\n",
              "    'reservations_count': 0,\n",
              "    'total_bases': 24},\n",
              "   {'activate': 1,\n",
              "    'address': 'Avenida del General Per�n n� 1-4',\n",
              "    'dock_bikes': 14,\n",
              "    'free_bases': 10,\n",
              "    'id': 142,\n",
              "    'latitude': '40.4527164',\n",
              "    'light': 2,\n",
              "    'longitude': '-3.6990077',\n",
              "    'name': 'General Per�n 1',\n",
              "    'no_available': 0,\n",
              "    'number': '152',\n",
              "    'reservations_count': 0,\n",
              "    'total_bases': 24},\n",
              "   {'activate': 1,\n",
              "    'address': 'Avenida del General Per�n n� 36',\n",
              "    'dock_bikes': 19,\n",
              "    'free_bases': 5,\n",
              "    'id': 143,\n",
              "    'latitude': '40.4522938',\n",
              "    'light': 1,\n",
              "    'longitude': '-3.6926510',\n",
              "    'name': 'General Per�n con Poeta Joan Maragall',\n",
              "    'no_available': 0,\n",
              "    'number': '153',\n",
              "    'reservations_count': 0,\n",
              "    'total_bases': 24},\n",
              "   {'activate': 1,\n",
              "    'address': 'Calle Orense n� 36',\n",
              "    'dock_bikes': 23,\n",
              "    'free_bases': 0,\n",
              "    'id': 141,\n",
              "    'latitude': '40.4548456',\n",
              "    'light': 1,\n",
              "    'longitude': '-3.6946218',\n",
              "    'name': 'Orense 36',\n",
              "    'no_available': 0,\n",
              "    'number': '154',\n",
              "    'reservations_count': 0,\n",
              "    'total_bases': 24},\n",
              "   {'activate': 1,\n",
              "    'address': 'Calle del General Yag�e n� 57',\n",
              "    'dock_bikes': 16,\n",
              "    'free_bases': 7,\n",
              "    'id': 139,\n",
              "    'latitude': '40.4572824',\n",
              "    'light': 1,\n",
              "    'longitude': '-3.7009675',\n",
              "    'name': 'San Germ�n',\n",
              "    'no_available': 0,\n",
              "    'number': '155',\n",
              "    'reservations_count': 0,\n",
              "    'total_bases': 24},\n",
              "   {'activate': 1,\n",
              "    'address': 'Calle Sor �ngela de la Cruz n� 2',\n",
              "    'dock_bikes': 13,\n",
              "    'free_bases': 8,\n",
              "    'id': 140,\n",
              "    'latitude': '40.4592351',\n",
              "    'light': 2,\n",
              "    'longitude': '-3.6915330',\n",
              "    'name': 'Sor �ngela de la Cruz',\n",
              "    'no_available': 0,\n",
              "    'number': '156',\n",
              "    'reservations_count': 0,\n",
              "    'total_bases': 24},\n",
              "   {'activate': 1,\n",
              "    'address': 'Paseo de la Castellana n� 164',\n",
              "    'dock_bikes': 19,\n",
              "    'free_bases': 5,\n",
              "    'id': 137,\n",
              "    'latitude': '40.4591366',\n",
              "    'light': 1,\n",
              "    'longitude': '-3.6894151',\n",
              "    'name': 'Castellana 164',\n",
              "    'no_available': 0,\n",
              "    'number': '157',\n",
              "    'reservations_count': 0,\n",
              "    'total_bases': 24},\n",
              "   {'activate': 1,\n",
              "    'address': 'Avenida de Alberto Alcocer n� 22',\n",
              "    'dock_bikes': 16,\n",
              "    'free_bases': 6,\n",
              "    'id': 138,\n",
              "    'latitude': '40.4585318',\n",
              "    'light': 1,\n",
              "    'longitude': '-3.6847150',\n",
              "    'name': 'Alberto Alcocer',\n",
              "    'no_available': 0,\n",
              "    'number': '158',\n",
              "    'reservations_count': 1,\n",
              "    'total_bases': 24},\n",
              "   {'activate': 1,\n",
              "    'address': 'Paseo de la Habana n� 63',\n",
              "    'dock_bikes': 18,\n",
              "    'free_bases': 6,\n",
              "    'id': 173,\n",
              "    'latitude': '40.4543852',\n",
              "    'light': 1,\n",
              "    'longitude': '-3.6835926',\n",
              "    'name': 'Paseo de la Habana 63',\n",
              "    'no_available': 0,\n",
              "    'number': '159',\n",
              "    'reservations_count': 0,\n",
              "    'total_bases': 24},\n",
              "   {'activate': 1,\n",
              "    'address': 'Calle Colombia n� 7',\n",
              "    'dock_bikes': 20,\n",
              "    'free_bases': 3,\n",
              "    'id': 172,\n",
              "    'latitude': '40.4572466',\n",
              "    'light': 1,\n",
              "    'longitude': '-3.6763439',\n",
              "    'name': 'Colombia',\n",
              "    'no_available': 0,\n",
              "    'number': '160',\n",
              "    'reservations_count': 0,\n",
              "    'total_bases': 24},\n",
              "   {'activate': 1,\n",
              "    'address': 'Paseo de la Florida n� 8',\n",
              "    'dock_bikes': 18,\n",
              "    'free_bases': 7,\n",
              "    'id': 132,\n",
              "    'latitude': '40.4220812',\n",
              "    'light': 1,\n",
              "    'longitude': '-3.7218482',\n",
              "    'name': 'Paseo de la Florida',\n",
              "    'no_available': 0,\n",
              "    'number': '161',\n",
              "    'reservations_count': 0,\n",
              "    'total_bases': 27},\n",
              "   {'activate': 1,\n",
              "    'address': 'Paseo de los Olmos n� 28',\n",
              "    'dock_bikes': 14,\n",
              "    'free_bases': 10,\n",
              "    'id': 133,\n",
              "    'latitude': '40.4034076',\n",
              "    'light': 2,\n",
              "    'longitude': '-3.7108108',\n",
              "    'name': 'Metro Pir�mides',\n",
              "    'no_available': 0,\n",
              "    'number': '162',\n",
              "    'reservations_count': 0,\n",
              "    'total_bases': 24},\n",
              "   {'activate': 1,\n",
              "    'address': 'Paseo de la Esperanza n� 2',\n",
              "    'dock_bikes': 12,\n",
              "    'free_bases': 9,\n",
              "    'id': 134,\n",
              "    'latitude': '40.4035988',\n",
              "    'light': 2,\n",
              "    'longitude': '-3.7064516',\n",
              "    'name': 'Paseo de la Esperanza',\n",
              "    'no_available': 0,\n",
              "    'number': '163',\n",
              "    'reservations_count': 0,\n",
              "    'total_bases': 21},\n",
              "   {'activate': 1,\n",
              "    'address': 'Paseo de las Delicias n� 92-94',\n",
              "    'dock_bikes': 16,\n",
              "    'free_bases': 8,\n",
              "    'id': 136,\n",
              "    'latitude': '40.3972616',\n",
              "    'light': 2,\n",
              "    'longitude': '-3.6945025',\n",
              "    'name': 'Paseo de las Delicias',\n",
              "    'no_available': 0,\n",
              "    'number': '164',\n",
              "    'reservations_count': 0,\n",
              "    'total_bases': 24},\n",
              "   {'activate': 1,\n",
              "    'address': 'Paseo de la Chopera n� 14',\n",
              "    'dock_bikes': 23,\n",
              "    'free_bases': 4,\n",
              "    'id': 135,\n",
              "    'latitude': '40.3919385',\n",
              "    'light': 1,\n",
              "    'longitude': '-3.6971829',\n",
              "    'name': 'Entrada Matadero',\n",
              "    'no_available': 0,\n",
              "    'number': '165',\n",
              "    'reservations_count': 0,\n",
              "    'total_bases': 27},\n",
              "   {'activate': 1,\n",
              "    'address': 'Calle Segovia, 26',\n",
              "    'dock_bikes': 15,\n",
              "    'free_bases': 9,\n",
              "    'id': 174,\n",
              "    'latitude': '40.4138333',\n",
              "    'light': 2,\n",
              "    'longitude': '-3.7135833',\n",
              "    'name': 'Segovia 26',\n",
              "    'no_available': 0,\n",
              "    'number': '166',\n",
              "    'reservations_count': 0,\n",
              "    'total_bases': 24},\n",
              "   {'activate': 1,\n",
              "    'address': 'Calle Segovia, 45',\n",
              "    'dock_bikes': 22,\n",
              "    'free_bases': 2,\n",
              "    'id': 175,\n",
              "    'latitude': '40.413736',\n",
              "    'light': 1,\n",
              "    'longitude': '-3.717487',\n",
              "    'name': 'Segovia 45',\n",
              "    'no_available': 0,\n",
              "    'number': '167',\n",
              "    'reservations_count': 0,\n",
              "    'total_bases': 24}]}]"
            ]
          },
          "metadata": {
            "tags": []
          },
          "execution_count": 76
        }
      ]
    }
  ]
}