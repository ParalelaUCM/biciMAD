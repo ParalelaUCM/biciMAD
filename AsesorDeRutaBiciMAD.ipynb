{
  "nbformat": 4,
  "nbformat_minor": 0,
  "metadata": {
    "colab": {
      "name": "Copia de AsesorDeRutaBiciMAD.ipynb",
      "provenance": [],
      "collapsed_sections": [],
      "toc_visible": true,
      "include_colab_link": true
    },
    "kernelspec": {
      "name": "python3",
      "display_name": "Python 3"
    }
  },
  "cells": [
    {
      "cell_type": "markdown",
      "metadata": {
        "id": "view-in-github",
        "colab_type": "text"
      },
      "source": [
        "<a href=\"https://colab.research.google.com/github/ParalelaUCM/biciMAD/blob/master/AsesorDeRutaBiciMAD.ipynb\" target=\"_parent\"><img src=\"https://colab.research.google.com/assets/colab-badge.svg\" alt=\"Open In Colab\"/></a>"
      ]
    },
    {
      "cell_type": "markdown",
      "metadata": {
        "id": "o6JLekeSkduf",
        "colab_type": "text"
      },
      "source": [
        "# **Setup**\n",
        "\n",
        "Instalamos y configuramos las herramientas necesarias para empezar a trabajar"
      ]
    },
    {
      "cell_type": "code",
      "metadata": {
        "id": "1dvQgdvjkcPT",
        "colab_type": "code",
        "colab": {}
      },
      "source": [
        "!apt-get install openjdk-8-jdk\n",
        "\"\"\"\n",
        "#!apt install unzip ya no lo usamos\n",
        "\"\"\"\n",
        "!apt-get install unrar\n",
        "import os\n",
        "os.environ[\"JAVA_HOME\"] = \"/usr/lib/jvm/java-8-openjdk-amd64\"\n",
        "!pip install pyspark"
      ],
      "execution_count": 0,
      "outputs": []
    },
    {
      "cell_type": "code",
      "metadata": {
        "id": "C1Yn_yv0kFQH",
        "colab_type": "code",
        "colab": {}
      },
      "source": [
        "import json\n",
        "import os\n",
        "import matplotlib.pyplot as plt\n",
        "import statistics as stats\n",
        "from pyspark import SparkContext"
      ],
      "execution_count": 0,
      "outputs": []
    },
    {
      "cell_type": "code",
      "metadata": {
        "id": "wewQ_aLlkFx3",
        "colab_type": "code",
        "colab": {}
      },
      "source": [
        "sc = SparkContext()"
      ],
      "execution_count": 0,
      "outputs": []
    },
    {
      "cell_type": "markdown",
      "metadata": {
        "id": "9xB2HI4RlCAv",
        "colab_type": "text"
      },
      "source": [
        "# **Descargamos los datasets de bicimad**\n",
        "Descargaremos cada dataset de la web oficial de biciMAD.\n",
        "La función descarga usa los paquete Beautiful Soup y request, automatizando la obtención de los archivos. Los renombraremos a '.zip' o '.rar' para poder descomprimirlos y una vez descomprimidos los movemos a la carpeta 'datasets'. Por último eliminamos los ficheros comprimidos."
      ]
    },
    {
      "cell_type": "code",
      "metadata": {
        "id": "zynUfS6zlO2x",
        "colab_type": "code",
        "colab": {}
      },
      "source": [
        "#Estructura de carpetas para el dataset\n",
        "!mkdir dataset\n",
        "!cd dataset/\n",
        "!mkdir dataset/usages\n",
        "!mkdir dataset/stations"
      ],
      "execution_count": 0,
      "outputs": []
    },
    {
      "cell_type": "code",
      "metadata": {
        "id": "csOz4j3ziLix",
        "colab_type": "code",
        "colab": {}
      },
      "source": [
        "!pip install patool\n",
        "\n",
        "from bs4 import BeautifulSoup\n",
        "import requests\n",
        "import os\n",
        "import zipfile\n",
        "import patoolib\n",
        "\n",
        "#datos de páginas web para la descarga de los dataset\n",
        "pagina = \"https://opendata.emtmadrid.es\"\n",
        "url = requests.get(\"https://opendata.emtmadrid.es/Datos-estaticos/Datos-generales-(1)\")\n",
        "html_doc = url.text\n",
        "soup = BeautifulSoup(html_doc, 'html.parser')\n",
        "meses_l = [None, \"enero\",\"febrero\",\"marzo\",\"abril\",\"mayo\",\"junio\",\"julio\",\n",
        "           \"agosto\",\"septiembre\",\"octubre\",\"noviembre\",\"diciembre\"]"
      ],
      "execution_count": 0,
      "outputs": []
    },
    {
      "cell_type": "code",
      "metadata": {
        "id": "PDRJY_d_iv_S",
        "colab_type": "code",
        "colab": {}
      },
      "source": [
        "def descarga(mes,año):\n",
        "  for link in soup.find_all('a'):\n",
        "    l = link.get('title')\n",
        "    if isinstance(l,str):\n",
        "      if meses_l[mes] in l.lower() and str(año) in l:\n",
        "        if \"uso\" in l:\n",
        "          print(l)\n",
        "          enlace = link.get('href')\n",
        "          url = pagina+enlace\n",
        "          r = requests.get(url, allow_redirects=True)\n",
        "          open('temp.aspx', 'wb').write(r.content)\n",
        "          os.rename(\"temp.aspx\",\"temp.zip\")\n",
        "          try:\n",
        "            with zipfile.ZipFile(\"/content/temp.zip\", 'r') as zip_ref:\n",
        "              zip_ref.extractall(\"/content/dataset/usages\")\n",
        "            os.remove(\"/content/temp.zip\")\n",
        "          except:\n",
        "            os.rename(\"temp.zip\",\"temp.rar\")\n",
        "            patoolib.extract_archive(\"temp.rar\", outdir=\"/content/dataset/usages\")\n",
        "            os.remove(\"/content/temp.rar\")\n",
        "        elif \"estaciones\" in l:\n",
        "          print(l)\n",
        "          enlace = link.get('href')\n",
        "          url = pagina+enlace\n",
        "          r = requests.get(url, allow_redirects=True)\n",
        "          open('temp.aspx', 'wb').write(r.content)\n",
        "          os.rename(\"temp.aspx\",\"temp.zip\")\n",
        "          try:\n",
        "            with zipfile.ZipFile(\"/content/temp.zip\", 'r') as zip_ref:\n",
        "              zip_ref.extractall(\"/content/dataset/stations\")\n",
        "            os.remove(\"/content/temp.zip\")\n",
        "          except:\n",
        "            os.rename(\"temp.zip\",\"temp.rar\")\n",
        "            patoolib.extract_archive(\"temp.rar\", outdir=\"/content/dataset/stations\")\n",
        "            os.remove(\"/content/temp.rar\")"
      ],
      "execution_count": 0,
      "outputs": []
    },
    {
      "cell_type": "code",
      "metadata": {
        "id": "raadBW_0iygh",
        "colab_type": "code",
        "outputId": "69a2b0ab-afbc-4e00-badb-e86768d8103a",
        "colab": {
          "base_uri": "https://localhost:8080/",
          "height": 561
        }
      },
      "source": [
        "for i in range(1,7):\n",
        "  descarga(i,2019)"
      ],
      "execution_count": 7,
      "outputs": [
        {
          "output_type": "stream",
          "text": [
            "Datos de uso de Enero de 2019. Nueva ventana\n",
            "Situación estaciones bicimad por día y hora de Enero de 2019. Nueva ventana\n",
            "Datos de uso de Febrero de 2019. Nueva ventana\n",
            "Situación estaciones bicimad por día y hora de Febrero de 2019. Nueva ventana\n",
            "patool: Extracting temp.rar ...\n",
            "patool: running /usr/bin/unrar x -- /content/temp.rar\n",
            "patool:     with cwd='/content/dataset/stations'\n",
            "patool: ... temp.rar extracted to `/content/dataset/stations'.\n",
            "Datos de uso de Marzo de 2019. Nueva ventana\n",
            "Situación estaciones bicimad por día y hora de Marzo de 2019. Nueva ventana\n",
            "patool: Extracting temp.rar ...\n",
            "patool: running /usr/bin/unrar x -- /content/temp.rar\n",
            "patool:     with cwd='/content/dataset/stations'\n",
            "patool: ... temp.rar extracted to `/content/dataset/stations'.\n",
            "Datos de uso de Abril de 2019. Nueva ventana\n",
            "Situación estaciones bicimad por día y hora de Abril de 2019. Nueva ventana\n",
            "patool: Extracting temp.rar ...\n",
            "patool: running /usr/bin/unrar x -- /content/temp.rar\n",
            "patool:     with cwd='/content/dataset/stations'\n",
            "patool: ... temp.rar extracted to `/content/dataset/stations'.\n",
            "Datos de uso de Mayo de 2019. Nueva ventana\n",
            "Situación estaciones bicimad por día y hora de Mayo de 2019. Nueva ventana\n",
            "patool: Extracting temp.rar ...\n",
            "patool: running /usr/bin/unrar x -- /content/temp.rar\n",
            "patool:     with cwd='/content/dataset/stations'\n",
            "patool: ... temp.rar extracted to `/content/dataset/stations'.\n",
            "Datos de uso de Junio de 2019. Nueva ventana\n",
            "Situación estaciones bicimad por día y hora de Junio de 2019. Nueva ventana\n",
            "patool: Extracting temp.rar ...\n",
            "patool: running /usr/bin/unrar x -- /content/temp.rar\n",
            "patool:     with cwd='/content/dataset/stations'\n",
            "patool: ... temp.rar extracted to `/content/dataset/stations'.\n"
          ],
          "name": "stdout"
        }
      ]
    },
    {
      "cell_type": "markdown",
      "metadata": {
        "id": "6l1JrKnQlPbm",
        "colab_type": "text"
      },
      "source": [
        "# **Creamos los RDD**\n",
        "Una vez tenemos las bases de datos descargadas vamos a codificarlas de forma cómoda."
      ]
    },
    {
      "cell_type": "markdown",
      "metadata": {
        "id": "s2_J09HfldNw",
        "colab_type": "text"
      },
      "source": [
        "Para tener los datos almacenados de una forma cómoda primero creamos un diccionario cuya clave va a ser un string con el mes y el año del dataset y como valor va a tener el rdd asociado al uso por usuario de ese mes.\n",
        "\n",
        "La funcion `mapper_usages` nos servirá para crear la rdd más legible. Nos quedaremos con los datos necesarios y cada linea la codificaremos como un diccionario."
      ]
    },
    {
      "cell_type": "code",
      "metadata": {
        "id": "qKXOxYtPlUPZ",
        "colab_type": "code",
        "colab": {}
      },
      "source": [
        "rdd_usages = {} "
      ],
      "execution_count": 0,
      "outputs": []
    },
    {
      "cell_type": "code",
      "metadata": {
        "id": "fQ1WZW9ylnFQ",
        "colab_type": "code",
        "colab": {}
      },
      "source": [
        "def mapper_usages(line):\n",
        "  data = json.loads(line)\n",
        "  user = data['user_type']\n",
        "  user_day = data['user_day_code']\n",
        "  start = data['idunplug_station']\n",
        "  end = data['idplug_station']\n",
        "  date = data['unplug_hourTime']['$date'][0:10]\n",
        "  hora = data['unplug_hourTime']['$date'][11:19]\n",
        "  time = data['travel_time']\n",
        "  age = data['ageRange']\n",
        "  try:\n",
        "    track = data['track']\n",
        "  except:\n",
        "    track = None\n",
        "  return {\"user_type\": user,\n",
        "          \"user_day_code\": user_day,\n",
        "          \"start\": start,\n",
        "          \"end\": end,\n",
        "          \"travel_time\": time,\n",
        "          \"date\": date,\n",
        "          \"hour\": hora,\n",
        "          \"age\": age,\n",
        "          \"track\": track}"
      ],
      "execution_count": 0,
      "outputs": []
    },
    {
      "cell_type": "code",
      "metadata": {
        "id": "d9pIrqUclrQl",
        "colab_type": "code",
        "outputId": "08f24918-751a-471c-e869-85d75a52f504",
        "colab": {
          "base_uri": "https://localhost:8080/",
          "height": 119
        }
      },
      "source": [
        "directory = 'dataset/usages'\n",
        "rdd_usages['2019'] = sc.emptyRDD()\n",
        "for filename in os.listdir(directory):\n",
        "    if filename.endswith(\".json\"):\n",
        "      #Nos quedamos con la fecha del dataset en formato YYYYMM\n",
        "      name = filename.split(\"_\")[0]\n",
        "      rdd_usages[name] = sc.textFile(os.path.join(directory, filename)).map(mapper_usages)\n",
        "      rdd_usages['2019'] = rdd_usages['2019'].union(rdd_usages[name])\n",
        "      #DEBUG starts\n",
        "      print(name)\n",
        "      #DEBUG ends\n",
        "    else:\n",
        "        continue"
      ],
      "execution_count": 16,
      "outputs": [
        {
          "output_type": "stream",
          "text": [
            "201906\n",
            "201905\n",
            "201901\n",
            "201904\n",
            "201902\n",
            "201903\n"
          ],
          "name": "stdout"
        }
      ]
    },
    {
      "cell_type": "code",
      "metadata": {
        "id": "1jHkWWJcBg9H",
        "colab_type": "code",
        "colab": {}
      },
      "source": [
        "\"\"\"\n",
        "#Juntamos todos los datos de los meses en uno solo dataset, y lo metemos también al diccionario.\n",
        "rdd_usages['2019_01a06'] = rdd_usages['201901'].union(rdd_usages['201902'].union(rdd_usages['201903'].union(rdd_usages['201904'].union(rdd_usages['201905'].union(rdd_usages['201906'])))))\n",
        "#rdd_usages['2019_01a06'] = rdd_usages['201901'].concat(rdd_usages['201902'])\n",
        "\"\"\""
      ],
      "execution_count": 0,
      "outputs": []
    },
    {
      "cell_type": "code",
      "metadata": {
        "id": "IHVwJiV1EtYD",
        "colab_type": "code",
        "colab": {
          "base_uri": "https://localhost:8080/",
          "height": 170
        },
        "outputId": "44ad5da5-58b0-429c-8fb0-a7d076314d00"
      },
      "source": [
        "rdd_usages['2019'].take(1)"
      ],
      "execution_count": 19,
      "outputs": [
        {
          "output_type": "execute_result",
          "data": {
            "text/plain": [
              "[{'age': 0,\n",
              "  'date': '2019-06-01',\n",
              "  'end': 66,\n",
              "  'hour': '00:00:00',\n",
              "  'start': 90,\n",
              "  'track': None,\n",
              "  'travel_time': 219,\n",
              "  'user_day_code': 'e4d55deb9ac172a8d8f5f0a32599815bd51b7c8760d67e42b11adf7c0829341b',\n",
              "  'user_type': 1}]"
            ]
          },
          "metadata": {
            "tags": []
          },
          "execution_count": 19
        }
      ]
    },
    {
      "cell_type": "markdown",
      "metadata": {
        "id": "muBX-1kTly_Y",
        "colab_type": "text"
      },
      "source": [
        "Por otro lado un diccionario cuya clave va a ser tambien un string con el mes y el año del dataset y como valor va a tener el rdd asociado a la ocupación de las estaciones en ese mes.\n",
        "\n",
        "Aquí usaremos la funcion `mapper_stations` para acomodar los datos."
      ]
    },
    {
      "cell_type": "code",
      "metadata": {
        "id": "Do-vrp0Ul3uZ",
        "colab_type": "code",
        "colab": {}
      },
      "source": [
        "rdd_stations = {} "
      ],
      "execution_count": 0,
      "outputs": []
    },
    {
      "cell_type": "code",
      "metadata": {
        "id": "HhR9BSlSl5xZ",
        "colab_type": "code",
        "colab": {}
      },
      "source": [
        "def mapper_stations(line):\n",
        "  data = json.loads(line)\n",
        "  day = data['_id'][0:10]\n",
        "  hour = data['_id'][11:27]\n",
        "  station = data['stations']\n",
        "  return {\"day\": day, \"hour\": hour, \"station\": station}"
      ],
      "execution_count": 0,
      "outputs": []
    },
    {
      "cell_type": "code",
      "metadata": {
        "id": "pLEPxjcBl77p",
        "colab_type": "code",
        "outputId": "eb1c4a30-1189-44f8-dfc6-cdb86ace49fa",
        "colab": {
          "base_uri": "https://localhost:8080/",
          "height": 119
        }
      },
      "source": [
        "directory = 'dataset/stations'\n",
        "rdd_stations['2019'] = sc.emptyRDD()\n",
        "for filename in os.listdir(directory):\n",
        "    if filename.endswith(\".json\"):\n",
        "      #Nos quedamos con la fecha del dataset en formato YYYYMM\n",
        "      name = filename.split(\"_\")[2].split(\".\")[0]\n",
        "      rdd_stations[name] = sc.textFile(os.path.join(directory, filename)).map(mapper_stations)\n",
        "      rdd_stations['2019'] = rdd_stations['2019'].union(rdd_stations[name])\n",
        "      #DEBUG starts\n",
        "      print(name)\n",
        "      #DEBUG ends\n",
        "    else:\n",
        "        continue"
      ],
      "execution_count": 22,
      "outputs": [
        {
          "output_type": "stream",
          "text": [
            "201905\n",
            "201906\n",
            "201903\n",
            "201902\n",
            "201904\n",
            "201901\n"
          ],
          "name": "stdout"
        }
      ]
    },
    {
      "cell_type": "markdown",
      "metadata": {
        "id": "aZ6aliu9ZzP5",
        "colab_type": "text"
      },
      "source": [
        "# **Asesor de ruta BiciMAD**\n",
        "\n",
        "Aquí, dada una estación de origen, una de destino y una hora del trayecto, calcularemos el tiempo medio necesitado realizar el trayecto, cuántas bicicletas suele haber disponibles en las estaciones, y si suele haber hueco en la estación final para poder colocar la bicicleta."
      ]
    },
    {
      "cell_type": "code",
      "metadata": {
        "id": "n2tidU4UYv2O",
        "colab_type": "code",
        "colab": {}
      },
      "source": [
        "import statistics as stats"
      ],
      "execution_count": 0,
      "outputs": []
    },
    {
      "cell_type": "code",
      "metadata": {
        "id": "PNeo1hjcZ4ue",
        "colab_type": "code",
        "colab": {
          "base_uri": "https://localhost:8080/",
          "height": 68
        },
        "outputId": "7714a3f4-af3d-48f1-c97e-83d6cf5a58c6"
      },
      "source": [
        "origen = input('Estación de la que se desea partir: ') #57\n",
        "destino = input('Estación a la que se desea llegar: ') #38\n",
        "hora_Viaje = int(input('Hora a la que se desea realizar el viaje(HH): ')) #17"
      ],
      "execution_count": 48,
      "outputs": [
        {
          "output_type": "stream",
          "text": [
            "Estación de la que se desea partir: 57\n",
            "Estación a la que se desea llegar: 38\n",
            "Hora a la que se desea realizar el viaje(HH): 17\n"
          ],
          "name": "stdout"
        }
      ]
    },
    {
      "cell_type": "code",
      "metadata": {
        "id": "4moerLTadQ_s",
        "colab_type": "code",
        "colab": {
          "base_uri": "https://localhost:8080/",
          "height": 51
        },
        "outputId": "dd2cb0ec-9b55-468d-a893-ee77045f356d"
      },
      "source": [
        "#Funcion que se queda con los viajes alrededor de la hora solicitada\n",
        "def rangoTiempo(hora, rango, hora_target):\n",
        "    hora = hora.split(\":\")\n",
        "    h = int(hora[0])\n",
        "    m = int(hora[1])\n",
        "    hora = h + m/60.0\n",
        "    print(hora)\n",
        "    if (hora_target - rango < 0):\n",
        "      return((hora < hora_target + rango) or 24 + hora_target - rango < hora)\n",
        "    else:\n",
        "      return(hora_target - rango < hora and hora < hora_target + rango)\n",
        "\n",
        "rangoTiempo('17:00:00', 1.5, 18)"
      ],
      "execution_count": 49,
      "outputs": [
        {
          "output_type": "stream",
          "text": [
            "17.0\n"
          ],
          "name": "stdout"
        },
        {
          "output_type": "execute_result",
          "data": {
            "text/plain": [
              "True"
            ]
          },
          "metadata": {
            "tags": []
          },
          "execution_count": 49
        }
      ]
    },
    {
      "cell_type": "code",
      "metadata": {
        "id": "47fzpaTaZ-Lb",
        "colab_type": "code",
        "colab": {}
      },
      "source": [
        "#Aquí hacemos un primer filtro quedándonos con todos los trayectos que parten de \n",
        "#la estación origen y terminan en la estacion destino\n",
        "rdd_trayecto = rdd_usages['2019'].filter(lambda x: x['start'] == int(origen) and x['end'] == int(destino))"
      ],
      "execution_count": 0,
      "outputs": []
    },
    {
      "cell_type": "code",
      "metadata": {
        "id": "Y5SSjkq6UUrz",
        "colab_type": "code",
        "colab": {
          "base_uri": "https://localhost:8080/",
          "height": 34
        },
        "outputId": "6333520d-e16d-4c5f-9e4b-dbd95d843eb6"
      },
      "source": [
        "#Debug\n",
        "print('Total de viajes similares al del cliente sin tener en cuenta el horario: ', rdd_trayecto.count())"
      ],
      "execution_count": 51,
      "outputs": [
        {
          "output_type": "stream",
          "text": [
            "Total de viajes similares al del cliente sin tener en cuenta el horario:  690\n"
          ],
          "name": "stdout"
        }
      ]
    },
    {
      "cell_type": "code",
      "metadata": {
        "id": "oTOYZ27BaGn6",
        "colab_type": "code",
        "colab": {}
      },
      "source": [
        "#Y ahora filtramos ya solo en el rango de horas especificado. \n",
        "#En este caso 1.5h alrededor de la hora elegida\n",
        "rdd_viaje = rdd_trayecto.filter(lambda x: rangoTiempo(x['hour'], 1.5, hora_Viaje))"
      ],
      "execution_count": 0,
      "outputs": []
    },
    {
      "cell_type": "code",
      "metadata": {
        "id": "oqz1A1D-UXit",
        "colab_type": "code",
        "colab": {
          "base_uri": "https://localhost:8080/",
          "height": 34
        },
        "outputId": "92f45103-be59-46ab-a8d3-0e08f3e99618"
      },
      "source": [
        "#Debug\n",
        "print('Total de viajes similares al del cliente alrededor de la hora especificada: ', rdd_viaje.count())"
      ],
      "execution_count": 53,
      "outputs": [
        {
          "output_type": "stream",
          "text": [
            "Total de viajes similares al del cliente alrededor de la hora especificada:  125\n"
          ],
          "name": "stdout"
        }
      ]
    },
    {
      "cell_type": "code",
      "metadata": {
        "id": "t3eIPIb_ahAJ",
        "colab_type": "code",
        "outputId": "863decc9-026d-49e5-a5d1-c22e21ad7f73",
        "colab": {
          "base_uri": "https://localhost:8080/",
          "height": 34
        }
      },
      "source": [
        "#Estudiemos ahora las medias en tiempo de todos los viajes similares a esa hora\n",
        "listaTiempos = rdd_viaje.map(lambda x: ([x['travel_time']])).reduce(lambda a, b: a + b)\n",
        "media_tiempo_viaje = stats.mean(listaTiempos)\n",
        "print('La media de tiempo empleado por otros usuarios es: ',media_tiempo_viaje, 'segundos')"
      ],
      "execution_count": 54,
      "outputs": [
        {
          "output_type": "stream",
          "text": [
            "La media de tiempo empleado por otros usuarios es:  524.024 segundos\n"
          ],
          "name": "stdout"
        }
      ]
    },
    {
      "cell_type": "code",
      "metadata": {
        "id": "rBRMXqxenrbF",
        "colab_type": "code",
        "colab": {}
      },
      "source": [
        "def estaciones(lista):\n",
        "  filtro = []\n",
        "  for estacion in lista['station']:\n",
        "    if estacion['number'] == origen or estacion['number'] == destino:\n",
        "      filtro.append(estacion)\n",
        "  return {\"day\":lista['day'],\n",
        "          \"hour\":lista['hour'],\n",
        "          \"station\":filtro}\n",
        "\n",
        "\"\"\"\n",
        "rdd_stations['201901a06'] = rdd_stations['201901'].union(rdd_stations['201902'].union(rdd_stations['201903'].union(rdd_stations['201904'].union(rdd_stations['201905'].union(rdd_stations['201906'])))))\n",
        "\"\"\"\n",
        "\n",
        "#rdd_Sit_fil contiene solo los datos de las dos estaciones,\n",
        "#la de partida y la de llegada\n",
        "rdd_Sit_fil = rdd_stations['2019'].map(estaciones)"
      ],
      "execution_count": 0,
      "outputs": []
    },
    {
      "cell_type": "code",
      "metadata": {
        "id": "ztddV_4JUfcD",
        "colab_type": "code",
        "colab": {}
      },
      "source": [
        "#Debug\n",
        "rdd_Sit_fil.take(3)"
      ],
      "execution_count": 0,
      "outputs": []
    },
    {
      "cell_type": "code",
      "metadata": {
        "id": "_wc5k2Ksci0C",
        "colab_type": "code",
        "outputId": "70f7fa45-836f-48aa-e4a7-a5fd873d1934",
        "colab": {
          "base_uri": "https://localhost:8080/",
          "height": 51
        }
      },
      "source": [
        "def calcularBasesLibres(lista, n_estacion):\n",
        "  for station in lista:\n",
        "    if station['number'] == n_estacion:\n",
        "      return station['free_bases']\n",
        "\n",
        "def calcularBicisLibres(lista, n_estacion):\n",
        "  for station in lista:\n",
        "    if station['number'] == n_estacion:\n",
        "      return station['dock_bikes']\n",
        "\n",
        "bicisLibres = rdd_Sit_fil.filter(lambda x: rangoTiempo(x['hour'], 1.5, hora_Viaje)).map(lambda x: [calcularBicisLibres(x['station'], origen)]).reduce(lambda a, b: a+b)\n",
        "basesLibres = rdd_Sit_fil.filter(lambda x: rangoTiempo(x['hour'], 1.5, media_tiempo_viaje / 3600.0)).map(lambda x: [calcularBasesLibres(x['station'], destino)]).reduce(lambda a, b: a+b)\n",
        "\n",
        "totalBasesPorEstacion = {}\n",
        "stationsLst = rdd_Sit_fil.take(1)[0]['station']\n",
        "totalBasesPorEstacion[stationsLst[0]['number']] = stationsLst[0]['total_bases']\n",
        "totalBasesPorEstacion[stationsLst[1]['number']] = stationsLst[1]['total_bases']\n",
        "\n",
        "print('La media de bicicletas libres en', origen, 'respecto a la hora elegida es:',int(stats.mean(bicisLibres)), '/', totalBasesPorEstacion[origen])\n",
        "print('La media de bases libres en', destino ,'respecto a la hora estimada de llegada es:',int(stats.mean(basesLibres)), '/', totalBasesPorEstacion[destino])"
      ],
      "execution_count": 57,
      "outputs": [
        {
          "output_type": "stream",
          "text": [
            "La media de bicicletas libres en 57 respecto a la hora elegida es: 8 / 24\n",
            "La media de bases libres en 38 respecto a la hora estimada de llegada es: 4 / 24\n"
          ],
          "name": "stdout"
        }
      ]
    }
  ]
}