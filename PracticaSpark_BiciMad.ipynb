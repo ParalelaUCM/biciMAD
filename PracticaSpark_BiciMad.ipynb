{
  "nbformat": 4,
  "nbformat_minor": 0,
  "metadata": {
    "colab": {
      "name": "PracticaSpark_BiciMad.ipynb",
      "provenance": [],
      "collapsed_sections": [
        "o6JLekeSkduf",
        "9xB2HI4RlCAv",
        "6l1JrKnQlPbm",
        "-C02tMVwlhC8",
        "KosiIgA650BR",
        "5HHl--Qv6IJR",
        "e9ygIuq90ZUV",
        "uiIEjE3OCNa2",
        "Fhq7ouF0n7YE",
        "_tBP59XDoqY9",
        "F4u3BC-Ep8bM",
        "A5-Zr47G_ogp",
        "TvIb2baemEHv",
        "oi520IrV15h-",
        "RI8neE6AwYiA"
      ],
      "toc_visible": true,
      "include_colab_link": true
    },
    "kernelspec": {
      "name": "python3",
      "display_name": "Python 3"
    }
  },
  "cells": [
    {
      "cell_type": "markdown",
      "metadata": {
        "id": "view-in-github",
        "colab_type": "text"
      },
      "source": [
        "<a href=\"https://colab.research.google.com/github/ParalelaUCM/biciMAD/blob/master/PracticaSpark_BiciMad.ipynb\" target=\"_parent\"><img src=\"https://colab.research.google.com/assets/colab-badge.svg\" alt=\"Open In Colab\"/></a>"
      ]
    },
    {
      "cell_type": "markdown",
      "metadata": {
        "id": "o6JLekeSkduf",
        "colab_type": "text"
      },
      "source": [
        "# **Setup**\n",
        "\n",
        "Instalamos y configuramos las herramientas necesarias para empezar a trabajar"
      ]
    },
    {
      "cell_type": "code",
      "metadata": {
        "id": "1dvQgdvjkcPT",
        "colab_type": "code",
        "colab": {
          "base_uri": "https://localhost:8080/",
          "height": 1000
        },
        "outputId": "797b4d00-d69c-4de0-b4a0-b0e69dd95002"
      },
      "source": [
        "!apt-get install openjdk-8-jdk\n",
        "\n",
        "import os\n",
        "os.environ[\"JAVA_HOME\"] = \"/usr/lib/jvm/java-8-openjdk-amd64\"\n",
        "\n",
        "!pip install pyspark"
      ],
      "execution_count": null,
      "outputs": [
        {
          "output_type": "stream",
          "text": [
            "Reading package lists... Done\n",
            "Building dependency tree       \n",
            "Reading state information... Done\n",
            "The following package was automatically installed and is no longer required:\n",
            "  libnvidia-common-440\n",
            "Use 'apt autoremove' to remove it.\n",
            "The following additional packages will be installed:\n",
            "  fonts-dejavu-core fonts-dejavu-extra libatk-wrapper-java\n",
            "  libatk-wrapper-java-jni libxxf86dga1 openjdk-8-jdk-headless openjdk-8-jre\n",
            "  openjdk-8-jre-headless x11-utils\n",
            "Suggested packages:\n",
            "  openjdk-8-demo openjdk-8-source visualvm icedtea-8-plugin libnss-mdns\n",
            "  fonts-ipafont-gothic fonts-ipafont-mincho fonts-wqy-microhei\n",
            "  fonts-wqy-zenhei fonts-indic mesa-utils\n",
            "The following NEW packages will be installed:\n",
            "  fonts-dejavu-core fonts-dejavu-extra libatk-wrapper-java\n",
            "  libatk-wrapper-java-jni libxxf86dga1 openjdk-8-jdk openjdk-8-jdk-headless\n",
            "  openjdk-8-jre openjdk-8-jre-headless x11-utils\n",
            "0 upgraded, 10 newly installed, 0 to remove and 43 not upgraded.\n",
            "Need to get 40.7 MB of archives.\n",
            "After this operation, 153 MB of additional disk space will be used.\n",
            "Get:1 http://archive.ubuntu.com/ubuntu bionic/main amd64 libxxf86dga1 amd64 2:1.1.4-1 [13.7 kB]\n",
            "Get:2 http://archive.ubuntu.com/ubuntu bionic/main amd64 fonts-dejavu-core all 2.37-1 [1,041 kB]\n",
            "Get:3 http://archive.ubuntu.com/ubuntu bionic/main amd64 fonts-dejavu-extra all 2.37-1 [1,953 kB]\n",
            "Get:4 http://archive.ubuntu.com/ubuntu bionic/main amd64 x11-utils amd64 7.7+3build1 [196 kB]\n",
            "Get:5 http://archive.ubuntu.com/ubuntu bionic/main amd64 libatk-wrapper-java all 0.33.3-20ubuntu0.1 [34.7 kB]\n",
            "Get:6 http://archive.ubuntu.com/ubuntu bionic/main amd64 libatk-wrapper-java-jni amd64 0.33.3-20ubuntu0.1 [28.3 kB]\n",
            "Get:7 http://archive.ubuntu.com/ubuntu bionic-updates/universe amd64 openjdk-8-jre-headless amd64 8u252-b09-1~18.04 [27.5 MB]\n",
            "Get:8 http://archive.ubuntu.com/ubuntu bionic-updates/universe amd64 openjdk-8-jre amd64 8u252-b09-1~18.04 [69.8 kB]\n",
            "Get:9 http://archive.ubuntu.com/ubuntu bionic-updates/universe amd64 openjdk-8-jdk-headless amd64 8u252-b09-1~18.04 [8,250 kB]\n",
            "Get:10 http://archive.ubuntu.com/ubuntu bionic-updates/universe amd64 openjdk-8-jdk amd64 8u252-b09-1~18.04 [1,622 kB]\n",
            "Fetched 40.7 MB in 6s (7,305 kB/s)\n",
            "Selecting previously unselected package libxxf86dga1:amd64.\n",
            "(Reading database ... 144328 files and directories currently installed.)\n",
            "Preparing to unpack .../0-libxxf86dga1_2%3a1.1.4-1_amd64.deb ...\n",
            "Unpacking libxxf86dga1:amd64 (2:1.1.4-1) ...\n",
            "Selecting previously unselected package fonts-dejavu-core.\n",
            "Preparing to unpack .../1-fonts-dejavu-core_2.37-1_all.deb ...\n",
            "Unpacking fonts-dejavu-core (2.37-1) ...\n",
            "Selecting previously unselected package fonts-dejavu-extra.\n",
            "Preparing to unpack .../2-fonts-dejavu-extra_2.37-1_all.deb ...\n",
            "Unpacking fonts-dejavu-extra (2.37-1) ...\n",
            "Selecting previously unselected package x11-utils.\n",
            "Preparing to unpack .../3-x11-utils_7.7+3build1_amd64.deb ...\n",
            "Unpacking x11-utils (7.7+3build1) ...\n",
            "Selecting previously unselected package libatk-wrapper-java.\n",
            "Preparing to unpack .../4-libatk-wrapper-java_0.33.3-20ubuntu0.1_all.deb ...\n",
            "Unpacking libatk-wrapper-java (0.33.3-20ubuntu0.1) ...\n",
            "Selecting previously unselected package libatk-wrapper-java-jni:amd64.\n",
            "Preparing to unpack .../5-libatk-wrapper-java-jni_0.33.3-20ubuntu0.1_amd64.deb ...\n",
            "Unpacking libatk-wrapper-java-jni:amd64 (0.33.3-20ubuntu0.1) ...\n",
            "Selecting previously unselected package openjdk-8-jre-headless:amd64.\n",
            "Preparing to unpack .../6-openjdk-8-jre-headless_8u252-b09-1~18.04_amd64.deb ...\n",
            "Unpacking openjdk-8-jre-headless:amd64 (8u252-b09-1~18.04) ...\n",
            "Selecting previously unselected package openjdk-8-jre:amd64.\n",
            "Preparing to unpack .../7-openjdk-8-jre_8u252-b09-1~18.04_amd64.deb ...\n",
            "Unpacking openjdk-8-jre:amd64 (8u252-b09-1~18.04) ...\n",
            "Selecting previously unselected package openjdk-8-jdk-headless:amd64.\n",
            "Preparing to unpack .../8-openjdk-8-jdk-headless_8u252-b09-1~18.04_amd64.deb ...\n",
            "Unpacking openjdk-8-jdk-headless:amd64 (8u252-b09-1~18.04) ...\n",
            "Selecting previously unselected package openjdk-8-jdk:amd64.\n",
            "Preparing to unpack .../9-openjdk-8-jdk_8u252-b09-1~18.04_amd64.deb ...\n",
            "Unpacking openjdk-8-jdk:amd64 (8u252-b09-1~18.04) ...\n",
            "Setting up fonts-dejavu-core (2.37-1) ...\n",
            "Setting up libxxf86dga1:amd64 (2:1.1.4-1) ...\n",
            "Setting up fonts-dejavu-extra (2.37-1) ...\n",
            "Setting up openjdk-8-jre-headless:amd64 (8u252-b09-1~18.04) ...\n",
            "update-alternatives: using /usr/lib/jvm/java-8-openjdk-amd64/jre/bin/orbd to provide /usr/bin/orbd (orbd) in auto mode\n",
            "update-alternatives: using /usr/lib/jvm/java-8-openjdk-amd64/jre/bin/servertool to provide /usr/bin/servertool (servertool) in auto mode\n",
            "update-alternatives: using /usr/lib/jvm/java-8-openjdk-amd64/jre/bin/tnameserv to provide /usr/bin/tnameserv (tnameserv) in auto mode\n",
            "Setting up openjdk-8-jdk-headless:amd64 (8u252-b09-1~18.04) ...\n",
            "update-alternatives: using /usr/lib/jvm/java-8-openjdk-amd64/bin/idlj to provide /usr/bin/idlj (idlj) in auto mode\n",
            "update-alternatives: using /usr/lib/jvm/java-8-openjdk-amd64/bin/wsimport to provide /usr/bin/wsimport (wsimport) in auto mode\n",
            "update-alternatives: using /usr/lib/jvm/java-8-openjdk-amd64/bin/jsadebugd to provide /usr/bin/jsadebugd (jsadebugd) in auto mode\n",
            "update-alternatives: using /usr/lib/jvm/java-8-openjdk-amd64/bin/native2ascii to provide /usr/bin/native2ascii (native2ascii) in auto mode\n",
            "update-alternatives: using /usr/lib/jvm/java-8-openjdk-amd64/bin/javah to provide /usr/bin/javah (javah) in auto mode\n",
            "update-alternatives: using /usr/lib/jvm/java-8-openjdk-amd64/bin/clhsdb to provide /usr/bin/clhsdb (clhsdb) in auto mode\n",
            "update-alternatives: using /usr/lib/jvm/java-8-openjdk-amd64/bin/extcheck to provide /usr/bin/extcheck (extcheck) in auto mode\n",
            "update-alternatives: using /usr/lib/jvm/java-8-openjdk-amd64/bin/hsdb to provide /usr/bin/hsdb (hsdb) in auto mode\n",
            "update-alternatives: using /usr/lib/jvm/java-8-openjdk-amd64/bin/schemagen to provide /usr/bin/schemagen (schemagen) in auto mode\n",
            "update-alternatives: using /usr/lib/jvm/java-8-openjdk-amd64/bin/xjc to provide /usr/bin/xjc (xjc) in auto mode\n",
            "update-alternatives: using /usr/lib/jvm/java-8-openjdk-amd64/bin/jhat to provide /usr/bin/jhat (jhat) in auto mode\n",
            "update-alternatives: using /usr/lib/jvm/java-8-openjdk-amd64/bin/wsgen to provide /usr/bin/wsgen (wsgen) in auto mode\n",
            "Setting up x11-utils (7.7+3build1) ...\n",
            "Setting up libatk-wrapper-java (0.33.3-20ubuntu0.1) ...\n",
            "Setting up libatk-wrapper-java-jni:amd64 (0.33.3-20ubuntu0.1) ...\n",
            "Setting up openjdk-8-jre:amd64 (8u252-b09-1~18.04) ...\n",
            "update-alternatives: using /usr/lib/jvm/java-8-openjdk-amd64/jre/bin/policytool to provide /usr/bin/policytool (policytool) in auto mode\n",
            "Setting up openjdk-8-jdk:amd64 (8u252-b09-1~18.04) ...\n",
            "update-alternatives: using /usr/lib/jvm/java-8-openjdk-amd64/bin/appletviewer to provide /usr/bin/appletviewer (appletviewer) in auto mode\n",
            "update-alternatives: using /usr/lib/jvm/java-8-openjdk-amd64/bin/jconsole to provide /usr/bin/jconsole (jconsole) in auto mode\n",
            "Processing triggers for man-db (2.8.3-2ubuntu0.1) ...\n",
            "Processing triggers for hicolor-icon-theme (0.17-2) ...\n",
            "Processing triggers for fontconfig (2.12.6-0ubuntu2) ...\n",
            "Processing triggers for mime-support (3.60ubuntu1) ...\n",
            "Processing triggers for libc-bin (2.27-3ubuntu1) ...\n",
            "/sbin/ldconfig.real: /usr/local/lib/python3.6/dist-packages/ideep4py/lib/libmkldnn.so.0 is not a symbolic link\n",
            "\n",
            "Collecting pyspark\n",
            "\u001b[?25l  Downloading https://files.pythonhosted.org/packages/8e/b0/bf9020b56492281b9c9d8aae8f44ff51e1bc91b3ef5a884385cb4e389a40/pyspark-3.0.0.tar.gz (204.7MB)\n",
            "\u001b[K     |████████████████████████████████| 204.7MB 58kB/s \n",
            "\u001b[?25hCollecting py4j==0.10.9\n",
            "\u001b[?25l  Downloading https://files.pythonhosted.org/packages/9e/b6/6a4fb90cd235dc8e265a6a2067f2a2c99f0d91787f06aca4bcf7c23f3f80/py4j-0.10.9-py2.py3-none-any.whl (198kB)\n",
            "\u001b[K     |████████████████████████████████| 204kB 44.3MB/s \n",
            "\u001b[?25hBuilding wheels for collected packages: pyspark\n",
            "  Building wheel for pyspark (setup.py) ... \u001b[?25l\u001b[?25hdone\n",
            "  Created wheel for pyspark: filename=pyspark-3.0.0-py2.py3-none-any.whl size=205044182 sha256=d3a17d774e1da7f9a4311992d62fa7bedb5e8b36fbcea260cb7be4fb8289c5fd\n",
            "  Stored in directory: /root/.cache/pip/wheels/57/27/4d/ddacf7143f8d5b76c45c61ee2e43d9f8492fc5a8e78ebd7d37\n",
            "Successfully built pyspark\n",
            "Installing collected packages: py4j, pyspark\n",
            "Successfully installed py4j-0.10.9 pyspark-3.0.0\n"
          ],
          "name": "stdout"
        }
      ]
    },
    {
      "cell_type": "code",
      "metadata": {
        "id": "C1Yn_yv0kFQH",
        "colab_type": "code",
        "colab": {}
      },
      "source": [
        "import json\n",
        "import matplotlib.pyplot as plt\n",
        "import statistics as stats\n",
        "from pyspark import SparkContext"
      ],
      "execution_count": null,
      "outputs": []
    },
    {
      "cell_type": "code",
      "metadata": {
        "id": "ZKuE1niLtpwz",
        "colab_type": "code",
        "colab": {
          "base_uri": "https://localhost:8080/",
          "height": 122
        },
        "outputId": "e304986a-c8b0-497b-82b8-df9fcde78640"
      },
      "source": [
        "!pip install patool\n",
        "\n",
        "from bs4 import BeautifulSoup\n",
        "import requests\n",
        "import zipfile\n",
        "import patoolib"
      ],
      "execution_count": null,
      "outputs": [
        {
          "output_type": "stream",
          "text": [
            "Collecting patool\n",
            "\u001b[?25l  Downloading https://files.pythonhosted.org/packages/43/94/52243ddff508780dd2d8110964320ab4851134a55ab102285b46e740f76a/patool-1.12-py2.py3-none-any.whl (77kB)\n",
            "\r\u001b[K     |████▎                           | 10kB 14.8MB/s eta 0:00:01\r\u001b[K     |████████▌                       | 20kB 1.7MB/s eta 0:00:01\r\u001b[K     |████████████▊                   | 30kB 2.2MB/s eta 0:00:01\r\u001b[K     |█████████████████               | 40kB 2.5MB/s eta 0:00:01\r\u001b[K     |█████████████████████▏          | 51kB 2.0MB/s eta 0:00:01\r\u001b[K     |█████████████████████████▍      | 61kB 2.3MB/s eta 0:00:01\r\u001b[K     |█████████████████████████████▋  | 71kB 2.5MB/s eta 0:00:01\r\u001b[K     |████████████████████████████████| 81kB 2.3MB/s \n",
            "\u001b[?25hInstalling collected packages: patool\n",
            "Successfully installed patool-1.12\n"
          ],
          "name": "stdout"
        }
      ]
    },
    {
      "cell_type": "code",
      "metadata": {
        "id": "wewQ_aLlkFx3",
        "colab_type": "code",
        "colab": {}
      },
      "source": [
        "sc = SparkContext()"
      ],
      "execution_count": null,
      "outputs": []
    },
    {
      "cell_type": "markdown",
      "metadata": {
        "id": "9xB2HI4RlCAv",
        "colab_type": "text"
      },
      "source": [
        "# **Descargamos los datasets de biciMAD**\n",
        "Automatizamos la obtención de los archivos de datos de la web oficial de biciMAD."
      ]
    },
    {
      "cell_type": "markdown",
      "metadata": {
        "id": "81zupuQyuzgX",
        "colab_type": "text"
      },
      "source": [
        "La función `descarga` usa los paquetes Beautiful Soup y requests, automatizando la obtención de los archivos. En caso de tenerlos ya a mano, sólo habría que recolocarlos en las carpetas dispuestas.\n",
        "\n",
        "Los renombraremos a '.zip' o '.rar' para poder descomprimirlos y reubicarlos en la carpeta 'datasets'. Por último eliminamos los ficheros comprimidos."
      ]
    },
    {
      "cell_type": "code",
      "metadata": {
        "id": "zynUfS6zlO2x",
        "colab_type": "code",
        "colab": {}
      },
      "source": [
        "#Estructura de carpetas para el dataset\n",
        "!mkdir dataset\n",
        "!cd dataset/\n",
        "!mkdir dataset/usages\n",
        "!mkdir dataset/stations"
      ],
      "execution_count": null,
      "outputs": []
    },
    {
      "cell_type": "code",
      "metadata": {
        "id": "csOz4j3ziLix",
        "colab_type": "code",
        "colab": {}
      },
      "source": [
        "#Datos de páginas web para la descarga de los dataset\n",
        "pagina = \"https://opendata.emtmadrid.es\"\n",
        "url = requests.get(\"https://opendata.emtmadrid.es/Datos-estaticos/Datos-generales-(1)\")\n",
        "html_doc = url.text\n",
        "soup = BeautifulSoup(html_doc, 'html.parser')\n",
        "meses_l = [None, \"enero\",\"febrero\",\"marzo\",\"abril\",\"mayo\",\"junio\",\"julio\",\n",
        "           \"agosto\",\"septiembre\",\"octubre\",\"noviembre\",\"diciembre\"]"
      ],
      "execution_count": null,
      "outputs": []
    },
    {
      "cell_type": "code",
      "metadata": {
        "id": "PDRJY_d_iv_S",
        "colab_type": "code",
        "colab": {}
      },
      "source": [
        "def descarga(mes,año):\n",
        "  for link in soup.find_all('a'):\n",
        "    l = link.get('title')\n",
        "    if isinstance(l,str):\n",
        "      if meses_l[mes] in l.lower() and str(año) in l:\n",
        "        if \"uso\" in l:\n",
        "          print(l)\n",
        "          enlace = link.get('href')\n",
        "          url = pagina+enlace\n",
        "          r = requests.get(url, allow_redirects=True)\n",
        "          open('temp.aspx', 'wb').write(r.content)\n",
        "          os.rename(\"temp.aspx\",\"temp.zip\")\n",
        "          try:\n",
        "            with zipfile.ZipFile(\"/content/temp.zip\", 'r') as zip_ref:\n",
        "              zip_ref.extractall(\"/content/dataset/usages\")\n",
        "            os.remove(\"/content/temp.zip\")\n",
        "          except:\n",
        "            os.rename(\"temp.zip\",\"temp.rar\")\n",
        "            patoolib.extract_archive(\"temp.rar\", outdir=\"/content/dataset/usages\")\n",
        "            os.remove(\"/content/temp.rar\")\n",
        "        elif \"estaciones\" in l:\n",
        "          print(l)\n",
        "          enlace = link.get('href')\n",
        "          url = pagina+enlace\n",
        "          r = requests.get(url, allow_redirects=True)\n",
        "          open('temp.aspx', 'wb').write(r.content)\n",
        "          os.rename(\"temp.aspx\",\"temp.zip\")\n",
        "          try:\n",
        "            with zipfile.ZipFile(\"/content/temp.zip\", 'r') as zip_ref:\n",
        "              zip_ref.extractall(\"/content/dataset/stations\")\n",
        "            os.remove(\"/content/temp.zip\")\n",
        "          except:\n",
        "            os.rename(\"temp.zip\",\"temp.rar\")\n",
        "            patoolib.extract_archive(\"temp.rar\", outdir=\"/content/dataset/stations\")\n",
        "            os.remove(\"/content/temp.rar\")"
      ],
      "execution_count": null,
      "outputs": []
    },
    {
      "cell_type": "code",
      "metadata": {
        "id": "raadBW_0iygh",
        "colab_type": "code",
        "colab": {
          "base_uri": "https://localhost:8080/"
        },
        "outputId": "6129b370-e30c-4ade-fd1c-4bdbef807e43"
      },
      "source": [
        "#Trabajamos con los datos disponibles de 2019\n",
        "for i in range(1,7):\n",
        "  descarga(i,2019)"
      ],
      "execution_count": null,
      "outputs": [
        {
          "output_type": "stream",
          "text": [
            "Datos de uso de Enero de 2019. Nueva ventana\n",
            "Situación estaciones bicimad por día y hora de Enero de 2019. Nueva ventana\n",
            "Datos de uso de Febrero de 2019. Nueva ventana\n",
            "Situación estaciones bicimad por día y hora de Febrero de 2019. Nueva ventana\n",
            "patool: Extracting temp.rar ...\n",
            "patool: running /usr/bin/unrar x -- /content/temp.rar\n",
            "patool:     with cwd='/content/dataset/stations'\n",
            "patool: ... temp.rar extracted to `/content/dataset/stations'.\n",
            "Datos de uso de Marzo de 2019. Nueva ventana\n",
            "Situación estaciones bicimad por día y hora de Marzo de 2019. Nueva ventana\n",
            "patool: Extracting temp.rar ...\n",
            "patool: running /usr/bin/unrar x -- /content/temp.rar\n",
            "patool:     with cwd='/content/dataset/stations'\n",
            "patool: ... temp.rar extracted to `/content/dataset/stations'.\n",
            "Datos de uso de Abril de 2019. Nueva ventana\n",
            "Situación estaciones bicimad por día y hora de Abril de 2019. Nueva ventana\n",
            "patool: Extracting temp.rar ...\n",
            "patool: running /usr/bin/unrar x -- /content/temp.rar\n",
            "patool:     with cwd='/content/dataset/stations'\n",
            "patool: ... temp.rar extracted to `/content/dataset/stations'.\n",
            "Datos de uso de Mayo de 2019. Nueva ventana\n",
            "Situación estaciones bicimad por día y hora de Mayo de 2019. Nueva ventana\n",
            "patool: Extracting temp.rar ...\n",
            "patool: running /usr/bin/unrar x -- /content/temp.rar\n",
            "patool:     with cwd='/content/dataset/stations'\n",
            "patool: ... temp.rar extracted to `/content/dataset/stations'.\n",
            "Datos de uso de Junio de 2019. Nueva ventana\n",
            "Situación estaciones bicimad por día y hora de Junio de 2019. Nueva ventana\n",
            "patool: Extracting temp.rar ...\n",
            "patool: running /usr/bin/unrar x -- /content/temp.rar\n",
            "patool:     with cwd='/content/dataset/stations'\n",
            "patool: ... temp.rar extracted to `/content/dataset/stations'.\n"
          ],
          "name": "stdout"
        }
      ]
    },
    {
      "cell_type": "markdown",
      "metadata": {
        "id": "6l1JrKnQlPbm",
        "colab_type": "text"
      },
      "source": [
        "# **Creamos los RDD**\n",
        "Una vez tenemos las bases de datos descargadas vamos a codificarlas de forma cómoda."
      ]
    },
    {
      "cell_type": "markdown",
      "metadata": {
        "id": "s2_J09HfldNw",
        "colab_type": "text"
      },
      "source": [
        "Para tener los datos almacenados de una forma accesible, primero creamos un diccionario cuya clave va a ser un string con el mes y el año del dataset y como valor va a tener el rdd asociado al uso por usuario de ese mes.\n",
        "\n",
        "La funcion `mapper_usages` nos servirá para crear la rdd más legible. Nos quedaremos con los datos necesarios y cada línea la codificaremos como un diccionario."
      ]
    },
    {
      "cell_type": "code",
      "metadata": {
        "id": "qKXOxYtPlUPZ",
        "colab_type": "code",
        "colab": {}
      },
      "source": [
        "rdd_usages = {} "
      ],
      "execution_count": null,
      "outputs": []
    },
    {
      "cell_type": "code",
      "metadata": {
        "id": "fQ1WZW9ylnFQ",
        "colab_type": "code",
        "colab": {}
      },
      "source": [
        "def mapper_usages(line):\n",
        "  data = json.loads(line)\n",
        "  user = data['user_type']\n",
        "  user_day = data['user_day_code']\n",
        "  start = data['idunplug_station']\n",
        "  end = data['idplug_station']\n",
        "  date = data['unplug_hourTime']['$date'][0:10]\n",
        "  hora = data['unplug_hourTime']['$date'][11:19]\n",
        "  time = data['travel_time']\n",
        "  age = data['ageRange']\n",
        "  try:\n",
        "    track = data['track']\n",
        "  except:\n",
        "    track = None\n",
        "  return {\"user_type\": user,\n",
        "          \"user_day_code\": user_day,\n",
        "          \"start\": start,\n",
        "          \"end\": end,\n",
        "          \"travel_time\": time,\n",
        "          \"date\": date,\n",
        "          \"hour\": hora,\n",
        "          \"age\": age,\n",
        "          \"track\": track}"
      ],
      "execution_count": null,
      "outputs": []
    },
    {
      "cell_type": "code",
      "metadata": {
        "id": "d9pIrqUclrQl",
        "colab_type": "code",
        "colab": {
          "base_uri": "https://localhost:8080/"
        },
        "outputId": "31434d3d-30c4-460b-a323-83c5d6e66550"
      },
      "source": [
        "directory = 'dataset/usages'\n",
        "rdd_usages['2019'] = sc.emptyRDD()\n",
        "for filename in os.listdir(directory):\n",
        "    if filename.endswith(\".json\"):\n",
        "      #Nos quedamos con la fecha del dataset en formato YYYYMM\n",
        "      name = filename.split(\"_\")[0]\n",
        "      rdd_usages[name] = sc.textFile(os.path.join(directory, filename)).map(mapper_usages)\n",
        "      rdd_usages['2019'] = rdd_usages['2019'].union(rdd_usages[name])\n",
        "      #DEBUG starts\n",
        "      print(name)\n",
        "      #DEBUG ends\n",
        "    else:\n",
        "        continue"
      ],
      "execution_count": null,
      "outputs": [
        {
          "output_type": "stream",
          "text": [
            "201901\n",
            "201905\n",
            "201903\n",
            "201904\n",
            "201906\n",
            "201902\n"
          ],
          "name": "stdout"
        }
      ]
    },
    {
      "cell_type": "code",
      "metadata": {
        "id": "IHVwJiV1EtYD",
        "colab_type": "code",
        "colab": {
          "base_uri": "https://localhost:8080/"
        },
        "outputId": "14399174-2824-4a24-e479-369ad1ad0b47"
      },
      "source": [
        "#Ejemplo de nuestra estructura de datos para los usos\n",
        "rdd_usages['2019'].take(1)"
      ],
      "execution_count": null,
      "outputs": [
        {
          "output_type": "execute_result",
          "data": {
            "text/plain": [
              "[{'age': 0,\n",
              "  'date': '2019-01-01',\n",
              "  'end': 83,\n",
              "  'hour': '00:00:00',\n",
              "  'start': 82,\n",
              "  'track': {'features': [{'geometry': {'coordinates': [-3.6803143, 40.4048615],\n",
              "      'type': 'Point'},\n",
              "     'properties': {'secondsfromstart': 153,\n",
              "      'speed': 1.77,\n",
              "      'var': '28007,ES,Madrid,Madrid,AVDA MENENDEZ PELAYO 117,Madrid'},\n",
              "     'type': 'Feature'},\n",
              "    {'geometry': {'coordinates': [-3.67770349972222, 40.4029987997222],\n",
              "      'type': 'Point'},\n",
              "     'properties': {'secondsfromstart': 93,\n",
              "      'speed': 6.58,\n",
              "      'var': '28007,ES,Madrid,Madrid,AVDA CIUDAD DE BARCELONA 51,Madrid'},\n",
              "     'type': 'Feature'},\n",
              "    {'geometry': {'coordinates': [-3.67432209972222, 40.4009430997222],\n",
              "      'type': 'Point'},\n",
              "     'properties': {'secondsfromstart': 32,\n",
              "      'speed': 4.72,\n",
              "      'var': '28007,ES,Madrid,Madrid,AVDA CIUDAD DE BARCELONA 81,Madrid'},\n",
              "     'type': 'Feature'}],\n",
              "   'type': 'FeatureCollection'},\n",
              "  'travel_time': 162,\n",
              "  'user_day_code': 'b3b5b61509ab89afbf4d1e589d229bebe6637c2de819f5d612762c939b8d7f1f',\n",
              "  'user_type': 1}]"
            ]
          },
          "metadata": {
            "tags": []
          },
          "execution_count": 12
        }
      ]
    },
    {
      "cell_type": "markdown",
      "metadata": {
        "id": "muBX-1kTly_Y",
        "colab_type": "text"
      },
      "source": [
        "Por otro lado, un diccionario cuya clave va a ser también un string con el mes y el año del dataset y como valor va a tener el rdd asociado a la ocupación de las estaciones en ese mes.\n",
        "\n",
        "Aquí usaremos la funcion `mapper_stations` para acomodar los datos."
      ]
    },
    {
      "cell_type": "code",
      "metadata": {
        "id": "Do-vrp0Ul3uZ",
        "colab_type": "code",
        "colab": {}
      },
      "source": [
        "rdd_stations = {}"
      ],
      "execution_count": null,
      "outputs": []
    },
    {
      "cell_type": "code",
      "metadata": {
        "id": "HhR9BSlSl5xZ",
        "colab_type": "code",
        "colab": {}
      },
      "source": [
        "def mapper_stations(line):\n",
        "  data = json.loads(line)\n",
        "  day = data['_id'][0:10]\n",
        "  hour = data['_id'][11:27]\n",
        "  station = data['stations']\n",
        "  return {\"day\": day, \"hour\": hour, \"station\": station}"
      ],
      "execution_count": null,
      "outputs": []
    },
    {
      "cell_type": "code",
      "metadata": {
        "id": "pLEPxjcBl77p",
        "colab_type": "code",
        "colab": {
          "base_uri": "https://localhost:8080/"
        },
        "outputId": "0ed7d9b8-1117-4c3c-afa7-43f0c6fc9056"
      },
      "source": [
        "directory = 'dataset/stations'\n",
        "rdd_stations['2019'] = sc.emptyRDD()\n",
        "for filename in os.listdir(directory):\n",
        "    if filename.endswith(\".json\"):\n",
        "      #Nos quedamos con la fecha del dataset en formato YYYYMM\n",
        "      name = filename.split(\"_\")[2].split(\".\")[0]\n",
        "      rdd_stations[name] = sc.textFile(os.path.join(directory, filename)).map(mapper_stations)\n",
        "      rdd_stations['2019'] = rdd_stations['2019'].union(rdd_stations[name])\n",
        "      #DEBUG starts\n",
        "      print(name)\n",
        "      #DEBUG ends\n",
        "    else:\n",
        "        continue"
      ],
      "execution_count": null,
      "outputs": [
        {
          "output_type": "stream",
          "text": [
            "201904\n",
            "201903\n",
            "201906\n",
            "201902\n",
            "201901\n",
            "201905\n"
          ],
          "name": "stdout"
        }
      ]
    },
    {
      "cell_type": "markdown",
      "metadata": {
        "id": "-C02tMVwlhC8",
        "colab_type": "text"
      },
      "source": [
        "# **Análisis de los meses disponibles de 2019**\n",
        "En esta primera parte tratamos los 6 primeros meses de 2019, para tener un abanico de datos más amplio del uso de BiciMad."
      ]
    },
    {
      "cell_type": "markdown",
      "metadata": {
        "id": "KosiIgA650BR",
        "colab_type": "text"
      },
      "source": [
        "### **Analisis y comparativas entre datos nocturnos y diurnos**\n",
        "De una forma breve, vemos la diferencia entre los datos nocturnos y diurnos, simplemente teniendo en cuenta el número de usuarios."
      ]
    },
    {
      "cell_type": "markdown",
      "metadata": {
        "id": "nhnFA97lmF-J",
        "colab_type": "text"
      },
      "source": [
        "Tomaremos como 'horas nocturnas' las horas comprendidas entre las 00:00 y las 05:59. Ahora, como en los archivos de BiciMAD solo se distinguen las horas exactas, nuestras referencias nocturnas serán las 00:00, 01:00, 02:00, 03:00, 04:00 y 05:00."
      ]
    },
    {
      "cell_type": "code",
      "metadata": {
        "id": "R2NgdfiiouH5",
        "colab_type": "code",
        "colab": {}
      },
      "source": [
        "#Con esta función filtramos los datos de la rdd que sean nocturnos.\n",
        "def horasNocturnas(data):\n",
        "  hora_minima = 0\n",
        "  hora_maxima = 6\n",
        "  hora_actual = int(data['hour'][:2])\n",
        "  if hora_minima < hora_maxima:\n",
        "    return hora_minima <= hora_actual and hora_actual < hora_maxima\n",
        "  elif hora_minima > hora_maxima:\n",
        "    return hora_minima <= hora_actual or hora_actual < hora_maxima"
      ],
      "execution_count": null,
      "outputs": []
    },
    {
      "cell_type": "code",
      "metadata": {
        "id": "tf2dLvsamsx9",
        "colab_type": "code",
        "colab": {}
      },
      "source": [
        "rddNocturna = rdd_usages['2019'].filter(lambda x: horasNocturnas(x))"
      ],
      "execution_count": null,
      "outputs": []
    },
    {
      "cell_type": "code",
      "metadata": {
        "id": "LUr-oo96mVlY",
        "colab_type": "code",
        "colab": {
          "base_uri": "https://localhost:8080/",
          "height": 35
        },
        "outputId": "cc75ec34-3e0c-4ebd-eeee-6899f32ac2ec"
      },
      "source": [
        "#Separamos ahora por tipo de usuario, para el caso nocturno\n",
        "night_data = rddNocturna.map(lambda x: x['user_type']).countByValue()\n",
        "night_data"
      ],
      "execution_count": null,
      "outputs": [
        {
          "output_type": "execute_result",
          "data": {
            "text/plain": [
              "defaultdict(int, {0: 203, 1: 154927, 2: 1381, 3: 23428})"
            ]
          },
          "metadata": {
            "tags": []
          },
          "execution_count": 18
        }
      ]
    },
    {
      "cell_type": "markdown",
      "metadata": {
        "id": "B0rPKDGZnoNs",
        "colab_type": "text"
      },
      "source": [
        "Creamos una gráfica para ver mejor los datos."
      ]
    },
    {
      "cell_type": "code",
      "metadata": {
        "id": "elTfuGWJpLA2",
        "colab_type": "code",
        "colab": {
          "base_uri": "https://localhost:8080/",
          "height": 303
        },
        "outputId": "d4bf9566-7927-4020-d190-6a46fbf36465"
      },
      "source": [
        "plt.title('Datos por tipo de usuario nocturnos en 6 meses')\n",
        "names = list(night_data.keys()) \n",
        "values = list(night_data.values())\n",
        "plt.bar(names, values, 1)\n",
        "plt.xlabel('Tipo de usuarios', fontsize=18)\n",
        "plt.ylabel('Cantidad de usuarios', fontsize=16)\n",
        "names.sort()\n",
        "plt.xticks(names, [\"0\",\"1\",\"2\",\"3\"])\n",
        "plt.show()"
      ],
      "execution_count": null,
      "outputs": [
        {
          "output_type": "display_data",
          "data": {
            "image/png": "[encoded data removed]",
            "text/plain": [
              "<Figure size 432x288 with 1 Axes>"
            ]
          },
          "metadata": {
            "tags": [],
            "needs_background": "light"
          }
        }
      ]
    },
    {
      "cell_type": "markdown",
      "metadata": {
        "id": "ifDFmsLAoQ-m",
        "colab_type": "text"
      },
      "source": [
        "Podemos observar cómo la mayoría de usuarios que han usado BiciMAD por la noche son usuarios del tipo 1, es decir, los anuales, mientras que hay muy pocos usuarios ocasionales. "
      ]
    },
    {
      "cell_type": "code",
      "metadata": {
        "id": "dzQs5KiHpi9C",
        "colab_type": "code",
        "colab": {}
      },
      "source": [
        "#Realizamos lo propio para el caso diurno\n",
        "rddDiurna =  rdd_usages['2019'].filter(lambda x: not(horasNocturnas(x)))"
      ],
      "execution_count": null,
      "outputs": []
    },
    {
      "cell_type": "code",
      "metadata": {
        "id": "lsgyxLYbpCJx",
        "colab_type": "code",
        "colab": {
          "base_uri": "https://localhost:8080/",
          "height": 35
        },
        "outputId": "506cd74f-58ca-42a3-aae7-c24f79636b75"
      },
      "source": [
        "day_data = rddDiurna.map(lambda x: x['user_type']).countByValue()\n",
        "day_data"
      ],
      "execution_count": null,
      "outputs": [
        {
          "output_type": "execute_result",
          "data": {
            "text/plain": [
              "defaultdict(int, {0: 1646, 1: 1767639, 2: 25599, 3: 118387})"
            ]
          },
          "metadata": {
            "tags": []
          },
          "execution_count": 21
        }
      ]
    },
    {
      "cell_type": "code",
      "metadata": {
        "id": "R3-qnozJ7I6f",
        "colab_type": "code",
        "colab": {
          "base_uri": "https://localhost:8080/",
          "height": 303
        },
        "outputId": "529e4481-e201-429a-88a1-2f8f0cc32838"
      },
      "source": [
        "plt.title('Datos por tipo de usuario diurnos en 6 meses')\n",
        "names = list(day_data.keys()) \n",
        "values = list(day_data.values())\n",
        "plt.bar(names, values, 1)\n",
        "plt.xlabel('Tipo de usuarios', fontsize=18)\n",
        "plt.ylabel('Cantidad de usuarios', fontsize=16)\n",
        "names.sort()\n",
        "plt.xticks(names, [\"0\",\"1\",\"2\",\"3\"])\n",
        "plt.show()"
      ],
      "execution_count": null,
      "outputs": [
        {
          "output_type": "display_data",
          "data": {
            "image/png": "[encoded data removed]",
            "text/plain": [
              "<Figure size 432x288 with 1 Axes>"
            ]
          },
          "metadata": {
            "tags": [],
            "needs_background": "light"
          }
        }
      ]
    },
    {
      "cell_type": "markdown",
      "metadata": {
        "id": "IJb9B0UlqVoB",
        "colab_type": "text"
      },
      "source": [
        "Los datos de los histogramas nocturno y diurno son muy parecidos, por lo que para ver la diferencia entre ambos es necesario hacer una proporción."
      ]
    },
    {
      "cell_type": "code",
      "metadata": {
        "id": "HN6Jm3fiqrlO",
        "colab_type": "code",
        "colab": {
          "base_uri": "https://localhost:8080/",
          "height": 35
        },
        "outputId": "13c43f53-a10b-4ae5-b9c7-76f6f0af3904"
      },
      "source": [
        "#Proporción ocasionales/anuales en los datos nocturnos\n",
        "print(\"Proporción 'nocturna' entre tipo 2 sobre tipo 1: \", night_data[2]/night_data[1])"
      ],
      "execution_count": null,
      "outputs": [
        {
          "output_type": "stream",
          "text": [
            "Proporción 'nocturna' entre tipo 2 sobre tipo 1:  0.008913875567202618\n"
          ],
          "name": "stdout"
        }
      ]
    },
    {
      "cell_type": "code",
      "metadata": {
        "id": "aQ6gNFlNqfOJ",
        "colab_type": "code",
        "colab": {
          "base_uri": "https://localhost:8080/",
          "height": 35
        },
        "outputId": "f4c574a2-a5bc-41ec-e117-2b1c4e09d5ea"
      },
      "source": [
        "#Proporción ocasionales/anuales en los datos diurnos\n",
        "print(\"Proporción 'diurna' entre tipo 2 sobre tipo 1: \", day_data[2]/day_data[1])"
      ],
      "execution_count": null,
      "outputs": [
        {
          "output_type": "stream",
          "text": [
            "Proporción 'diurna' entre tipo 2 sobre tipo 1:  0.014482029418902842\n"
          ],
          "name": "stdout"
        }
      ]
    },
    {
      "cell_type": "markdown",
      "metadata": {
        "id": "ZwyAWmia6ZcD",
        "colab_type": "text"
      },
      "source": [
        "Ambas proporciones son muy parecidas y bastante bajas por lo que los usuarios ocasionales no repercuten en gran medida en los datos, ya que principalmente los usuarios de BiciMAD son de tipo anual."
      ]
    },
    {
      "cell_type": "markdown",
      "metadata": {
        "id": "5HHl--Qv6IJR",
        "colab_type": "text"
      },
      "source": [
        "### **Análisis de días laborables y fines de semana**\n",
        "Cabe pensar que el uso de BiciMAD por la noche se acentúa durante los fines de semana, de ahí este apartado."
      ]
    },
    {
      "cell_type": "markdown",
      "metadata": {
        "id": "9zwZE54SsCua",
        "colab_type": "text"
      },
      "source": [
        "Lo primero que necesitamos es una función que nos diferencia entre días laborables y fines de semana. Tomaremos como fin de semana viernes, sábado y domingo.\n",
        "\n",
        "Utilizaremos la librería `datatime`, para obtener de forma sencilla qué día de la semana es una fecha dada."
      ]
    },
    {
      "cell_type": "code",
      "metadata": {
        "id": "iIGfp7HVsPSj",
        "colab_type": "code",
        "colab": {}
      },
      "source": [
        "from datetime import datetime, date, time, timedelta\n",
        "import calendar\n",
        "def cambioFormato(fecha):\n",
        "  formato1 = \"%A\" #formatos: https://python-para-impacientes.blogspot.com/2014/02/operaciones-con-fechas-y-horas.html \n",
        "                            #https://blog.ipswitch.com/es/formato-de-fecha-en-python \n",
        "  dia=datetime.strptime(fecha, '%Y-%m-%d') #El segundo dato es el formato que tiene la fecha que le estoy dando\n",
        "  dia_1=dia.strftime(formato1)\n",
        "  return dia_1"
      ],
      "execution_count": null,
      "outputs": []
    },
    {
      "cell_type": "code",
      "metadata": {
        "id": "e5mJjllOsTFp",
        "colab_type": "code",
        "colab": {}
      },
      "source": [
        "def weekend(line, madrugada):\n",
        "  \"\"\"\n",
        "  madrugada es un booleano para decirle si queremos que nos coja los días pero por la noche.\n",
        "  Por ejemplo, en las horas nocturnas queremos que coja los sábados, los domingos y los lunes.\n",
        "  \"\"\"\n",
        "  if madrugada:\n",
        "    days=['Saturday', 'Sunday', 'Monday']\n",
        "  else:\n",
        "    days=['Friday', 'Saturday', 'Sunday'] \n",
        "  #por ejemplo si queremos los datos diurnos, pues lo pondríamos a 'not weekend(fecha, FALSE)'\n",
        "  dia=cambioFormato(line['date'])\n",
        "  return dia in days"
      ],
      "execution_count": null,
      "outputs": []
    },
    {
      "cell_type": "code",
      "metadata": {
        "id": "mhw8JA0wki-7",
        "colab_type": "code",
        "colab": {
          "base_uri": "https://localhost:8080/",
          "height": 35
        },
        "outputId": "c8caf40c-83d1-408c-ade2-827b9f511d61"
      },
      "source": [
        "rddWeekend=rddNocturna.filter(lambda x: weekend(x, True)) #madrugada a True porque estamos usando datos nocturnos.\n",
        "weekend_data=rddWeekend.map(lambda x: x['user_type']).countByValue()\n",
        "weekend_data"
      ],
      "execution_count": null,
      "outputs": [
        {
          "output_type": "execute_result",
          "data": {
            "text/plain": [
              "defaultdict(int, {0: 162, 1: 88006, 2: 954, 3: 8922})"
            ]
          },
          "metadata": {
            "tags": []
          },
          "execution_count": 27
        }
      ]
    },
    {
      "cell_type": "code",
      "metadata": {
        "id": "MEFxYX_d3_SS",
        "colab_type": "code",
        "colab": {
          "base_uri": "https://localhost:8080/",
          "height": 134
        },
        "outputId": "544a331d-9699-4e00-801a-fc724a14533e"
      },
      "source": [
        "fig=plt.figure()\n",
        "fig.subplots_adjust(bottom=0.025, left=0.05, top = 0.975, right=0.975)\n",
        "fig.add_subplot(1,4,1)\n",
        "plt.pie([night_data[0]-weekend_data[0], weekend_data[0]], labels=['L-J', 'V-D'],\n",
        "        autopct='%1.1f%%', shadow=True, startangle=90)\n",
        "plt.title('Indefinido')\n",
        "fig.add_subplot(1,4,2)\n",
        "plt.pie([night_data[1]-weekend_data[1], weekend_data[1]], labels=['L-J', 'V-D'],\n",
        "        autopct='%1.1f%%', shadow=True, startangle=90)\n",
        "plt.title('Anuales')\n",
        "fig.add_subplot(1,4,3)\n",
        "plt.pie([night_data[2]-weekend_data[2], weekend_data[2]], labels=['L-J', 'V-D'],\n",
        "        autopct='%1.1f%%', shadow=True, startangle=90)\n",
        "plt.title('Ocasionales')\n",
        "fig.add_subplot(1,4,4)\n",
        "plt.pie([night_data[3]-weekend_data[3], weekend_data[3]], labels=['L-J', 'V-D'],\n",
        "        autopct='%1.1f%%', shadow=True, startangle=90)\n",
        "plt.title('Trabajadores')\n",
        "#plt.legend(['entre semana', 'fin de semana'], loc=4)\n",
        "plt.show()"
      ],
      "execution_count": null,
      "outputs": [
        {
          "output_type": "display_data",
          "data": {
            "image/png": "[encoded data removed]",
            "text/plain": [
              "<Figure size 432x288 with 4 Axes>"
            ]
          },
          "metadata": {
            "tags": []
          }
        }
      ]
    },
    {
      "cell_type": "markdown",
      "metadata": {
        "id": "ADqigq0d1LwJ",
        "colab_type": "text"
      },
      "source": [
        "Como vemos, más de la mitad de viajeros que tienen pase anual, utilizan BiciMAD en el fin de semana. Podemos ver que incluso casi el 70% de los viajes ocasionales se producen durante el fin de semana. Sin embargo, de los trabajadores de la empresa, solo el 38% lo hace en fin de semana.\n"
      ]
    },
    {
      "cell_type": "markdown",
      "metadata": {
        "id": "PFh2xpeGEwMy",
        "colab_type": "text"
      },
      "source": [
        "El porcentaje de los usuarios ocasionales es interesante compararlo con el estudio que habíamos realizado antes. En ese caso no se observaba una diferencia notable de este tipo de usuarios entre las horas nocturnas y las diurnas. Sin embargo, ahora sí que hay una clara diferencia teniendo en cuenta tan solo los días en horas nocturnas. Esto se puede deber a que, como sale más gente joven, hagan uso de BiciMAD puntualmente para desplazarse."
      ]
    },
    {
      "cell_type": "markdown",
      "metadata": {
        "id": "FKK2lUlid6EW",
        "colab_type": "text"
      },
      "source": [
        "Veamos ahora, los movimientos por horas.\n"
      ]
    },
    {
      "cell_type": "code",
      "metadata": {
        "id": "H5mxPxhseSov",
        "colab_type": "code",
        "colab": {}
      },
      "source": [
        "def movimientosPorHoras(data):\n",
        "  hora = data['hour']\n",
        "  user = data['user_type']\n",
        "  age = data['age']\n",
        "  return hora, (user, age)"
      ],
      "execution_count": null,
      "outputs": []
    },
    {
      "cell_type": "markdown",
      "metadata": {
        "id": "zbZb6x4nvsqx",
        "colab_type": "text"
      },
      "source": [
        "Tomamos los movimientos por horas nocturnos:"
      ]
    },
    {
      "cell_type": "code",
      "metadata": {
        "id": "uAXoFAalvqpF",
        "colab_type": "code",
        "colab": {
          "base_uri": "https://localhost:8080/",
          "height": 139
        },
        "outputId": "d5e64f35-505a-4459-d918-30a6966daaf5"
      },
      "source": [
        "time_data=rddNocturna.map(movimientosPorHoras).countByKey()\n",
        "time_data"
      ],
      "execution_count": null,
      "outputs": [
        {
          "output_type": "execute_result",
          "data": {
            "text/plain": [
              "defaultdict(int,\n",
              "            {'00:00:00': 59407,\n",
              "             '01:00:00': 43304,\n",
              "             '02:00:00': 31143,\n",
              "             '03:00:00': 19471,\n",
              "             '04:00:00': 14793,\n",
              "             '05:00:00': 11821})"
            ]
          },
          "metadata": {
            "tags": []
          },
          "execution_count": 30
        }
      ]
    },
    {
      "cell_type": "markdown",
      "metadata": {
        "id": "_1_nUtjovc6l",
        "colab_type": "text"
      },
      "source": [
        "Tomamos los movimientos por horas en fin de semana:"
      ]
    },
    {
      "cell_type": "code",
      "metadata": {
        "id": "jvF6nnsHBuhi",
        "colab_type": "code",
        "colab": {
          "base_uri": "https://localhost:8080/",
          "height": 139
        },
        "outputId": "7f27f594-062a-46c9-b97d-202174de7a30"
      },
      "source": [
        "weekend_time_data = rddWeekend.map(movimientosPorHoras).countByKey()\n",
        "weekend_time_data"
      ],
      "execution_count": null,
      "outputs": [
        {
          "output_type": "execute_result",
          "data": {
            "text/plain": [
              "defaultdict(int,\n",
              "            {'00:00:00': 26845,\n",
              "             '01:00:00': 23227,\n",
              "             '02:00:00': 18568,\n",
              "             '03:00:00': 13009,\n",
              "             '04:00:00': 9402,\n",
              "             '05:00:00': 6993})"
            ]
          },
          "metadata": {
            "tags": []
          },
          "execution_count": 31
        }
      ]
    },
    {
      "cell_type": "markdown",
      "metadata": {
        "id": "RibzKx4FwXpi",
        "colab_type": "text"
      },
      "source": [
        "Creamos dos gráficos, uno con los días laborables y otro con los fines de semana."
      ]
    },
    {
      "cell_type": "code",
      "metadata": {
        "id": "WTFI7kqnxO43",
        "colab_type": "code",
        "colab": {
          "base_uri": "https://localhost:8080/",
          "height": 121
        },
        "outputId": "e5ab303e-ba5c-464a-b22d-0a618eadbf37"
      },
      "source": [
        "\"\"\"\n",
        "Para obtener los días laborables, tenemos que 'restar' los datos de los fines de semana a los totales.\n",
        "\"\"\"\n",
        "laborable_time_data={}\n",
        "for i in range(0,6):\n",
        "  laborable_time_data['0'+str(i)+':00:00']=time_data['0'+str(i)+':00:00'] - weekend_time_data['0'+str(i)+':00:00']\n",
        "laborable_time_data"
      ],
      "execution_count": null,
      "outputs": [
        {
          "output_type": "execute_result",
          "data": {
            "text/plain": [
              "{'00:00:00': 32562,\n",
              " '01:00:00': 20077,\n",
              " '02:00:00': 12575,\n",
              " '03:00:00': 6462,\n",
              " '04:00:00': 5391,\n",
              " '05:00:00': 4828}"
            ]
          },
          "metadata": {
            "tags": []
          },
          "execution_count": 32
        }
      ]
    },
    {
      "cell_type": "code",
      "metadata": {
        "id": "sz70AxnqAEkI",
        "colab_type": "code",
        "colab": {
          "base_uri": "https://localhost:8080/",
          "height": 244
        },
        "outputId": "2356a531-3d96-45e2-89cc-7045fe40332d"
      },
      "source": [
        "fig=plt.figure()\n",
        "fig.subplots_adjust(bottom=0.025, left=0.05, top = 0.975, right=0.975)\n",
        "fig.add_subplot(1,2,1)\n",
        "plt.pie(list(laborable_time_data.values()), labels=list(laborable_time_data.keys()),\n",
        "        autopct='%1.1f%%', shadow=True, startangle=90)\n",
        "plt.title('Viajes nocturnos\\n por horas L-J')\n",
        "fig.add_subplot(1,2,2)\n",
        "plt.pie(list(weekend_time_data.values()), labels=list(weekend_time_data.keys()),\n",
        "        autopct='%1.1f%%', shadow=True, startangle=90)\n",
        "plt.title('Viajes nocturnos\\n por horas V-D')\n",
        "plt.show()"
      ],
      "execution_count": null,
      "outputs": [
        {
          "output_type": "display_data",
          "data": {
            "image/png": "[encoded data removed]",
            "text/plain": [
              "<Figure size 432x288 with 2 Axes>"
            ]
          },
          "metadata": {
            "tags": []
          }
        }
      ]
    },
    {
      "cell_type": "markdown",
      "metadata": {
        "id": "gFViHoToCZyZ",
        "colab_type": "text"
      },
      "source": [
        "Como vemos, en los días laborables casi el 65% de los viajes se realiza antes de las 2 de la madrugada, y este porcentaje se reduce al 51% cuando hablamos de los fines de semana, cuando se incrementa el número de viajes a partir de las 2 de la madrugada."
      ]
    },
    {
      "cell_type": "markdown",
      "metadata": {
        "id": "BZFdCqgXGv5H",
        "colab_type": "text"
      },
      "source": [
        "Para entenderlo mejor, veamos también distinciones por horas y usuarios."
      ]
    },
    {
      "cell_type": "code",
      "metadata": {
        "id": "xg87ylMrh79t",
        "colab_type": "code",
        "colab": {
          "base_uri": "https://localhost:8080/",
          "height": 1000
        },
        "outputId": "3bf584b1-2981-4c1f-f16e-94de1d2817ed"
      },
      "source": [
        "horas = ['00:00:00','01:00:00', '02:00:00', '03:00:00', '04:00:00', '05:00:00']\n",
        "def grafica(dic, value, modo):\n",
        "  fig=plt.figure()\n",
        "  fig.subplots_adjust(bottom=0.025, left=0.05, top = 0.975, right=0.975) \n",
        "  plt.pie(list(dic.values()), labels=list(dic.keys()),\n",
        "        autopct='%1.1f%%', shadow=True, startangle=90)\n",
        "  plt.title('Viajes segun '+modo+' a las '+horas[value]+' horas')\n",
        "  plt.show()\n",
        "\n",
        "rddHoras=rddNocturna.map(movimientosPorHoras)\n",
        "for i in range(len(horas)):\n",
        "  #grafica(rddHoras.filter(lambda x: x[0] == horas[i]).map(lambda x: (x[1][0], 1)).countByKey(), i)\n",
        "  grafica(rddHoras.filter(lambda x: x[0] == horas[i]).map(lambda x: (x[1][0], 1)).countByKey(), i, 'tipos')\n",
        "#Tarda un rato y he intentado ponerlo como lo ponia elisa pero quedaba muy pequeño y no se absolutamente nada. Asi se ve mas pero a lo mejor\n",
        "#ocupa demasiado."
      ],
      "execution_count": null,
      "outputs": [
        {
          "output_type": "display_data",
          "data": {
            "image/png": "[encoded data removed]",
            "text/plain": [
              "<Figure size 432x288 with 1 Axes>"
            ]
          },
          "metadata": {
            "tags": []
          }
        },
        {
          "output_type": "display_data",
          "data": {
            "image/png": "[encoded data removed]",
            "text/plain": [
              "<Figure size 432x288 with 1 Axes>"
            ]
          },
          "metadata": {
            "tags": []
          }
        },
        {
          "output_type": "display_data",
          "data": {
            "image/png": "[encoded data removed]",
            "text/plain": [
              "<Figure size 432x288 with 1 Axes>"
            ]
          },
          "metadata": {
            "tags": []
          }
        },
        {
          "output_type": "display_data",
          "data": {
            "image/png": "[encoded data removed]",
            "text/plain": [
              "<Figure size 432x288 with 1 Axes>"
            ]
          },
          "metadata": {
            "tags": []
          }
        },
        {
          "output_type": "display_data",
          "data": {
            "image/png": "[encoded data removed]",
            "text/plain": [
              "<Figure size 432x288 with 1 Axes>"
            ]
          },
          "metadata": {
            "tags": []
          }
        },
        {
          "output_type": "display_data",
          "data": {
            "image/png": "[encoded data removed]",
            "text/plain": [
              "<Figure size 432x288 with 1 Axes>"
            ]
          },
          "metadata": {
            "tags": []
          }
        }
      ]
    },
    {
      "cell_type": "markdown",
      "metadata": {
        "id": "UovvYw8m20tD",
        "colab_type": "text"
      },
      "source": [
        "Como ya habíamos visto, la mayoría de los trayectos realizados son de los usuarios de tipo 1, los anuales, pero también hay que tener en cuenta que entre la 1 y las 2 horas, hay más de un 15% de los viajes que son realizados por los trabajadores de la empresa, mientras que a las 12 y a las 3 de la madrugada, no superan el 12%. Otro dato destacable es que a partir de las 5 de la madrugada, casi el 97% de los viajes, son hechos por personas que tienen el abono anual."
      ]
    },
    {
      "cell_type": "markdown",
      "metadata": {
        "id": "e9ygIuq90ZUV",
        "colab_type": "text"
      },
      "source": [
        "### **Análisis por rango de edades**\n",
        "\n",
        "Breve análisis del uso nocturno de BiciMAD distinguiendo los usuarios por rangos de edades."
      ]
    },
    {
      "cell_type": "code",
      "metadata": {
        "id": "VZ4Tc3vhFvK9",
        "colab_type": "code",
        "colab": {
          "base_uri": "https://localhost:8080/",
          "height": 299
        },
        "outputId": "e92947aa-4248-4553-b618-5eeafcb05476"
      },
      "source": [
        "#Empezemos estudiando los usos nocturnos en fines de semana.\n",
        "\"\"\"\n",
        "Tenemos en cuenta que:\n",
        "0: no se identifica\n",
        "1: entre 0 y 16 años\n",
        "2: entre 17 y 18 años\n",
        "3: entre 19 y 26 años\n",
        "4: entre 27 y 40 años\n",
        "5: entre 41 y 65 años\n",
        "6: 66 años o más\n",
        "\"\"\"\n",
        "rddW_ages = rddWeekend.map(lambda x: (x['age'], 1)).countByKey()\n",
        "print(sorted(rddW_ages.items(), key=lambda x:x[0]))\n",
        "plt.bar(list(rddW_ages.keys()), list(rddW_ages.values()))\n",
        "plt.title('Viajes según los rangos de edad en fin de semana')\n",
        "plt.show()"
      ],
      "execution_count": null,
      "outputs": [
        {
          "output_type": "stream",
          "text": [
            "[(0, 51330), (1, 1320), (2, 695), (3, 7748), (4, 24374), (5, 12343), (6, 234)]\n"
          ],
          "name": "stdout"
        },
        {
          "output_type": "display_data",
          "data": {
            "image/png": "[encoded data removed]",
            "text/plain": [
              "<Figure size 432x288 with 1 Axes>"
            ]
          },
          "metadata": {
            "tags": [],
            "needs_background": "light"
          }
        }
      ]
    },
    {
      "cell_type": "markdown",
      "metadata": {
        "id": "uRQ8LMm1JYfc",
        "colab_type": "text"
      },
      "source": [
        "Aparte de los usuarios no identificados, los que más hacen un uso nocturno los fines de semana son los que están en la franja de edad de entre 27 y 40 años, lo que nos puede indicar que parte de la gente que utiliza BiciMAD es gente joven. Los usuarios de tipo 1 y 2, a pesar de ser jovenes también, es obvio que haya menos usos en esas edades ya que en las horas en las que estamos comparando no es común que gente menor de edad en la calle.\n",
        "\n",
        "Veamos ahora si este comportamiento es similiar a los días entre semana."
      ]
    },
    {
      "cell_type": "code",
      "metadata": {
        "id": "iKWxf5K0KRSP",
        "colab_type": "code",
        "colab": {
          "base_uri": "https://localhost:8080/",
          "height": 299
        },
        "outputId": "9cfa5a03-1e27-42ce-f238-b4dea2ac9c36"
      },
      "source": [
        "#Partimos de la RDD que tiene los datos filtrados por las horas nocturnas,\n",
        "#y con poner en filter que no sea fin de semana, tendremos los días laborables.\n",
        "rddWD_ages = rddNocturna.filter(lambda x: not weekend(x, True)).map(lambda x: (x['age'])).countByValue()\n",
        "print(sorted(rddWD_ages.items(), key=lambda x:x[0]))\n",
        "plt.bar(list(rddWD_ages.keys()), list(rddWD_ages.values()))\n",
        "plt.title('Viajes según los rangos de edad en días laborables')\n",
        "plt.show()"
      ],
      "execution_count": null,
      "outputs": [
        {
          "output_type": "stream",
          "text": [
            "[(0, 42262), (1, 1837), (2, 489), (3, 5698), (4, 19877), (5, 11616), (6, 116)]\n"
          ],
          "name": "stdout"
        },
        {
          "output_type": "display_data",
          "data": {
            "image/png": "[encoded data removed]",
            "text/plain": [
              "<Figure size 432x288 with 1 Axes>"
            ]
          },
          "metadata": {
            "tags": [],
            "needs_background": "light"
          }
        }
      ]
    },
    {
      "cell_type": "markdown",
      "metadata": {
        "id": "0DE4bLS-GLXe",
        "colab_type": "text"
      },
      "source": [
        "Aunque ambas gráficas son muy parecidas, pero mirando el numero exacto de datos, se observa un claro aumento de los usurios de tipo 3 y 4 en los fines de semana, que son aquellos cuyas edades están entre 19 y 26 años y entre 27 y 40 años, respectivamente. Podemos suponer por lo tanto, que los usuarios jóvenes y mayores de edad son los que más demanda tienen en horas nocturnas. Además, hay que tener en cuenta que los datos recogidos los fines de semana se establecen en menos días que los datos de diario por lo que el porcentaje de crecimiento es aún mayor. \n",
        "\n",
        "Esto está estrechamente relacionado con las gráficas vistas anteriormente en las que se observa claramente cómo hay un mayor uso los fines de semana.\n"
      ]
    },
    {
      "cell_type": "markdown",
      "metadata": {
        "id": "1Q81IyBrJfBr",
        "colab_type": "text"
      },
      "source": [
        "En los datos analizados, estamos teniendo en cuenta aquéllos que se obtienen por los trabajadores de la empresa, y como no nos interesan, veamos si hay algún cambio mayor suprimiendo a los trabajadores."
      ]
    },
    {
      "cell_type": "code",
      "metadata": {
        "id": "EIvxTnCIJ8QW",
        "colab_type": "code",
        "colab": {
          "base_uri": "https://localhost:8080/",
          "height": 52
        },
        "outputId": "cea7168f-a05f-4f52-c351-d3fb341f1288"
      },
      "source": [
        "#Eliminamos a los trabajadores de la empresa\n",
        "rddWD_ages2 = rddNocturna.filter(lambda x: not(weekend(x, True)) and x['user_type'] != 3).map(lambda x: (x['age'])).countByValue()\n",
        "rddW_ages2 = rddWeekend.filter(lambda x: not(x['user_type'] == 3)).map(lambda x: x['age']).countByValue()\n",
        "print(\"Días laborables:\", sorted(rddWD_ages2.items(), key=lambda x:x[0]))\n",
        "print(\"Fines de semana:\", sorted(rddW_ages2.items(), key=lambda x:x[0]))"
      ],
      "execution_count": null,
      "outputs": [
        {
          "output_type": "stream",
          "text": [
            "Días laborables: [(0, 37742), (1, 29), (2, 489), (3, 5698), (4, 15747), (5, 7568), (6, 116)]\n",
            "Fines de semana: [(0, 48590), (1, 71), (2, 695), (3, 7743), (4, 22304), (5, 9485), (6, 234)]\n"
          ],
          "name": "stdout"
        }
      ]
    },
    {
      "cell_type": "markdown",
      "metadata": {
        "id": "9MKmESvVRw9P",
        "colab_type": "text"
      },
      "source": [
        "Los datos son muy parecidos, aunque se observa, como habíamos visto antes, un mayor decrecimiento en los datos diarios ya que hay un mayor uso por parte de los trabajdores."
      ]
    },
    {
      "cell_type": "markdown",
      "metadata": {
        "id": "kan_I_65VnJi",
        "colab_type": "text"
      },
      "source": [
        "Más adelante haremos un estudio más detallado de los datos que nos proporcionan los empleados de BiciMAD."
      ]
    },
    {
      "cell_type": "markdown",
      "metadata": {
        "id": "uiIEjE3OCNa2",
        "colab_type": "text"
      },
      "source": [
        "### **Estaciones más y menos usadas**\n",
        "\n",
        "Esta sección podríamos haberla incluido como apartado en cada una de las anteriores, pero hemos preferido escribirla aparte para mayor claridad. Por ello, haremos un análisis del uso de las estaciones de forma general, parando en cada uno de los puntos anteriores."
      ]
    },
    {
      "cell_type": "code",
      "metadata": {
        "id": "G5H-eh9g5j-G",
        "colab_type": "code",
        "colab": {
          "base_uri": "https://localhost:8080/",
          "height": 72
        },
        "outputId": "369015e5-c8f2-4243-9569-b8a50443f9c8"
      },
      "source": [
        "#Primero veremos la estación más y menos usada de salida.    \n",
        "EstMasUsadasStart = rddNocturna.map(lambda x: (x['start'], 1)).reduceByKey(lambda x,y: x+y)\\\n",
        "               .sortBy(lambda x: x[1], False)\n",
        "print('El ranking de las estaciones más usadas como salida es:\\n', EstMasUsadasStart.take(10) )\n",
        "EstMenosUsadasStart = EstMasUsadasStart.sortBy(lambda x: x[1], True)\n",
        "print('El ranking de las estacione menos usadas como salida es:\\n', EstMenosUsadasStart.take(10))"
      ],
      "execution_count": null,
      "outputs": [
        {
          "output_type": "stream",
          "text": [
            "El ranking de las estaciones más usadas como salida es:  [(57, 3887), (38, 3105), (175, 2944), (59, 2790), (19, 2748), (129, 2715), (56, 2619), (1, 2603), (6, 2591), (62, 2427)]\n",
            "El ranking de las estacione menos usadas como salida es:  [(190, 29), (183, 30), (207, 30), (200, 34), (213, 46), (201, 48), (211, 50), (119, 67), (185, 80), (184, 81)]\n"
          ],
          "name": "stdout"
        }
      ]
    },
    {
      "cell_type": "code",
      "metadata": {
        "id": "e581YzYn2d--",
        "colab_type": "code",
        "colab": {
          "base_uri": "https://localhost:8080/",
          "height": 72
        },
        "outputId": "94f2668c-8b6e-4948-b1c1-504e3f06d463"
      },
      "source": [
        "#Ahora vemos las estación más y menos usadas como destino.\n",
        "EstMasUsadasEnd = rddNocturna.map(lambda x: (x['end'], 1)).reduceByKey(lambda x,y: x+y)\\\n",
        "               .sortBy(lambda x: x[1], False)\n",
        "print('El ranking de las estaciones más usadas como destino es:\\n' ,EstMasUsadasEnd.take(10) )\n",
        "EstMenosUsadasEnd= EstMasUsadasEnd.sortBy(lambda x: x[1], True)\n",
        "print('El ranking de las estaciones menos usadas como destino es:\\n', EstMenosUsadasEnd.take(10) )"
      ],
      "execution_count": null,
      "outputs": [
        {
          "output_type": "stream",
          "text": [
            "El ranking de las estaciones más usadas como destino es:  [(175, 3630), (135, 3585), (129, 3441), (57, 3078), (149, 2898), (83, 2648), (128, 2620), (91, 2497), (132, 2446), (90, 2370)]\n",
            "El ranking de las estaciones menos usadas como destino es:  [(207, 25), (183, 61), (211, 79), (37, 84), (201, 89), (100, 104), (200, 119), (97, 124), (213, 124), (184, 137)]\n"
          ],
          "name": "stdout"
        }
      ]
    },
    {
      "cell_type": "markdown",
      "metadata": {
        "id": "WNapmV2HD5QU",
        "colab_type": "text"
      },
      "source": [
        "¿Hay coincidencias? Veamos si algunas de las estaciones más y menos usadas como salida también son las más y menos usadas como destino."
      ]
    },
    {
      "cell_type": "code",
      "metadata": {
        "id": "n7LrFTqQD8n-",
        "colab_type": "code",
        "colab": {
          "base_uri": "https://localhost:8080/",
          "height": 72
        },
        "outputId": "b085526d-0017-46db-94e4-95025e392c9f"
      },
      "source": [
        "masUsadas =[]\n",
        "for i in EstMasUsadasStart.take(10):\n",
        "  for j in EstMasUsadasEnd.take(10):\n",
        "    if i[0]==j[0]:\n",
        "      masUsadas.append(i[0])\n",
        "print('Las estaciones que coinciden en estar entre las 10 más usadas como salida y destino son:\\n', masUsadas)\n",
        "menosUsadas=[]\n",
        "for i in EstMenosUsadasStart.take(10):\n",
        "  for j in EstMenosUsadasEnd.take(10):\n",
        "    if i[0]==j[0]:\n",
        "      menosUsadas.append(i[0])\n",
        "print('Las estaciones que coinciden en estar entre las 10 menos usadas como salida y destino son:\\n', menosUsadas)"
      ],
      "execution_count": null,
      "outputs": [
        {
          "output_type": "stream",
          "text": [
            "Las estaciones que coinciden en estar entre las 10 más usadas como salida y destino son:  [57, 175, 129]\n",
            "Las estaciones que coinciden en estar entre las 10 menos usadas como salida y destino son:  [183, 207, 200, 213, 201, 211, 184]\n"
          ],
          "name": "stdout"
        }
      ]
    },
    {
      "cell_type": "markdown",
      "metadata": {
        "id": "wqywwzgGH94a",
        "colab_type": "text"
      },
      "source": [
        "Vemos que hay 3 estaciones de entre las 10 más usadas que coinciden como salida y destino y 7 de las menos usadas.\n",
        "Veamos en qué zona están estas estaciones."
      ]
    },
    {
      "cell_type": "code",
      "metadata": {
        "id": "X2y50shxILJj",
        "colab_type": "code",
        "colab": {}
      },
      "source": [
        "#Creamos una 'base de datos' de las estaciones\n",
        "def crearDiEst(lista):\n",
        "  dicEstac={}\n",
        "  for station in lista:\n",
        "    dicEstac[station['id']]= {}\n",
        "    dicEstac[station['id']]['address']=station['address']\n",
        "  return dicEstac\n",
        "#Ahora tenemos que 'unir' todos los diccionarios.\n",
        "listEstacion = rdd_stations['2019'].map(lambda x: crearDiEst(x['station'])).collect()\n",
        "dicEstaciones = listEstacion[0]\n",
        "mayor = len(listEstacion[0])\n",
        "for diccionario in listEstacion:\n",
        "  dicEstaciones.update(diccionario)"
      ],
      "execution_count": null,
      "outputs": []
    },
    {
      "cell_type": "code",
      "metadata": {
        "id": "t-ehcEKzR56P",
        "colab_type": "code",
        "colab": {
          "base_uri": "https://localhost:8080/",
          "height": 191
        },
        "outputId": "0e66b922-32da-4c17-8c60-130f971c10f0"
      },
      "source": [
        "#Situación de las estaciones\n",
        "for estacion in masUsadas+menosUsadas:\n",
        "  print('La estacion',estacion, 'se encuentra en', dicEstaciones[estacion]['address'])"
      ],
      "execution_count": null,
      "outputs": [
        {
          "output_type": "stream",
          "text": [
            "La estacion 57 se encuentra en Calle Valencia n� 1\n",
            "La estacion 175 se encuentra en Calle Segovia, 45\n",
            "La estacion 129 se encuentra en Paseo de Santa Mar�a de la Cabeza n� 58\n",
            "La estacion 183 se encuentra en Jaime I el Conquistador, 30\n",
            "La estacion 207 se encuentra en Fernando el Cat�lico, 61\n",
            "La estacion 200 se encuentra en Avda. Toreros,3\n",
            "La estacion 213 se encuentra en Navarra, 1\n",
            "La estacion 201 se encuentra en Avda. Toreros, 49\n",
            "La estacion 211 se encuentra en General Ampudia, 2\n",
            "La estacion 184 se encuentra en Alicante, 3\n"
          ],
          "name": "stdout"
        }
      ]
    },
    {
      "cell_type": "markdown",
      "metadata": {
        "id": "yRmHmpAcYz6K",
        "colab_type": "text"
      },
      "source": [
        "Las tres primeras calles las encontramos cerca de Lavapiés, del Palacio Real y de Madrid Río. Son calles céntricas.\n",
        "\n",
        "Sin embargo, la estación 183, por ejemplo, en la calle de Jaime I el conquistador, está muy cerca de la calle Santa María de la Cabeza, cosa que llama la atención, pues una estación está entre las 10 más usadas, y otra entre las 10 que menos estando a tan solo 800m.\n",
        "También, en la calle Fernando el Católico, en Moncloa es de las menos usadas, puede ser porque ahí hay otros tipos de transporte más 'cómodos'.\n",
        "El resto de calles se encuentran tanto en el centro como en las afueras, por lo que tampoco podemos sacar ninguna conclusión clara."
      ]
    },
    {
      "cell_type": "markdown",
      "metadata": {
        "id": "tqrRqm3N-o4T",
        "colab_type": "text"
      },
      "source": [
        "Ahora lo interesante es ver las estaciones más y menos usadas por 'categorías'."
      ]
    },
    {
      "cell_type": "code",
      "metadata": {
        "id": "p3II7Z8__FUM",
        "colab_type": "code",
        "colab": {
          "base_uri": "https://localhost:8080/",
          "height": 107
        },
        "outputId": "7c17d6a6-8158-448a-c632-9264104019f0"
      },
      "source": [
        "#Laborables y fines de semana (nocturno).\n",
        "EstMasUsadasLaborable = rddNocturna.filter(lambda x:  not weekend(x, True)).map(lambda x: (x['start'], 1))\\\n",
        "                        .reduceByKey(lambda x,y: x+y).sortBy(lambda x: x[1], False)\n",
        "print('El ranking de estaciones más usadas como salida en días laborables es:\\n' ,EstMasUsadasLaborable.take(10) )\n",
        "EstMenosUsadasLaborable= EstMasUsadasLaborable.sortBy(lambda x: x[1], True)\n",
        "print('El ranking de las estaciones menos usadas como salida en días laborables es:\\n', EstMenosUsadasLaborable.take(10) )\n",
        "\n",
        "EstMasUsadasWeekend = rddNocturna.filter(lambda x:  weekend(x, True)).map(lambda x: (x['start'], 1))\\\n",
        "                        .reduceByKey(lambda x,y: x+y).sortBy(lambda x: x[1], False)\n",
        "print('El ranking de estaciones más usadas como salida en fin de semana es:\\n' ,EstMasUsadasWeekend.take(10) )\n",
        "EstMenosUsadasWeekend = EstMasUsadasWeekend.sortBy(lambda x: x[1], True)\n",
        "print('El ranking de las estaciones menos usadas como salida en fin de semana es:\\n', EstMenosUsadasWeekend.take(10) )"
      ],
      "execution_count": null,
      "outputs": [
        {
          "output_type": "stream",
          "text": [
            "El ranking de estaciones más usadas como salida en días laborables es:  [(57, 1654), (175, 1517), (38, 1359), (129, 1304), (56, 1272), (135, 1222), (1, 1202), (62, 1156), (19, 1134), (128, 1120)]\n",
            "El ranking de las estaciones menos usadas como salida en días laborables es:  [(207, 7), (183, 9), (190, 16), (213, 16), (200, 18), (201, 22), (119, 23), (211, 23), (185, 41), (184, 47)]\n",
            "El ranking de estaciones más usadas como salida en fin de semana es:  [(57, 2233), (38, 1746), (59, 1684), (6, 1628), (19, 1614), (58, 1435), (175, 1427), (129, 1411), (1, 1401), (26, 1365)]\n",
            "El ranking de las estaciones menos usadas como salida en fin de semana es:  [(190, 13), (200, 16), (183, 21), (207, 23), (201, 26), (211, 27), (213, 30), (184, 34), (185, 39), (119, 44)]\n"
          ],
          "name": "stdout"
        }
      ]
    },
    {
      "cell_type": "markdown",
      "metadata": {
        "id": "aSZkdz0uBYDC",
        "colab_type": "text"
      },
      "source": [
        "# **Comparativa entre un mes de invierno y un mes de verano**\n",
        "\n",
        "Como sabemos, cada estación del año modifica ciertos hábitos de las personas, y pensamos que puede ser una de las cosas que afecte al uso nocturno de BiciMad. Para ver las diferencias que se dan, comparamos un mes de invierno (enero) y otro de verano (junio)."
      ]
    },
    {
      "cell_type": "markdown",
      "metadata": {
        "id": "Fhq7ouF0n7YE",
        "colab_type": "text"
      },
      "source": [
        "### **Analisis y comparativas entre datos nocturnos y diurnos.**"
      ]
    },
    {
      "cell_type": "markdown",
      "metadata": {
        "id": "2u2FYJM7n_TA",
        "colab_type": "text"
      },
      "source": [
        "Vamos a analizar los datos observando las diferencias entre diurnos y nocturnos, al igual que hemos realizado anteriormente, en los meses indicados. De igual manera, \n",
        "tomaremos como 'horas nocturnas' las horas comprendidas entre las 00:00 y las 05:59.\n",
        "Utilizaremos la función `horasNocturnas`definida en el apartado anterior.\n",
        "Lo primero que haremos será ver el número de usuarios diferenciados por tipos según sean horas diurnas o nocturnas."
      ]
    },
    {
      "cell_type": "code",
      "metadata": {
        "id": "-V_IcMk9oJC-",
        "colab_type": "code",
        "colab": {}
      },
      "source": [
        "#Separamos el mes de enero y nos centramos en trayectos nocturnos haciendo uso de la función horasNocturnas()\n",
        "rddNocturnaenero = rdd_usages['201901'].filter(lambda x: horasNocturnas(x))"
      ],
      "execution_count": null,
      "outputs": []
    },
    {
      "cell_type": "code",
      "metadata": {
        "id": "JckzRmZjoJNq",
        "colab_type": "code",
        "colab": {}
      },
      "source": [
        "#Separamos de la misma manera que en el paso anterior, este caso el mes de junio\n",
        "rddNocturnajunio = rdd_usages['201906'].filter(lambda x: horasNocturnas(x))"
      ],
      "execution_count": null,
      "outputs": []
    },
    {
      "cell_type": "code",
      "metadata": {
        "id": "Kp644UL0oJXs",
        "colab_type": "code",
        "colab": {
          "base_uri": "https://localhost:8080/",
          "height": 34
        },
        "outputId": "d493b97f-8397-434c-8168-ca60052958a7"
      },
      "source": [
        "#Aquí realizamos distinciones por tipo de usuario en ambos meses (datos nocturnos)\n",
        "night_data_enero = rddNocturnaenero.map(lambda x: x['user_type']).countByValue()\n",
        "night_data_enero"
      ],
      "execution_count": null,
      "outputs": [
        {
          "output_type": "execute_result",
          "data": {
            "text/plain": [
              "defaultdict(int, {0: 203, 1: 20201, 2: 174, 3: 3418})"
            ]
          },
          "metadata": {
            "tags": []
          },
          "execution_count": 19
        }
      ]
    },
    {
      "cell_type": "code",
      "metadata": {
        "id": "v535KxOGoJjy",
        "colab_type": "code",
        "colab": {
          "base_uri": "https://localhost:8080/",
          "height": 34
        },
        "outputId": "60985fac-bdff-41b2-af60-485fb220220c"
      },
      "source": [
        "night_data_junio = rddNocturnajunio.map(lambda x: x['user_type']).countByValue()\n",
        "night_data_junio"
      ],
      "execution_count": null,
      "outputs": [
        {
          "output_type": "execute_result",
          "data": {
            "text/plain": [
              "defaultdict(int, {1: 35485, 2: 353, 3: 4807})"
            ]
          },
          "metadata": {
            "tags": []
          },
          "execution_count": 20
        }
      ]
    },
    {
      "cell_type": "code",
      "metadata": {
        "id": "4nQnowIqoJui",
        "colab_type": "code",
        "colab": {
          "base_uri": "https://localhost:8080/",
          "height": 300
        },
        "outputId": "90f08cfb-bad3-4bf0-9fcd-3870314ea6f2"
      },
      "source": [
        "#Creamos ambas tablas a modo de comparativa con los datos nocturnos\n",
        "names = list(night_data_enero.keys())\n",
        "values = list(night_data_enero.values())\n",
        "names1 = list(night_data_junio.keys())\n",
        "values1 = list(night_data_junio.values())\n",
        "plt.subplot(131)\n",
        "plt.title(' Trayectos nocturnos usuarios enero')\n",
        "plt.bar(names, values, 1)\n",
        "plt.xticks(names, [\"1\",\"2\",\"3\",\"0\"])\n",
        "plt.xlabel('Tipo de usuarios', fontsize=16)\n",
        "plt.ylabel('Cantidad de usuarios', fontsize=16)\n",
        "plt.subplot(133)\n",
        "plt.title('Trayectos nocturnos usuarios junio')\n",
        "plt.bar(names1, values1, 1)\n",
        "plt.xticks(names1, [\"1\",\"2\",\"3\",\"0\"])\n",
        "plt.xlabel('Tipo de usuarios', fontsize=16)\n",
        "plt.ylabel('Cantidad de usuarios', fontsize=16)\n",
        "plt.show()"
      ],
      "execution_count": null,
      "outputs": [
        {
          "output_type": "display_data",
          "data": {
            "image/png": "[encoded data removed]",
            "text/plain": [
              "<Figure size 432x288 with 2 Axes>"
            ]
          },
          "metadata": {
            "tags": [],
            "needs_background": "light"
          }
        }
      ]
    },
    {
      "cell_type": "code",
      "metadata": {
        "id": "Q81FVx95oJ5h",
        "colab_type": "code",
        "colab": {
          "base_uri": "https://localhost:8080/",
          "height": 35
        },
        "outputId": "0a45d32a-edbb-4798-8e36-cb39c0d3c1eb"
      },
      "source": [
        "#Obtenemos los datos diurnos de enero por tipo de usuario\n",
        "rddDiurna_enero = rdd_usages['201901'].filter(lambda x: not(horasNocturnas(x)))\n",
        "day_data_enero = rddDiurna_enero.map(lambda x: x['user_type']).countByValue()\n",
        "day_data_enero"
      ],
      "execution_count": null,
      "outputs": [
        {
          "output_type": "execute_result",
          "data": {
            "text/plain": [
              "defaultdict(int, {0: 1646, 1: 233460, 2: 1793, 3: 18328})"
            ]
          },
          "metadata": {
            "tags": []
          },
          "execution_count": 50
        }
      ]
    },
    {
      "cell_type": "code",
      "metadata": {
        "id": "trXGzl8NoKFk",
        "colab_type": "code",
        "colab": {
          "base_uri": "https://localhost:8080/",
          "height": 35
        },
        "outputId": "ea6c5077-23fc-4a3f-dcf3-a295e7a8878c"
      },
      "source": [
        "#Obtenemos los datos diurnos de junio por tipo de usuario\n",
        "rddDiurna_junio = rdd_usages['201906'].filter(lambda x: not(horasNocturnas(x)))\n",
        "day_data_junio = rddDiurna_junio.map(lambda x: x['user_type']).countByValue()\n",
        "day_data_junio"
      ],
      "execution_count": null,
      "outputs": [
        {
          "output_type": "execute_result",
          "data": {
            "text/plain": [
              "defaultdict(int, {1: 383274, 2: 5385, 3: 21507})"
            ]
          },
          "metadata": {
            "tags": []
          },
          "execution_count": 51
        }
      ]
    },
    {
      "cell_type": "code",
      "metadata": {
        "id": "vcNEcbw1oKQm",
        "colab_type": "code",
        "colab": {
          "base_uri": "https://localhost:8080/",
          "height": 300
        },
        "outputId": "f47e1146-7a63-4178-8317-2442cdd9c84b"
      },
      "source": [
        "#Creamos ambas tablas a modo de comparativa con los datos diurnos\n",
        "names = list(day_data_enero.keys())\n",
        "values = list(day_data_enero.values())\n",
        "names1 = list(day_data_junio.keys())\n",
        "values1 = list(day_data_junio.values())\n",
        "plt.subplot(131)\n",
        "plt.title(' Trayectos diurnos de usuarios enero')\n",
        "plt.bar(names, values, 1)\n",
        "plt.xticks(names, [\"1\",\"2\",\"3\",\"0\"])\n",
        "plt.xlabel('Tipo de usuarios', fontsize=16)\n",
        "plt.ylabel('Cantidad de usuarios', fontsize=16)\n",
        "plt.subplot(133)\n",
        "plt.title('Trayectos diurnos de usuarios junio')\n",
        "plt.bar(names1, values1, 1)\n",
        "plt.xticks(names1, [\"1\",\"2\",\"3\",\"0\"])\n",
        "plt.xlabel('Tipo de usuarios', fontsize=16)\n",
        "plt.ylabel('Cantidad de usuarios', fontsize=16)\n",
        "plt.show()"
      ],
      "execution_count": null,
      "outputs": [
        {
          "output_type": "display_data",
          "data": {
            "image/png": "[encoded data removed]",
            "text/plain": [
              "<Figure size 432x288 with 2 Axes>"
            ]
          },
          "metadata": {
            "tags": [],
            "needs_background": "light"
          }
        }
      ]
    },
    {
      "cell_type": "markdown",
      "metadata": {
        "id": "u6OT9hLRoKdv",
        "colab_type": "text"
      },
      "source": [
        "Observando tanto los datos nocturnos como diurnos podemos afirmar que hay un considerable aumento en el uso de BiciMAD si comparamos ambos meses. Un dato a tener en cuenta es la desaparición de los usuarios tipo 0 a partir del mes de enero.\n",
        "Esto puede incrementar el registro en los demás tipos de usuarios y, junto con la mejora de la climatología, la mejora de las infraestructuras y seguridades en los anclajes, y una posible época vacacional, hagan de BiciMAD un servicio más demandado.\n"
      ]
    },
    {
      "cell_type": "markdown",
      "metadata": {
        "id": "_tBP59XDoqY9",
        "colab_type": "text"
      },
      "source": [
        "### **Análisis de días laborables y fines de semana**"
      ]
    },
    {
      "cell_type": "markdown",
      "metadata": {
        "id": "Ha3wBQfQovZD",
        "colab_type": "text"
      },
      "source": [
        "Analizamos los tipos de datos en ambos meses para ver la evolución del servicio a lo largo de los meses y su utilización en distintas y opuestas estaciones del año. \n",
        "Utilizaremos la función cambioFormato, la función weekend y movimientosPorHoras definidas en el estudio de los 6 meses.\n",
        "\n",
        "De nuevo, tomaremos como fin de semana viernes, sábado y domingo."
      ]
    },
    {
      "cell_type": "code",
      "metadata": {
        "id": "YKKO0gzdoz7A",
        "colab_type": "code",
        "colab": {
          "base_uri": "https://localhost:8080/",
          "height": 35
        },
        "outputId": "0c0d3ea1-40dd-4758-bc74-48e4af642d32"
      },
      "source": [
        "#datos nocturnos en fin de semana en enero y en junio\n",
        "rddWeekendenero=rddNocturnaenero.filter(lambda x: weekend(x, True)) \n",
        "weekend_data_enero=rddWeekendenero.map(lambda x: x['user_type']).countByValue()\n",
        "weekend_data_enero"
      ],
      "execution_count": null,
      "outputs": [
        {
          "output_type": "execute_result",
          "data": {
            "text/plain": [
              "defaultdict(int, {0: 162, 1: 10954, 2: 102, 3: 1103})"
            ]
          },
          "metadata": {
            "tags": []
          },
          "execution_count": 53
        }
      ]
    },
    {
      "cell_type": "code",
      "metadata": {
        "id": "o0CZZwtCo5it",
        "colab_type": "code",
        "colab": {
          "base_uri": "https://localhost:8080/",
          "height": 35
        },
        "outputId": "fc0c5b41-f9e2-4933-98a2-ca54d438c31f"
      },
      "source": [
        "rddWeekendjunio=rddNocturnajunio.filter(lambda x: weekend(x, True)) \n",
        "weekend_data_junio=rddWeekendjunio.map(lambda x: x['user_type']).countByValue()\n",
        "weekend_data_junio"
      ],
      "execution_count": null,
      "outputs": [
        {
          "output_type": "execute_result",
          "data": {
            "text/plain": [
              "defaultdict(int, {1: 21693, 2: 252, 3: 2002})"
            ]
          },
          "metadata": {
            "tags": []
          },
          "execution_count": 54
        }
      ]
    },
    {
      "cell_type": "code",
      "metadata": {
        "id": "H7pNeuwro5tp",
        "colab_type": "code",
        "colab": {
          "base_uri": "https://localhost:8080/",
          "height": 134
        },
        "outputId": "061ea11a-0633-48c0-c723-fbc88a6eae4d"
      },
      "source": [
        "fig=plt.figure()\n",
        "fig.subplots_adjust(bottom=0.025, left=0.05, top = 0.975, right=0.975)\n",
        "fig.add_subplot(1,4,1)\n",
        "plt.pie([night_data_enero[0]-weekend_data_enero[0], weekend_data_enero[0]], labels=['L-J', 'V-D'],\n",
        "        autopct='%1.1f%%', shadow=True, startangle=90)\n",
        "plt.title('Indefinido')\n",
        "fig.add_subplot(1,4,2)\n",
        "plt.pie([night_data_enero[1]-weekend_data_enero[1], weekend_data_enero[1]], labels=['L-J', 'V-D'],\n",
        "        autopct='%1.1f%%', shadow=True, startangle=90)\n",
        "plt.title('Anuales')\n",
        "fig.add_subplot(1,4,3)\n",
        "plt.pie([night_data_enero[2]-weekend_data_enero[2], weekend_data_enero[2]], labels=['L-J', 'V-D'],\n",
        "        autopct='%1.1f%%', shadow=True, startangle=90)\n",
        "plt.title('Ocasionales')\n",
        "fig.add_subplot(1,4,4)\n",
        "plt.pie([night_data_enero[3]-weekend_data_enero[3], weekend_data_enero[3]], labels=['L-J', 'V-D'],\n",
        "        autopct='%1.1f%%', shadow=True, startangle=90)\n",
        "plt.title('Trabajadores')\n",
        "#plt.legend(['entre semana', 'fin de semana'], loc=4)\n",
        "plt.show()"
      ],
      "execution_count": null,
      "outputs": [
        {
          "output_type": "display_data",
          "data": {
            "image/png": "[encoded data removed]",
            "text/plain": [
              "<Figure size 432x288 with 4 Axes>"
            ]
          },
          "metadata": {
            "tags": []
          }
        }
      ]
    },
    {
      "cell_type": "code",
      "metadata": {
        "id": "u8PU1K_do58V",
        "colab_type": "code",
        "colab": {
          "base_uri": "https://localhost:8080/",
          "height": 134
        },
        "outputId": "3112b6ea-3292-456e-ea0f-2466306d5dc4"
      },
      "source": [
        "fig=plt.figure()\n",
        "fig.subplots_adjust(bottom=0.025, left=0.05, top = 0.975, right=0.975)\n",
        "fig.add_subplot(1,4,1)\n",
        "plt.pie([night_data_junio[0]-weekend_data_junio[0], weekend_data_junio[0]], labels=['L-J', 'V-D'],\n",
        "        autopct='%1.1f%%', shadow=True, startangle=90)\n",
        "plt.title('Indefinido')\n",
        "fig.add_subplot(1,4,2)\n",
        "plt.pie([night_data_junio[1]-weekend_data_junio[1], weekend_data_junio[1]], labels=['L-J', 'V-D'],\n",
        "        autopct='%1.1f%%', shadow=True, startangle=90)\n",
        "plt.title('Anuales')\n",
        "fig.add_subplot(1,4,3)\n",
        "plt.pie([night_data_junio[2]-weekend_data_junio[2], weekend_data_junio[2]], labels=['L-J', 'V-D'],\n",
        "        autopct='%1.1f%%', shadow=True, startangle=90)\n",
        "plt.title('Ocasionales')\n",
        "fig.add_subplot(1,4,4)\n",
        "plt.pie([night_data_junio[3]-weekend_data_junio[3], weekend_data_junio[3]], labels=['L-J', 'V-D'],\n",
        "        autopct='%1.1f%%', shadow=True, startangle=90)\n",
        "plt.title('Trabajadores')\n",
        "#plt.legend(['entre semana', 'fin de semana'], loc=4)\n",
        "plt.show()"
      ],
      "execution_count": null,
      "outputs": [
        {
          "output_type": "display_data",
          "data": {
            "image/png": "[encoded data removed]",
            "text/plain": [
              "<Figure size 432x288 with 4 Axes>"
            ]
          },
          "metadata": {
            "tags": []
          }
        }
      ]
    },
    {
      "cell_type": "markdown",
      "metadata": {
        "id": "s8Cy41fEo6MG",
        "colab_type": "text"
      },
      "source": [
        "Se puede apreciar un incremento en el porcentaje de los trayectos realizados durante los fines de semana en junio respecto a enero en los usuarios de tipo anual y en mayor medida,  de tipo ocasional. Esto puede ser causado por la época vacacional, por las temperaturas o por el aumento de turismo. Debido a esta situación (el agrupamiento de los trayectos durante los fines de semana), se puede suponer también el aumento de los trayectos de los usuarios de tipo 3 para la distribución de las bicis, lo que resulta un cambio significativo respecto al mes invernal.\n"
      ]
    },
    {
      "cell_type": "code",
      "metadata": {
        "id": "YN9BFEWlo6Ys",
        "colab_type": "code",
        "colab": {
          "base_uri": "https://localhost:8080/",
          "height": 139
        },
        "outputId": "9f992a1d-b1a0-4ee9-c392-3d77cc8a6021"
      },
      "source": [
        "#Separamos los trayectos de los meses por horas a lo largo de la semana\n",
        "time_data_enero=rddNocturnaenero.map(movimientosPorHoras).countByKey()\n",
        "time_data_enero"
      ],
      "execution_count": null,
      "outputs": [
        {
          "output_type": "execute_result",
          "data": {
            "text/plain": [
              "defaultdict(int,\n",
              "            {'00:00:00': 7432,\n",
              "             '01:00:00': 5521,\n",
              "             '02:00:00': 4394,\n",
              "             '03:00:00': 2612,\n",
              "             '04:00:00': 2207,\n",
              "             '05:00:00': 1830})"
            ]
          },
          "metadata": {
            "tags": []
          },
          "execution_count": 57
        }
      ]
    },
    {
      "cell_type": "code",
      "metadata": {
        "id": "4Fc8klgjo6ko",
        "colab_type": "code",
        "colab": {
          "base_uri": "https://localhost:8080/",
          "height": 139
        },
        "outputId": "ec22db01-e2ca-4cba-ac13-22a518a8f369"
      },
      "source": [
        "time_data_junio=rddNocturnajunio.map(movimientosPorHoras).countByKey()\n",
        "time_data_junio"
      ],
      "execution_count": null,
      "outputs": [
        {
          "output_type": "execute_result",
          "data": {
            "text/plain": [
              "defaultdict(int,\n",
              "            {'00:00:00': 13731,\n",
              "             '01:00:00': 10012,\n",
              "             '02:00:00': 7097,\n",
              "             '03:00:00': 4343,\n",
              "             '04:00:00': 3141,\n",
              "             '05:00:00': 2321})"
            ]
          },
          "metadata": {
            "tags": []
          },
          "execution_count": 58
        }
      ]
    },
    {
      "cell_type": "code",
      "metadata": {
        "id": "5DckCoELo6v0",
        "colab_type": "code",
        "colab": {
          "base_uri": "https://localhost:8080/",
          "height": 139
        },
        "outputId": "9cb713d1-10c2-4559-99ad-ae84aecbb21a"
      },
      "source": [
        "#Diferenciamos los trayectos realizados durante el fin de semana en enero\n",
        "weekend_time_data_enero = rddWeekendenero.map(movimientosPorHoras).countByKey()\n",
        "weekend_time_data_enero"
      ],
      "execution_count": null,
      "outputs": [
        {
          "output_type": "execute_result",
          "data": {
            "text/plain": [
              "defaultdict(int,\n",
              "            {'00:00:00': 2971,\n",
              "             '01:00:00': 2812,\n",
              "             '02:00:00': 2453,\n",
              "             '03:00:00': 1684,\n",
              "             '04:00:00': 1396,\n",
              "             '05:00:00': 1005})"
            ]
          },
          "metadata": {
            "tags": []
          },
          "execution_count": 59
        }
      ]
    },
    {
      "cell_type": "code",
      "metadata": {
        "id": "pTb8-Wxgo67L",
        "colab_type": "code",
        "colab": {
          "base_uri": "https://localhost:8080/",
          "height": 139
        },
        "outputId": "389d95b2-f54f-4688-eb3c-0456988d5987"
      },
      "source": [
        "weekend_time_data_junio = rddWeekendjunio.map(movimientosPorHoras).countByKey()\n",
        "weekend_time_data_junio"
      ],
      "execution_count": null,
      "outputs": [
        {
          "output_type": "execute_result",
          "data": {
            "text/plain": [
              "defaultdict(int,\n",
              "            {'00:00:00': 6918,\n",
              "             '01:00:00': 5894,\n",
              "             '02:00:00': 4518,\n",
              "             '03:00:00': 3066,\n",
              "             '04:00:00': 2049,\n",
              "             '05:00:00': 1502})"
            ]
          },
          "metadata": {
            "tags": []
          },
          "execution_count": 60
        }
      ]
    },
    {
      "cell_type": "code",
      "metadata": {
        "id": "W7tsrYwNo7F_",
        "colab_type": "code",
        "colab": {
          "base_uri": "https://localhost:8080/",
          "height": 121
        },
        "outputId": "62252eab-ea38-421b-9857-6343614e48d9"
      },
      "source": [
        "#Obtenemos los trayectos en días laborables\n",
        "laborable_time_data_enero={}\n",
        "for i in range(0,6):\n",
        "  laborable_time_data_enero['0'+str(i)+':00:00']=time_data_enero['0'+str(i)+':00:00'] - weekend_time_data_enero['0'+str(i)+':00:00']\n",
        "laborable_time_data_enero"
      ],
      "execution_count": null,
      "outputs": [
        {
          "output_type": "execute_result",
          "data": {
            "text/plain": [
              "{'00:00:00': 4461,\n",
              " '01:00:00': 2709,\n",
              " '02:00:00': 1941,\n",
              " '03:00:00': 928,\n",
              " '04:00:00': 811,\n",
              " '05:00:00': 825}"
            ]
          },
          "metadata": {
            "tags": []
          },
          "execution_count": 61
        }
      ]
    },
    {
      "cell_type": "code",
      "metadata": {
        "id": "-JUfuN11o7Qp",
        "colab_type": "code",
        "colab": {
          "base_uri": "https://localhost:8080/",
          "height": 121
        },
        "outputId": "a8649b7b-f176-429b-ca0b-83a1a4763744"
      },
      "source": [
        "laborable_time_data_junio={}\n",
        "for i in range(0,6):\n",
        "  laborable_time_data_junio['0'+str(i)+':00:00']=time_data_junio['0'+str(i)+':00:00'] - weekend_time_data_junio['0'+str(i)+':00:00']\n",
        "laborable_time_data_junio"
      ],
      "execution_count": null,
      "outputs": [
        {
          "output_type": "execute_result",
          "data": {
            "text/plain": [
              "{'00:00:00': 6813,\n",
              " '01:00:00': 4118,\n",
              " '02:00:00': 2579,\n",
              " '03:00:00': 1277,\n",
              " '04:00:00': 1092,\n",
              " '05:00:00': 819}"
            ]
          },
          "metadata": {
            "tags": []
          },
          "execution_count": 62
        }
      ]
    },
    {
      "cell_type": "code",
      "metadata": {
        "id": "4ngcUaC-o7dA",
        "colab_type": "code",
        "colab": {
          "base_uri": "https://localhost:8080/",
          "height": 244
        },
        "outputId": "51033b68-873c-4dfe-8b1c-73f9dd459854"
      },
      "source": [
        "#Creamos dos gráficos, uno con los días laborables y otro con los fines de semana en enero\n",
        "fig=plt.figure()\n",
        "fig.subplots_adjust(bottom=0.025, left=0.05, top = 0.975, right=0.975)\n",
        "fig.add_subplot(1,2,1)\n",
        "plt.pie(list(laborable_time_data_enero.values()), labels=list(laborable_time_data_enero.keys()),\n",
        "        autopct='%1.1f%%', shadow=True, startangle=90)\n",
        "plt.title('Viajes nocturnos\\n por horas L-J')\n",
        "fig.add_subplot(1,2,2)\n",
        "plt.pie(list(weekend_time_data_enero.values()), labels=list(weekend_time_data_enero.keys()),\n",
        "        autopct='%1.1f%%', shadow=True, startangle=90)\n",
        "plt.title('Viajes nocturnos\\n por horas V-D')\n",
        "plt.show()"
      ],
      "execution_count": null,
      "outputs": [
        {
          "output_type": "display_data",
          "data": {
            "image/png": "[encoded data removed]",
            "text/plain": [
              "<Figure size 432x288 with 2 Axes>"
            ]
          },
          "metadata": {
            "tags": []
          }
        }
      ]
    },
    {
      "cell_type": "code",
      "metadata": {
        "id": "i9_z_R9Go7ov",
        "colab_type": "code",
        "colab": {
          "base_uri": "https://localhost:8080/",
          "height": 244
        },
        "outputId": "8f3e7aa9-e3af-4c83-b748-68d00e574a53"
      },
      "source": [
        "#Creamos dos gráficos, uno con los días laborables y otro con los fines de semana en junio\n",
        "fig=plt.figure()\n",
        "fig.subplots_adjust(bottom=0.025, left=0.05, top = 0.975, right=0.975)\n",
        "fig.add_subplot(1,2,1)\n",
        "plt.pie(list(laborable_time_data_junio.values()), labels=list(laborable_time_data_junio.keys()),\n",
        "        autopct='%1.1f%%', shadow=True, startangle=90)\n",
        "plt.title('Viajes nocturnos\\n por horas L-J')\n",
        "fig.add_subplot(1,2,2)\n",
        "plt.pie(list(weekend_time_data_junio.values()), labels=list(weekend_time_data_junio.keys()),\n",
        "        autopct='%1.1f%%', shadow=True, startangle=90)\n",
        "plt.title('Viajes nocturnos\\n por horas V-D')\n",
        "plt.show()"
      ],
      "execution_count": null,
      "outputs": [
        {
          "output_type": "display_data",
          "data": {
            "image/png": "[encoded data removed]",
            "text/plain": [
              "<Figure size 432x288 with 2 Axes>"
            ]
          },
          "metadata": {
            "tags": []
          }
        }
      ]
    },
    {
      "cell_type": "markdown",
      "metadata": {
        "id": "z4Z1eAeQo73c",
        "colab_type": "text"
      },
      "source": [
        "Observamos la tendencia nocturna en ambos meses durante los días no laborables como veíamos en el estudio de los 6 meses.\n",
        "Los gráficos correspondientes a enero y a junio durante L-J son muy similares.\n",
        "Como dato curioso y centrándonos en V-D la mayor parte de los desplazamientos en junio se realizan durante las 12 y las 2 mientras que el porcentaje en siguientes horas es superior en enero como no cabría esperar. Dado el aumento de trayectos tempranos en junio, podría ser que debido a que con el buen tiempo la vida de los usuarios es más nocturna y la mayor parte de los movimientos registrados son salidas, mientras que en enero no hay tanto movimiento al ocio. Si bien el número total de movimientos por hora es superior en junio.\n"
      ]
    },
    {
      "cell_type": "markdown",
      "metadata": {
        "id": "F4u3BC-Ep8bM",
        "colab_type": "text"
      },
      "source": [
        "### **Análisis por rango de edades**"
      ]
    },
    {
      "cell_type": "markdown",
      "metadata": {
        "id": "gM5CUsOzp9iJ",
        "colab_type": "text"
      },
      "source": [
        "Análisis de los meses centrándonos en el tipo de usuarios por rangos de edad."
      ]
    },
    {
      "cell_type": "code",
      "metadata": {
        "id": "4FKQuL-bqJSQ",
        "colab_type": "code",
        "colab": {}
      },
      "source": [
        "#Separamos los tipos de usuarios tanto en enero como en junio\n",
        "rddW_ages_enero = rddWeekendenero.map(lambda x: (x['age'], 1)).countByKey()\n",
        "rddW_ages_junio = rddWeekendjunio.map(lambda x: (x['age'], 1)).countByKey()"
      ],
      "execution_count": null,
      "outputs": []
    },
    {
      "cell_type": "code",
      "metadata": {
        "id": "AoBMAOl-qJdx",
        "colab_type": "code",
        "colab": {
          "base_uri": "https://localhost:8080/",
          "height": 597
        },
        "outputId": "e0d57d93-6924-41cb-d375-4988abe76a11"
      },
      "source": [
        "print('Viajes según los rangos de edad en fin de semana')\n",
        "plt.subplot(111)\n",
        "rddW_ages_enero = rddWeekendenero.map(lambda x: (x['age'], 1)).countByKey()\n",
        "print(sorted(rddW_ages_enero.items(), key=lambda x:x[0]))\n",
        "plt.bar(list(rddW_ages_enero.keys()), list(rddW_ages_enero.values()))\n",
        "plt.title('Enero')\n",
        "plt.show()\n",
        "plt.subplot(111)\n",
        "rddW_ages_junio = rddWeekendjunio.map(lambda x: (x['age'], 1)).countByKey()\n",
        "print(sorted(rddW_ages_junio.items(), key=lambda x:x[0]))\n",
        "plt.bar(list(rddW_ages_junio.keys()), list(rddW_ages_junio.values()))\n",
        "plt.title('Junio')\n",
        "plt.show()"
      ],
      "execution_count": null,
      "outputs": [
        {
          "output_type": "stream",
          "text": [
            "Viajes según los rangos de edad en fin de semana\n",
            "[(0, 6190), (1, 133), (2, 110), (3, 1057), (4, 3242), (5, 1566), (6, 23)]\n"
          ],
          "name": "stdout"
        },
        {
          "output_type": "display_data",
          "data": {
            "image/png": "[encoded data removed]",
            "text/plain": [
              "<Figure size 432x288 with 1 Axes>"
            ]
          },
          "metadata": {
            "tags": [],
            "needs_background": "light"
          }
        },
        {
          "output_type": "stream",
          "text": [
            "[(0, 12473), (1, 289), (2, 158), (3, 1831), (4, 5744), (5, 3391), (6, 61)]\n"
          ],
          "name": "stdout"
        },
        {
          "output_type": "display_data",
          "data": {
            "image/png": "[encoded data removed]",
            "text/plain": [
              "<Figure size 432x288 with 1 Axes>"
            ]
          },
          "metadata": {
            "tags": [],
            "needs_background": "light"
          }
        }
      ]
    },
    {
      "cell_type": "markdown",
      "metadata": {
        "id": "LfK6xbydqJxW",
        "colab_type": "text"
      },
      "source": [
        "Los usuarios que destacan son los tipo 4 en ambos periodos. El incremento de un periodo a otro es notable y destacamos el gran ascenso en los usuarios de tipo 5 y sobre todo de tipo 6 (si bien la cifra sigue siendo baja, casi se ha triplicado) que constituyen usuarios de 41 años en adelante.\n",
        "Debido a la época del año es posible que el ámbito hostelero tenga una jornada laboral más larga y este grupo, que en su mayoría son trabajadores y clientes, opten por utilizar BiciMAD en su vuelta a casa."
      ]
    },
    {
      "cell_type": "code",
      "metadata": {
        "id": "cDY3J60GqJ9C",
        "colab_type": "code",
        "colab": {
          "base_uri": "https://localhost:8080/",
          "height": 597
        },
        "outputId": "1b43e436-85dc-4a1b-eea7-526772cdbd68"
      },
      "source": [
        "print('Viajes según los rangos de edad en días laborables')\n",
        "plt.subplot(111)\n",
        "rddWD_ages_enero = rddNocturnaenero.filter(lambda x: not weekend(x, True)).map(lambda x: (x['age'])).countByValue()\n",
        "print(sorted(rddWD_ages_enero.items(), key=lambda x:x[0]))\n",
        "plt.bar(list(rddWD_ages_enero.keys()), list(rddWD_ages_enero.values()))\n",
        "plt.title('Enero')\n",
        "plt.show()\n",
        "plt.subplot(111)\n",
        "rddWD_ages_junio = rddNocturnajunio.filter(lambda x: not weekend(x, True)).map(lambda x: (x['age'])).countByValue()\n",
        "print(sorted(rddWD_ages_junio.items(), key=lambda x:x[0]))\n",
        "plt.bar(list(rddWD_ages_junio.keys()), list(rddWD_ages_junio.values()))\n",
        "plt.title('Junio')\n",
        "plt.show()"
      ],
      "execution_count": null,
      "outputs": [
        {
          "output_type": "stream",
          "text": [
            "Viajes según los rangos de edad en días laborables\n",
            "[(0, 5549), (1, 176), (2, 81), (3, 862), (4, 3040), (5, 1950), (6, 17)]\n"
          ],
          "name": "stdout"
        },
        {
          "output_type": "display_data",
          "data": {
            "image/png": "[encoded data removed]",
            "text/plain": [
              "<Figure size 432x288 with 1 Axes>"
            ]
          },
          "metadata": {
            "tags": [],
            "needs_background": "light"
          }
        },
        {
          "output_type": "stream",
          "text": [
            "[(0, 8785), (1, 341), (2, 117), (3, 1206), (4, 3766), (5, 2457), (6, 26)]\n"
          ],
          "name": "stdout"
        },
        {
          "output_type": "display_data",
          "data": {
            "image/png": "[encoded data removed]",
            "text/plain": [
              "<Figure size 432x288 with 1 Axes>"
            ]
          },
          "metadata": {
            "tags": [],
            "needs_background": "light"
          }
        }
      ]
    },
    {
      "cell_type": "markdown",
      "metadata": {
        "id": "63wGrDL9qKKk",
        "colab_type": "text"
      },
      "source": [
        "No existe un cambio tan significativo como en las horas nocturnas. Destacan el aumento en los usuarios de tipo 1 (esto es, menores de 16 años de edad). Posiblemente sea por empezar las vacaciones de verano y por la menor carga de estudios a partir de mitad del mes."
      ]
    },
    {
      "cell_type": "markdown",
      "metadata": {
        "id": "A5-Zr47G_ogp",
        "colab_type": "text"
      },
      "source": [
        "# **Análisis de los trabajadores**\n",
        "En los apartados anteriores hemos visto que en algunos casos puede afectar más o menos el tipo 'trabajador' a los datos, por lo que analizaremos los datos ajustados al perfil de trabajador para ver qué información nos aporta."
      ]
    },
    {
      "cell_type": "code",
      "metadata": {
        "id": "2UZqP0d-_47e",
        "colab_type": "code",
        "colab": {}
      },
      "source": [
        "rddTrabajadores = rdd_usages['2019'].filter(lambda x: x['user_type']==3)"
      ],
      "execution_count": null,
      "outputs": []
    },
    {
      "cell_type": "code",
      "metadata": {
        "id": "BP9GkNnsGTfu",
        "colab_type": "code",
        "colab": {
          "base_uri": "https://localhost:8080/",
          "height": 35
        },
        "outputId": "0f091e3b-e81c-45eb-96b1-f97d68458905"
      },
      "source": [
        "num_trabajadores = rddTrabajadores.groupBy(lambda x: x['user_day_code']).count()\n",
        "print('Hay', num_trabajadores, 'viajes realizados por trabajadores')\n"
      ],
      "execution_count": null,
      "outputs": [
        {
          "output_type": "stream",
          "text": [
            "Hay 4968 viajes realizados por trabajadores\n"
          ],
          "name": "stdout"
        }
      ]
    },
    {
      "cell_type": "markdown",
      "metadata": {
        "id": "tPPS77v_dham",
        "colab_type": "text"
      },
      "source": [
        "Para comprobar la afluencia de trabajo distinguiendo por día de diario y fin de semana podemos recurrir al estudio realizado en la parte de la comparativa de los 6 meses en la que, para los trabajadores, se observaba como un 62% lo hacían en los días de diario y tan solo un 38% los fines de semana. Aunque estos datos tan solo representaban las horas nocturnas, la diferencia en los datos se sigue manteniendo pero no la mostramos debido a que es prácticamente idéntica."
      ]
    },
    {
      "cell_type": "markdown",
      "metadata": {
        "id": "AeLUElCUUIMC",
        "colab_type": "text"
      },
      "source": [
        "Veamos ahora si por horas la distribución cambia."
      ]
    },
    {
      "cell_type": "code",
      "metadata": {
        "id": "5Ck1YZCVFrxJ",
        "colab_type": "code",
        "colab": {
          "base_uri": "https://localhost:8080/",
          "height": 327
        },
        "outputId": "d12dcf9f-88f5-4377-d96f-f76119e9ee10"
      },
      "source": [
        "#rddTrabajadores por horas\n",
        "dicT_horas = rddTrabajadores.map(lambda x: (x['hour'][0:2], 1)).countByKey()\n",
        "plt.figure(figsize=(15,5))\n",
        "plt.bar(dicT_horas.keys(), dicT_horas.values())"
      ],
      "execution_count": null,
      "outputs": [
        {
          "output_type": "execute_result",
          "data": {
            "text/plain": [
              "<BarContainer object of 24 artists>"
            ]
          },
          "metadata": {
            "tags": []
          },
          "execution_count": 76
        },
        {
          "output_type": "display_data",
          "data": {
            "image/png": "[encoded data removed]",
            "text/plain": [
              "<Figure size 1080x360 with 1 Axes>"
            ]
          },
          "metadata": {
            "tags": [],
            "needs_background": "light"
          }
        }
      ]
    },
    {
      "cell_type": "markdown",
      "metadata": {
        "id": "S3wITOnoIKEc",
        "colab_type": "text"
      },
      "source": [
        "Podemos observar cómo en las horas nocturnas hay más trabajadores a las 00, la 1 y las 2, que son las horas en las que hay una mayor afluencia de usuarios, como hemos observado anteriormente.\n",
        "\n",
        "También hay picos de trabajadores en las primeras horas de la mañana y a partir de las 15 horas, que se corresponden con la entrada y salida diaria de los turnos del horario laboral. "
      ]
    },
    {
      "cell_type": "markdown",
      "metadata": {
        "id": "TvIb2baemEHv",
        "colab_type": "text"
      },
      "source": [
        "### **Diferencias entre los tipos de trabajo** \n",
        "\n",
        "Analizaremos los diferentes trabajos que realizan, traslados, reparaciones... Por útlimo comprobaremos aquellas estaciones en las que se reponen más bicis y si estas están relacionadas con las que tienen más demanda por parte de los usuarios."
      ]
    },
    {
      "cell_type": "code",
      "metadata": {
        "id": "Y5ENYzf4LQfa",
        "colab_type": "code",
        "colab": {}
      },
      "source": [
        "def reparacion(data):\n",
        "  #se trata de una reparación en la misma estación\n",
        "  start = data['start']\n",
        "  end = data['end']\n",
        "  return start==end\n",
        "def traslado(data):\n",
        "  #se trata de un traslado para equilibrar las estaciones\n",
        "  start = data['start']\n",
        "  end = data['end']\n",
        "  return start!=end"
      ],
      "execution_count": null,
      "outputs": []
    },
    {
      "cell_type": "markdown",
      "metadata": {
        "id": "8jng8Km9_oWC",
        "colab_type": "text"
      },
      "source": [
        "Comprobemos ahora qué número de bicicletas tienen que ser reparadas y cuáles tan solo son comprobadas. Para ello, como filtro usaremos que aquellas comprobaciones que se han necesitado más de 1 minuto serán consideradas como una reparación por parte del trabajador.\n",
        "\n",
        "Notar que el límite de 1 minuto es arbitrario y podrían probarse otros valores. "
      ]
    },
    {
      "cell_type": "code",
      "metadata": {
        "id": "gXKDqS3oyy6h",
        "colab_type": "code",
        "colab": {}
      },
      "source": [
        "limite=61 # Por defecto, colocamos 1 minuto de \"trayecto\" como límite\n",
        "comprobada = rddTrabajadores.filter(lambda x: reparacion(x) and x['travel_time']<limite).count()\n",
        "reparada = rddTrabajadores.filter(lambda x: reparacion(x) and x['travel_time']>=limite).count()"
      ],
      "execution_count": null,
      "outputs": []
    },
    {
      "cell_type": "code",
      "metadata": {
        "id": "XT_Goc46RzH9",
        "colab_type": "code",
        "colab": {
          "base_uri": "https://localhost:8080/",
          "height": 301
        },
        "outputId": "5dd604a5-c04e-42f9-ea22-5fa85b20ef8a"
      },
      "source": [
        "print('Proporción de reparaciones rápidas', \"{0:.2f}\".format(100*comprobada/(reparada+comprobada)),'%') #proporción del 95% de reparaciones rápidas\n",
        "plt.figure(figsize=(10,4))\n",
        "plt.bar((\"reparaciones rápidas\",\"reparaciones pausadas\"),(comprobada,reparada))"
      ],
      "execution_count": null,
      "outputs": [
        {
          "output_type": "stream",
          "text": [
            "Proporción de reparaciones rápidas 95.08 %\n"
          ],
          "name": "stdout"
        },
        {
          "output_type": "execute_result",
          "data": {
            "text/plain": [
              "<BarContainer object of 2 artists>"
            ]
          },
          "metadata": {
            "tags": []
          },
          "execution_count": 79
        },
        {
          "output_type": "display_data",
          "data": {
            "image/png": "[encoded data removed]",
            "text/plain": [
              "<Figure size 720x288 with 1 Axes>"
            ]
          },
          "metadata": {
            "tags": [],
            "needs_background": "light"
          }
        }
      ]
    },
    {
      "cell_type": "markdown",
      "metadata": {
        "id": "i2EgCt46TEP5",
        "colab_type": "text"
      },
      "source": [
        "El 95% de las bicis no recibe una reparación pausada por lo que se puede ver cómo los usuarios hacen un buen uso de las bicicletas de BiciMAD. Así los trabajadores podrán centrarse tan solo en reorganizar las bicicletas para mantener el equilibrio en las estaciones."
      ]
    },
    {
      "cell_type": "code",
      "metadata": {
        "id": "i_1l0FZbUybR",
        "colab_type": "code",
        "colab": {
          "base_uri": "https://localhost:8080/",
          "height": 35
        },
        "outputId": "861e3214-5a1f-413c-f694-9965e243faa5"
      },
      "source": [
        "#nos quedamos con los traslados\n",
        "rddTraslado = rddTrabajadores.filter(traslado)\n",
        "traslados = rddTraslado.count()\n",
        "traslados"
      ],
      "execution_count": null,
      "outputs": [
        {
          "output_type": "execute_result",
          "data": {
            "text/plain": [
              "112207"
            ]
          },
          "metadata": {
            "tags": []
          },
          "execution_count": 80
        }
      ]
    },
    {
      "cell_type": "code",
      "metadata": {
        "id": "ecOTSb5QVSYt",
        "colab_type": "code",
        "colab": {
          "base_uri": "https://localhost:8080/",
          "height": 295
        },
        "outputId": "d7c8cea1-469c-4023-a8d5-cc7246431749"
      },
      "source": [
        "#Veamos ahora en un gráfico la comparación \n",
        "plt.figure(figsize=(6,4))\n",
        "plt.bar((\"reparadas+\\ncomprobadas\",\"traslados\"),(comprobada+reparada, traslados))"
      ],
      "execution_count": null,
      "outputs": [
        {
          "output_type": "execute_result",
          "data": {
            "text/plain": [
              "<BarContainer object of 2 artists>"
            ]
          },
          "metadata": {
            "tags": []
          },
          "execution_count": 81
        },
        {
          "output_type": "display_data",
          "data": {
            "image/png": "[encoded data removed]",
            "text/plain": [
              "<Figure size 432x288 with 1 Axes>"
            ]
          },
          "metadata": {
            "tags": [],
            "needs_background": "light"
          }
        }
      ]
    },
    {
      "cell_type": "markdown",
      "metadata": {
        "id": "W90P2RcnoP6Y",
        "colab_type": "text"
      },
      "source": [
        "El gráfico nos muestra cómo la mayoría de movimientos que realizan los trabajadores son traslados de bicicletas entre estaciones, por lo que será interesante analizar más adelante cómo son estos trayectos."
      ]
    },
    {
      "cell_type": "markdown",
      "metadata": {
        "id": "q3KlyexjrSEW",
        "colab_type": "text"
      },
      "source": [
        "Veamos ahora si los traslados se realizan a las estaciones más usadas, calculadas en el apartado anterior.\n",
        "También es interesante comprobar si las estaciones que son menos usadas son de las que se trasladan las bicicletas a aquellas estaciones que tienen una mayor demanda"
      ]
    },
    {
      "cell_type": "code",
      "metadata": {
        "id": "6jVVnpY-ubQf",
        "colab_type": "code",
        "colab": {
          "base_uri": "https://localhost:8080/",
          "height": 72
        },
        "outputId": "b0f52476-1fc3-4a2c-d159-60770970a1d8"
      },
      "source": [
        "lisTrasl = rddTraslado.map(lambda x: (x['end'], 1)).reduceByKey(lambda x, y: x+y).sortBy(lambda x: x[1], False).take(10)\n",
        "print(\"Las estaciones en las que se reponen más bicicletas son:\")\n",
        "print(lisTrasl)\n",
        "#El resultado es de la forma: (estacion, nº de repeticiones)"
      ],
      "execution_count": null,
      "outputs": [
        {
          "output_type": "stream",
          "text": [
            "Las estaciones en las que se reponen más bicicletas son:\n",
            "[(162, 3038), (91, 2933), (154, 2295), (108, 2143), (109, 2141), (139, 1906), (102, 1890), (83, 1849), (167, 1812), (129, 1777)]\n"
          ],
          "name": "stdout"
        }
      ]
    },
    {
      "cell_type": "markdown",
      "metadata": {
        "id": "NyL8hfoeTVfF",
        "colab_type": "text"
      },
      "source": [
        "Si comparamos las estaciones más usadas como salida   (vista anteriormente) con la lista de las estaciones donde se reponen más bicicletas, difieren en la gran mayoría de estaciones. Esto se debe a que algunas de las estaciones más usadas también son de las estaciones más utilizadas como llegada por lo que son los propios usuarios son los que realizan el equilibrio de las bicicletas.\n",
        "\n",
        "\n",
        "Si comparamos ahora con las estaciones que eran menos usadas como estaciones de destino, podemos ver igualmente que no estan muy relacionadas por lo que podemos pensar que estas estaciones quedan equilibradas por los propios usuarios y los trabajdores reponen en aquellas estaciones que lo necesitan pero sin que estas tengan un cierto patron de uso"
      ]
    },
    {
      "cell_type": "markdown",
      "metadata": {
        "id": "fpkBLsmDkBhP",
        "colab_type": "text"
      },
      "source": [
        "Ahora veremos relaciones con aquellas estaciones en las que sobran bicicletas, es decir, aquellas estaciones que son el origen de los traslados realizados por los trabajadores"
      ]
    },
    {
      "cell_type": "code",
      "metadata": {
        "id": "7uu4KPRAwP2N",
        "colab_type": "code",
        "colab": {
          "base_uri": "https://localhost:8080/",
          "height": 72
        },
        "outputId": "841f62a8-304a-48e0-f85c-71d0b548d7ce"
      },
      "source": [
        "listTraslOri = rddTraslado.map(lambda x: (x['start'], 1)).reduceByKey(lambda x, y: x+y).sortBy(lambda x: x[1], False).take(10)\n",
        "print(\"Las estaciones en las que se reponen más bicicletas son:\")\n",
        "print(listTraslOri)\n",
        "#El resultado es de la forma: (estacion, nº de repeticiones)"
      ],
      "execution_count": null,
      "outputs": [
        {
          "output_type": "stream",
          "text": [
            "Las estaciones en las que se reponen más bicicletas son:\n",
            "[(135, 6402), (129, 6190), (132, 4750), (162, 3603), (82, 3597), (133, 3424), (175, 3359), (83, 3283), (128, 3107), (43, 2850)]\n"
          ],
          "name": "stdout"
        }
      ]
    },
    {
      "cell_type": "markdown",
      "metadata": {
        "id": "7qaAkpu7urNx",
        "colab_type": "text"
      },
      "source": [
        "Con estos datos las conclusiones a las que podemos llegar son idénticas a las anteriores ya que no podemos concluir que estas estaciones de las que parten los traslados de las bicicletas tengan relación con las estaciones más usadas como destino (vistos anteriormente).\n",
        "\n"
      ]
    },
    {
      "cell_type": "markdown",
      "metadata": {
        "id": "RI8neE6AwYiA",
        "colab_type": "text"
      },
      "source": [
        "# **Ciclos**\n",
        "A raíz del estudio de los trabajadores, nos interesa por último ver el aspecto de los ciclos de trayectos, pues pensamos que el protocolo de trabajo de mantenimiento con las bicis puede incluirlos."
      ]
    },
    {
      "cell_type": "markdown",
      "metadata": {
        "id": "-7UgGDgwc8PJ",
        "colab_type": "text"
      },
      "source": [
        "`rddprima` nos da el formato siguiente de tupla para cada elemento de la rdd: `(('usuario','tipo'),[lista de [partida,llegada]])`"
      ]
    },
    {
      "cell_type": "code",
      "metadata": {
        "id": "iULdv6nxwyWH",
        "colab_type": "code",
        "colab": {}
      },
      "source": [
        "rddprima = rdd_usages['2019'].map(lambda x: ((x['user_day_code'],x['user_type']),[x['start'],x['end']]))\\\n",
        "                              .groupByKey().map(lambda x: (x[0],list(x[1])))"
      ],
      "execution_count": null,
      "outputs": []
    },
    {
      "cell_type": "markdown",
      "metadata": {
        "id": "G6w4knVBMv8d",
        "colab_type": "text"
      },
      "source": [
        "`adic` pasa la lista de pares `[partida,llegada]` en un diccionario con claves las estaciones de partida y valores la lista de estaciones de llegada"
      ]
    },
    {
      "cell_type": "code",
      "metadata": {
        "id": "LQXy6l7CxZVX",
        "colab_type": "code",
        "colab": {}
      },
      "source": [
        "def adic(ldl):\n",
        "  d = {}\n",
        "  for elem in ldl:\n",
        "    key,value = str(elem[0]),str(elem[1])\n",
        "    if key in d:\n",
        "      d[key].append(value)\n",
        "    else:\n",
        "      d[key]=[value]\n",
        "  return d"
      ],
      "execution_count": null,
      "outputs": []
    },
    {
      "cell_type": "markdown",
      "metadata": {
        "id": "23ILDJ2SNHrk",
        "colab_type": "text"
      },
      "source": [
        "`unomas` actualiza el diccionario con un trayecto entre estaciones comprobando si ese paso resulta en un ciclo o no"
      ]
    },
    {
      "cell_type": "code",
      "metadata": {
        "id": "AYjZPctaxdW9",
        "colab_type": "code",
        "colab": {}
      },
      "source": [
        "separador = \"_\"\n",
        "def unomas(dic):\n",
        "  dic2 = {}\n",
        "  dk = list(dic.keys())\n",
        "  for key in dk:\n",
        "    if not isinstance(key, tuple): #todavía no es un ciclo\n",
        "      for elem in dic[key]:    \n",
        "        if key==elem:\n",
        "          dic2[tuple(set([key]))]=1 #indica ciclo longitud 1\n",
        "        else:\n",
        "          spl = key.split(separador)\n",
        "          if elem in spl:\n",
        "            pos = spl.index(elem)\n",
        "            lis = spl[pos:]\n",
        "            dic2[tuple(set(lis))] = len(spl)-pos #integer indica ciclo\n",
        "          else:\n",
        "            try:\n",
        "              dic2[key+separador+elem]=dic[elem]\n",
        "            except KeyError:\n",
        "              pass\n",
        "  dic2.update(dic)\n",
        "  return dic2"
      ],
      "execution_count": null,
      "outputs": []
    },
    {
      "cell_type": "markdown",
      "metadata": {
        "id": "TrHFQ5yPNXjI",
        "colab_type": "text"
      },
      "source": [
        "`sigue` llama recursivamente a `unomas` para recorrer el grafo del usuario en profundidad hasta que se obtiene todos los trayectos posibles"
      ]
    },
    {
      "cell_type": "code",
      "metadata": {
        "id": "96ZmwG3Wxgg8",
        "colab_type": "code",
        "colab": {}
      },
      "source": [
        "def sigue(dic):\n",
        "  if len(dic) == len(unomas(dic)):\n",
        "    return dic\n",
        "  else:\n",
        "    return (sigue(unomas(dic)))"
      ],
      "execution_count": null,
      "outputs": []
    },
    {
      "cell_type": "markdown",
      "metadata": {
        "id": "gvr6S_TwNkpw",
        "colab_type": "text"
      },
      "source": [
        "`tieneciclos` es un filtro booleano que indica si el usuario ha realizado algún ciclo en ese día"
      ]
    },
    {
      "cell_type": "code",
      "metadata": {
        "id": "Dew-oqNBxjmy",
        "colab_type": "code",
        "colab": {}
      },
      "source": [
        "def tieneciclos(dic):\n",
        "  resultado = False\n",
        "  for key,value in dic.items():\n",
        "    if isinstance(key,tuple):\n",
        "      resultado = True\n",
        "  return resultado"
      ],
      "execution_count": null,
      "outputs": []
    },
    {
      "cell_type": "markdown",
      "metadata": {
        "id": "NuH1G14hNqC8",
        "colab_type": "text"
      },
      "source": [
        "`dameciclos` se queda con las entradas del diccionario que señalan los ciclos, con clave ahora la longitud"
      ]
    },
    {
      "cell_type": "code",
      "metadata": {
        "id": "eDNTvt6cxlwV",
        "colab_type": "code",
        "colab": {}
      },
      "source": [
        "def dameciclos(dic):\n",
        "  dic2 = {}\n",
        "  for key,value in dic.items():\n",
        "    if isinstance(key,tuple):\n",
        "      try:\n",
        "        dic2[value].append(key)\n",
        "      except:\n",
        "        dic2[value]=[key]\n",
        "  return dic2"
      ],
      "execution_count": null,
      "outputs": []
    },
    {
      "cell_type": "code",
      "metadata": {
        "id": "XKGygcx_LydV",
        "colab_type": "code",
        "colab": {}
      },
      "source": [
        "#elimina los ciclos duplicados: al tratar las rdds a veces no consigue\n",
        "#obtener la misma tupla del ciclo como clave, igual sale desordenada\n",
        "#y considera que es otro ciclo distinto, teniendo la misma longitud y las mismas\n",
        "#estaciones, por eso aquí eliminamos los duplicados\n",
        "def eliminadup(dic):\n",
        "  daux = {}\n",
        "  for key,val in dic.items():\n",
        "    for elem in val:\n",
        "      try:\n",
        "        if set(elem) in daux[key]:\n",
        "          pass\n",
        "        else:\n",
        "          daux[key].append(set(elem))\n",
        "      except:\n",
        "        daux[key]=[set(elem)]\n",
        "  dic2 = {}\n",
        "  for key in daux.keys():\n",
        "    dic2[key]=[]\n",
        "    for val in daux[key]:\n",
        "      dic2[key].append(tuple(val))\n",
        "  return dic2"
      ],
      "execution_count": null,
      "outputs": []
    },
    {
      "cell_type": "markdown",
      "metadata": {
        "id": "SycNEz33NyPp",
        "colab_type": "text"
      },
      "source": [
        "`rdd_ciclos` tiene, para cada usuario, los ciclos que ha hecho en un diccionario cuyas claves son las longitudes de los ciclos"
      ]
    },
    {
      "cell_type": "code",
      "metadata": {
        "id": "LfMeqwp0x1F9",
        "colab_type": "code",
        "colab": {}
      },
      "source": [
        "rdd_ciclos = rddprima.mapValues(lambda x: adic(x)).mapValues(lambda x: sigue(x))\\\n",
        "          .filter(lambda x: len(x[1])>0).filter(lambda x: tieneciclos(x[1]))\\\n",
        "          .mapValues(lambda x:dameciclos(x)).mapValues(lambda x:eliminadup(x))"
      ],
      "execution_count": null,
      "outputs": []
    },
    {
      "cell_type": "code",
      "metadata": {
        "id": "U6hOdIzzyvXG",
        "colab_type": "code",
        "colab": {
          "base_uri": "https://localhost:8080/",
          "height": 87
        },
        "outputId": "b22eef87-94d5-48ca-a99e-6360e17edff9"
      },
      "source": [
        "#Ejemplos con la rdd_ciclos\n",
        "rdd_ciclos.filter(lambda x: len(x[1])>1).take(2)"
      ],
      "execution_count": null,
      "outputs": [
        {
          "output_type": "execute_result",
          "data": {
            "text/plain": [
              "[(('aa71c1d774247c1a4cdbbc3615584c9d1e159c54c8b0e8a102a09ac39dd5a708', 1),\n",
              "  {1: [('26',), ('123',)], 2: [('45', '26')]}),\n",
              " (('b5df0e63dfeede09c9ebd1414dbfa0d03d4340792fa76a357adf78bbdf4716b1', 1),\n",
              "  {1: [('57',)], 2: [('112', '57')]})]"
            ]
          },
          "metadata": {
            "tags": []
          },
          "execution_count": 106
        }
      ]
    },
    {
      "cell_type": "code",
      "metadata": {
        "id": "tsgDlkWxyOlY",
        "colab_type": "code",
        "colab": {
          "base_uri": "https://localhost:8080/",
          "height": 208
        },
        "outputId": "6314b199-2d8d-43b4-d1df-3b84c7ee2ea9"
      },
      "source": [
        "print(\"GENERAL\")\n",
        "for i in range(1,11):\n",
        "    aux = rdd_ciclos.filter(lambda x: i in x[1].keys()).mapValues(lambda x: x[i])\n",
        "    print(\"Número de usuarios que realizan ciclos de longitud\",i,\":\",aux.count())"
      ],
      "execution_count": null,
      "outputs": [
        {
          "output_type": "stream",
          "text": [
            "GENERAL\n",
            "Numero de usuarios que realizan ciclos de longitud 1 : 42368\n",
            "Numero de usuarios que realizan ciclos de longitud 2 : 161489\n",
            "Numero de usuarios que realizan ciclos de longitud 3 : 10595\n",
            "Numero de usuarios que realizan ciclos de longitud 4 : 1161\n",
            "Numero de usuarios que realizan ciclos de longitud 5 : 202\n",
            "Numero de usuarios que realizan ciclos de longitud 6 : 58\n",
            "Numero de usuarios que realizan ciclos de longitud 7 : 20\n",
            "Numero de usuarios que realizan ciclos de longitud 8 : 8\n",
            "Numero de usuarios que realizan ciclos de longitud 9 : 2\n",
            "Numero de usuarios que realizan ciclos de longitud 10 : 2\n"
          ],
          "name": "stdout"
        }
      ]
    },
    {
      "cell_type": "code",
      "metadata": {
        "id": "3WktH58jyQNp",
        "colab_type": "code",
        "colab": {
          "base_uri": "https://localhost:8080/",
          "height": 208
        },
        "outputId": "aa499856-c850-427b-89a1-222bcbbc1a54"
      },
      "source": [
        "print(\"TRABAJADORES\")\n",
        "for i in range(1,11):\n",
        "    aux = rdd_ciclos.filter(lambda x: x[0][1]==3).filter(lambda x: i in x[1].keys()).mapValues(lambda x: x[i])\n",
        "    print(\"Número de trabajadores que realizan ciclos de longitud\",i,\":\",aux.count())"
      ],
      "execution_count": null,
      "outputs": [
        {
          "output_type": "stream",
          "text": [
            "TRABAJADORES\n",
            "ciclos de longitud 1 : 3305\n",
            "ciclos de longitud 2 : 62\n",
            "ciclos de longitud 3 : 10\n",
            "ciclos de longitud 4 : 3\n",
            "ciclos de longitud 5 : 3\n",
            "ciclos de longitud 6 : 0\n",
            "ciclos de longitud 7 : 2\n",
            "ciclos de longitud 8 : 1\n",
            "ciclos de longitud 9 : 0\n",
            "ciclos de longitud 10 : 0\n"
          ],
          "name": "stdout"
        }
      ]
    },
    {
      "cell_type": "markdown",
      "metadata": {
        "id": "5k6bhuLSOd6e",
        "colab_type": "text"
      },
      "source": [
        "`espia` permite obtener los viajes y ciclos de un usuario concreto"
      ]
    },
    {
      "cell_type": "code",
      "metadata": {
        "id": "bpho0Jp7eeOF",
        "colab_type": "code",
        "colab": {}
      },
      "source": [
        "def espia(usu):\n",
        "  aux = rddprima.filter(lambda x: x[0][0]==usu).collect()\n",
        "  print(\"Usuario de tipo\",aux[0][0][1])\n",
        "  print(\"\\nTrayectos:\")\n",
        "  print(aux[0][1])\n",
        "  print(\"\\nCiclos:\")\n",
        "  print(rdd_ciclos.filter(lambda x: x[0][0]==usu).collect()[0][1])"
      ],
      "execution_count": null,
      "outputs": []
    },
    {
      "cell_type": "code",
      "metadata": {
        "id": "dhrBZqZ-3qZ8",
        "colab_type": "code",
        "colab": {
          "base_uri": "https://localhost:8080/",
          "height": 139
        },
        "outputId": "01e6cf28-5595-43e6-ffa5-53f6cb1987ae"
      },
      "source": [
        "usu = '38a62ad6add589ae13017a6f886fd3216fc0a64d1cc27def56eaf81db5c9c885'\n",
        "espia(usu)"
      ],
      "execution_count": null,
      "outputs": [
        {
          "output_type": "stream",
          "text": [
            "usuario de tipo 1\n",
            "\n",
            "trayectos:\n",
            "[[58, 58], [58, 163], [163, 168], [168, 115], [115, 6], [6, 58], [58, 130], [130, 58]]\n",
            "\n",
            "ciclos:\n",
            "{5: [('58', '168', '115', '6', '163')], 1: [('58',)], 2: [('130', '58')]}\n"
          ],
          "name": "stdout"
        }
      ]
    },
    {
      "cell_type": "markdown",
      "metadata": {
        "id": "vPoV5SHwOTl9",
        "colab_type": "text"
      },
      "source": [
        "`rdd_triciclos` se queda con los ciclos de longitud 3, que son los más comunes sin contar los de ida y vuelta (o return trips)"
      ]
    },
    {
      "cell_type": "code",
      "metadata": {
        "id": "yfCyOXIiyM8q",
        "colab_type": "code",
        "colab": {}
      },
      "source": [
        "rdd_triciclos = rdd_ciclos.filter(lambda x: 3 in x[1].keys()).mapValues(lambda x: x[3])"
      ],
      "execution_count": null,
      "outputs": []
    },
    {
      "cell_type": "markdown",
      "metadata": {
        "id": "3IkofMO4OsrO",
        "colab_type": "text"
      },
      "source": [
        "`triciclorden` recibe un triciclo como tupla y lo devuelve como string de las estaciones ordenadas crecientemente separadas por cierto separador predefinido"
      ]
    },
    {
      "cell_type": "code",
      "metadata": {
        "id": "4FiO-TZ87AuA",
        "colab_type": "code",
        "colab": {}
      },
      "source": [
        "from functools import reduce as functools_reduce\n",
        "def triciclorden(tupla):\n",
        "  aux = [str(eleme) for eleme in sorted([int(elem) for elem in tupla])]\n",
        "  return functools_reduce(lambda a,b:a+separador+b, aux)"
      ],
      "execution_count": null,
      "outputs": []
    },
    {
      "cell_type": "markdown",
      "metadata": {
        "id": "WAGBaBiuO5mX",
        "colab_type": "text"
      },
      "source": [
        "`rdd_3` tiene los triciclos con las estaciones ordenadas como clave y el número de veces que se repite el triciclo como valor\n",
        "\n",
        "Nota: con `flatMapValues` obtenemos los triciclos por separado de aquellos ususarios que han realizado más de un triciclo al día"
      ]
    },
    {
      "cell_type": "code",
      "metadata": {
        "id": "CgM99cHv5fdU",
        "colab_type": "code",
        "colab": {}
      },
      "source": [
        "rdd_3 = rdd_triciclos.flatMapValues(lambda x: x).mapValues(lambda x: triciclorden(x))\\\n",
        "                      .map(lambda x: (x[1],1)).groupByKey().mapValues(sum)"
      ],
      "execution_count": null,
      "outputs": []
    },
    {
      "cell_type": "code",
      "metadata": {
        "id": "0mGirbtM9TiB",
        "colab_type": "code",
        "colab": {
          "base_uri": "https://localhost:8080/",
          "height": 35
        },
        "outputId": "0045ea56-7ae0-4882-f7b3-9f020c8c6709"
      },
      "source": [
        "rdd_3.count() #número total de triciclos realizados"
      ],
      "execution_count": null,
      "outputs": [
        {
          "output_type": "execute_result",
          "data": {
            "text/plain": [
              "8701"
            ]
          },
          "metadata": {
            "tags": []
          },
          "execution_count": 114
        }
      ]
    },
    {
      "cell_type": "code",
      "metadata": {
        "id": "jERGjNIh7W0-",
        "colab_type": "code",
        "colab": {
          "base_uri": "https://localhost:8080/",
          "height": 191
        },
        "outputId": "c5ef9f7e-fa5d-41ff-d38f-7cc1b48fb373"
      },
      "source": [
        "#Los triciclos realizados más veces\n",
        "rdd_3.sortBy(lambda x: x[1], False).take(10)"
      ],
      "execution_count": null,
      "outputs": [
        {
          "output_type": "execute_result",
          "data": {
            "text/plain": [
              "[('20_36_58', 26),\n",
              " ('101_130_162', 26),\n",
              " ('136_146_162', 17),\n",
              " ('30_129_163', 16),\n",
              " ('30_63_132', 15),\n",
              " ('48_83_119', 15),\n",
              " ('78_87_101', 13),\n",
              " ('100_164_169', 12),\n",
              " ('139_160_173', 11),\n",
              " ('72_76_136', 11)]"
            ]
          },
          "metadata": {
            "tags": []
          },
          "execution_count": 115
        }
      ]
    },
    {
      "cell_type": "markdown",
      "metadata": {
        "id": "oi520IrV15h-",
        "colab_type": "text"
      },
      "source": [
        "# **Asesor de ruta biciMAD**\n",
        "Dada una estación de `origen`, una de `destino` y una hora del trayecto (`hora_Viaje`), calcularemos el tiempo medio necesitado realizar el trayecto, cuántas bicicletas suele haber disponibles en las estaciones, y si suele haber hueco en la estación final para poder colocar la bicicleta."
      ]
    },
    {
      "cell_type": "code",
      "metadata": {
        "id": "gW4iP6lbQxjW",
        "colab_type": "code",
        "colab": {
          "base_uri": "https://localhost:8080/",
          "height": 69
        },
        "outputId": "be224708-2a63-4cf9-e02b-948bf9995e74"
      },
      "source": [
        "#Inputs del asesor\n",
        "\n",
        "origen = input('Estación de la que se desea partir: ') #57\n",
        "destino = input('Estación a la que se desea llegar: ') #38\n",
        "hora_Viaje = int(input('Hora a la que se desea realizar el viaje(HH): ')) #03\n"
      ],
      "execution_count": null,
      "outputs": [
        {
          "output_type": "stream",
          "text": [
            "Estación de la que se desea partir: 57\n",
            "Estación a la que se desea llegar: 38\n",
            "Hora a la que se desea realizar el viaje(HH): 3\n"
          ],
          "name": "stdout"
        }
      ]
    },
    {
      "cell_type": "code",
      "metadata": {
        "id": "WVAJdvV026YJ",
        "colab_type": "code",
        "colab": {}
      },
      "source": [
        "origen = '57' #string\n",
        "destino = '38' #string\n",
        "hora_Viaje = int('03') #int"
      ],
      "execution_count": null,
      "outputs": []
    },
    {
      "cell_type": "code",
      "metadata": {
        "id": "BROejD4u3EzC",
        "colab_type": "code",
        "colab": {}
      },
      "source": [
        "#Función que se queda con los viajes alrededor de la hora solicitada\n",
        "def rangoTiempo(hora, rango, hora_target):\n",
        "    hora = hora.split(\":\")\n",
        "    h = int(hora[0])\n",
        "    m = int(hora[1])\n",
        "    hora = h + m/60.0\n",
        "    if (hora_target - rango < 0):\n",
        "      return((hora < hora_target + rango) or 24 + hora_target - rango < hora)\n",
        "    else:\n",
        "      return(hora_target - rango < hora and hora < hora_target + rango)"
      ],
      "execution_count": null,
      "outputs": []
    },
    {
      "cell_type": "markdown",
      "metadata": {
        "id": "Qp5H1pX5cHDC",
        "colab_type": "text"
      },
      "source": [
        "El primer filtro consiste en quedarnos con los trayectos que parten de la estación `origen` y terminan en la estación `destino`."
      ]
    },
    {
      "cell_type": "code",
      "metadata": {
        "id": "y-PZ9qjf3WNZ",
        "colab_type": "code",
        "colab": {}
      },
      "source": [
        "rdd_trayecto = rdd_usages['2019'].filter(lambda x: x['start'] == int(origen) and x['end'] == int(destino))"
      ],
      "execution_count": null,
      "outputs": []
    },
    {
      "cell_type": "code",
      "metadata": {
        "id": "KE6Cf_4E3YTx",
        "colab_type": "code",
        "colab": {
          "base_uri": "https://localhost:8080/",
          "height": 35
        },
        "outputId": "afca5a28-f6b4-4c9e-b72b-9a587b3c38b7"
      },
      "source": [
        "print('Total de viajes similares al del cliente sin tener en cuenta el horario: ', rdd_trayecto.count())"
      ],
      "execution_count": null,
      "outputs": [
        {
          "output_type": "stream",
          "text": [
            "Total de viajes similares al del cliente sin tener en cuenta el horario:  690\n"
          ],
          "name": "stdout"
        }
      ]
    },
    {
      "cell_type": "code",
      "metadata": {
        "id": "3elQw2rq8prH",
        "colab_type": "code",
        "colab": {
          "base_uri": "https://localhost:8080/",
          "height": 343
        },
        "outputId": "7277e832-44b1-4540-ad04-3754fc53a54c"
      },
      "source": [
        "#Veamos cuáles son las horas más comunes para realizar este tipo de viaje.\n",
        "dicc = rdd_trayecto.map(lambda x: (int(x['hour'][0:2]), 1)).countByKey()\n",
        "dicc_list = sorted(dicc.keys())\n",
        "plt.figure(figsize=(15,5))\n",
        "plt.title(\"Usuarios que realizan el viaje \"+origen+ \" --> \"+destino)\n",
        "plt.bar(dicc.keys(), dicc.values())\n",
        "plt.xlabel('Horas', fontsize=18)\n",
        "plt.ylabel('Cantidad de usuarios', fontsize=16)\n",
        "plt.show()"
      ],
      "execution_count": null,
      "outputs": [
        {
          "output_type": "display_data",
          "data": {
            "image/png": "[encoded data removed]",
            "text/plain": [
              "<Figure size 1080x360 with 1 Axes>"
            ]
          },
          "metadata": {
            "tags": [],
            "needs_background": "light"
          }
        }
      ]
    },
    {
      "cell_type": "markdown",
      "metadata": {
        "id": "0mrO85JvcaTv",
        "colab_type": "text"
      },
      "source": [
        "Y ahora filtramos ya solo en el rango de horas especificado, por defecto, 1 hora alrededor de la hora elegida."
      ]
    },
    {
      "cell_type": "code",
      "metadata": {
        "id": "XIt66Zsa3byV",
        "colab_type": "code",
        "colab": {}
      },
      "source": [
        "rdd_viaje = rdd_trayecto.filter(lambda x: rangoTiempo(x['hour'], 1.01, hora_Viaje))"
      ],
      "execution_count": null,
      "outputs": []
    },
    {
      "cell_type": "code",
      "metadata": {
        "id": "4QslQE0W5Ro8",
        "colab_type": "code",
        "colab": {
          "base_uri": "https://localhost:8080/",
          "height": 35
        },
        "outputId": "65b18f26-e99b-4ff3-8d85-2385f0d22f79"
      },
      "source": [
        "print('Total de viajes similares al del cliente alrededor de la hora especificada: ', rdd_viaje.count())"
      ],
      "execution_count": null,
      "outputs": [
        {
          "output_type": "stream",
          "text": [
            "Total de viajes similares al del cliente alrededor de la hora especificada:  88\n"
          ],
          "name": "stdout"
        }
      ]
    },
    {
      "cell_type": "code",
      "metadata": {
        "id": "M4MPoBzh667V",
        "colab_type": "code",
        "colab": {
          "base_uri": "https://localhost:8080/",
          "height": 35
        },
        "outputId": "5c141e33-9df5-42ea-9121-b1b1a36ff1b1"
      },
      "source": [
        "def prititime(segundos):\n",
        "  m = int(segundos // 60)\n",
        "  s = int(segundos % 60)\n",
        "  return \"{0} minutos y {1} segundos\".format(m,s)\n",
        "\n",
        "#Estudiemos ahora las medias en tiempo de todos los viajes similares a esa hora\n",
        "listaTiempos = rdd_viaje.map(lambda x: ([x['travel_time']])).reduce(lambda a, b: a + b)\n",
        "media_tiempo_viaje = stats.mean(listaTiempos)\n",
        "print('La media de tiempo empleado por otros usuarios es',prititime(media_tiempo_viaje))"
      ],
      "execution_count": null,
      "outputs": [
        {
          "output_type": "stream",
          "text": [
            "La media de tiempo empleado por otros usuarios es 6 minutos y 37 segundos\n"
          ],
          "name": "stdout"
        }
      ]
    },
    {
      "cell_type": "markdown",
      "metadata": {
        "id": "obSN-yUenWnZ",
        "colab_type": "text"
      },
      "source": [
        "Es importante que el cliente sepa cuántas bicicletas suele haber disponibles en la estación de partida alrededor de la hora en la que tiene pensado realizar su viaje y cuántos sitios habrá disponibles en la estación de llegada. Por ello necesitamos trabajar ahora con los datos que se encuentran en los ficheros de datos sobre las situaciones de las estaciones, los cuales los habiamos almacenado en el diccionario `rdd_stations`.\n",
        "\n"
      ]
    },
    {
      "cell_type": "code",
      "metadata": {
        "id": "4I0vRZhe7Ahu",
        "colab_type": "code",
        "colab": {}
      },
      "source": [
        "def estaciones(lista):\n",
        "  filtro = []\n",
        "  for estacion in lista['station']:\n",
        "    if estacion['id'] == int(origen) or estacion['id'] == int(destino):\n",
        "      filtro.append(estacion)\n",
        "  return {\"day\":lista['day'],\n",
        "          \"hour\":lista['hour'],\n",
        "          \"station\":filtro}\n",
        "\n",
        "#rdd_Sit_fil contiene solo los datos de las dos estaciones, la de partida y la de llegada\n",
        "rdd_Sit_fil = rdd_stations['2019'].map(estaciones)"
      ],
      "execution_count": null,
      "outputs": []
    },
    {
      "cell_type": "code",
      "metadata": {
        "id": "Iv3Z1JBS7RXf",
        "colab_type": "code",
        "colab": {}
      },
      "source": [
        "def calcularBasesLibres(lista, n_estacion):\n",
        "  #Bases libres en la estacion n_estacion\n",
        "  for station in lista:\n",
        "    if station['id'] == n_estacion:\n",
        "      return station['free_bases']\n",
        "\n",
        "def calcularBicisLibres(lista, n_estacion):\n",
        "  \"\"\"\n",
        "  Bicicletas libres en la n_estacion. Este numero esta formado por el numero de bicicletas en la estación\n",
        "  menos las bicicletas que ya estan reservadas por otros usuarios y menos aquellas que no esten disponibles.\n",
        "  \"\"\"\n",
        "  for station in lista:\n",
        "    if station['id'] == n_estacion:\n",
        "      return station['dock_bikes'] - station['reservations_count'] - station['no_available']\n",
        "\n",
        "bicisLibres = rdd_Sit_fil.filter(lambda x: rangoTiempo(x['hour'], 1, hora_Viaje))\\\n",
        "              .map(lambda x: [calcularBicisLibres(x['station'], int(origen))]).reduce(lambda a, b: a+b)\n",
        "basesLibres = rdd_Sit_fil.filter(lambda x: rangoTiempo(x['hour'], 1, media_tiempo_viaje / 3600.0))\\\n",
        "              .map(lambda x: [calcularBasesLibres(x['station'], int(destino))]).reduce(lambda a, b: a+b)"
      ],
      "execution_count": null,
      "outputs": []
    },
    {
      "cell_type": "code",
      "metadata": {
        "id": "L9BiZ8fA7cL3",
        "colab_type": "code",
        "colab": {
          "base_uri": "https://localhost:8080/",
          "height": 52
        },
        "outputId": "d4acfa99-ee7a-4824-b635-d511acb77b13"
      },
      "source": [
        "totalBasesPorEstacion = {}\n",
        "stationsLst = rdd_Sit_fil.take(1)[0]['station']\n",
        "totalBasesPorEstacion[stationsLst[0]['id']] = stationsLst[0]['total_bases']\n",
        "totalBasesPorEstacion[stationsLst[1]['id']] = stationsLst[1]['total_bases']\n",
        "\n",
        "print('La media de bicicletas libres en la estación', origen, 'respecto a la hora elegida es:',int(stats.mean(bicisLibres)), '/', totalBasesPorEstacion[int(origen)])\n",
        "print('La media de bases libres en la estación', destino ,'respecto a la hora estimada de llegada es:',int(stats.mean(basesLibres)), '/', totalBasesPorEstacion[int(destino)])"
      ],
      "execution_count": null,
      "outputs": [
        {
          "output_type": "stream",
          "text": [
            "La media de bicicletas libres en 57 respecto a la hora elegida es: 15 / 24\n",
            "La media de bases libres en 38 respecto a la hora estimada de llegada es: 6 / 24\n"
          ],
          "name": "stdout"
        }
      ]
    },
    {
      "cell_type": "markdown",
      "metadata": {
        "id": "BSVrsSg2kEQu",
        "colab_type": "text"
      },
      "source": [
        "En caso de no tener claro el trayecto para llegar al destino, le indicaremos al cliente qué calles han sido las más transitadas realizando el viaje que se desea hacer. En este caso, no indicaremos al cliente tan solo la calle más utilizada por el resto de usuarios, ya que esta puede ser una calle cualquiera y no servirle de mucha utilidad para planificar su ruta. Le indicaremos cuál ha sido la primera calle más transitada, es decir, la primera calle que han usado los usuarios para realizar el viaje, y la última calle más transitada, es decir, la última calle por la que han pasado antes de llegar al destino. Aunque los datos sobre los trayectos, para que sean anónimos son datos en tiempos aletorios, en general, no son intervalos de tiempo muy grandes por lo que la información de estos trayectos podrá ser útil para planificar una ruta.\n"
      ]
    },
    {
      "cell_type": "code",
      "metadata": {
        "id": "x-Z8ZI0DGcqM",
        "colab_type": "code",
        "colab": {}
      },
      "source": [
        "#Tan solo estudiaremos los trayectos nocturnos para este caso ya que es lo que nos interesa.\n",
        "\n",
        "def obtenerCalles(line):\n",
        "  listaCalles = []\n",
        "  data = line['track']\n",
        "  for value in data['features']:\n",
        "    try:\n",
        "      calle = value['properties']['var'].split(\",\")\n",
        "      listaCalles.append(calle[4])\n",
        "    except:\n",
        "      None\n",
        "  if len(listaCalles) > 0:\n",
        "    return (listaCalles[-1], listaCalles[0]) #Porque el primer dato es el último que se recibe (de ahí el -1).\n",
        "\n",
        "rdd_calles = rdd_viaje.filter(horasNocturnas).filter(lambda x: x['user_type'] != 3 and x['track'] != None)\\\n",
        "             .map(obtenerCalles).filter(lambda x: x != None)\n"
      ],
      "execution_count": null,
      "outputs": []
    },
    {
      "cell_type": "code",
      "metadata": {
        "id": "08xZ85VukES6",
        "colab_type": "code",
        "colab": {
          "base_uri": "https://localhost:8080/",
          "height": 52
        },
        "outputId": "521412ad-47dc-4654-c41d-e328ba080ee6"
      },
      "source": [
        "\"\"\"\n",
        "Veamos por un lado la primera calle más transitada para realizar el viaje y después la última que más\n",
        "se ha transtidado a la hora de realizar el viaje \n",
        "\"\"\"\n",
        "def eliminarNumero(line):\n",
        "  data = line.split(\" \")\n",
        "  try:\n",
        "    entero = int(data[-1])\n",
        "    modulo = len(data[-1])+1\n",
        "    return line[:-modulo]\n",
        "  except:\n",
        "    return line\n",
        "\n",
        "calleInicial = rdd_calles.map(lambda x: (eliminarNumero(x[0]), 1)).reduceByKey(lambda x, y: x+y)\\\n",
        "                         .sortBy(lambda x: x[1], False).first()\n",
        "\n",
        "calleFinal = rdd_calles.map(lambda x: (eliminarNumero(x[1]), 1)).reduceByKey(lambda x, y: x+y)\\\n",
        "                       .sortBy(lambda x: x[1], False).first()\n",
        "\n",
        "print(\"La primera calle más usada es:\", calleInicial[0])\n",
        "print(\"La última calle más usada es:\", calleFinal[0])\n"
      ],
      "execution_count": null,
      "outputs": [
        {
          "output_type": "stream",
          "text": [
            "La primera calle más usada es:  CALLE AVE MARIA\n",
            "La última calle más usada es:  PLAZA JACINTO BENAVENTE\n"
          ],
          "name": "stdout"
        }
      ]
    }
  ]
}