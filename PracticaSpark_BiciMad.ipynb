{
  "nbformat": 4,
  "nbformat_minor": 0,
  "metadata": {
    "colab": {
      "name": "PracticaSpark_BiciMad.ipynb",
      "provenance": [],
      "collapsed_sections": [
        "A5-Zr47G_ogp"
      ],
      "toc_visible": true,
      "include_colab_link": true
    },
    "kernelspec": {
      "name": "python3",
      "display_name": "Python 3"
    }
  },
  "cells": [
    {
      "cell_type": "markdown",
      "metadata": {
        "id": "view-in-github",
        "colab_type": "text"
      },
      "source": [
        "<a href=\"https://colab.research.google.com/github/ParalelaUCM/biciMAD/blob/master/PracticaSpark_BiciMad.ipynb\" target=\"_parent\"><img src=\"https://colab.research.google.com/assets/colab-badge.svg\" alt=\"Open In Colab\"/></a>"
      ]
    },
    {
      "cell_type": "markdown",
      "metadata": {
        "id": "o6JLekeSkduf",
        "colab_type": "text"
      },
      "source": [
        "# **Setup**\n",
        "\n",
        "Instalamos y configuramos las herramientas necesarias para empezar a trabajar"
      ]
    },
    {
      "cell_type": "code",
      "metadata": {
        "id": "1dvQgdvjkcPT",
        "colab_type": "code",
        "colab": {}
      },
      "source": [
        "!apt-get install openjdk-8-jdk\n",
        "\"\"\"\n",
        "#!apt install unzip ya no lo usamos\n",
        "\"\"\"\n",
        "!apt-get install unrar\n",
        "import os\n",
        "os.environ[\"JAVA_HOME\"] = \"/usr/lib/jvm/java-8-openjdk-amd64\"\n",
        "!pip install pyspark"
      ],
      "execution_count": 0,
      "outputs": []
    },
    {
      "cell_type": "code",
      "metadata": {
        "id": "C1Yn_yv0kFQH",
        "colab_type": "code",
        "colab": {}
      },
      "source": [
        "import json\n",
        "import os\n",
        "import matplotlib.pyplot as plt\n",
        "import statistics as stats\n",
        "from pyspark import SparkContext"
      ],
      "execution_count": 0,
      "outputs": []
    },
    {
      "cell_type": "code",
      "metadata": {
        "id": "wewQ_aLlkFx3",
        "colab_type": "code",
        "colab": {}
      },
      "source": [
        "sc = SparkContext()"
      ],
      "execution_count": 0,
      "outputs": []
    },
    {
      "cell_type": "markdown",
      "metadata": {
        "id": "9xB2HI4RlCAv",
        "colab_type": "text"
      },
      "source": [
        "# **Descargamos los datasets de bicimad**\n",
        "Descargaremos cada dataset de la web oficial de biciMAD.\n",
        "La función descarga usa los paquete Beautiful Soup y request, automatizando la obtención de los archivos. Los renombraremos a '.zip' o '.rar' para poder descomprimirlos y una vez descomprimidos los movemos a la carpeta 'datasets'. Por último eliminamos los ficheros comprimidos."
      ]
    },
    {
      "cell_type": "code",
      "metadata": {
        "id": "zynUfS6zlO2x",
        "colab_type": "code",
        "colab": {}
      },
      "source": [
        "#Estructura de carpetas para el dataset\n",
        "!mkdir dataset\n",
        "!cd dataset/\n",
        "!mkdir dataset/usages\n",
        "!mkdir dataset/stations"
      ],
      "execution_count": 0,
      "outputs": []
    },
    {
      "cell_type": "code",
      "metadata": {
        "id": "csOz4j3ziLix",
        "colab_type": "code",
        "outputId": "9ad211e4-732e-4758-c890-def0283cd00d",
        "colab": {
          "base_uri": "https://localhost:8080/",
          "height": 124
        }
      },
      "source": [
        "!pip install patool\n",
        "\n",
        "from bs4 import BeautifulSoup\n",
        "import requests\n",
        "import os\n",
        "import zipfile\n",
        "import patoolib\n",
        "\n",
        "#datos de páginas web para la descarga de los dataset\n",
        "pagina = \"https://opendata.emtmadrid.es\"\n",
        "url = requests.get(\"https://opendata.emtmadrid.es/Datos-estaticos/Datos-generales-(1)\")\n",
        "html_doc = url.text\n",
        "soup = BeautifulSoup(html_doc, 'html.parser')\n",
        "meses_l = [None, \"enero\",\"febrero\",\"marzo\",\"abril\",\"mayo\",\"junio\",\"julio\",\n",
        "           \"agosto\",\"septiembre\",\"octubre\",\"noviembre\",\"diciembre\"]"
      ],
      "execution_count": 0,
      "outputs": [
        {
          "output_type": "stream",
          "text": [
            "Collecting patool\n",
            "\u001b[?25l  Downloading https://files.pythonhosted.org/packages/43/94/52243ddff508780dd2d8110964320ab4851134a55ab102285b46e740f76a/patool-1.12-py2.py3-none-any.whl (77kB)\n",
            "\u001b[K     |████████████████████████████████| 81kB 2.2MB/s \n",
            "\u001b[?25hInstalling collected packages: patool\n",
            "Successfully installed patool-1.12\n"
          ],
          "name": "stdout"
        }
      ]
    },
    {
      "cell_type": "code",
      "metadata": {
        "id": "PDRJY_d_iv_S",
        "colab_type": "code",
        "colab": {}
      },
      "source": [
        "def descarga(mes,año):\n",
        "  for link in soup.find_all('a'):\n",
        "    l = link.get('title')\n",
        "    if isinstance(l,str):\n",
        "      if meses_l[mes] in l.lower() and str(año) in l:\n",
        "        if \"uso\" in l:\n",
        "          print(l)\n",
        "          enlace = link.get('href')\n",
        "          url = pagina+enlace\n",
        "          r = requests.get(url, allow_redirects=True)\n",
        "          open('temp.aspx', 'wb').write(r.content)\n",
        "          os.rename(\"temp.aspx\",\"temp.zip\")\n",
        "          try:\n",
        "            with zipfile.ZipFile(\"/content/temp.zip\", 'r') as zip_ref:\n",
        "              zip_ref.extractall(\"/content/dataset/usages\")\n",
        "            os.remove(\"/content/temp.zip\")\n",
        "          except:\n",
        "            os.rename(\"temp.zip\",\"temp.rar\")\n",
        "            patoolib.extract_archive(\"temp.rar\", outdir=\"/content/dataset/usages\")\n",
        "            os.remove(\"/content/temp.rar\")\n",
        "        elif \"estaciones\" in l:\n",
        "          print(l)\n",
        "          enlace = link.get('href')\n",
        "          url = pagina+enlace\n",
        "          r = requests.get(url, allow_redirects=True)\n",
        "          open('temp.aspx', 'wb').write(r.content)\n",
        "          os.rename(\"temp.aspx\",\"temp.zip\")\n",
        "          try:\n",
        "            with zipfile.ZipFile(\"/content/temp.zip\", 'r') as zip_ref:\n",
        "              zip_ref.extractall(\"/content/dataset/stations\")\n",
        "            os.remove(\"/content/temp.zip\")\n",
        "          except:\n",
        "            os.rename(\"temp.zip\",\"temp.rar\")\n",
        "            patoolib.extract_archive(\"temp.rar\", outdir=\"/content/dataset/stations\")\n",
        "            os.remove(\"/content/temp.rar\")"
      ],
      "execution_count": 0,
      "outputs": []
    },
    {
      "cell_type": "code",
      "metadata": {
        "id": "raadBW_0iygh",
        "colab_type": "code",
        "colab": {}
      },
      "source": [
        "for i in range(1,7):\n",
        "  descarga(i,2019)"
      ],
      "execution_count": 0,
      "outputs": []
    },
    {
      "cell_type": "markdown",
      "metadata": {
        "id": "6l1JrKnQlPbm",
        "colab_type": "text"
      },
      "source": [
        "# **Creamos los RDD**\n",
        "Una vez tenemos las bases de datos descargadas vamos a codificarlas de forma cómoda."
      ]
    },
    {
      "cell_type": "markdown",
      "metadata": {
        "id": "s2_J09HfldNw",
        "colab_type": "text"
      },
      "source": [
        "Para tener los datos almacenados de una forma cómoda primero creamos un diccionario cuya clave va a ser un string con el mes y el año del dataset y como valor va a tener el rdd asociado al uso por usuario de ese mes.\n",
        "\n",
        "La funcion `mapper_usages` nos servirá para crear la rdd más legible. Nos quedaremos con los datos necesarios y cada linea la codificaremos como un diccionario."
      ]
    },
    {
      "cell_type": "code",
      "metadata": {
        "id": "qKXOxYtPlUPZ",
        "colab_type": "code",
        "colab": {}
      },
      "source": [
        "rdd_usages = {} "
      ],
      "execution_count": 0,
      "outputs": []
    },
    {
      "cell_type": "code",
      "metadata": {
        "id": "fQ1WZW9ylnFQ",
        "colab_type": "code",
        "colab": {}
      },
      "source": [
        "def mapper_usages(line):\n",
        "  data = json.loads(line)\n",
        "  user = data['user_type']\n",
        "  user_day = data['user_day_code']\n",
        "  start = data['idunplug_station']\n",
        "  end = data['idplug_station']\n",
        "  date = data['unplug_hourTime']['$date'][0:10]\n",
        "  hora = data['unplug_hourTime']['$date'][11:19]\n",
        "  time = data['travel_time']\n",
        "  age = data['ageRange']\n",
        "  try:\n",
        "    track = data['track']\n",
        "  except:\n",
        "    track = None\n",
        "  return {\"user_type\": user,\n",
        "          \"user_day_code\": user_day,\n",
        "          \"start\": start,\n",
        "          \"end\": end,\n",
        "          \"travel_time\": time,\n",
        "          \"date\": date,\n",
        "          \"hour\": hora,\n",
        "          \"age\": age,\n",
        "          \"track\": track}"
      ],
      "execution_count": 0,
      "outputs": []
    },
    {
      "cell_type": "code",
      "metadata": {
        "id": "d9pIrqUclrQl",
        "colab_type": "code",
        "outputId": "3589697b-c5c0-4363-c0e9-a27353b099d9",
        "colab": {
          "base_uri": "https://localhost:8080/",
          "height": 121
        }
      },
      "source": [
        "directory = 'dataset/usages'\n",
        "for filename in os.listdir(directory):\n",
        "    if filename.endswith(\".json\"):\n",
        "      #Nos quedamos con la fecha del dataset en formato YYYYMM\n",
        "      name = filename.split(\"_\")[0]\n",
        "      rdd_usages[name] = sc.textFile(os.path.join(directory, filename)).map(mapper_usages)\n",
        "      #DEBUG starts\n",
        "      print(name)\n",
        "      #DEBUG ends\n",
        "    else:\n",
        "        continue"
      ],
      "execution_count": 0,
      "outputs": [
        {
          "output_type": "stream",
          "text": [
            "201906\n",
            "201905\n",
            "201901\n",
            "201904\n",
            "201902\n",
            "201903\n"
          ],
          "name": "stdout"
        }
      ]
    },
    {
      "cell_type": "code",
      "metadata": {
        "id": "1jHkWWJcBg9H",
        "colab_type": "code",
        "colab": {}
      },
      "source": [
        "#Juntamos todos los datos de los meses en uno solo dataset, y lo metemos también al diccionario.\n",
        "rdd_usages['2019_01a06'] = rdd_usages['201901'].union(rdd_usages['201902'].union(rdd_usages['201903'].union(rdd_usages['201904'].union(rdd_usages['201905'].union(rdd_usages['201906'])))))\n",
        "#rdd_usages['2019_01a06'] = rdd_usages['201901'].concat(rdd_usages['201902'])"
      ],
      "execution_count": 0,
      "outputs": []
    },
    {
      "cell_type": "code",
      "metadata": {
        "id": "IHVwJiV1EtYD",
        "colab_type": "code",
        "outputId": "a698eb6f-3f14-4a4b-fcc7-2f395314d579",
        "colab": {
          "base_uri": "https://localhost:8080/",
          "height": 476
        }
      },
      "source": [
        "rdd_usages['2019_01a06'].take(1)"
      ],
      "execution_count": 0,
      "outputs": [
        {
          "output_type": "execute_result",
          "data": {
            "text/plain": [
              "[{'age': 0,\n",
              "  'date': '2019-01-01',\n",
              "  'end': 83,\n",
              "  'hour': '00:00:00',\n",
              "  'start': 82,\n",
              "  'track': {'features': [{'geometry': {'coordinates': [-3.6803143, 40.4048615],\n",
              "      'type': 'Point'},\n",
              "     'properties': {'secondsfromstart': 153,\n",
              "      'speed': 1.77,\n",
              "      'var': '28007,ES,Madrid,Madrid,AVDA MENENDEZ PELAYO 117,Madrid'},\n",
              "     'type': 'Feature'},\n",
              "    {'geometry': {'coordinates': [-3.67770349972222, 40.4029987997222],\n",
              "      'type': 'Point'},\n",
              "     'properties': {'secondsfromstart': 93,\n",
              "      'speed': 6.58,\n",
              "      'var': '28007,ES,Madrid,Madrid,AVDA CIUDAD DE BARCELONA 51,Madrid'},\n",
              "     'type': 'Feature'},\n",
              "    {'geometry': {'coordinates': [-3.67432209972222, 40.4009430997222],\n",
              "      'type': 'Point'},\n",
              "     'properties': {'secondsfromstart': 32,\n",
              "      'speed': 4.72,\n",
              "      'var': '28007,ES,Madrid,Madrid,AVDA CIUDAD DE BARCELONA 81,Madrid'},\n",
              "     'type': 'Feature'}],\n",
              "   'type': 'FeatureCollection'},\n",
              "  'travel_time': 162,\n",
              "  'user_day_code': 'b3b5b61509ab89afbf4d1e589d229bebe6637c2de819f5d612762c939b8d7f1f',\n",
              "  'user_type': 1}]"
            ]
          },
          "metadata": {
            "tags": []
          },
          "execution_count": 12
        }
      ]
    },
    {
      "cell_type": "markdown",
      "metadata": {
        "id": "muBX-1kTly_Y",
        "colab_type": "text"
      },
      "source": [
        "Por otro lado un diccionario cuya clave va a ser tambien un string con el mes y el año del dataset y como valor va a tener el rdd asociado a la ocupación de las estaciones en ese mes.\n",
        "\n",
        "Aquí usaremos la funcion `mapper_stations` para acomodar los datos."
      ]
    },
    {
      "cell_type": "code",
      "metadata": {
        "id": "Do-vrp0Ul3uZ",
        "colab_type": "code",
        "colab": {}
      },
      "source": [
        "rdd_stations = {} "
      ],
      "execution_count": 0,
      "outputs": []
    },
    {
      "cell_type": "code",
      "metadata": {
        "id": "HhR9BSlSl5xZ",
        "colab_type": "code",
        "colab": {}
      },
      "source": [
        "def mapper_stations(line):\n",
        "  data = json.loads(line)\n",
        "  day = data['_id'][0:10]\n",
        "  hour = data['_id'][11:27]\n",
        "  station = data['stations']\n",
        "  return {\"day\": day, \"hour\": hour, \"station\": station}"
      ],
      "execution_count": 0,
      "outputs": []
    },
    {
      "cell_type": "code",
      "metadata": {
        "id": "pLEPxjcBl77p",
        "colab_type": "code",
        "outputId": "fe15dff6-0fda-4a82-97cc-8321455183f8",
        "colab": {
          "base_uri": "https://localhost:8080/",
          "height": 121
        }
      },
      "source": [
        "directory = 'dataset/stations'\n",
        "for filename in os.listdir(directory):\n",
        "    if filename.endswith(\".json\"):\n",
        "      #Nos quedamos con la fecha del dataset en formato YYYYMM\n",
        "      name = filename.split(\"_\")[2].split(\".\")[0]\n",
        "      rdd_stations[name] = sc.textFile(os.path.join(directory, filename)).map(mapper_stations)\n",
        "      #DEBUG starts\n",
        "      print(name)\n",
        "      #DEBUG ends\n",
        "    else:\n",
        "        continue"
      ],
      "execution_count": 0,
      "outputs": [
        {
          "output_type": "stream",
          "text": [
            "201905\n",
            "201906\n",
            "201903\n",
            "201902\n",
            "201904\n",
            "201901\n"
          ],
          "name": "stdout"
        }
      ]
    },
    {
      "cell_type": "code",
      "metadata": {
        "id": "J9zAZJBHWjmC",
        "colab_type": "code",
        "colab": {}
      },
      "source": [
        "#Juntamos todos los datos de los meses en uno solo dataset, y lo metemos también al diccionario.\n",
        "rdd_stations['2019_01a06'] = rdd_stations['201901'].union(rdd_stations['201902'].union(rdd_stations['201903'].union(rdd_stations['201904'].union(rdd_stations['201905'].union(rdd_stations['201906'])))))"
      ],
      "execution_count": 0,
      "outputs": []
    },
    {
      "cell_type": "markdown",
      "metadata": {
        "id": "-C02tMVwlhC8",
        "colab_type": "text"
      },
      "source": [
        "# **Análisis de los 6 meses disponibles de 2019**"
      ]
    },
    {
      "cell_type": "code",
      "metadata": {
        "id": "JifNMwNfrK2V",
        "colab_type": "code",
        "colab": {}
      },
      "source": [
        "\"\"\"\n",
        "#Para usar dataFrames que puede ser interesante (No he usado nada de esto abajo)\n",
        "from pyspark.sql import SparkSession\n",
        "spark = SparkSession.builder.getOrCreate()\n",
        "df = spark.read.json(\"/content/dataset/201901_Usage_Bicimad.json\")\n",
        "df.show()\n",
        "\"\"\""
      ],
      "execution_count": 0,
      "outputs": []
    },
    {
      "cell_type": "markdown",
      "metadata": {
        "id": "KosiIgA650BR",
        "colab_type": "text"
      },
      "source": [
        "### **Analisis y comparativas entre datos nocturnos y diurnos.**"
      ]
    },
    {
      "cell_type": "markdown",
      "metadata": {
        "id": "onqKZU_0lqvV",
        "colab_type": "text"
      },
      "source": [
        "Lo primero que haremos será ver el número de usuarios diferenciados por tipos según sean horas diurnas o nocturnas."
      ]
    },
    {
      "cell_type": "markdown",
      "metadata": {
        "id": "nhnFA97lmF-J",
        "colab_type": "text"
      },
      "source": [
        "Tomaremos como 'horas nocturnas' las horas comprendidas entre las 00:00 y las 05:59. Aunque como en los archivos de bicimad solo se distinguen las horas exactas, nuestras referencias nocturnas serán las 00:00, 01:00, 02:00, 03:00, 04:00 y 05:00."
      ]
    },
    {
      "cell_type": "code",
      "metadata": {
        "id": "rq8O6lpjmNht",
        "colab_type": "code",
        "colab": {}
      },
      "source": [
        "\"\"\"\n",
        "Con esta funcón, lo que hacemos es quedarnos solo con los datos del rdd, que sean nocturnos.\n",
        "\n",
        "def horasNocturnas(data):\n",
        "  #data = json.loads(line)\n",
        "  #hora_minima = 3600 #Esto seria pasar las 01:00:00 horas a segundos‬\n",
        "  hora_minima = 0 #Lo pongo en 0 ya que si no estamos perdiendo algun dato relevante para el ultimo problema\n",
        "  hora_maxima = 18000 #Esto seria pasar las 05:00:00 horas a segundos‬\n",
        "  hora = data['hour']\n",
        "  hora_actual = int(hora[0:2]) * 3600 + int(hora[3:5]) * 60 + int(hora[6:8])\n",
        "  #En teoria con multipicar solo las horas ya valdria porque no hay ni minutos ni segundos\n",
        "  return hora_actual <= hora_maxima\n",
        "\"\"\""
      ],
      "execution_count": 0,
      "outputs": []
    },
    {
      "cell_type": "code",
      "metadata": {
        "id": "R2NgdfiiouH5",
        "colab_type": "code",
        "colab": {}
      },
      "source": [
        "\"\"\"\n",
        "Con esta función nos quedamos solo con los datos del rdd que sean nocturnos.\n",
        "\"\"\"\n",
        "def horasNocturnas(data):\n",
        "  hora_minima = 0\n",
        "  hora_maxima = 6\n",
        "  hora_actual = int(data['hour'][:2])\n",
        "  if hora_minima < hora_maxima:\n",
        "    return hora_minima <= hora_actual and hora_actual < hora_maxima\n",
        "  elif hora_minima > hora_maxima:\n",
        "    return hora_minima <= hora_actual or hora_actual < hora_maxima"
      ],
      "execution_count": 0,
      "outputs": []
    },
    {
      "cell_type": "code",
      "metadata": {
        "id": "tf2dLvsamsx9",
        "colab_type": "code",
        "colab": {}
      },
      "source": [
        "\"\"\"\n",
        "Ahora tomamos el rdd que contiene los 6 meses de enero de 2019 a julio de 2019.\n",
        "\"\"\"\n",
        "rddNocturna = rdd_usages['2019_01a06'].filter(lambda x: horasNocturnas(x))"
      ],
      "execution_count": 0,
      "outputs": []
    },
    {
      "cell_type": "code",
      "metadata": {
        "id": "hsZPcvOumRhZ",
        "colab_type": "code",
        "colab": {}
      },
      "source": [
        "rddNocturna.take(1)"
      ],
      "execution_count": 0,
      "outputs": []
    },
    {
      "cell_type": "code",
      "metadata": {
        "id": "LUr-oo96mVlY",
        "colab_type": "code",
        "outputId": "cf552699-77d7-4f98-cf47-221b81ff2260",
        "colab": {
          "base_uri": "https://localhost:8080/",
          "height": 35
        }
      },
      "source": [
        "\"\"\"\n",
        "Separamos ahora por tipo de usuario y vemos cuantos hay de cada tipo en total (para caso nocturno).\n",
        "\"\"\"\n",
        "night_data = rddNocturna.map(lambda x: x['user_type']).countByValue()\n",
        "night_data"
      ],
      "execution_count": 0,
      "outputs": [
        {
          "output_type": "execute_result",
          "data": {
            "text/plain": [
              "defaultdict(int, {0: 203, 1: 154927, 2: 1381, 3: 23428})"
            ]
          },
          "metadata": {
            "tags": []
          },
          "execution_count": 19
        }
      ]
    },
    {
      "cell_type": "markdown",
      "metadata": {
        "id": "B0rPKDGZnoNs",
        "colab_type": "text"
      },
      "source": [
        "Creamos una gráfica para ver mejor los datos."
      ]
    },
    {
      "cell_type": "code",
      "metadata": {
        "id": "elTfuGWJpLA2",
        "colab_type": "code",
        "outputId": "86b503ff-9bcf-4858-a917-c2cf9810f200",
        "colab": {
          "base_uri": "https://localhost:8080/",
          "height": 303
        }
      },
      "source": [
        "plt.title('Datos por tipo de usuario nocturnos en 6 meses')\n",
        "names = list(night_data.keys()) \n",
        "values = list(night_data.values())\n",
        "plt.bar(names, values, 1)\n",
        "plt.xlabel('Tipo de usuarios', fontsize=18)\n",
        "plt.ylabel('Cantidad de usuarios', fontsize=16)\n",
        "names.sort()\n",
        "plt.xticks(names, [\"0\",\"1\",\"2\",\"3\"])\n",
        "plt.show()"
      ],
      "execution_count": 0,
      "outputs": [
        {
          "output_type": "display_data",
          "data": {
            "image/png": "[encoded data removed]",
            "text/plain": [
              "<Figure size 432x288 with 1 Axes>"
            ]
          },
          "metadata": {
            "tags": [],
            "needs_background": "light"
          }
        }
      ]
    },
    {
      "cell_type": "markdown",
      "metadata": {
        "id": "ifDFmsLAoQ-m",
        "colab_type": "text"
      },
      "source": [
        "Podemos observar como la mayoría de usuarios que han usado bicimad por la noche son usuarios del tipo 1, que son los usuarios anuales mientras que hay muy pocos usuarios ocasionales. "
      ]
    },
    {
      "cell_type": "markdown",
      "metadata": {
        "id": "5LZYyHsqoBUo",
        "colab_type": "text"
      },
      "source": [
        "Para ver los datos diurnos, tomaremos los datos que están comprendidos entre las 06:00 y las 23:59."
      ]
    },
    {
      "cell_type": "code",
      "metadata": {
        "id": "dzQs5KiHpi9C",
        "colab_type": "code",
        "colab": {}
      },
      "source": [
        "\"\"\"\n",
        "rddDiurna =  rdd_usages['2019_01a06'].filter(horasDiurnas)\n",
        "\"\"\"\n",
        "rddDiurna =  rdd_usages['2019_01a06'].filter(lambda x: not(horasNocturnas(x)))"
      ],
      "execution_count": 0,
      "outputs": []
    },
    {
      "cell_type": "code",
      "metadata": {
        "id": "SZPKRLMbpf3X",
        "colab_type": "code",
        "colab": {}
      },
      "source": [
        "rddDiurna.take(1)"
      ],
      "execution_count": 0,
      "outputs": []
    },
    {
      "cell_type": "code",
      "metadata": {
        "id": "lsgyxLYbpCJx",
        "colab_type": "code",
        "outputId": "d86add45-1d72-41f0-d502-ad79e35bc188",
        "colab": {
          "base_uri": "https://localhost:8080/",
          "height": 35
        }
      },
      "source": [
        "\"\"\"\n",
        "Separamos ahora por tipo de usuario y vemos cuantos hay de cada tipo en total (para el caso diurno)\n",
        "\"\"\"\n",
        "day_data = rddDiurna.map(lambda x: x['user_type']).countByValue()\n",
        "day_data"
      ],
      "execution_count": 0,
      "outputs": [
        {
          "output_type": "execute_result",
          "data": {
            "text/plain": [
              "defaultdict(int, {0: 1646, 1: 1767639, 2: 25599, 3: 118387})"
            ]
          },
          "metadata": {
            "tags": []
          },
          "execution_count": 23
        }
      ]
    },
    {
      "cell_type": "code",
      "metadata": {
        "id": "R3-qnozJ7I6f",
        "colab_type": "code",
        "outputId": "c8b56392-5b32-492e-81ca-bfba8e4c904f",
        "colab": {
          "base_uri": "https://localhost:8080/",
          "height": 303
        }
      },
      "source": [
        "plt.title('Datos por tipo de usuario diurnos en 6 meses')\n",
        "names = list(day_data.keys()) \n",
        "values = list(day_data.values())\n",
        "plt.bar(names, values, 1)\n",
        "plt.xlabel('Tipo de usuarios', fontsize=18)\n",
        "plt.ylabel('Cantidad de usuarios', fontsize=16)\n",
        "names.sort()\n",
        "plt.xticks(names, [\"0\",\"1\",\"2\",\"3\"])\n",
        "plt.show()"
      ],
      "execution_count": 0,
      "outputs": [
        {
          "output_type": "display_data",
          "data": {
            "image/png": "[encoded data removed]",
            "text/plain": [
              "<Figure size 432x288 with 1 Axes>"
            ]
          },
          "metadata": {
            "tags": [],
            "needs_background": "light"
          }
        }
      ]
    },
    {
      "cell_type": "markdown",
      "metadata": {
        "id": "IJb9B0UlqVoB",
        "colab_type": "text"
      },
      "source": [
        "Los datos de los histogramas son muy parecidos por lo que para ver la diferencia entre los datos nocturnos y los diurnos, es necesario hacer una proporcion para ver como son estos datos."
      ]
    },
    {
      "cell_type": "code",
      "metadata": {
        "id": "HN6Jm3fiqrlO",
        "colab_type": "code",
        "outputId": "cdc6c90f-e281-48d9-bed6-765a271da337",
        "colab": {
          "base_uri": "https://localhost:8080/",
          "height": 35
        }
      },
      "source": [
        "#Proporcion datos nocturnos\n",
        "print(\"Proporción 'nocturna' entre tipo 2 sobre tipo 1: \", night_data[2]/night_data[1])"
      ],
      "execution_count": 0,
      "outputs": [
        {
          "output_type": "stream",
          "text": [
            "Proporción 'nocturna' entre tipo 2 sobre tipo 1:  0.008913875567202618\n"
          ],
          "name": "stdout"
        }
      ]
    },
    {
      "cell_type": "code",
      "metadata": {
        "id": "aQ6gNFlNqfOJ",
        "colab_type": "code",
        "outputId": "e41a95bf-3c2f-4fa2-fa13-33a4f6d88e19",
        "colab": {
          "base_uri": "https://localhost:8080/",
          "height": 35
        }
      },
      "source": [
        "#Proporcion datos diurnos\n",
        "print(\"Proporción 'diurna' entre tipo 2 sobre tipo 1: \", day_data[2]/day_data[1])"
      ],
      "execution_count": 0,
      "outputs": [
        {
          "output_type": "stream",
          "text": [
            "Proporción 'diurna' entre tipo 2 sobre tipo 1:  0.014482029418902842\n"
          ],
          "name": "stdout"
        }
      ]
    },
    {
      "cell_type": "markdown",
      "metadata": {
        "id": "ZwyAWmia6ZcD",
        "colab_type": "text"
      },
      "source": [
        "Ambas proporciones son muy parecidas y bastante bajas por lo que los usuarios ocasionales no repercuten en gran medida en los datos ya que principalmente los usuarios son de tipo anual. Tambiés se puede se obserevar que, en las horas nocturnas, cuando podría haber una proporcion mayor de usuarios de tipo 2, no se puede concluir mediante estos datos"
      ]
    },
    {
      "cell_type": "markdown",
      "metadata": {
        "id": "iy479xLdqyf4",
        "colab_type": "text"
      },
      "source": [
        "Las proporcion diurna, es un poquito más grande, luego, podemos decir que durante el día hay más usuarios de tipo 2 que durante la noche."
      ]
    },
    {
      "cell_type": "markdown",
      "metadata": {
        "id": "5HHl--Qv6IJR",
        "colab_type": "text"
      },
      "source": [
        "### **Análisis de días laborables y fines de semana**"
      ]
    },
    {
      "cell_type": "markdown",
      "metadata": {
        "id": "lkdxOGgnhFxw",
        "colab_type": "text"
      },
      "source": [
        "Creemos que analizar los datos de los fines de semana puede darnos cierta información, dado que a priori, cabe pensar que habrá más movimientos, porque la gente puede estar fuera de casa hasta más tarde."
      ]
    },
    {
      "cell_type": "markdown",
      "metadata": {
        "id": "9zwZE54SsCua",
        "colab_type": "text"
      },
      "source": [
        "Lo primero que necesitamos es una función que nos diferencia entre días laborables y fines de semana. Tomaremos como fin de semana viernes, sábado y domingo."
      ]
    },
    {
      "cell_type": "code",
      "metadata": {
        "id": "iIGfp7HVsPSj",
        "colab_type": "code",
        "colab": {}
      },
      "source": [
        "\"\"\"\n",
        "Utilizaremos la librería 'datatime', para obtener de forma sencilla el día de la semana qu es una fecha dada.\n",
        "\"\"\"\n",
        "from datetime import datetime, date, time, timedelta\n",
        "import calendar\n",
        "def cambioFormato(fecha):\n",
        "  formato1 = \"%A\" #formatos: https://python-para-impacientes.blogspot.com/2014/02/operaciones-con-fechas-y-horas.html \n",
        "                            #https://blog.ipswitch.com/es/formato-de-fecha-en-python \n",
        "  dia=datetime.strptime(fecha, '%Y-%m-%d') #El segundo dato es el formato que tiene la fecha que le estoy dando\n",
        "  dia_1=dia.strftime(formato1)\n",
        "  return dia_1"
      ],
      "execution_count": 0,
      "outputs": []
    },
    {
      "cell_type": "code",
      "metadata": {
        "id": "e5mJjllOsTFp",
        "colab_type": "code",
        "colab": {}
      },
      "source": [
        "def weekend(line, madrugada): #madrugada es un booleano para decirle si queremos que nos coja los días pero por la noche, en plan, en las horas nocturnas, pues queremos que nos coja, los sabados, los domingos y los lunes.\n",
        "  #data=json.loads(line)\n",
        "  if madrugada:\n",
        "    days=['Saturday', 'Sunday', 'Monday']\n",
        "  else:\n",
        "    days=['Friday', 'Saturday', 'Sunday'] #por ejemplo si queremos los datos diurnos, pues lo pondríamos a 'not weekend(fecha, FALSE)', para que cogiese estos días\n",
        "  dia=cambioFormato(line['date'])\n",
        "  return dia in days"
      ],
      "execution_count": 0,
      "outputs": []
    },
    {
      "cell_type": "code",
      "metadata": {
        "id": "VoS5uMvzwk1-",
        "colab_type": "code",
        "colab": {}
      },
      "source": [
        "\"\"\"\n",
        "#Esta funcion, dado cualquier dia, te dice si fue fin de semana o no en el año 2019. Tendiendo en cuenta\n",
        "#que la 'noche' del viernes es sabado ya, por lo que queremos los dias sabado, domingo y lunes.\n",
        "def is_weekend(data):\n",
        "  months = [31, 28, 31, 30, 31, 30]#Los dias que tiene cada mes desde enero a junio\n",
        "  #El 1 de enero de 2019 cayo en Martes\n",
        "  fin_semana = [4,5,6] #Corrspondiente a los fines de semana.\n",
        "  fecha_actual = data['date']\n",
        "  mes_actual = int(fecha_actual[5:7])\n",
        "  dia_actual = int(fecha_actual[8:10])\n",
        "  dias_transcurridos = months[mes_actual-1]*(mes_actual-1) + dia_actual\n",
        "  return dias_transcurridos % 7 in fin_semana\n",
        "\"\"\""
      ],
      "execution_count": 0,
      "outputs": []
    },
    {
      "cell_type": "code",
      "metadata": {
        "id": "mhw8JA0wki-7",
        "colab_type": "code",
        "outputId": "d8d47403-bf7c-4737-af25-22e7825d1f11",
        "colab": {
          "base_uri": "https://localhost:8080/",
          "height": 35
        }
      },
      "source": [
        "rddWeekend=rddNocturna.filter(lambda x: weekend(x, True)) #madrugada a True porque estamos usando datos nocturnos.\n",
        "weekend_data=rddWeekend.map(lambda x: x['user_type']).countByValue()\n",
        "weekend_data"
      ],
      "execution_count": 0,
      "outputs": [
        {
          "output_type": "execute_result",
          "data": {
            "text/plain": [
              "defaultdict(int, {0: 162, 1: 88006, 2: 954, 3: 8922})"
            ]
          },
          "metadata": {
            "tags": []
          },
          "execution_count": 32
        }
      ]
    },
    {
      "cell_type": "code",
      "metadata": {
        "id": "MEFxYX_d3_SS",
        "colab_type": "code",
        "outputId": "009353a7-016a-40be-98df-527ba6254cc9",
        "colab": {
          "base_uri": "https://localhost:8080/",
          "height": 134
        }
      },
      "source": [
        "fig=plt.figure()\n",
        "fig.subplots_adjust(bottom=0.025, left=0.05, top = 0.975, right=0.975)\n",
        "fig.add_subplot(1,4,1)\n",
        "plt.pie([night_data[0]-weekend_data[0], weekend_data[0]], labels=['L-J', 'V-D'],\n",
        "        autopct='%1.1f%%', shadow=True, startangle=90)\n",
        "plt.title('Indefinido')\n",
        "fig.add_subplot(1,4,2)\n",
        "plt.pie([night_data[1]-weekend_data[1], weekend_data[1]], labels=['L-J', 'V-D'],\n",
        "        autopct='%1.1f%%', shadow=True, startangle=90)\n",
        "plt.title('Anuales')\n",
        "fig.add_subplot(1,4,3)\n",
        "plt.pie([night_data[2]-weekend_data[2], weekend_data[2]], labels=['L-J', 'V-D'],\n",
        "        autopct='%1.1f%%', shadow=True, startangle=90)\n",
        "plt.title('Ocasionales')\n",
        "fig.add_subplot(1,4,4)\n",
        "plt.pie([night_data[3]-weekend_data[3], weekend_data[3]], labels=['L-J', 'V-D'],\n",
        "        autopct='%1.1f%%', shadow=True, startangle=90)\n",
        "plt.title('Trabajadores')\n",
        "#plt.legend(['entre semana', 'fin de semana'], loc=4)\n",
        "plt.show()"
      ],
      "execution_count": 39,
      "outputs": [
        {
          "output_type": "display_data",
          "data": {
            "image/png": "[encoded data removed]",
            "text/plain": [
              "<Figure size 432x288 with 4 Axes>"
            ]
          },
          "metadata": {
            "tags": []
          }
        }
      ]
    },
    {
      "cell_type": "markdown",
      "metadata": {
        "id": "ADqigq0d1LwJ",
        "colab_type": "text"
      },
      "source": [
        "Como vemos, más de la mitad de viajeros que tienen pase anual, utilizan BiciMad en el fin de semana. Podemos ver que incluso casi el 70% de los viajes ocasionales se producen durante el fin de semana. Sin embargo, de los trabajadores de la empresa, solo el 38% lo hace en fin de semana.\n"
      ]
    },
    {
      "cell_type": "code",
      "metadata": {
        "id": "qDldRN4hTcHP",
        "colab_type": "code",
        "colab": {}
      },
      "source": [
        "\"\"\"\n",
        "Esto de aqui abajo es nuevo, al hacerlo me ha parecido interesante y lo he añadido\n",
        "En verdad yo lo borraria y hablaria de ello en el apartado de las edades que es cuando es\n",
        "interesante y enlazarlo con esto.\n",
        "\"\"\""
      ],
      "execution_count": 0,
      "outputs": []
    },
    {
      "cell_type": "markdown",
      "metadata": {
        "id": "PFh2xpeGEwMy",
        "colab_type": "text"
      },
      "source": [
        "El porcentaje de los usuarios ocasionales es interesante compararlo con el estudio que habíamos realizado antes. En ese caso no se observaba una diferencia notable de este tipo de usuarios entre las horas nocturnas y las diurnas, pero sin embargo, ahora si que hay una clara diferencia teniendo en cuenta tan solo los días en horas nocturnas. Esto se puede deber a que, como sale más gente joven, hagan uso de bicimad para desplazarse. Veamos si es cierto."
      ]
    },
    {
      "cell_type": "code",
      "metadata": {
        "id": "pZPCg-qKQbVs",
        "colab_type": "code",
        "outputId": "65e2e8e8-d5de-477e-9345-69fadcbe749c",
        "colab": {
          "base_uri": "https://localhost:8080/",
          "height": 52
        }
      },
      "source": [
        "nightAges_tipe2 = rddNocturna.filter(lambda x: x['user_type'] == 2).map(lambda x: x['age']).countByValue()\n",
        "weekendAges_tipe2 = rddWeekend.filter(lambda x: x['user_type'] == 2).map(lambda x: x['age']).countByValue()\n",
        "print(nightAges_tipe2)\n",
        "print(weekendAges_tipe2)"
      ],
      "execution_count": 60,
      "outputs": [
        {
          "output_type": "stream",
          "text": [
            "defaultdict(<class 'int'>, {0: 1334, 3: 16, 4: 23, 5: 8})\n",
            "defaultdict(<class 'int'>, {0: 924, 3: 9, 4: 14, 5: 7})\n"
          ],
          "name": "stdout"
        }
      ]
    },
    {
      "cell_type": "markdown",
      "metadata": {
        "id": "DMaxG26mYsx1",
        "colab_type": "text"
      },
      "source": [
        "La mayoría de las edades son del tipo 0, que son aquellas que no están identificadas por lo que con estos datos no podemos extraer ninguna información sobre los usuarios de tipo ocasional."
      ]
    },
    {
      "cell_type": "markdown",
      "metadata": {
        "id": "FKK2lUlid6EW",
        "colab_type": "text"
      },
      "source": [
        "Veamos ahora, los movimientos por horas.\n"
      ]
    },
    {
      "cell_type": "code",
      "metadata": {
        "id": "H5mxPxhseSov",
        "colab_type": "code",
        "colab": {}
      },
      "source": [
        "def movimientosPorHoras(data):\n",
        "  hora= data['hour']\n",
        "  user=data['user_type']\n",
        "  return hora, user"
      ],
      "execution_count": 0,
      "outputs": []
    },
    {
      "cell_type": "markdown",
      "metadata": {
        "id": "zbZb6x4nvsqx",
        "colab_type": "text"
      },
      "source": [
        "Tomamos los movimientos por horas nocturnos:"
      ]
    },
    {
      "cell_type": "code",
      "metadata": {
        "id": "uAXoFAalvqpF",
        "colab_type": "code",
        "colab": {
          "base_uri": "https://localhost:8080/",
          "height": 139
        },
        "outputId": "c827675f-54b5-4cfd-9495-1072a40d94de"
      },
      "source": [
        "#rddHoras=rddNocturna.map(movimientosPorHoras)\n",
        "time_data=rddNocturna.map(movimientosPorHoras).countByKey()\n",
        "time_data"
      ],
      "execution_count": 66,
      "outputs": [
        {
          "output_type": "execute_result",
          "data": {
            "text/plain": [
              "defaultdict(int,\n",
              "            {'00:00:00': 59407,\n",
              "             '01:00:00': 43304,\n",
              "             '02:00:00': 31143,\n",
              "             '03:00:00': 19471,\n",
              "             '04:00:00': 14793,\n",
              "             '05:00:00': 11821})"
            ]
          },
          "metadata": {
            "tags": []
          },
          "execution_count": 66
        }
      ]
    },
    {
      "cell_type": "markdown",
      "metadata": {
        "id": "_1_nUtjovc6l",
        "colab_type": "text"
      },
      "source": [
        "Tomamos los movimientos por horas en fin de semana:"
      ]
    },
    {
      "cell_type": "code",
      "metadata": {
        "id": "jvF6nnsHBuhi",
        "colab_type": "code",
        "colab": {
          "base_uri": "https://localhost:8080/",
          "height": 139
        },
        "outputId": "b6148254-a02a-4d8d-f2bd-278ef5a1fb39"
      },
      "source": [
        "#rddHorasWeekend=rddWeekend.map(movimientosPorHoras)\n",
        "weekend_time_data = rddWeekend.map(movimientosPorHoras).countByKey()\n",
        "weekend_time_data"
      ],
      "execution_count": 67,
      "outputs": [
        {
          "output_type": "execute_result",
          "data": {
            "text/plain": [
              "defaultdict(int,\n",
              "            {'00:00:00': 26845,\n",
              "             '01:00:00': 23227,\n",
              "             '02:00:00': 18568,\n",
              "             '03:00:00': 13009,\n",
              "             '04:00:00': 9402,\n",
              "             '05:00:00': 6993})"
            ]
          },
          "metadata": {
            "tags": []
          },
          "execution_count": 67
        }
      ]
    },
    {
      "cell_type": "markdown",
      "metadata": {
        "id": "RibzKx4FwXpi",
        "colab_type": "text"
      },
      "source": [
        "Creamos dos gráficos, uno con los días laborables y otro con los fines de semana."
      ]
    },
    {
      "cell_type": "code",
      "metadata": {
        "id": "WTFI7kqnxO43",
        "colab_type": "code",
        "colab": {
          "base_uri": "https://localhost:8080/",
          "height": 121
        },
        "outputId": "04e1f0ef-d18c-4a97-f4bc-3e095dafe409"
      },
      "source": [
        "\"\"\"\n",
        "Para obtener los días laborables, tenemos que 'restar' los datos de los fines de semana a los totales.\n",
        "\"\"\"\n",
        "laborable_time_data={}\n",
        "for i in range(0,6):\n",
        "  laborable_time_data['0'+str(i)+':00:00']=time_data['0'+str(i)+':00:00'] - weekend_time_data['0'+str(i)+':00:00']\n",
        "laborable_time_data"
      ],
      "execution_count": 68,
      "outputs": [
        {
          "output_type": "execute_result",
          "data": {
            "text/plain": [
              "{'00:00:00': 32562,\n",
              " '01:00:00': 20077,\n",
              " '02:00:00': 12575,\n",
              " '03:00:00': 6462,\n",
              " '04:00:00': 5391,\n",
              " '05:00:00': 4828}"
            ]
          },
          "metadata": {
            "tags": []
          },
          "execution_count": 68
        }
      ]
    },
    {
      "cell_type": "code",
      "metadata": {
        "id": "sz70AxnqAEkI",
        "colab_type": "code",
        "colab": {
          "base_uri": "https://localhost:8080/",
          "height": 244
        },
        "outputId": "9ebd575f-d99e-4aac-c91b-f427603fef4a"
      },
      "source": [
        "fig=plt.figure()\n",
        "fig.subplots_adjust(bottom=0.025, left=0.05, top = 0.975, right=0.975)\n",
        "fig.add_subplot(1,2,1)\n",
        "plt.pie(list(laborable_time_data.values()), labels=list(laborable_time_data.keys()),\n",
        "        autopct='%1.1f%%', shadow=True, startangle=90)\n",
        "plt.title('Viajes nocturnos\\n por horas L-J')\n",
        "fig.add_subplot(1,2,2)\n",
        "plt.pie(list(weekend_time_data.values()), labels=list(weekend_time_data.keys()),\n",
        "        autopct='%1.1f%%', shadow=True, startangle=90)\n",
        "plt.title('Viajes nocturnos\\n por horas V-D')\n",
        "plt.show()"
      ],
      "execution_count": 74,
      "outputs": [
        {
          "output_type": "display_data",
          "data": {
            "image/png": "[encoded data removed]",
            "text/plain": [
              "<Figure size 432x288 with 2 Axes>"
            ]
          },
          "metadata": {
            "tags": []
          }
        }
      ]
    },
    {
      "cell_type": "markdown",
      "metadata": {
        "id": "gFViHoToCZyZ",
        "colab_type": "text"
      },
      "source": [
        "Como vemos, los días laborables, casi el 65% de los viajes, se realizan antes de las 2 de la madrugada y sin embargo, este porcentaje se reduce al 51% cuando hablamos de los fines de semana, donde incrementa el número de viajes a partir de las 2 de la madrugada."
      ]
    },
    {
      "cell_type": "markdown",
      "metadata": {
        "id": "BZFdCqgXGv5H",
        "colab_type": "text"
      },
      "source": [
        "Para entenderlo mejor, veamos también distinciones por horas y usuarios."
      ]
    },
    {
      "cell_type": "code",
      "metadata": {
        "id": "xg87ylMrh79t",
        "colab_type": "code",
        "outputId": "bf933575-392c-4334-e291-98b2fd92c1c5",
        "colab": {
          "base_uri": "https://localhost:8080/",
          "height": 1000
        }
      },
      "source": [
        "horas = ['00:00:00','01:00:00', '02:00:00', '03:00:00', '04:00:00', '05:00:00']\n",
        "#fig=plt.figure()\n",
        "#fig.subplots_adjust(bottom=0.025, left=0.05, top = 0.975, right=0.975) \n",
        "#fig.add_subplot(3,5,1)\n",
        "def grafica(dic, value):\n",
        "  fig=plt.figure()\n",
        "  fig.subplots_adjust(bottom=0.025, left=0.05, top = 0.975, right=0.975) \n",
        "  #linea = value/2 +1\n",
        "  #pos = (value % 2) + 1\n",
        "  #fig.add_subplot(linea,5,pos)\n",
        "  plt.pie(list(dic.values()), labels=list(dic.keys()),\n",
        "        autopct='%1.1f%%', shadow=True, startangle=90)\n",
        "  plt.title('Viajes segun tipos a las '+horas[value]+' horas')\n",
        "  plt.show()\n",
        "\n",
        "rddHoras=rddNocturna.map(movimientosPorHoras)\n",
        "for i in range(len(horas)):\n",
        "  #grafica(rddHoras.filter(lambda x: x[0] == horas[i]).map(lambda x: (x[1], 1)).countByKey(), i)\n",
        "  grafica(rddHoras.filter(lambda x: x[0] == horas[i]).map(lambda x: (x[1], 1)).countByKey(), i)\n",
        "#Tarda un rato y he intentado ponerlo como lo ponia elisa pero quedaba muy pequeño y no se absolutamente nada. Asi se ve mas pero a lo mejor\n",
        "#ocupa demasiado."
      ],
      "execution_count": 75,
      "outputs": [
        {
          "output_type": "display_data",
          "data": {
            "image/png": "[encoded data removed]",
            "text/plain": [
              "<Figure size 432x288 with 1 Axes>"
            ]
          },
          "metadata": {
            "tags": []
          }
        },
        {
          "output_type": "display_data",
          "data": {
            "image/png": "[encoded data removed]",
            "text/plain": [
              "<Figure size 432x288 with 1 Axes>"
            ]
          },
          "metadata": {
            "tags": []
          }
        },
        {
          "output_type": "display_data",
          "data": {
            "image/png": "[encoded data removed]",
            "text/plain": [
              "<Figure size 432x288 with 1 Axes>"
            ]
          },
          "metadata": {
            "tags": []
          }
        },
        {
          "output_type": "display_data",
          "data": {
            "image/png": "[encoded data removed]",
            "text/plain": [
              "<Figure size 432x288 with 1 Axes>"
            ]
          },
          "metadata": {
            "tags": []
          }
        },
        {
          "output_type": "display_data",
          "data": {
            "image/png": "[encoded data removed]",
            "text/plain": [
              "<Figure size 432x288 with 1 Axes>"
            ]
          },
          "metadata": {
            "tags": []
          }
        },
        {
          "output_type": "display_data",
          "data": {
            "image/png": "[encoded data removed]",
            "text/plain": [
              "<Figure size 432x288 with 1 Axes>"
            ]
          },
          "metadata": {
            "tags": []
          }
        }
      ]
    },
    {
      "cell_type": "markdown",
      "metadata": {
        "id": "UovvYw8m20tD",
        "colab_type": "text"
      },
      "source": [
        "Como ya habíamos visto, la mayoría de los trayectos que se realizan son por los usuarios de tipo 1, los anuales, pero también hay que tener en cuenta que entre las 1 horas, 2 horas y 4 horas, hay más de un 15% de los viajes que son realizados por los trabajadores de la empresa. Mientras que a las 12 y a las 3 de la madrugada, no superan el 10%. Por esto, será interesante realizar un estudio de los trabajadores más adelante.\n",
        " "
      ]
    },
    {
      "cell_type": "markdown",
      "metadata": {
        "id": "e9ygIuq90ZUV",
        "colab_type": "text"
      },
      "source": [
        "### **Análisis por rango de edades**"
      ]
    },
    {
      "cell_type": "markdown",
      "metadata": {
        "id": "YSALHRjwFgfn",
        "colab_type": "text"
      },
      "source": [
        "Otro punto interesante, seria estudiar la diferencia en los usos segun los rangos de edad"
      ]
    },
    {
      "cell_type": "code",
      "metadata": {
        "id": "VZ4Tc3vhFvK9",
        "colab_type": "code",
        "outputId": "2383ff69-ce4b-482f-e997-ea33f9ca4838",
        "colab": {
          "base_uri": "https://localhost:8080/",
          "height": 299
        }
      },
      "source": [
        "#Empezemos estudiando los usos nocturnos en fines de semana.\n",
        "\"\"\"\n",
        "Tenemos en cuenta que:\n",
        "0: no se identifica\n",
        "1: entre 0 y 16 años\n",
        "2: entre 17 y 18 años\n",
        "3: entre 19 y 26 años\n",
        "4: entre 27 y 40 años\n",
        "5: entre 41 y 65 años\n",
        "6: 66 años o más\n",
        "\"\"\"\n",
        "rddW_ages = rddWeekend.map(lambda x: (x['age'], 1)).countByKey()\n",
        "print(sorted(rddW_ages.items(), key=lambda x:x[0]))\n",
        "plt.bar(list(rddW_ages.keys()), list(rddW_ages.values()))\n",
        "plt.title('Viajes segun los rangos de edad en fin de semana')\n",
        "plt.show()"
      ],
      "execution_count": 78,
      "outputs": [
        {
          "output_type": "stream",
          "text": [
            "[(0, 51330), (1, 1320), (2, 695), (3, 7748), (4, 24374), (5, 12343), (6, 234)]\n"
          ],
          "name": "stdout"
        },
        {
          "output_type": "display_data",
          "data": {
            "image/png": "[encoded data removed]",
            "text/plain": [
              "<Figure size 432x288 with 1 Axes>"
            ]
          },
          "metadata": {
            "tags": [],
            "needs_background": "light"
          }
        }
      ]
    },
    {
      "cell_type": "markdown",
      "metadata": {
        "id": "uRQ8LMm1JYfc",
        "colab_type": "text"
      },
      "source": [
        "A parte de los usuarios no identificados, los que más hacen un uso nocturno los fines de semana son los que están en la franja de edad de entre 27 y 40 años, lo que nos puede indicar que parte de la gente que utiliza bicimad es gente joven. Veamos ahora si este comportamiento es similiar a los dias entre semana."
      ]
    },
    {
      "cell_type": "code",
      "metadata": {
        "id": "iKWxf5K0KRSP",
        "colab_type": "code",
        "colab": {
          "base_uri": "https://localhost:8080/",
          "height": 299
        },
        "outputId": "76465adf-b6b4-4496-8015-318bbd117e53"
      },
      "source": [
        "#Partimos de la RDD que tenia los datos filtrados por las horas nocturnas,\n",
        "#y con poner en filter, que no sea fin de semana, tendremos los días laborables.\n",
        "rddWD_ages = rddNocturna.filter(lambda x: not weekend(x, True)).map(lambda x: (x['age'])).countByValue()\n",
        "print(sorted(rddWD_ages.items(), key=lambda x:x[0]))\n",
        "plt.bar(list(rddWD_ages.keys()), list(rddWD_ages.values()))\n",
        "plt.title('Viajes segun los rangos de edad en días laborables')\n",
        "plt.show()"
      ],
      "execution_count": 77,
      "outputs": [
        {
          "output_type": "stream",
          "text": [
            "[(0, 42262), (1, 1837), (2, 489), (3, 5698), (4, 19877), (5, 11616), (6, 116)]\n"
          ],
          "name": "stdout"
        },
        {
          "output_type": "display_data",
          "data": {
            "image/png": "[encoded data removed]",
            "text/plain": [
              "<Figure size 432x288 with 1 Axes>"
            ]
          },
          "metadata": {
            "tags": [],
            "needs_background": "light"
          }
        }
      ]
    },
    {
      "cell_type": "markdown",
      "metadata": {
        "id": "0DE4bLS-GLXe",
        "colab_type": "text"
      },
      "source": [
        "Aunque ambas gráficas son muy parecidas, pero mirando el numero exacto de datos, se observa un claro aumento de los usurios de tipo 3 y 4 en los fines de semana, que son aquellos cuyas edades están entre 19 y 26 años y entre 27 y 40 años respectivamente. Podemos suponer por lo tanto, que los usuarios jóvenes son los que más demanda tienen en horas nocturnas, y por ser más concretos, las personas mayores de edad. Además, hay que tener en cuenta que los datos recogidos los fines de semana se establecen en menos días que los datos de diario por lo que el porcentaje de crecimiento es aun mayor. \n",
        "\n",
        "Esto tiene bastante que ver con las gráficas vistas anteriormente en las que se observa claramente como hay un mayor uso los fines de semana.\n"
      ]
    },
    {
      "cell_type": "markdown",
      "metadata": {
        "id": "1Q81IyBrJfBr",
        "colab_type": "text"
      },
      "source": [
        "En estos datos analizados, estamos teniendo en cuenta aquellos que se obtienen por los trabajadores de la empresa y como no nos interesan, veamos si hay algún cambio mayor suprimiendo a los trabajadores."
      ]
    },
    {
      "cell_type": "code",
      "metadata": {
        "id": "EIvxTnCIJ8QW",
        "colab_type": "code",
        "colab": {
          "base_uri": "https://localhost:8080/",
          "height": 52
        },
        "outputId": "c84bebd3-9945-48c2-e626-4d467a43671a"
      },
      "source": [
        "#eliminamos a los trabajadores de la empresa\n",
        "rddWD_ages2 = rddNocturna.filter(lambda x: not(weekend(x, True)) and x['user_type'] != 3).map(lambda x: (x['age'])).countByValue()\n",
        "rddW_ages2 = rddWeekend.filter(lambda x: not(x['user_type'] == 3)).map(lambda x: x['age']).countByValue()\n",
        "print(\"Días laborables:\", sorted(rddWD_ages2.items(), key=lambda x:x[0]))\n",
        "print(\"Fines de semana:\", sorted(rddW_ages2.items(), key=lambda x:x[0]))"
      ],
      "execution_count": 87,
      "outputs": [
        {
          "output_type": "stream",
          "text": [
            "Días laborables: [(0, 37742), (1, 29), (2, 489), (3, 5698), (4, 15747), (5, 7568), (6, 116)]\n",
            "Fines de semana: [(0, 48590), (1, 71), (2, 695), (3, 7743), (4, 22304), (5, 9485), (6, 234)]\n"
          ],
          "name": "stdout"
        }
      ]
    },
    {
      "cell_type": "markdown",
      "metadata": {
        "id": "9MKmESvVRw9P",
        "colab_type": "text"
      },
      "source": [
        "Los datos son muy parecidos, aunque se observa, como habiamos visto antes un mayor decrecimiento en los datos diarios ya que hay un mayor uso por parte de los trabajdores."
      ]
    },
    {
      "cell_type": "markdown",
      "metadata": {
        "id": "94H1EyV88Vcp",
        "colab_type": "text"
      },
      "source": [
        "Esto de aqui abajo lo he hecho pero no sabia por que y lo he dejado asi jaja"
      ]
    },
    {
      "cell_type": "code",
      "metadata": {
        "id": "KU7ETUMV8pqy",
        "colab_type": "code",
        "colab": {}
      },
      "source": [
        "#Esta RDD ya tiene los datos importantes usando la funcion mapper        \n",
        "rddNocturna_ordenada = rddNocturna_datos.map(lambda x: (x[2], 1)).groupByKey().mapValues(tuple).map(lambda x: (len(x[1]), x[0]))\n",
        "rddNocturna_ordenada.sortByKey(False).map(lambda x: (x[1], x[0])).take(50)"
      ],
      "execution_count": 0,
      "outputs": []
    },
    {
      "cell_type": "code",
      "metadata": {
        "id": "WmHXETtfdQzK",
        "colab_type": "code",
        "colab": {}
      },
      "source": [
        "rddNocturna_datos.filter(lambda x: x[2] == 57).map(lambda x: (x[2], x[3])).take(30)"
      ],
      "execution_count": 0,
      "outputs": []
    },
    {
      "cell_type": "markdown",
      "metadata": {
        "id": "VOwaGVj1WjlW",
        "colab_type": "text"
      },
      "source": [
        "La estacion de la que parten mas bicis es de la 57, veamos que estaciones tienen como destino"
      ]
    },
    {
      "cell_type": "markdown",
      "metadata": {
        "id": "uiIEjE3OCNa2",
        "colab_type": "text"
      },
      "source": [
        "## **Estaciones más y menos usadas**"
      ]
    },
    {
      "cell_type": "markdown",
      "metadata": {
        "id": "ksCFFbtoCTJt",
        "colab_type": "text"
      },
      "source": [
        "Esto se me ha ocurrido hacerlo sobre la marcha y creo que estaría bien."
      ]
    },
    {
      "cell_type": "markdown",
      "metadata": {
        "id": "aSZkdz0uBYDC",
        "colab_type": "text"
      },
      "source": [
        "# **Comparativa entre un mes de invierno y un mes de verano**"
      ]
    },
    {
      "cell_type": "markdown",
      "metadata": {
        "id": "lIpc2qmoBi5c",
        "colab_type": "text"
      },
      "source": [
        "AQUÍ SE SUPONE QUE VA LO MISMO QUE LO DE LOS 6 MESES PERO PARA CADA MES ENERO Y JULIO. eN TEORÍA SE IRÍA HACIENDO CADA COSA A LA VEZ EN LOS DOS MESESY SE VA COMPARANDO."
      ]
    },
    {
      "cell_type": "markdown",
      "metadata": {
        "id": "A5-Zr47G_ogp",
        "colab_type": "text"
      },
      "source": [
        "# **Pruebas berni**"
      ]
    },
    {
      "cell_type": "code",
      "metadata": {
        "id": "2UZqP0d-_47e",
        "colab_type": "code",
        "colab": {}
      },
      "source": [
        "#rdb es el rdd de los trabajadores\n",
        "rddTrabajadores = rdd_usages['2019_01a06'].filter(lambda x: x['user_type']==3).map(lambda x: ((x[1],[x[i] for i in range(2,7)])))\n",
        "rddTrabajadores.take(1)"
      ],
      "execution_count": 0,
      "outputs": []
    },
    {
      "cell_type": "code",
      "metadata": {
        "id": "BP9GkNnsGTfu",
        "colab_type": "code",
        "colab": {}
      },
      "source": [
        "#rdb por usuarios\n",
        "rdbpu=rdb.groupByKey().mapValues(len)\n",
        "rdbpu.count()\n",
        "#hay 853, diferenciados por día (unos 43 trabajadores fijos??)\n",
        "rdbpu.take(10)"
      ],
      "execution_count": 0,
      "outputs": []
    },
    {
      "cell_type": "code",
      "metadata": {
        "id": "kATFdteYB30x",
        "colab_type": "code",
        "colab": {}
      },
      "source": [
        "#rdb por días\n",
        "rdbpd = rdb.map(lambda x: (x[1][3][-3:],1))\n",
        "rdbpd.take(2)\n",
        "pd_dicc=rdbpd.countByKey()\n",
        "pd_list = sorted(pd_dicc.items(), key=lambda x:x[0])\n",
        "plt.figure(figsize=(15,5))\n",
        "plt.bar(pd_dicc.keys(), pd_dicc.values())\n",
        "#no nos da mucha info (quizá ver cuándo son los findes)"
      ],
      "execution_count": 0,
      "outputs": []
    },
    {
      "cell_type": "code",
      "metadata": {
        "id": "5Ck1YZCVFrxJ",
        "colab_type": "code",
        "colab": {}
      },
      "source": [
        "#rdb por horas\n",
        "rdbph = rdb.map(lambda x: (x[1][4],x[0]))\n",
        "rdbph.take(2)\n",
        "ph_dicc=rdbph.countByKey()\n",
        "ph_list = sorted(ph_dicc.items(), key=lambda x:x[0])\n",
        "plt.figure(figsize=(15,5))\n",
        "plt.bar(ph_dicc.keys(), ph_dicc.values())"
      ],
      "execution_count": 0,
      "outputs": []
    },
    {
      "cell_type": "code",
      "metadata": {
        "id": "Y5ENYzf4LQfa",
        "colab_type": "code",
        "colab": {}
      },
      "source": [
        "def reparacion(line):\n",
        "  #se trata de una reparación en la misma estación\n",
        "  data = json.loads(line)\n",
        "  user = data['user_type']\n",
        "  start = data['idunplug_station']\n",
        "  end = data['idplug_station']\n",
        "  time = data['travel_time']\n",
        "  return user==3 and start==end\n",
        "def traslado(line):\n",
        "  #se trata de una reparación en la misma estación\n",
        "  data = json.loads(line)\n",
        "  user = data['user_type']\n",
        "  start = data['idunplug_station']\n",
        "  end = data['idplug_station']\n",
        "  time = data['travel_time']\n",
        "  return user==3 and start!=end\n",
        "def no_funciona (line):\n",
        "  #se trata de una reparación en la misma estación\n",
        "  data = json.loads(line)\n",
        "  user = data['user_type']\n",
        "  start = data['idunplug_station']\n",
        "  end = data['idplug_station']\n",
        "  time = data['travel_time']\n",
        "  return user!=3 and start==end #and time < 121"
      ],
      "execution_count": 0,
      "outputs": []
    },
    {
      "cell_type": "code",
      "metadata": {
        "id": "po9-P9ijNSvl",
        "colab_type": "code",
        "colab": {}
      },
      "source": [
        "#nos quedamos con las reparaciones\n",
        "rddrep = rdd_raw.filter(reparacion).map(mapper)\n",
        "repN = rddrep.count() #hay 5361 veamos cuantas son reparadas de verdad, o solo comprobadas\n",
        "rddrep.take(1)"
      ],
      "execution_count": 0,
      "outputs": []
    },
    {
      "cell_type": "code",
      "metadata": {
        "id": "rSvVlTbpPi_B",
        "colab_type": "code",
        "colab": {}
      },
      "source": [
        "limite=61\n",
        "repF=rddrep.filter(lambda x: x[4]<limite).map(lambda x:(x[4],1)).count()\n",
        "repT=rddrep.filter(lambda x: x[4]>=limite).map(lambda x:(x[4],1)).count()"
      ],
      "execution_count": 0,
      "outputs": []
    },
    {
      "cell_type": "code",
      "metadata": {
        "id": "XT_Goc46RzH9",
        "colab_type": "code",
        "colab": {}
      },
      "source": [
        "repF/(repN) #proporción del 95% de reparaciones rápidas\n",
        "plt.figure(figsize=(10,4))\n",
        "plt.bar((\"reparaciones rápidas\",\"reparaciones pausadas\"),(repF,repT))"
      ],
      "execution_count": 0,
      "outputs": []
    },
    {
      "cell_type": "code",
      "metadata": {
        "id": "i_1l0FZbUybR",
        "colab_type": "code",
        "colab": {}
      },
      "source": [
        "#nos quedamos con los traslados\n",
        "rddtra = rdd_raw.filter(traslado).map(mapper)\n",
        "traN = rddtra.count() #16115\n",
        "rddtra.take(1)"
      ],
      "execution_count": 0,
      "outputs": []
    },
    {
      "cell_type": "code",
      "metadata": {
        "id": "ecOTSb5QVSYt",
        "colab_type": "code",
        "colab": {}
      },
      "source": [
        "repF/(repN) #proporción del 95% de reparaciones rápidas\n",
        "plt.figure(figsize=(10,4))\n",
        "plt.bar((\"reparaciones\",\"traslados\"),(repN,traN))"
      ],
      "execution_count": 0,
      "outputs": []
    },
    {
      "cell_type": "code",
      "metadata": {
        "id": "-DJa6ebAVgoh",
        "colab_type": "code",
        "colab": {}
      },
      "source": [
        "#nos quedamos con los viajes en que no funciona la bici\n",
        "rddnof = rdd_raw.filter(no_funciona).map(mapper)\n",
        "nofN = rddnof.count() #16115\n",
        "rddnof.take(1)"
      ],
      "execution_count": 0,
      "outputs": []
    },
    {
      "cell_type": "code",
      "metadata": {
        "id": "Q26J0PupWRjQ",
        "colab_type": "code",
        "colab": {}
      },
      "source": [
        "qwe = rddnof.map(lambda x: (x[4],1)).groupByKey().mapValues(len)\n",
        "qwe.count()"
      ],
      "execution_count": 0,
      "outputs": []
    },
    {
      "cell_type": "code",
      "metadata": {
        "id": "yImxNMu3WKyK",
        "colab_type": "code",
        "colab": {}
      },
      "source": [
        "#vamos a ver cuantos de los que cogen la bici por la noche la cogen luego otra vez en ese día\n",
        "#sin contar trabajadores\n",
        "rdda = rdd_raw.map(mapper).filter(lambda x: x[0]!=3).map(lambda x: ((x[0],x[1]),tuple(x[2:7])))\n",
        "rdda.take(2)"
      ],
      "execution_count": 0,
      "outputs": []
    },
    {
      "cell_type": "code",
      "metadata": {
        "id": "Acasy0IZXx8Y",
        "colab_type": "code",
        "colab": {}
      },
      "source": [
        "a1 = rdda.groupByKey().mapValues(len).filter(lambda x: x[1]==1).count() #cuantos hacen solo un viaje:  89036"
      ],
      "execution_count": 0,
      "outputs": []
    },
    {
      "cell_type": "code",
      "metadata": {
        "id": "aVqZtS22X0yx",
        "colab_type": "code",
        "colab": {}
      },
      "source": [
        "a2 = rdda.groupByKey().mapValues(len).filter(lambda x: x[1]!=1).count() #cuantos hacen mas de un viaje: 68954"
      ],
      "execution_count": 0,
      "outputs": []
    },
    {
      "cell_type": "code",
      "metadata": {
        "id": "2wkhzn8EZF1E",
        "colab_type": "code",
        "colab": {}
      },
      "source": [
        "rddan = rdda.map(lambda x: (x[0],int(x[1][4])))"
      ],
      "execution_count": 0,
      "outputs": []
    },
    {
      "cell_type": "code",
      "metadata": {
        "id": "jVuW3R6wcSA9",
        "colab_type": "code",
        "colab": {}
      },
      "source": [
        "rddan.take(1)"
      ],
      "execution_count": 0,
      "outputs": []
    },
    {
      "cell_type": "code",
      "metadata": {
        "id": "WBXfcwRuknn4",
        "colab_type": "code",
        "colab": {}
      },
      "source": [
        "def to_list(a):\n",
        "    return [a]\n",
        "\n",
        "def append(a, b):\n",
        "    a.append(b)\n",
        "    return a\n",
        "\n",
        "def extend(a, b):\n",
        "    a.extend(b)\n",
        "    return a"
      ],
      "execution_count": 0,
      "outputs": []
    },
    {
      "cell_type": "code",
      "metadata": {
        "id": "K5r71I1coMfK",
        "colab_type": "code",
        "colab": {}
      },
      "source": [
        "qwe = rddan.combineByKey(to_list, append, extend).map(lambda x: (sorted(x[1]),x[0]))"
      ],
      "execution_count": 0,
      "outputs": []
    },
    {
      "cell_type": "code",
      "metadata": {
        "id": "boOhNnmKokGH",
        "colab_type": "code",
        "colab": {}
      },
      "source": [
        "qwe.take(3)"
      ],
      "execution_count": 0,
      "outputs": []
    },
    {
      "cell_type": "code",
      "metadata": {
        "id": "T-W_nEtAl4uW",
        "colab_type": "code",
        "colab": {}
      },
      "source": [
        "qwe1 = qwe.filter(lambda x: len(x[0])==1 and min(x[0])<6)\n",
        "qwe2 = qwe.filter(lambda x: len(x[0])>1 and min(x[0])<6)"
      ],
      "execution_count": 0,
      "outputs": []
    },
    {
      "cell_type": "code",
      "metadata": {
        "id": "FFqHITavmJbd",
        "colab_type": "code",
        "colab": {}
      },
      "source": [
        "qwe1.count() #10698 la usan solo una vez"
      ],
      "execution_count": 0,
      "outputs": []
    },
    {
      "cell_type": "code",
      "metadata": {
        "id": "wTIiN8W-n6D6",
        "colab_type": "code",
        "colab": {}
      },
      "source": [
        "qwe2.count() #7915 la usan más veces además de en horario nocturno"
      ],
      "execution_count": 0,
      "outputs": []
    },
    {
      "cell_type": "code",
      "metadata": {
        "id": "HA3y-XN2prcv",
        "colab_type": "code",
        "colab": {}
      },
      "source": [
        "#ahora vemos de estos las proporciones de usuarios de tipo 1 y 2\n",
        "qwe11=qwe1.filter(lambda x: x[1][0]==1).count()\n",
        "qwe12=qwe1.filter(lambda x: x[1][0]==2).count()"
      ],
      "execution_count": 0,
      "outputs": []
    },
    {
      "cell_type": "code",
      "metadata": {
        "id": "_gKw_c1jqPWQ",
        "colab_type": "code",
        "colab": {}
      },
      "source": [
        "qwe21=qwe2.filter(lambda x: x[1][0]==1).count()\n",
        "qwe22=qwe2.filter(lambda x: x[1][0]==2).count()"
      ],
      "execution_count": 0,
      "outputs": []
    },
    {
      "cell_type": "markdown",
      "metadata": {
        "id": "c51Tzz5PWhSO",
        "colab_type": "text"
      },
      "source": [
        "# **PROBLEMA**\n",
        "  Un usuario desea viajar de una estación a otra en una cierta hora pero no sabe como será la disponibilidad de bicicletas en ese sitio ni si habrá sitio en el lugar de destino, por lo que basando en el historial de ese mismo mes, veremos si el cliente podrá realizar su viaje sin problemas."
      ]
    },
    {
      "cell_type": "code",
      "metadata": {
        "id": "BCVO8hysXP3G",
        "colab_type": "code",
        "colab": {}
      },
      "source": [
        "origen = input('Estación de la que se desea partir: ')\n",
        "destino = input('Estación a la que se desea llegar: ')\n",
        "hora_Viaje = input('Hora a la que se desea realizar el viaje: ')  "
      ],
      "execution_count": 0,
      "outputs": []
    },
    {
      "cell_type": "markdown",
      "metadata": {
        "id": "EdMt5GtPZHRu",
        "colab_type": "text"
      },
      "source": [
        "Voy a hacer un filtrado simple del fichero de datos de las situaciones de las estaciones para ver como podriamos obtener la informacion que nos interesa dependiendo de la estacion del cliente."
      ]
    },
    {
      "cell_type": "code",
      "metadata": {
        "id": "Y56-esIUqxQQ",
        "colab_type": "code",
        "colab": {
          "base_uri": "https://localhost:8080/",
          "height": 104
        },
        "outputId": "50ecc484-43db-4207-c8d8-4d7af26ac3f6"
      },
      "source": [
        "#Hagamos una lista con los datos de todas las estaciones para tenerlos a \n",
        "def crearDiEst(lista):\n",
        "  dicEstac = {}\n",
        "  for station in lista:\n",
        "    dicEstac[station['number']] = {}\n",
        "    dicEstac[station['number']]['id'] = station['id']\n",
        "    dicEstac[station['number']]['latitude'] = station['latitude']\n",
        "    dicEstac[station['number']]['longitude'] = station['longitude']\n",
        "    dicEstac[station['number']]['name'] = station['name']\n",
        "    dicEstac[station['number']]['total_bases'] = station['total_bases']\n",
        "  return dicEstac\n",
        "\n",
        "listEstacion = rdd_stations['201901'].map(lambda x: crearDiEst(x['station'])).take(1)\n",
        "dicEstaciones = listEstacion[0]\n",
        "dicEstaciones['57']#Datos de la estacion 57"
      ],
      "execution_count": 92,
      "outputs": [
        {
          "output_type": "execute_result",
          "data": {
            "text/plain": [
              "{'id': 61,\n",
              " 'latitude': '40.4295658',\n",
              " 'longitude': '-3.7126299',\n",
              " 'name': 'Santa Cruz del Marcenado',\n",
              " 'total_bases': 24}"
            ]
          },
          "metadata": {
            "tags": []
          },
          "execution_count": 92
        }
      ]
    },
    {
      "cell_type": "code",
      "metadata": {
        "id": "mAjDLNd4ar3A",
        "colab_type": "code",
        "colab": {}
      },
      "source": [
        "#Intentemos ver ahora la probabilidad de encontrar bici a la hora que nos dice el cliente.\n",
        "#De momento establezco yo la hora por comodidad, la estacion de origen y destino tambien\n",
        "origen = '57'\n",
        "destino = '38'\n",
        "horaCliente = '03:00:00'"
      ],
      "execution_count": 0,
      "outputs": []
    },
    {
      "cell_type": "code",
      "metadata": {
        "id": "XeSKsPb1bCy0",
        "colab_type": "code",
        "colab": {}
      },
      "source": [
        "#De todas las estaciones que hay en todos los datos vamos a quedarnos tan solo con los que son de la estacion que queremos\n",
        "def estaciones(lista):\n",
        "  filtro = []\n",
        "  for estacion in lista['station']:\n",
        "    if estacion['number'] == origen or estacion['number'] == destino:\n",
        "      filtro.append(estacion)\n",
        "  return {\"day\":lista['day'],\n",
        "          \"hour\":lista['hour'],\n",
        "          \"station\":filtro}\n",
        "\n",
        "rddE_Sit_fil = rdd_stations['2019_01a06'].map(estaciones)\n",
        "rddE_Sit_fil.take(3)\n"
      ],
      "execution_count": 0,
      "outputs": []
    },
    {
      "cell_type": "code",
      "metadata": {
        "id": "CiBsSYYOKCCU",
        "colab_type": "code",
        "colab": {
          "base_uri": "https://localhost:8080/",
          "height": 52
        },
        "outputId": "3dede338-1f4c-429a-f860-ffa78a634e57"
      },
      "source": [
        "#Veamos ahora la probabilidad de que el usuario encuentre una bici disponible en la estacion de partida\n",
        "\n",
        "def filtPorHora(hora, rango):\n",
        "    horaViaje = int(horaCliente[0:2]) * 3600 + int(horaCliente[3:5]) * 60 + int(horaCliente[6:8])\n",
        "    horaDatos = int(hora[0:2]) * 3600 + int(hora[3:5]) * 60 + int(hora[6:8])\n",
        "    if horaViaje - rango < 0: #Por si la hora que nos dan es menor que la 1\n",
        "      return horaDatos < horaViaje + rango\n",
        "    else:\n",
        "      return horaViaje - rango < horaDatos < horaViaje + rango\n",
        "\n",
        "def calcularBicisLibres(lista):\n",
        "  #bicisLibres = []\n",
        "  for station in lista:\n",
        "    if station['number'] == origen:\n",
        "      return station['dock_bikes'] - station['reservations_count'] - station['no_available']\n",
        "\n",
        "bicisLibres = rddE_Sit_fil.filter(lambda x: filtPorHora(x['hour'], 3600)).map(lambda x: [calcularBicisLibres(x['station'])]).reduce(lambda a, b: a+b)\n",
        "\n",
        "print('La media de bicicletas libres respecto a la hora elegida es:',int(stats.mean(bicisLibres)))\n",
        "#La media esta realizada para los datos obtenidos en el rango una hora respecto a la dicha por el cliente\n",
        "\n",
        "#Por lo tanto la probabilidad de que encuentre una bici disponible es la siguiente\n",
        "basesTotales = dicEstaciones[origen]['total_bases']\n",
        "prob = sum(bicisLibres) / (basesTotales * len(bicisLibres))\n",
        "print('La probabilidad de que haya una bicicleta libre es del', str(100*prob)+'%')"
      ],
      "execution_count": 101,
      "outputs": [
        {
          "output_type": "stream",
          "text": [
            "La media de bicicletas libres respecto a la hora elegida es: 8\n",
            "La probabilidad de que haya una bicicleta libre es del 34.37790157845868%\n"
          ],
          "name": "stdout"
        }
      ]
    },
    {
      "cell_type": "markdown",
      "metadata": {
        "id": "2DO51242ZZiD",
        "colab_type": "text"
      },
      "source": [
        ""
      ]
    },
    {
      "cell_type": "markdown",
      "metadata": {
        "id": "oMiZlGyZviMM",
        "colab_type": "text"
      },
      "source": [
        "Antes de esto que esta hecho, podriamos hacer unas graficas indicando las hora en las que se hacen esos viajes, si son mas comunes en fin de semana o entre semana... (Le podemos dar el toque nocturno y ademas usar todo lo que esta arriba de los graficos que tiene relacion con esto)"
      ]
    },
    {
      "cell_type": "markdown",
      "metadata": {
        "id": "_crjdx0PuxE1",
        "colab_type": "text"
      },
      "source": [
        "Primero vamos a hacer un analisis del viaje que quiere realizar el cliente"
      ]
    },
    {
      "cell_type": "code",
      "metadata": {
        "id": "AJN1dcA-YyfH",
        "colab_type": "code",
        "colab": {
          "base_uri": "https://localhost:8080/",
          "height": 35
        },
        "outputId": "161de0e3-b1ad-4ad5-dcb3-4e445b1524a7"
      },
      "source": [
        "rdd_viaje= rdd_usages['2019_01a06'].filter(lambda x: x['start'] == int(origen) and x['end'] == int(destino))\n",
        "print('Total de viajes similares al del cliente: ', rdd_viaje.count())"
      ],
      "execution_count": 103,
      "outputs": [
        {
          "output_type": "stream",
          "text": [
            "Total de viajes similares al del cliente:  690\n"
          ],
          "name": "stdout"
        }
      ]
    },
    {
      "cell_type": "code",
      "metadata": {
        "id": "WY5lJYnCvF5a",
        "colab_type": "code",
        "colab": {
          "base_uri": "https://localhost:8080/",
          "height": 343
        },
        "outputId": "1547accd-cf83-453e-b163-b06a079e2e87"
      },
      "source": [
        "#Veamos cuales son las horas mas comunes para realizar este tipo de viaje.\n",
        "#fig = plt.figure()\n",
        "dicc = rdd_viaje.map(lambda x: (int(x['hour'][0:2]), 1)).countByKey()\n",
        "dicc_list = sorted(dicc.keys())\n",
        "plt.figure(figsize=(15,5))\n",
        "plt.title(\"Usuarios que realizan el viaje \"+origen+ \" --> \"+destino)\n",
        "plt.bar(dicc.keys(), dicc.values())\n",
        "plt.xlabel('Horas', fontsize=18)\n",
        "plt.ylabel('Cantidad de usuarios', fontsize=16)\n",
        "plt.show()\n",
        "#plt.xticks(dicc.keys(), dicc_list) No he conseguido que se ponga el numero en todos los contenedores"
      ],
      "execution_count": 104,
      "outputs": [
        {
          "output_type": "display_data",
          "data": {
            "image/png": "[encoded data removed]",
            "text/plain": [
              "<Figure size 1080x360 with 1 Axes>"
            ]
          },
          "metadata": {
            "tags": [],
            "needs_background": "light"
          }
        }
      ]
    },
    {
      "cell_type": "code",
      "metadata": {
        "id": "DT0_WQ0R9uSB",
        "colab_type": "code",
        "colab": {
          "base_uri": "https://localhost:8080/",
          "height": 281
        },
        "outputId": "b5aad374-40a0-4549-9914-982ab807008b"
      },
      "source": [
        "#Veamos si hay alguna diferencia en el tipo de usuarios que han realizado el viaje\n",
        "viaje_usu = rdd_viaje.map(lambda x: (x['user_type'], 1)).countByKey()\n",
        "\n",
        "print(viaje_usu)\n",
        "plt.pie(list(viaje_usu.values()), labels=list(viaje_usu.keys()),\n",
        "        autopct='%1.1f%%', shadow=True, startangle=90)\n",
        "plt.title(\"Viaje \"+origen+ \" --> \"+destino+\" por tipo de usuario\")\n",
        "plt.show()"
      ],
      "execution_count": 113,
      "outputs": [
        {
          "output_type": "stream",
          "text": [
            "defaultdict(<class 'int'>, {1: 684, 0: 1, 2: 3, 3: 2})\n"
          ],
          "name": "stdout"
        },
        {
          "output_type": "display_data",
          "data": {
            "image/png": "[encoded data removed]",
            "text/plain": [
              "<Figure size 432x288 with 1 Axes>"
            ]
          },
          "metadata": {
            "tags": []
          }
        }
      ]
    },
    {
      "cell_type": "code",
      "metadata": {
        "id": "GIJd8QuR7tss",
        "colab_type": "code",
        "colab": {
          "base_uri": "https://localhost:8080/",
          "height": 35
        },
        "outputId": "99b07a40-dbae-4cff-c2c1-3b22759dcff0"
      },
      "source": [
        "#Veamos la edad de los usuarios que predomina realizando este viaje. \n",
        "rdd_viaje.map(lambda x: (x['age'], 1)).countByKey()"
      ],
      "execution_count": 114,
      "outputs": [
        {
          "output_type": "execute_result",
          "data": {
            "text/plain": [
              "defaultdict(int, {0: 455, 2: 1, 3: 14, 4: 139, 5: 80, 6: 1})"
            ]
          },
          "metadata": {
            "tags": []
          },
          "execution_count": 114
        }
      ]
    },
    {
      "cell_type": "code",
      "metadata": {
        "id": "78IrAbTkaHQf",
        "colab_type": "code",
        "colab": {
          "base_uri": "https://localhost:8080/",
          "height": 35
        },
        "outputId": "08dcbb41-096e-49b1-ef22-042ad600a740"
      },
      "source": [
        "#Estudiemos ahora las medias en tiempo de todos los viajes, el coste del viaje, etc.\n",
        "import statistics as stats\n",
        "listaTiempos = rdd_viaje.map(lambda x: ([x['travel_time']])).reduce(lambda a, b: a + b)\n",
        "print('La media de tiempo empleado por otros usuarios es: ',stats.mean(listaTiempos), 'segundos')"
      ],
      "execution_count": 117,
      "outputs": [
        {
          "output_type": "stream",
          "text": [
            "La media de tiempo empleado por otros usuarios es:  541.2376811594203 segundos\n"
          ],
          "name": "stdout"
        }
      ]
    },
    {
      "cell_type": "markdown",
      "metadata": {
        "id": "TsbmXr3w2wCW",
        "colab_type": "text"
      },
      "source": [
        "Esta media de tiempo incluye los viajes a cualquier tipo de hora, pero los que nos interesan son los que se realizan por la noche. Veamos ahora si realizar este trayecto por el día o por la noche afecta en el tiempo medio para recorrer el trayecto. Con este analisis, se verá si afecta el tráfico ya que es el principal causante del incremento en el tiempo de un viaje"
      ]
    },
    {
      "cell_type": "code",
      "metadata": {
        "id": "JuVv0eWrmtmx",
        "colab_type": "code",
        "colab": {}
      },
      "source": [
        "#Diferencias de los tiempos medios entre las horas nocturnas y las horas diurnas\n",
        "\n",
        "tiemposNoc = rdd_viaje.filter(horasNocturnas).map(lambda x: ([x['travel_time']])).reduce(lambda a, b: a + b)\n",
        "tiemposDiu = rdd_viaje.filter(lambda x: not(horasNocturnas(x))).map(lambda x: ([x['travel_time']])).reduce(lambda a, b: a + b)"
      ],
      "execution_count": 0,
      "outputs": []
    },
    {
      "cell_type": "code",
      "metadata": {
        "id": "T4xKJ-R07MB-",
        "colab_type": "code",
        "colab": {
          "base_uri": "https://localhost:8080/",
          "height": 104
        },
        "outputId": "0ba3149c-2450-4140-f834-8c8164842e1c"
      },
      "source": [
        "mediaNocturna = stats.mean(tiemposNoc)\n",
        "mediaDiurna = stats.mean(tiemposDiu)\n",
        "print('Tiempo medio de viajes nocturnos es: ',mediaNocturna, 'segundos')\n",
        "print('Tiempo medio de viajes diurnos es: ',mediaDiurna, 'segundos')\n",
        "if mediaNocturna < mediaDiurna:\n",
        "  print(\"\\nEl tiempo para recorrer el trayecto si se ve afectado por el tráfico, reduciendolo, \\nen las horas nocturnas\")\n",
        "else:\n",
        "  print(\"El tráfico no afecta a este trayecto\")"
      ],
      "execution_count": 122,
      "outputs": [
        {
          "output_type": "stream",
          "text": [
            "Tiempo medio de viajes nocturnos es:  426.3453237410072 segundos\n",
            "Tiempo medio de viajes diurnos es:  570.2214156079855 segundos\n",
            "\n",
            "El tiempo para recorrer el trayecto si se ve afectado por el tráfico, reduciendolo, \n",
            "en las horas nocturnas\n"
          ],
          "name": "stdout"
        }
      ]
    },
    {
      "cell_type": "markdown",
      "metadata": {
        "id": "BSVrsSg2kEQu",
        "colab_type": "text"
      },
      "source": [
        "En caso de no tener claro el trayecto para llegar al destino, le indicaremos al cliente que calles han sido las más transitadas realizando el viaje que se desea hacer."
      ]
    },
    {
      "cell_type": "code",
      "metadata": {
        "id": "bYEKj0PGvSir",
        "colab_type": "code",
        "colab": {}
      },
      "source": [
        "#Lo uso para ver como son los datos\n",
        "rdd_viaje.map(lambda x: x['track']).take(5)"
      ],
      "execution_count": 0,
      "outputs": []
    },
    {
      "cell_type": "code",
      "metadata": {
        "id": "x-Z8ZI0DGcqM",
        "colab_type": "code",
        "colab": {}
      },
      "source": [
        "#Tan solo estudiaremos los trayectos nocturnos para este caso ya que es lo que nos interesa.\n",
        "\n",
        "def obtenerCalles(line):\n",
        "  listaCalles = []\n",
        "  data = line['track']\n",
        "  for value in data['features']:\n",
        "    try:\n",
        "      calle = value['properties']['var'].split(\",\")\n",
        "      listaCalles.append(calle[4])\n",
        "    except:\n",
        "      None\n",
        "  if len(listaCalles) > 0:\n",
        "    return (listaCalles[-1], listaCalles[0]) #Porque el primer dato es el último que se recibe (de ahí el -1).\n",
        "\n",
        "rdd_calles = rdd_viaje.filter(horasNocturnas).filter(lambda x: x['user_type'] != 3 and x['track'] != None)\\\n",
        ".map(obtenerCalles).filter(lambda x: x != None)#.collect()#reduce(lambda x, y: [x[0] + y[0], x[1], y[1]])\n"
      ],
      "execution_count": 0,
      "outputs": []
    },
    {
      "cell_type": "code",
      "metadata": {
        "id": "08xZ85VukES6",
        "colab_type": "code",
        "colab": {
          "base_uri": "https://localhost:8080/",
          "height": 52
        },
        "outputId": "37cb940e-f51a-4d30-c02c-3aa0818b1469"
      },
      "source": [
        "\"\"\"\n",
        "Veamos por un lado la primera calle más transitada para realizar el viaje y después la última que más\n",
        "se ha transtidado a la hora de realizar el viaje \n",
        "\"\"\"\n",
        "def eliminarNumero(line):\n",
        "  data = line.split(\" \")\n",
        "  try:\n",
        "    entero = int(data[-1])\n",
        "    modulo = len(data[-1])+1\n",
        "    return line[:-modulo]\n",
        "  except:\n",
        "    return line\n",
        "\n",
        "calleInicial = rdd_calles.map(lambda x: (eliminarNumero(x[0]), 1)).groupByKey().mapValues(sum)\\\n",
        "                         .sortBy(lambda x: x[1], False).first()\n",
        "\n",
        "calleFinal = rdd_calles.map(lambda x: (eliminarNumero(x[1]), 1)).groupByKey().mapValues(sum)\\\n",
        "                       .sortBy(lambda x: x[1], False).first()\n",
        "\n",
        "print(\"La primera calle más usada es: \", calleInicial)\n",
        "print(\"La última calle más usada es: \", calleFinal)\n"
      ],
      "execution_count": 178,
      "outputs": [
        {
          "output_type": "stream",
          "text": [
            "La primera calle más usada es:  ('CALLE AVE MARIA', 17)\n",
            "La ultima calle más usada es:  ('PLAZA JACINTO BENAVENTE', 28)\n"
          ],
          "name": "stdout"
        }
      ]
    },
    {
      "cell_type": "markdown",
      "metadata": {
        "id": "-ulpd2B-Df18",
        "colab_type": "text"
      },
      "source": [
        ""
      ]
    },
    {
      "cell_type": "markdown",
      "metadata": {
        "id": "UuHsKmAwHR1w",
        "colab_type": "text"
      },
      "source": [
        "Hagamos ahora el mismo estudio que al principio y veamos la cantidad de huecos libres que hay en la estación de destino. "
      ]
    },
    {
      "cell_type": "code",
      "metadata": {
        "id": "Iu1Tt6i-IA6n",
        "colab_type": "code",
        "colab": {}
      },
      "source": [
        "def filtPorHora2(hora, rango):\n",
        "    horaViaje = int(horaCliente[0:2]) * 3600 + int(horaCliente[3:5]) * 60 + int(horaCliente[6:8]) + mediaNocturna\n",
        "    horaDatos = int(hora[0:2]) * 3600 + int(hora[3:5]) * 60 + int(hora[6:8])\n",
        "    if horaViaje - rango < 0:\n",
        "      return horaDatos < horaViaje + rango\n",
        "    else:\n",
        "      return horaViaje - rango < horaDatos < horaViaje + rango\n",
        "\n",
        "def calcularBasesLibres(lista):\n",
        "  #bicisLibres = []\n",
        "  for station in lista:\n",
        "    if station['number'] == destino:\n",
        "      return station['free_bases']\n",
        "\n",
        "basesLibres = rddE_Sit_fil.filter(lambda x: filtPorHora2(x['hour'], 3600)).map(lambda x: [calcularBasesLibres(x['station'])]).reduce(lambda a, b: a+b)\n",
        "\n",
        "print('La media de bicicletas libres respecto a la hora elegida es:',int(stats.mean(basesLibres)))\n",
        "#La media esta realizada para los datos obtenidos en el rango una hora respecto a la dicha por el cliente\n",
        "\n",
        "#Por lo tanto la probabilidad de que encuentre una bici disponible es la siguiente\n",
        "basesTotales = dicEstaciones[destino]['total_bases']\n",
        "prob = sum(basesLibres) / (basesTotales * len(basesLibres))\n",
        "print('La probabilidad de que haya una bicicleta libre es del', str(100*prob)+'%')"
      ],
      "execution_count": 0,
      "outputs": []
    }
  ]
}