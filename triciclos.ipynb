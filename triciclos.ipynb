{
  "nbformat": 4,
  "nbformat_minor": 0,
  "metadata": {
    "colab": {
      "name": "triciclos.ipynb",
      "provenance": [],
      "collapsed_sections": [],
      "authorship_tag": "ABX9TyMfx/DTVlKjdQ5u4q6qxNhz",
      "include_colab_link": true
    },
    "kernelspec": {
      "name": "python3",
      "display_name": "Python 3"
    }
  },
  "cells": [
    {
      "cell_type": "markdown",
      "metadata": {
        "id": "view-in-github",
        "colab_type": "text"
      },
      "source": [
        "<a href=\"https://colab.research.google.com/github/ParalelaUCM/biciMAD/blob/master/triciclos.ipynb\" target=\"_parent\"><img src=\"https://colab.research.google.com/assets/colab-badge.svg\" alt=\"Open In Colab\"/></a>"
      ]
    },
    {
      "cell_type": "code",
      "metadata": {
        "id": "6UM1p2S_SdFU",
        "colab_type": "code",
        "colab": {}
      },
      "source": [
        "!apt-get install openjdk-8-jdk\n",
        "\n",
        "import os\n",
        "os.environ[\"JAVA_HOME\"] = \"/usr/lib/jvm/java-8-openjdk-amd64\"\n",
        "\n",
        "!pip install pyspark"
      ],
      "execution_count": 0,
      "outputs": []
    },
    {
      "cell_type": "code",
      "metadata": {
        "id": "kNPIrjo0Trvm",
        "colab_type": "code",
        "colab": {}
      },
      "source": [
        "import json\n",
        "from pyspark import SparkContext\n",
        "sc = SparkContext()"
      ],
      "execution_count": 0,
      "outputs": []
    },
    {
      "cell_type": "code",
      "metadata": {
        "id": "R_JiNBoqUGQO",
        "colab_type": "code",
        "colab": {
          "base_uri": "https://localhost:8080/",
          "height": 170
        },
        "outputId": "bcfcf2b5-5c3a-4181-d553-04c17a77c7b6"
      },
      "source": [
        "rdd2 = sc.textFile(\"/content/g2.txt\").\\\n",
        "    map(lambda x: x.replace('\"',\"\").replace(' ',\"\").split(\",\")).\\\n",
        "    map(lambda x: (\"berni\",x)).groupByKey().map(lambda x: (x[0],list(x[1])))\n",
        "rdd2.collect()"
      ],
      "execution_count": 275,
      "outputs": [
        {
          "output_type": "execute_result",
          "data": {
            "text/plain": [
              "[('berni',\n",
              "  [['B', 'B'],\n",
              "   ['B', 'A'],\n",
              "   ['C', 'A'],\n",
              "   ['A', 'B'],\n",
              "   ['A', 'D'],\n",
              "   ['B', 'C'],\n",
              "   ['F', 'A'],\n",
              "   ['F', 'D']])]"
            ]
          },
          "metadata": {
            "tags": []
          },
          "execution_count": 275
        }
      ]
    },
    {
      "cell_type": "code",
      "metadata": {
        "id": "ch9yykTpr2YD",
        "colab_type": "code",
        "colab": {
          "base_uri": "https://localhost:8080/",
          "height": 51
        },
        "outputId": "0b3c9ce6-6a71-469f-c164-419e8c916139"
      },
      "source": [
        "rdd3 = sc.textFile(\"/content/g3.txt\").\\\n",
        "    map(lambda x: x.replace('\"',\"\").replace(' ',\"\").split(\",\")).\\\n",
        "    map(lambda x: (\"sergi\",x)).groupByKey().map(lambda x: (x[0],list(x[1])))\n",
        "rdd3.collect()"
      ],
      "execution_count": 276,
      "outputs": [
        {
          "output_type": "execute_result",
          "data": {
            "text/plain": [
              "[('sergi',\n",
              "  [['A', 'B'], ['A', 'C'], ['A', 'D'], ['A', 'F'], ['F', 'F'], ['F', 'A']])]"
            ]
          },
          "metadata": {
            "tags": []
          },
          "execution_count": 276
        }
      ]
    },
    {
      "cell_type": "code",
      "metadata": {
        "id": "Y7BXMILC_dSn",
        "colab_type": "code",
        "colab": {
          "base_uri": "https://localhost:8080/",
          "height": 187
        },
        "outputId": "801e144c-7ffc-4e61-b290-e34ace7cdc4b"
      },
      "source": [
        "rdd4 = sc.textFile(\"/content/g4.txt\").\\\n",
        "    map(lambda x: x.replace('\"',\"\").replace(' ',\"\").split(\",\")).\\\n",
        "    map(lambda x: (\"eli\",x)).groupByKey().map(lambda x: (x[0],list(x[1])))\n",
        "rdd4.collect()"
      ],
      "execution_count": 277,
      "outputs": [
        {
          "output_type": "execute_result",
          "data": {
            "text/plain": [
              "[('eli',\n",
              "  [['A', 'B'],\n",
              "   ['B', 'C'],\n",
              "   ['C', 'D'],\n",
              "   ['D', 'E'],\n",
              "   ['E', 'F'],\n",
              "   ['F', 'A'],\n",
              "   ['A', 'C'],\n",
              "   ['C', 'E'],\n",
              "   ['E', 'A']])]"
            ]
          },
          "metadata": {
            "tags": []
          },
          "execution_count": 277
        }
      ]
    },
    {
      "cell_type": "code",
      "metadata": {
        "id": "ivzN-o6u_kNO",
        "colab_type": "code",
        "colab": {
          "base_uri": "https://localhost:8080/",
          "height": 153
        },
        "outputId": "8df87ded-0a74-4740-de3a-909c5310947b"
      },
      "source": [
        "rdd1 = sc.textFile(\"/content/g1.txt\").\\\n",
        "    map(lambda x: x.replace('\"',\"\").replace(' ',\"\").split(\",\")).\\\n",
        "    map(lambda x: (\"pablo\",x)).groupByKey().map(lambda x: (x[0],list(x[1])))\n",
        "rdd1.collect()"
      ],
      "execution_count": 278,
      "outputs": [
        {
          "output_type": "execute_result",
          "data": {
            "text/plain": [
              "[('pablo',\n",
              "  [['A', 'B'],\n",
              "   ['A', 'B'],\n",
              "   ['A', 'C'],\n",
              "   ['A', 'D'],\n",
              "   ['B', 'C'],\n",
              "   ['B', 'D'],\n",
              "   ['C', 'D']])]"
            ]
          },
          "metadata": {
            "tags": []
          },
          "execution_count": 278
        }
      ]
    },
    {
      "cell_type": "code",
      "metadata": {
        "id": "8YrPzaYZ_-YH",
        "colab_type": "code",
        "colab": {
          "base_uri": "https://localhost:8080/",
          "height": 221
        },
        "outputId": "b3d8ee11-b4b2-460b-b138-7eaa07cd34a8"
      },
      "source": [
        "rdd10 = sc.textFile(\"/content/g10.txt\").\\\n",
        "    map(lambda x: x.replace('\"',\"\").replace(' ',\"\").split(\",\")).\\\n",
        "    map(lambda x: (\"marcos\",x)).groupByKey().map(lambda x: (x[0],list(x[1])))\n",
        "rdd10.collect()"
      ],
      "execution_count": 279,
      "outputs": [
        {
          "output_type": "execute_result",
          "data": {
            "text/plain": [
              "[('marcos',\n",
              "  [['1', '2'],\n",
              "   ['2', '3'],\n",
              "   ['3', '4'],\n",
              "   ['1', '3'],\n",
              "   ['4', '5'],\n",
              "   ['5', '6'],\n",
              "   ['3', '5'],\n",
              "   ['6', '7'],\n",
              "   ['7', '8'],\n",
              "   ['5', '7'],\n",
              "   ['8', '9']])]"
            ]
          },
          "metadata": {
            "tags": []
          },
          "execution_count": 279
        }
      ]
    },
    {
      "cell_type": "code",
      "metadata": {
        "id": "r9SnwuSj1I6q",
        "colab_type": "code",
        "colab": {}
      },
      "source": [
        "def adic(ldl):\n",
        "  d = {}\n",
        "  for elem in ldl:\n",
        "    key,value = elem[0],elem[1]\n",
        "    if key in d:\n",
        "      d[key].append(value)\n",
        "    else:\n",
        "      d[key]=[value]\n",
        "  return d"
      ],
      "execution_count": 0,
      "outputs": []
    },
    {
      "cell_type": "code",
      "metadata": {
        "id": "l3INuOLf1UL6",
        "colab_type": "code",
        "colab": {}
      },
      "source": [
        "def unomas(dic):\n",
        "  dk = list(dic.keys())\n",
        "  for key in dk:\n",
        "    for elem in dic[key]:\n",
        "      if key[0]==elem:\n",
        "        dic[key+elem]=[len(key+elem)-1]\n",
        "      elif str(elem) in key:\n",
        "        pass\n",
        "      else:\n",
        "        try:\n",
        "          dic[key+elem]=dic[elem]\n",
        "        except KeyError:\n",
        "          pass\n",
        "  return dic"
      ],
      "execution_count": 0,
      "outputs": []
    },
    {
      "cell_type": "code",
      "metadata": {
        "id": "DuiDHyzw8ZM7",
        "colab_type": "code",
        "colab": {}
      },
      "source": [
        "def sigue(dic):\n",
        "  if len(dic) == len(unomas(dic)):\n",
        "    return dic\n",
        "  else:\n",
        "    return (sigue(unomas(dic)))"
      ],
      "execution_count": 0,
      "outputs": []
    },
    {
      "cell_type": "code",
      "metadata": {
        "id": "n5EAdBcA-I5j",
        "colab_type": "code",
        "colab": {}
      },
      "source": [
        "def dameciclos(dic,n):\n",
        "  resultado = []\n",
        "  for key,value in dic.items():\n",
        "    if value == [n]:\n",
        "      resultado.append(key)\n",
        "  return resultado"
      ],
      "execution_count": 0,
      "outputs": []
    },
    {
      "cell_type": "code",
      "metadata": {
        "id": "NWQjM6uN6i2e",
        "colab_type": "code",
        "colab": {}
      },
      "source": [
        "rdd = rdd2.union(rdd3).union(rdd4).union(rdd1)#.union(rdd10)\n",
        "rdd2 = rdd.mapValues(lambda x: adic(x)).mapValues(lambda x: sigue(x))"
      ],
      "execution_count": 0,
      "outputs": []
    },
    {
      "cell_type": "code",
      "metadata": {
        "id": "BkD1NpUj0xNo",
        "colab_type": "code",
        "colab": {
          "base_uri": "https://localhost:8080/",
          "height": 34
        },
        "outputId": "7ceda9cc-3029-4868-95dc-2b35d81f82f7"
      },
      "source": [
        "rdd2.mapValues(lambda x: dameciclos(x,8)).collect()"
      ],
      "execution_count": 285,
      "outputs": [
        {
          "output_type": "execute_result",
          "data": {
            "text/plain": [
              "[('berni', []), ('sergi', []), ('eli', []), ('pablo', [])]"
            ]
          },
          "metadata": {
            "tags": []
          },
          "execution_count": 285
        }
      ]
    },
    {
      "cell_type": "code",
      "metadata": {
        "id": "F5g5uGAZ-xM_",
        "colab_type": "code",
        "colab": {
          "base_uri": "https://localhost:8080/",
          "height": 122
        },
        "outputId": "3968d0ec-88c0-4d85-ca3f-87645122b2fd"
      },
      "source": [
        "#todos los ciclos menores que m:\n",
        "m=6\n",
        "for i in range(1,m):\n",
        "  a = rdd2.mapValues(lambda x: dameciclos(x,i))\n",
        "  print(\"ciclos de longitud \"+str(i)+\": \",a.collect())"
      ],
      "execution_count": 286,
      "outputs": [
        {
          "output_type": "stream",
          "text": [
            "ciclos de longitud 1:  [('berni', ['BB']), ('sergi', ['FF']), ('eli', []), ('pablo', [])]\n",
            "ciclos de longitud 2:  [('berni', ['BAB', 'ABA']), ('sergi', ['AFA', 'FAF']), ('eli', []), ('pablo', [])]\n",
            "ciclos de longitud 3:  [('berni', ['BCAB', 'CABC', 'ABCA']), ('sergi', []), ('eli', ['ACEA', 'CEAC', 'EACE']), ('pablo', [])]\n",
            "ciclos de longitud 4:  [('berni', []), ('sergi', []), ('eli', ['ABCEA', 'ACDEA', 'ACEFA', 'BCEAB', 'CDEAC', 'CEFAC', 'CEABC', 'DEACD', 'EFACE', 'EABCE', 'EACDE', 'FACEF']), ('pablo', [])]\n",
            "ciclos de longitud 5:  [('berni', []), ('sergi', []), ('eli', ['ABCDEA', 'ABCEFA', 'ACDEFA', 'BCDEAB', 'BCEFAB', 'CDEFAC', 'CDEABC', 'CEFABC', 'DEFACD', 'DEABCD', 'EFABCE', 'EFACDE', 'EABCDE', 'FABCEF', 'FACDEF']), ('pablo', [])]\n"
          ],
          "name": "stdout"
        }
      ]
    },
    {
      "cell_type": "code",
      "metadata": {
        "id": "zn179cCo2EsC",
        "colab_type": "code",
        "colab": {
          "base_uri": "https://localhost:8080/",
          "height": 187
        },
        "outputId": "b7a12f16-d679-497c-df3e-a187a3986c76"
      },
      "source": [
        "dos = unomas({'A': ['B', 'D'], 'B': ['B', 'A', 'C'], 'C': ['A'], 'F': ['A', 'D']})\n",
        "dos"
      ],
      "execution_count": 287,
      "outputs": [
        {
          "output_type": "execute_result",
          "data": {
            "text/plain": [
              "{'A': ['B', 'D'],\n",
              " 'AB': ['B', 'A', 'C'],\n",
              " 'B': ['B', 'A', 'C'],\n",
              " 'BA': ['B', 'D'],\n",
              " 'BB': [1],\n",
              " 'BC': ['A'],\n",
              " 'C': ['A'],\n",
              " 'CA': ['B', 'D'],\n",
              " 'F': ['A', 'D'],\n",
              " 'FA': ['B', 'D']}"
            ]
          },
          "metadata": {
            "tags": []
          },
          "execution_count": 287
        }
      ]
    },
    {
      "cell_type": "code",
      "metadata": {
        "id": "ZI7UIQ0c5lPJ",
        "colab_type": "code",
        "colab": {
          "base_uri": "https://localhost:8080/",
          "height": 289
        },
        "outputId": "276e0437-46aa-4c05-d52b-7b57bd638046"
      },
      "source": [
        "tres = unomas(dos)\n",
        "tres"
      ],
      "execution_count": 288,
      "outputs": [
        {
          "output_type": "execute_result",
          "data": {
            "text/plain": [
              "{'A': ['B', 'D'],\n",
              " 'AB': ['B', 'A', 'C'],\n",
              " 'ABA': [2],\n",
              " 'ABC': ['A'],\n",
              " 'B': ['B', 'A', 'C'],\n",
              " 'BA': ['B', 'D'],\n",
              " 'BAB': [2],\n",
              " 'BB': [1],\n",
              " 'BC': ['A'],\n",
              " 'BCA': ['B', 'D'],\n",
              " 'C': ['A'],\n",
              " 'CA': ['B', 'D'],\n",
              " 'CAB': ['B', 'A', 'C'],\n",
              " 'F': ['A', 'D'],\n",
              " 'FA': ['B', 'D'],\n",
              " 'FAB': ['B', 'A', 'C']}"
            ]
          },
          "metadata": {
            "tags": []
          },
          "execution_count": 288
        }
      ]
    },
    {
      "cell_type": "code",
      "metadata": {
        "id": "x8m_B4X-5yfc",
        "colab_type": "code",
        "colab": {
          "base_uri": "https://localhost:8080/",
          "height": 357
        },
        "outputId": "392397d3-59fe-441a-ac89-5907dd6976b2"
      },
      "source": [
        "cuatro = unomas(tres)\n",
        "cuatro"
      ],
      "execution_count": 289,
      "outputs": [
        {
          "output_type": "execute_result",
          "data": {
            "text/plain": [
              "{'A': ['B', 'D'],\n",
              " 'AB': ['B', 'A', 'C'],\n",
              " 'ABA': [2],\n",
              " 'ABC': ['A'],\n",
              " 'ABCA': [3],\n",
              " 'B': ['B', 'A', 'C'],\n",
              " 'BA': ['B', 'D'],\n",
              " 'BAB': [2],\n",
              " 'BB': [1],\n",
              " 'BC': ['A'],\n",
              " 'BCA': ['B', 'D'],\n",
              " 'BCAB': [3],\n",
              " 'C': ['A'],\n",
              " 'CA': ['B', 'D'],\n",
              " 'CAB': ['B', 'A', 'C'],\n",
              " 'CABC': [3],\n",
              " 'F': ['A', 'D'],\n",
              " 'FA': ['B', 'D'],\n",
              " 'FAB': ['B', 'A', 'C'],\n",
              " 'FABC': ['A']}"
            ]
          },
          "metadata": {
            "tags": []
          },
          "execution_count": 289
        }
      ]
    },
    {
      "cell_type": "code",
      "metadata": {
        "id": "Xa70mzFn6TQd",
        "colab_type": "code",
        "colab": {
          "base_uri": "https://localhost:8080/",
          "height": 357
        },
        "outputId": "a13449a4-f663-454c-c205-301a99889f47"
      },
      "source": [
        "cinco = unomas(cuatro)\n",
        "cinco"
      ],
      "execution_count": 290,
      "outputs": [
        {
          "output_type": "execute_result",
          "data": {
            "text/plain": [
              "{'A': ['B', 'D'],\n",
              " 'AB': ['B', 'A', 'C'],\n",
              " 'ABA': [2],\n",
              " 'ABC': ['A'],\n",
              " 'ABCA': [3],\n",
              " 'B': ['B', 'A', 'C'],\n",
              " 'BA': ['B', 'D'],\n",
              " 'BAB': [2],\n",
              " 'BB': [1],\n",
              " 'BC': ['A'],\n",
              " 'BCA': ['B', 'D'],\n",
              " 'BCAB': [3],\n",
              " 'C': ['A'],\n",
              " 'CA': ['B', 'D'],\n",
              " 'CAB': ['B', 'A', 'C'],\n",
              " 'CABC': [3],\n",
              " 'F': ['A', 'D'],\n",
              " 'FA': ['B', 'D'],\n",
              " 'FAB': ['B', 'A', 'C'],\n",
              " 'FABC': ['A']}"
            ]
          },
          "metadata": {
            "tags": []
          },
          "execution_count": 290
        }
      ]
    },
    {
      "cell_type": "code",
      "metadata": {
        "id": "gmHKsk1-6Z3-",
        "colab_type": "code",
        "colab": {
          "base_uri": "https://localhost:8080/",
          "height": 34
        },
        "outputId": "0b5f701f-6a23-4d46-836c-6d455085de26"
      },
      "source": [
        "cuatro==cinco"
      ],
      "execution_count": 291,
      "outputs": [
        {
          "output_type": "execute_result",
          "data": {
            "text/plain": [
              "True"
            ]
          },
          "metadata": {
            "tags": []
          },
          "execution_count": 291
        }
      ]
    }
  ]
}