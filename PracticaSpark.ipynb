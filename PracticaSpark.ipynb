{
  "nbformat": 4,
  "nbformat_minor": 0,
  "metadata": {
    "colab": {
      "name": "PracticaSpark.ipynb",
      "provenance": [],
      "toc_visible": true,
      "authorship_tag": "ABX9TyPE4C90vc8WmgwWWKlR9S50",
      "include_colab_link": true
    },
    "kernelspec": {
      "name": "python3",
      "display_name": "Python 3"
    }
  },
  "cells": [
    {
      "cell_type": "markdown",
      "metadata": {
        "id": "view-in-github",
        "colab_type": "text"
      },
      "source": [
        "<a href=\"https://colab.research.google.com/github/ParalelaUCM/biciMAD/blob/master/PracticaSpark.ipynb\" target=\"_parent\"><img src=\"https://colab.research.google.com/assets/colab-badge.svg\" alt=\"Open In Colab\"/></a>"
      ]
    },
    {
      "cell_type": "markdown",
      "metadata": {
        "id": "o6JLekeSkduf",
        "colab_type": "text"
      },
      "source": [
        "# **Setup**\n",
        "\n",
        "Instalamos y configuramos las herramientas necesarias para empezar a trabajar"
      ]
    },
    {
      "cell_type": "code",
      "metadata": {
        "id": "1dvQgdvjkcPT",
        "colab_type": "code",
        "colab": {}
      },
      "source": [
        "!apt-get install openjdk-8-jdk\n",
        "!apt install unzip\n",
        "import os\n",
        "os.environ[\"JAVA_HOME\"] = \"/usr/lib/jvm/java-8-openjdk-amd64\"\n",
        "!pip install pyspark"
      ],
      "execution_count": 0,
      "outputs": []
    },
    {
      "cell_type": "code",
      "metadata": {
        "id": "7izn4SSoktQB",
        "colab_type": "code",
        "colab": {}
      },
      "source": [
        "!apt install unzip"
      ],
      "execution_count": 0,
      "outputs": []
    },
    {
      "cell_type": "markdown",
      "metadata": {
        "id": "9xB2HI4RlCAv",
        "colab_type": "text"
      },
      "source": [
        "# **Descargamos los datasets de bicimad**\n",
        "Descargaremos cada dataset de la web oficial) de biciMAD. Los renombraremos a '.zip' para poder descomprimirlos y una vez descomprimidos los movemos a la carpeta 'datasets'. Por último eliminamos los ficheros comprimidos."
      ]
    },
    {
      "cell_type": "code",
      "metadata": {
        "id": "zynUfS6zlO2x",
        "colab_type": "code",
        "colab": {}
      },
      "source": [
        "#Carpeta para el dataset\n",
        "!mkdir dataset"
      ],
      "execution_count": 0,
      "outputs": []
    },
    {
      "cell_type": "code",
      "metadata": {
        "id": "OsU-TGDTlc20",
        "colab_type": "code",
        "colab": {}
      },
      "source": [
        "#Enero de 2019\n",
        "!wget -N \"https://opendata.emtmadrid.es/getattachment/2ebcc70a-4914-43c6-9ada-a0f0520032a4/201901_Usage_Bicimad.aspx\"\n",
        "!mv 201901_Usage_Bicimad.aspx 201901_Usage_Bicimad.zip\n",
        "!unzip 201901_Usage_Bicimad.zip\n",
        "!mv 201901_Usage_Bicimad.json dataset\n",
        "!rm 201901_Usage_Bicimad.zip"
      ],
      "execution_count": 0,
      "outputs": []
    },
    {
      "cell_type": "code",
      "metadata": {
        "id": "0VdEV7PJ5gjH",
        "colab_type": "code",
        "colab": {}
      },
      "source": [
        "'''\n",
        "#Febrero de 2019\n",
        "!wget -N \"https://opendata.emtmadrid.es/getattachment/aa8c34d2-ddba-46d9-b6db-882c0b4a12f0/201902_Usage_Bicimad.aspx\"\n",
        "!mv 201902_Usage_Bicimad.aspx 201902_Usage_Bicimad.zip \n",
        "!unzip 201902_Usage_Bicimad.zip\n",
        "!mv 201902_Usage_Bicimad.json dataset\n",
        "!rm 201902_Usage_Bicimad.zip\n",
        "'''"
      ],
      "execution_count": 0,
      "outputs": []
    },
    {
      "cell_type": "code",
      "metadata": {
        "id": "WhWzg0HZ5hKJ",
        "colab_type": "code",
        "colab": {}
      },
      "source": [
        "\n",
        "'''\n",
        "#Junio de 2019\n",
        "!wget -N \"https://opendata.emtmadrid.es/getattachment/7517a650-ccdf-4ab1-b1b0-a1d13694472e/201906_Usage_Bicimad.aspx\"\n",
        "!mv 201906_Usage_Bicimad.aspx 201906_Usage_Bicimad.zip\n",
        "!unzip 201906_Usage_Bicimad.zip\n",
        "!mv 201906_Usage_Bicimad.json dataset\n",
        "!rm 201906_Usage_Bicimad.zip\n",
        "'''"
      ],
      "execution_count": 0,
      "outputs": []
    },
    {
      "cell_type": "markdown",
      "metadata": {
        "id": "-C02tMVwlhC8",
        "colab_type": "text"
      },
      "source": [
        "# **Ahora ya podemos empezar**"
      ]
    },
    {
      "cell_type": "code",
      "metadata": {
        "id": "cN-qoC2JlmpG",
        "colab_type": "code",
        "colab": {}
      },
      "source": [
        "#Aquí ya podemos empezar a trabajar\n",
        "import json\n",
        "from pyspark import SparkContext\n",
        "sc = SparkContext()"
      ],
      "execution_count": 0,
      "outputs": []
    },
    {
      "cell_type": "code",
      "metadata": {
        "id": "JifNMwNfrK2V",
        "colab_type": "code",
        "colab": {}
      },
      "source": [
        "#Para usar dataFrames que puede ser interesante (No he usado nada de esto abajo)\n",
        "from pyspark.sql import SparkSession\n",
        "spark = SparkSession.builder.getOrCreate()\n",
        "df = spark.read.json(\"/content/dataset/201901_Usage_Bicimad.json\")\n",
        "df.show()"
      ],
      "execution_count": 0,
      "outputs": []
    },
    {
      "cell_type": "code",
      "metadata": {
        "id": "wNJKAqyPlrNo",
        "colab_type": "code",
        "colab": {}
      },
      "source": [
        "rdd_raw  = sc.textFile('/content/dataset/201901_Usage_Bicimad.json')"
      ],
      "execution_count": 0,
      "outputs": []
    },
    {
      "cell_type": "code",
      "metadata": {
        "id": "le2neQcwl58-",
        "colab_type": "code",
        "colab": {
          "base_uri": "https://localhost:8080/",
          "height": 55
        },
        "outputId": "1d99b0c8-ed8b-4ba8-e311-9d41dfc55950"
      },
      "source": [
        "rdd_raw.take(1)"
      ],
      "execution_count": 132,
      "outputs": [
        {
          "output_type": "execute_result",
          "data": {
            "text/plain": [
              "['{ \"_id\" : { \"$oid\" : \"5c4b07ea2f38432e007daab8\" }, \"user_day_code\" : \"b3b5b61509ab89afbf4d1e589d229bebe6637c2de819f5d612762c939b8d7f1f\", \"idplug_base\" : 14, \"track\" : { \"type\" : \"FeatureCollection\", \"features\" : [ { \"geometry\" : { \"type\" : \"Point\", \"coordinates\" : [ -3.6803143, 40.4048615 ] }, \"type\" : \"Feature\", \"properties\" : { \"var\" : \"28007,ES,Madrid,Madrid,AVDA MENENDEZ PELAYO 117,Madrid\", \"speed\" : 1.77, \"secondsfromstart\" : 153 } }, { \"geometry\" : { \"type\" : \"Point\", \"coordinates\" : [ -3.67770349972222, 40.4029987997222 ] }, \"type\" : \"Feature\", \"properties\" : { \"var\" : \"28007,ES,Madrid,Madrid,AVDA CIUDAD DE BARCELONA 51,Madrid\", \"speed\" : 6.58, \"secondsfromstart\" : 93 } }, { \"geometry\" : { \"type\" : \"Point\", \"coordinates\" : [ -3.67432209972222, 40.4009430997222 ] }, \"type\" : \"Feature\", \"properties\" : { \"var\" : \"28007,ES,Madrid,Madrid,AVDA CIUDAD DE BARCELONA 81,Madrid\", \"speed\" : 4.72, \"secondsfromstart\" : 32 } } ] }, \"user_type\" : 1, \"idunplug_base\" : 23, \"travel_time\" : 162, \"idunplug_station\" : 82, \"ageRange\" : 0, \"idplug_station\" : 83, \"unplug_hourTime\" : { \"$date\" : \"2019-01-01T00:00:00.000+0100\" }, \"zip_code\" : \"\" }']"
            ]
          },
          "metadata": {
            "tags": []
          },
          "execution_count": 132
        }
      ]
    },
    {
      "cell_type": "code",
      "metadata": {
        "id": "g1IsfEyAnMkq",
        "colab_type": "code",
        "colab": {}
      },
      "source": [
        "def mapper(line):\n",
        "  data = json.loads(line)\n",
        "  user = data['user_type']\n",
        "  user_day = data['user_day_code']\n",
        "  start = data['idunplug_station']\n",
        "  end = data['idplug_station']\n",
        "  date = data['unplug_hourTime']['$date'][0:10]\n",
        "  hora = data['unplug_hourTime']['$date'][11:19]\n",
        "  time = data['travel_time']\n",
        "  return user, user_day, start, end , time, date, hora "
      ],
      "execution_count": 0,
      "outputs": []
    },
    {
      "cell_type": "code",
      "metadata": {
        "id": "rq8O6lpjmNht",
        "colab_type": "code",
        "colab": {}
      },
      "source": [
        "def horasNocturnas(line):\n",
        "  data = json.loads(line)\n",
        "  hora_minima = 3600 #Esto seria pasar las 01:00:00 horas a segundos‬\n",
        "  hora_maxima = 18000 #Esto seria pasar las 05:00:00 horas a segundos‬\n",
        "  hora = data['unplug_hourTime']['$date'][11:19]\n",
        "  hora_actual = int(hora[0:2]) * 3600 + int(hora[3:5]) * 60 + int(hora[6:8])\n",
        "  #En teoria con multipicar solo las horas ya valdria porque no hay ni minutos ni segundos\n",
        "  return hora_minima <= hora_actual <= hora_maxima\n",
        "rddNocturna = rdd_raw.filter(lambda x: horasNocturnas(x))"
      ],
      "execution_count": 0,
      "outputs": []
    },
    {
      "cell_type": "code",
      "metadata": {
        "id": "hsZPcvOumRhZ",
        "colab_type": "code",
        "colab": {
          "base_uri": "https://localhost:8080/",
          "height": 55
        },
        "outputId": "c5efbffe-01c1-4f60-ce8d-f3bb761b3323"
      },
      "source": [
        "rddNocturna.take(1)"
      ],
      "execution_count": 134,
      "outputs": [
        {
          "output_type": "execute_result",
          "data": {
            "text/plain": [
              "['{ \"_id\" : { \"$oid\" : \"5c4b07eb2f38432e007dab5e\" }, \"user_day_code\" : \"19b185c5dd95c1ef7f807c94d159e980d1eb31c53f2093c33d1d7dcd54c4a7d1\", \"idplug_base\" : 16, \"user_type\" : 1, \"idunplug_base\" : 23, \"travel_time\" : 318, \"idunplug_station\" : 102, \"ageRange\" : 5, \"idplug_station\" : 95, \"unplug_hourTime\" : { \"$date\" : \"2019-01-01T01:00:00.000+0100\" }, \"zip_code\" : \"28001\" }']"
            ]
          },
          "metadata": {
            "tags": []
          },
          "execution_count": 134
        }
      ]
    },
    {
      "cell_type": "code",
      "metadata": {
        "id": "LUr-oo96mVlY",
        "colab_type": "code",
        "colab": {
          "base_uri": "https://localhost:8080/",
          "height": 35
        },
        "outputId": "6659cfab-2cb2-4537-a6a0-c21c59017f8c"
      },
      "source": [
        "#Separamos ahora por tipo de usuario y vemos cuantos hay de cada tipo en total en todo el mes\n",
        "rddNocturna_datos = rddNocturna.map(mapper)\n",
        "nigth_data = rddNocturna_datos.countByKey()\n",
        "nigth_data"
      ],
      "execution_count": 137,
      "outputs": [
        {
          "output_type": "execute_result",
          "data": {
            "text/plain": [
              "defaultdict(int, {0: 157, 1: 13843, 2: 132, 3: 2432})"
            ]
          },
          "metadata": {
            "tags": []
          },
          "execution_count": 137
        }
      ]
    },
    {
      "cell_type": "code",
      "metadata": {
        "id": "elTfuGWJpLA2",
        "colab_type": "code",
        "colab": {
          "base_uri": "https://localhost:8080/",
          "height": 390
        },
        "outputId": "c21d4279-b466-4b43-fe5f-2356f51e4811"
      },
      "source": [
        "import matplotlib.pyplot as plt\n",
        "import numpy as np\n",
        "plt.title('Datos por tipo de usuario nocturnos')\n",
        "names = list(nigth_data.keys())\n",
        "values = list(nigth_data.values())\n",
        "plt.bar(names, values, 1)\n",
        "plt.xlabel('Tipo de usuarios', fontsize=18)\n",
        "plt.ylabel('Cantidad de usuarios', fontsize=16)\n",
        "names.sort()\n",
        "plt.xticks(names, [\"0\",\"1\",\"2\",\"3\"])"
      ],
      "execution_count": 138,
      "outputs": [
        {
          "output_type": "execute_result",
          "data": {
            "text/plain": [
              "([<matplotlib.axis.XTick at 0x7ff6a139acf8>,\n",
              "  <matplotlib.axis.XTick at 0x7ff6a139acc0>,\n",
              "  <matplotlib.axis.XTick at 0x7ff6a139a9e8>,\n",
              "  <matplotlib.axis.XTick at 0x7ff6a13c6b70>],\n",
              " [Text(0, 0, '0'), Text(0, 0, '1'), Text(0, 0, '2'), Text(0, 0, '3')])"
            ]
          },
          "metadata": {
            "tags": []
          },
          "execution_count": 138
        },
        {
          "output_type": "display_data",
          "data": {
            "image/png": "[encoded data removed]",
            "text/plain": [
              "<Figure size 432x288 with 1 Axes>"
            ]
          },
          "metadata": {
            "tags": [],
            "needs_background": "light"
          }
        }
      ]
    },
    {
      "cell_type": "markdown",
      "metadata": {
        "id": "ifDFmsLAoQ-m",
        "colab_type": "text"
      },
      "source": [
        "Podemos observar como la mayoria de usuarios que han usado bicimad por la noche son usuarios del tipo 1, que son los usuarios anuales mientras que hay muy pocos usuarios ocasionales. Veamos una comparacion con los datos diurnos."
      ]
    },
    {
      "cell_type": "code",
      "metadata": {
        "id": "CiDPrAkonlY9",
        "colab_type": "code",
        "colab": {}
      },
      "source": [
        "def horasDiurnas(line):\n",
        "  data = json.loads(line)\n",
        "  hora_minima = 18000 #Esto seria pasar las 05:00:00 horas a segundos‬\n",
        "  hora = data['unplug_hourTime']['$date'][11:19]\n",
        "  hora_actual = int(hora[0:2]) * 3600 + int(hora[3:5]) * 60 + int(hora[6:8])\n",
        "  #En teoria con multipicar solo las horas ya valdria porque no hay ni minutos ni segundos\n",
        "  return hora_minima < hora_actual\n",
        "rddDiurna = rdd_raw.filter(lambda x: horasDiurnas(x))"
      ],
      "execution_count": 0,
      "outputs": []
    },
    {
      "cell_type": "code",
      "metadata": {
        "id": "SZPKRLMbpf3X",
        "colab_type": "code",
        "colab": {
          "base_uri": "https://localhost:8080/",
          "height": 55
        },
        "outputId": "a0c2b6ab-ca6c-4c40-f7c7-c458feee8120"
      },
      "source": [
        "rddDiurna.take(1)"
      ],
      "execution_count": 140,
      "outputs": [
        {
          "output_type": "execute_result",
          "data": {
            "text/plain": [
              "['{ \"_id\" : { \"$oid\" : \"5c4b07ef2f38432e007dae95\" }, \"user_day_code\" : \"963823d9e2087febb35ccffa49f4311dc679dede68cc5aafe7a385f24009575d\", \"idplug_base\" : 5, \"track\" : { \"type\" : \"FeatureCollection\", \"features\" : [ { \"geometry\" : { \"type\" : \"Point\", \"coordinates\" : [ -3.6910045, 40.4080585997222 ] }, \"type\" : \"Feature\", \"properties\" : { \"var\" : \"28007,ES,Madrid,Madrid,AVDA CIUDAD DE BARCELONA 2D,Madrid\", \"speed\" : 7.27, \"secondsfromstart\" : 314 } }, { \"geometry\" : { \"type\" : \"Point\", \"coordinates\" : [ -3.69283509972222, 40.4106409997222 ] }, \"type\" : \"Feature\", \"properties\" : { \"var\" : \"28014,ES,Madrid,Madrid,PASEO PRADO 38,Madrid\", \"speed\" : 7.5, \"secondsfromstart\" : 254 } }, { \"geometry\" : { \"type\" : \"Point\", \"coordinates\" : [ -3.6943575, 40.4149359997222 ] }, \"type\" : \"Feature\", \"properties\" : { \"var\" : \"28014,ES,Madrid,Madrid,PASEO PRADO,Madrid\", \"speed\" : 8, \"secondsfromstart\" : 194 } }, { \"geometry\" : { \"type\" : \"Point\", \"coordinates\" : [ -3.69392699972222, 40.4191884997222 ] }, \"type\" : \"Feature\", \"properties\" : { \"var\" : \"28014,ES,Madrid,Madrid,CALLE ALCALA 48,Madrid\", \"speed\" : 5.61, \"secondsfromstart\" : 135 } }, { \"geometry\" : { \"type\" : \"Point\", \"coordinates\" : [ -3.6965545, 40.4201945 ] }, \"type\" : \"Feature\", \"properties\" : { \"var\" : \"28004,ES,Madrid,Madrid,CALLE INFANTAS 31,Madrid\", \"speed\" : 7.52, \"secondsfromstart\" : 75 } } ] }, \"user_type\" : 1, \"idunplug_base\" : 24, \"travel_time\" : 334, \"idunplug_station\" : 19, \"ageRange\" : 0, \"idplug_station\" : 85, \"unplug_hourTime\" : { \"$date\" : \"2019-01-01T06:00:00.000+0100\" }, \"zip_code\" : \"\" }']"
            ]
          },
          "metadata": {
            "tags": []
          },
          "execution_count": 140
        }
      ]
    },
    {
      "cell_type": "code",
      "metadata": {
        "id": "lsgyxLYbpCJx",
        "colab_type": "code",
        "colab": {
          "base_uri": "https://localhost:8080/",
          "height": 35
        },
        "outputId": "de649990-c5c1-4cf2-e2a7-82e3acb5a0c5"
      },
      "source": [
        "#Separamos ahora por tipo de usuario y vemos cuantos hay de cada tipo en total en todo el mes\n",
        "rddDiurna_datos = rddDiurna.map(mapper)\n",
        "day_data = rddDiurna_datos.countByKey()\n",
        "day_data"
      ],
      "execution_count": 143,
      "outputs": [
        {
          "output_type": "execute_result",
          "data": {
            "text/plain": [
              "defaultdict(int, {0: 1646, 1: 233460, 2: 1793, 3: 18328})"
            ]
          },
          "metadata": {
            "tags": []
          },
          "execution_count": 143
        }
      ]
    },
    {
      "cell_type": "markdown",
      "metadata": {
        "id": "IJb9B0UlqVoB",
        "colab_type": "text"
      },
      "source": [
        "Para ver la diferencia entre los datos nocturnos y los diurnos, es necesario hacer una proporcion para ver como son estos datos"
      ]
    },
    {
      "cell_type": "code",
      "metadata": {
        "id": "HN6Jm3fiqrlO",
        "colab_type": "code",
        "colab": {
          "base_uri": "https://localhost:8080/",
          "height": 35
        },
        "outputId": "2c04ec3a-e05a-46ba-ecc0-a61c4e68970c"
      },
      "source": [
        "#Proporcion datos nocturnos\n",
        "132/13843"
      ],
      "execution_count": 144,
      "outputs": [
        {
          "output_type": "execute_result",
          "data": {
            "text/plain": [
              "0.00953550530954273"
            ]
          },
          "metadata": {
            "tags": []
          },
          "execution_count": 144
        }
      ]
    },
    {
      "cell_type": "code",
      "metadata": {
        "id": "aQ6gNFlNqfOJ",
        "colab_type": "code",
        "colab": {
          "base_uri": "https://localhost:8080/",
          "height": 35
        },
        "outputId": "1be0318e-3c17-46ee-b102-bafbca9d836a"
      },
      "source": [
        "#Proporcion datos diurnos\n",
        "1793/233460"
      ],
      "execution_count": 145,
      "outputs": [
        {
          "output_type": "execute_result",
          "data": {
            "text/plain": [
              "0.007680116508181273"
            ]
          },
          "metadata": {
            "tags": []
          },
          "execution_count": 145
        }
      ]
    },
    {
      "cell_type": "markdown",
      "metadata": {
        "id": "iy479xLdqyf4",
        "colab_type": "text"
      },
      "source": [
        "Las proporciones son muy parecidas por lo que podriamos considerar que no afecta el tipo de usuarios dependiendo de las horas"
      ]
    }
  ]
}