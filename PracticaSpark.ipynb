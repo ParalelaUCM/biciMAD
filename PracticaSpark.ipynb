{
  "nbformat": 4,
  "nbformat_minor": 0,
  "metadata": {
    "colab": {
      "name": "PracticaSpark.ipynb",
      "provenance": [],
      "include_colab_link": true
    },
    "kernelspec": {
      "name": "python3",
      "display_name": "Python 3"
    }
  },
  "cells": [
    {
      "cell_type": "markdown",
      "metadata": {
        "id": "view-in-github",
        "colab_type": "text"
      },
      "source": [
        "<a href=\"https://colab.research.google.com/github/ParalelaUCM/biciMAD/blob/master/PracticaSpark.ipynb\" target=\"_parent\"><img src=\"https://colab.research.google.com/assets/colab-badge.svg\" alt=\"Open In Colab\"/></a>"
      ]
    },
    {
      "cell_type": "markdown",
      "metadata": {
        "id": "o6JLekeSkduf",
        "colab_type": "text"
      },
      "source": [
        "# **Setup**\n",
        "\n",
        "Instalamos y configuramos las herramientas necesarias para empezar a trabajar"
      ]
    },
    {
      "cell_type": "code",
      "metadata": {
        "id": "1dvQgdvjkcPT",
        "colab_type": "code",
        "outputId": "0a7c4378-187b-4818-b676-3c5f212d4a7d",
        "colab": {
          "base_uri": "https://localhost:8080/",
          "height": 1000
        }
      },
      "source": [
        "!apt-get install openjdk-8-jdk\n",
        "!apt install unzip\n",
        "import os\n",
        "os.environ[\"JAVA_HOME\"] = \"/usr/lib/jvm/java-8-openjdk-amd64\"\n",
        "!pip install pyspark"
      ],
      "execution_count": 1,
      "outputs": [
        {
          "output_type": "stream",
          "text": [
            "Reading package lists... Done\n",
            "Building dependency tree       \n",
            "Reading state information... Done\n",
            "The following additional packages will be installed:\n",
            "  fonts-dejavu-core fonts-dejavu-extra libatk-wrapper-java\n",
            "  libatk-wrapper-java-jni libxxf86dga1 openjdk-8-jdk-headless openjdk-8-jre\n",
            "  openjdk-8-jre-headless x11-utils\n",
            "Suggested packages:\n",
            "  openjdk-8-demo openjdk-8-source visualvm icedtea-8-plugin libnss-mdns\n",
            "  fonts-ipafont-gothic fonts-ipafont-mincho fonts-wqy-microhei\n",
            "  fonts-wqy-zenhei fonts-indic mesa-utils\n",
            "The following NEW packages will be installed:\n",
            "  fonts-dejavu-core fonts-dejavu-extra libatk-wrapper-java\n",
            "  libatk-wrapper-java-jni libxxf86dga1 openjdk-8-jdk openjdk-8-jdk-headless\n",
            "  openjdk-8-jre openjdk-8-jre-headless x11-utils\n",
            "0 upgraded, 10 newly installed, 0 to remove and 31 not upgraded.\n",
            "Need to get 40.7 MB of archives.\n",
            "After this operation, 153 MB of additional disk space will be used.\n",
            "Get:1 http://archive.ubuntu.com/ubuntu bionic/main amd64 libxxf86dga1 amd64 2:1.1.4-1 [13.7 kB]\n",
            "Get:2 http://archive.ubuntu.com/ubuntu bionic/main amd64 fonts-dejavu-core all 2.37-1 [1,041 kB]\n",
            "Get:3 http://archive.ubuntu.com/ubuntu bionic/main amd64 fonts-dejavu-extra all 2.37-1 [1,953 kB]\n",
            "Get:4 http://archive.ubuntu.com/ubuntu bionic/main amd64 x11-utils amd64 7.7+3build1 [196 kB]\n",
            "Get:5 http://archive.ubuntu.com/ubuntu bionic/main amd64 libatk-wrapper-java all 0.33.3-20ubuntu0.1 [34.7 kB]\n",
            "Get:6 http://archive.ubuntu.com/ubuntu bionic/main amd64 libatk-wrapper-java-jni amd64 0.33.3-20ubuntu0.1 [28.3 kB]\n",
            "Get:7 http://archive.ubuntu.com/ubuntu bionic-updates/universe amd64 openjdk-8-jre-headless amd64 8u252-b09-1~18.04 [27.5 MB]\n",
            "Get:8 http://archive.ubuntu.com/ubuntu bionic-updates/universe amd64 openjdk-8-jre amd64 8u252-b09-1~18.04 [69.8 kB]\n",
            "Get:9 http://archive.ubuntu.com/ubuntu bionic-updates/universe amd64 openjdk-8-jdk-headless amd64 8u252-b09-1~18.04 [8,250 kB]\n",
            "Get:10 http://archive.ubuntu.com/ubuntu bionic-updates/universe amd64 openjdk-8-jdk amd64 8u252-b09-1~18.04 [1,622 kB]\n",
            "Fetched 40.7 MB in 2s (19.7 MB/s)\n",
            "Selecting previously unselected package libxxf86dga1:amd64.\n",
            "(Reading database ... 144433 files and directories currently installed.)\n",
            "Preparing to unpack .../0-libxxf86dga1_2%3a1.1.4-1_amd64.deb ...\n",
            "Unpacking libxxf86dga1:amd64 (2:1.1.4-1) ...\n",
            "Selecting previously unselected package fonts-dejavu-core.\n",
            "Preparing to unpack .../1-fonts-dejavu-core_2.37-1_all.deb ...\n",
            "Unpacking fonts-dejavu-core (2.37-1) ...\n",
            "Selecting previously unselected package fonts-dejavu-extra.\n",
            "Preparing to unpack .../2-fonts-dejavu-extra_2.37-1_all.deb ...\n",
            "Unpacking fonts-dejavu-extra (2.37-1) ...\n",
            "Selecting previously unselected package x11-utils.\n",
            "Preparing to unpack .../3-x11-utils_7.7+3build1_amd64.deb ...\n",
            "Unpacking x11-utils (7.7+3build1) ...\n",
            "Selecting previously unselected package libatk-wrapper-java.\n",
            "Preparing to unpack .../4-libatk-wrapper-java_0.33.3-20ubuntu0.1_all.deb ...\n",
            "Unpacking libatk-wrapper-java (0.33.3-20ubuntu0.1) ...\n",
            "Selecting previously unselected package libatk-wrapper-java-jni:amd64.\n",
            "Preparing to unpack .../5-libatk-wrapper-java-jni_0.33.3-20ubuntu0.1_amd64.deb ...\n",
            "Unpacking libatk-wrapper-java-jni:amd64 (0.33.3-20ubuntu0.1) ...\n",
            "Selecting previously unselected package openjdk-8-jre-headless:amd64.\n",
            "Preparing to unpack .../6-openjdk-8-jre-headless_8u252-b09-1~18.04_amd64.deb ...\n",
            "Unpacking openjdk-8-jre-headless:amd64 (8u252-b09-1~18.04) ...\n",
            "Selecting previously unselected package openjdk-8-jre:amd64.\n",
            "Preparing to unpack .../7-openjdk-8-jre_8u252-b09-1~18.04_amd64.deb ...\n",
            "Unpacking openjdk-8-jre:amd64 (8u252-b09-1~18.04) ...\n",
            "Selecting previously unselected package openjdk-8-jdk-headless:amd64.\n",
            "Preparing to unpack .../8-openjdk-8-jdk-headless_8u252-b09-1~18.04_amd64.deb ...\n",
            "Unpacking openjdk-8-jdk-headless:amd64 (8u252-b09-1~18.04) ...\n",
            "Selecting previously unselected package openjdk-8-jdk:amd64.\n",
            "Preparing to unpack .../9-openjdk-8-jdk_8u252-b09-1~18.04_amd64.deb ...\n",
            "Unpacking openjdk-8-jdk:amd64 (8u252-b09-1~18.04) ...\n",
            "Setting up fonts-dejavu-core (2.37-1) ...\n",
            "Setting up libxxf86dga1:amd64 (2:1.1.4-1) ...\n",
            "Setting up fonts-dejavu-extra (2.37-1) ...\n",
            "Setting up openjdk-8-jre-headless:amd64 (8u252-b09-1~18.04) ...\n",
            "update-alternatives: using /usr/lib/jvm/java-8-openjdk-amd64/jre/bin/orbd to provide /usr/bin/orbd (orbd) in auto mode\n",
            "update-alternatives: using /usr/lib/jvm/java-8-openjdk-amd64/jre/bin/servertool to provide /usr/bin/servertool (servertool) in auto mode\n",
            "update-alternatives: using /usr/lib/jvm/java-8-openjdk-amd64/jre/bin/tnameserv to provide /usr/bin/tnameserv (tnameserv) in auto mode\n",
            "Setting up openjdk-8-jdk-headless:amd64 (8u252-b09-1~18.04) ...\n",
            "update-alternatives: using /usr/lib/jvm/java-8-openjdk-amd64/bin/idlj to provide /usr/bin/idlj (idlj) in auto mode\n",
            "update-alternatives: using /usr/lib/jvm/java-8-openjdk-amd64/bin/wsimport to provide /usr/bin/wsimport (wsimport) in auto mode\n",
            "update-alternatives: using /usr/lib/jvm/java-8-openjdk-amd64/bin/jsadebugd to provide /usr/bin/jsadebugd (jsadebugd) in auto mode\n",
            "update-alternatives: using /usr/lib/jvm/java-8-openjdk-amd64/bin/native2ascii to provide /usr/bin/native2ascii (native2ascii) in auto mode\n",
            "update-alternatives: using /usr/lib/jvm/java-8-openjdk-amd64/bin/javah to provide /usr/bin/javah (javah) in auto mode\n",
            "update-alternatives: using /usr/lib/jvm/java-8-openjdk-amd64/bin/clhsdb to provide /usr/bin/clhsdb (clhsdb) in auto mode\n",
            "update-alternatives: using /usr/lib/jvm/java-8-openjdk-amd64/bin/extcheck to provide /usr/bin/extcheck (extcheck) in auto mode\n",
            "update-alternatives: using /usr/lib/jvm/java-8-openjdk-amd64/bin/hsdb to provide /usr/bin/hsdb (hsdb) in auto mode\n",
            "update-alternatives: using /usr/lib/jvm/java-8-openjdk-amd64/bin/schemagen to provide /usr/bin/schemagen (schemagen) in auto mode\n",
            "update-alternatives: using /usr/lib/jvm/java-8-openjdk-amd64/bin/xjc to provide /usr/bin/xjc (xjc) in auto mode\n",
            "update-alternatives: using /usr/lib/jvm/java-8-openjdk-amd64/bin/jhat to provide /usr/bin/jhat (jhat) in auto mode\n",
            "update-alternatives: using /usr/lib/jvm/java-8-openjdk-amd64/bin/wsgen to provide /usr/bin/wsgen (wsgen) in auto mode\n",
            "Setting up x11-utils (7.7+3build1) ...\n",
            "Setting up libatk-wrapper-java (0.33.3-20ubuntu0.1) ...\n",
            "Setting up libatk-wrapper-java-jni:amd64 (0.33.3-20ubuntu0.1) ...\n",
            "Setting up openjdk-8-jre:amd64 (8u252-b09-1~18.04) ...\n",
            "update-alternatives: using /usr/lib/jvm/java-8-openjdk-amd64/jre/bin/policytool to provide /usr/bin/policytool (policytool) in auto mode\n",
            "Setting up openjdk-8-jdk:amd64 (8u252-b09-1~18.04) ...\n",
            "update-alternatives: using /usr/lib/jvm/java-8-openjdk-amd64/bin/appletviewer to provide /usr/bin/appletviewer (appletviewer) in auto mode\n",
            "update-alternatives: using /usr/lib/jvm/java-8-openjdk-amd64/bin/jconsole to provide /usr/bin/jconsole (jconsole) in auto mode\n",
            "Processing triggers for man-db (2.8.3-2ubuntu0.1) ...\n",
            "Processing triggers for hicolor-icon-theme (0.17-2) ...\n",
            "Processing triggers for fontconfig (2.12.6-0ubuntu2) ...\n",
            "Processing triggers for mime-support (3.60ubuntu1) ...\n",
            "Processing triggers for libc-bin (2.27-3ubuntu1) ...\n",
            "/sbin/ldconfig.real: /usr/local/lib/python3.6/dist-packages/ideep4py/lib/libmkldnn.so.0 is not a symbolic link\n",
            "\n",
            "Reading package lists... Done\n",
            "Building dependency tree       \n",
            "Reading state information... Done\n",
            "unzip is already the newest version (6.0-21ubuntu1).\n",
            "0 upgraded, 0 newly installed, 0 to remove and 31 not upgraded.\n",
            "Collecting pyspark\n",
            "\u001b[?25l  Downloading https://files.pythonhosted.org/packages/9a/5a/271c416c1c2185b6cb0151b29a91fff6fcaed80173c8584ff6d20e46b465/pyspark-2.4.5.tar.gz (217.8MB)\n",
            "\u001b[K     |████████████████████████████████| 217.8MB 62kB/s \n",
            "\u001b[?25hCollecting py4j==0.10.7\n",
            "\u001b[?25l  Downloading https://files.pythonhosted.org/packages/e3/53/c737818eb9a7dc32a7cd4f1396e787bd94200c3997c72c1dbe028587bd76/py4j-0.10.7-py2.py3-none-any.whl (197kB)\n",
            "\u001b[K     |████████████████████████████████| 204kB 39.3MB/s \n",
            "\u001b[?25hBuilding wheels for collected packages: pyspark\n",
            "  Building wheel for pyspark (setup.py) ... \u001b[?25l\u001b[?25hdone\n",
            "  Created wheel for pyspark: filename=pyspark-2.4.5-py2.py3-none-any.whl size=218257927 sha256=77bfe4cb1abcc5490c831b63cc804671d0859c5459f1d8843492009d5588625f\n",
            "  Stored in directory: /root/.cache/pip/wheels/bf/db/04/61d66a5939364e756eb1c1be4ec5bdce6e04047fc7929a3c3c\n",
            "Successfully built pyspark\n",
            "Installing collected packages: py4j, pyspark\n",
            "Successfully installed py4j-0.10.7 pyspark-2.4.5\n"
          ],
          "name": "stdout"
        }
      ]
    },
    {
      "cell_type": "code",
      "metadata": {
        "id": "7izn4SSoktQB",
        "colab_type": "code",
        "outputId": "66b6c5fc-98dc-469b-aad6-015535800275",
        "colab": {
          "base_uri": "https://localhost:8080/",
          "height": 104
        }
      },
      "source": [
        "!apt install unzip"
      ],
      "execution_count": 2,
      "outputs": [
        {
          "output_type": "stream",
          "text": [
            "\rReading package lists... 0%\r\rReading package lists... 0%\r\rReading package lists... 0%\r\rReading package lists... 6%\r\rReading package lists... 6%\r\rReading package lists... 7%\r\rReading package lists... 7%\r\rReading package lists... 63%\r\rReading package lists... 63%\r\rReading package lists... 64%\r\rReading package lists... 64%\r\rReading package lists... 65%\r\rReading package lists... 71%\r\rReading package lists... 71%\r\rReading package lists... 72%\r\rReading package lists... 72%\r\rReading package lists... 81%\r\rReading package lists... 81%\r\rReading package lists... 81%\r\rReading package lists... 81%\r\rReading package lists... 81%\r\rReading package lists... 81%\r\rReading package lists... 81%\r\rReading package lists... 81%\r\rReading package lists... 87%\r\rReading package lists... 87%\r\rReading package lists... 87%\r\rReading package lists... 87%\r\rReading package lists... 93%\r\rReading package lists... 93%\r\rReading package lists... 93%\r\rReading package lists... 93%\r\rReading package lists... 93%\r\rReading package lists... 93%\r\rReading package lists... 94%\r\rReading package lists... 94%\r\rReading package lists... 95%\r\rReading package lists... 95%\r\rReading package lists... 98%\r\rReading package lists... 98%\r\rReading package lists... 98%\r\rReading package lists... 98%\r\rReading package lists... Done\r\n",
            "\rBuilding dependency tree... 0%\r\rBuilding dependency tree... 0%\r\rBuilding dependency tree... 50%\r\rBuilding dependency tree... 50%\r\rBuilding dependency tree       \r\n",
            "\rReading state information... 0%\r\rReading state information... 0%\r\rReading state information... Done\r\n",
            "unzip is already the newest version (6.0-21ubuntu1).\n",
            "0 upgraded, 0 newly installed, 0 to remove and 31 not upgraded.\n"
          ],
          "name": "stdout"
        }
      ]
    },
    {
      "cell_type": "markdown",
      "metadata": {
        "id": "9xB2HI4RlCAv",
        "colab_type": "text"
      },
      "source": [
        "# **Descargamos los datasets de bicimad**\n",
        "Descargaremos cada dataset de la web oficial) de biciMAD. Los renombraremos a '.zip' para poder descomprimirlos y una vez descomprimidos los movemos a la carpeta 'datasets'. Por último eliminamos los ficheros comprimidos."
      ]
    },
    {
      "cell_type": "code",
      "metadata": {
        "id": "zynUfS6zlO2x",
        "colab_type": "code",
        "colab": {}
      },
      "source": [
        "#Carpeta para el dataset\n",
        "!mkdir dataset"
      ],
      "execution_count": 0,
      "outputs": []
    },
    {
      "cell_type": "code",
      "metadata": {
        "id": "OsU-TGDTlc20",
        "colab_type": "code",
        "outputId": "8af90e5f-fd34-47e7-ba7d-10860828de21",
        "colab": {
          "base_uri": "https://localhost:8080/",
          "height": 243
        }
      },
      "source": [
        "#Enero de 2019\n",
        "!wget -N \"https://opendata.emtmadrid.es/getattachment/2ebcc70a-4914-43c6-9ada-a0f0520032a4/201901_Usage_Bicimad.aspx\"\n",
        "!mv 201901_Usage_Bicimad.aspx 201901_Usage_Bicimad.zip\n",
        "!unzip 201901_Usage_Bicimad.zip\n",
        "!mv 201901_Usage_Bicimad.json dataset\n",
        "!rm 201901_Usage_Bicimad.zip"
      ],
      "execution_count": 4,
      "outputs": [
        {
          "output_type": "stream",
          "text": [
            "--2020-05-25 17:25:43--  https://opendata.emtmadrid.es/getattachment/2ebcc70a-4914-43c6-9ada-a0f0520032a4/201901_Usage_Bicimad.aspx\n",
            "Resolving opendata.emtmadrid.es (opendata.emtmadrid.es)... 185.79.130.130\n",
            "Connecting to opendata.emtmadrid.es (opendata.emtmadrid.es)|185.79.130.130|:443... connected.\n",
            "HTTP request sent, awaiting response... 200 OK\n",
            "Length: 78311972 (75M) [application/zip]\n",
            "Saving to: ‘201901_Usage_Bicimad.aspx’\n",
            "\n",
            "201901_Usage_Bicima 100%[===================>]  74.68M  1.76MB/s    in 46s     \n",
            "\n",
            "2020-05-25 17:26:30 (1.63 MB/s) - ‘201901_Usage_Bicimad.aspx’ saved [78311972/78311972]\n",
            "\n",
            "Archive:  201901_Usage_Bicimad.zip\n",
            "  inflating: 201901_Usage_Bicimad.json  \n"
          ],
          "name": "stdout"
        }
      ]
    },
    {
      "cell_type": "code",
      "metadata": {
        "id": "0VdEV7PJ5gjH",
        "colab_type": "code",
        "outputId": "db0c5b0e-0c97-4478-9879-4964909e05d9",
        "colab": {
          "base_uri": "https://localhost:8080/",
          "height": 55
        }
      },
      "source": [
        "'''\n",
        "#Febrero de 2019\n",
        "!wget -N \"https://opendata.emtmadrid.es/getattachment/aa8c34d2-ddba-46d9-b6db-882c0b4a12f0/201902_Usage_Bicimad.aspx\"\n",
        "!mv 201902_Usage_Bicimad.aspx 201902_Usage_Bicimad.zip \n",
        "!unzip 201902_Usage_Bicimad.zip\n",
        "!mv 201902_Usage_Bicimad.json dataset\n",
        "!rm 201902_Usage_Bicimad.zip\n",
        "'''"
      ],
      "execution_count": 0,
      "outputs": [
        {
          "output_type": "execute_result",
          "data": {
            "text/plain": [
              "'\\n#Febrero de 2019\\n!wget -N \"https://opendata.emtmadrid.es/getattachment/aa8c34d2-ddba-46d9-b6db-882c0b4a12f0/201902_Usage_Bicimad.aspx\"\\n!mv 201902_Usage_Bicimad.aspx 201902_Usage_Bicimad.zip \\n!unzip 201902_Usage_Bicimad.zip\\n!mv 201902_Usage_Bicimad.json dataset\\n!rm 201902_Usage_Bicimad.zip\\n'"
            ]
          },
          "metadata": {
            "tags": []
          },
          "execution_count": 143
        }
      ]
    },
    {
      "cell_type": "code",
      "metadata": {
        "id": "WhWzg0HZ5hKJ",
        "colab_type": "code",
        "outputId": "0fca9b5d-2c37-40d9-8d61-9c44b6a730b4",
        "colab": {
          "base_uri": "https://localhost:8080/",
          "height": 55
        }
      },
      "source": [
        "\n",
        "'''\n",
        "#Junio de 2019\n",
        "!wget -N \"https://opendata.emtmadrid.es/getattachment/7517a650-ccdf-4ab1-b1b0-a1d13694472e/201906_Usage_Bicimad.aspx\"\n",
        "!mv 201906_Usage_Bicimad.aspx 201906_Usage_Bicimad.zip\n",
        "!unzip 201906_Usage_Bicimad.zip\n",
        "!mv 201906_Usage_Bicimad.json dataset\n",
        "!rm 201906_Usage_Bicimad.zip\n",
        "'''"
      ],
      "execution_count": 0,
      "outputs": [
        {
          "output_type": "execute_result",
          "data": {
            "text/plain": [
              "'\\n#Junio de 2019\\n!wget -N \"https://opendata.emtmadrid.es/getattachment/7517a650-ccdf-4ab1-b1b0-a1d13694472e/201906_Usage_Bicimad.aspx\"\\n!mv 201906_Usage_Bicimad.aspx 201906_Usage_Bicimad.zip\\n!unzip 201906_Usage_Bicimad.zip\\n!mv 201906_Usage_Bicimad.json dataset\\n!rm 201906_Usage_Bicimad.zip\\n'"
            ]
          },
          "metadata": {
            "tags": []
          },
          "execution_count": 144
        }
      ]
    },
    {
      "cell_type": "markdown",
      "metadata": {
        "id": "-C02tMVwlhC8",
        "colab_type": "text"
      },
      "source": [
        "# **Ahora ya podemos empezar**"
      ]
    },
    {
      "cell_type": "code",
      "metadata": {
        "id": "FqR2bB3jE7mE",
        "colab_type": "code",
        "colab": {}
      },
      "source": [
        "sc.stop() # Esto lo he puesto aquí antes, porque he ido a ejecutar y me decia que ya habia uno, blablabla, pero que en teoría se puede quitar, vaya."
      ],
      "execution_count": 0,
      "outputs": []
    },
    {
      "cell_type": "code",
      "metadata": {
        "id": "cN-qoC2JlmpG",
        "colab_type": "code",
        "colab": {}
      },
      "source": [
        "#Aquí ya podemos empezar a trabajar\n",
        "import json\n",
        "from pyspark import SparkContext\n",
        "sc = SparkContext()"
      ],
      "execution_count": 0,
      "outputs": []
    },
    {
      "cell_type": "code",
      "metadata": {
        "id": "JifNMwNfrK2V",
        "colab_type": "code",
        "colab": {}
      },
      "source": [
        "#Para usar dataFrames que puede ser interesante (No he usado nada de esto abajo)\n",
        "from pyspark.sql import SparkSession\n",
        "spark = SparkSession.builder.getOrCreate()\n",
        "df = spark.read.json(\"/content/dataset/201901_Usage_Bicimad.json\")\n",
        "df.show()"
      ],
      "execution_count": 0,
      "outputs": []
    },
    {
      "cell_type": "code",
      "metadata": {
        "id": "wNJKAqyPlrNo",
        "colab_type": "code",
        "colab": {}
      },
      "source": [
        "rdd_raw  = sc.textFile('/content/dataset/201901_Usage_Bicimad.json')"
      ],
      "execution_count": 0,
      "outputs": []
    },
    {
      "cell_type": "code",
      "metadata": {
        "id": "le2neQcwl58-",
        "colab_type": "code",
        "outputId": "e3fcdde0-8c4c-43cd-95dd-2b4e3a86ade5",
        "colab": {
          "base_uri": "https://localhost:8080/",
          "height": 55
        }
      },
      "source": [
        "rdd_raw.take(1)"
      ],
      "execution_count": 8,
      "outputs": [
        {
          "output_type": "execute_result",
          "data": {
            "text/plain": [
              "['{ \"_id\" : { \"$oid\" : \"5c4b07ea2f38432e007daab8\" }, \"user_day_code\" : \"b3b5b61509ab89afbf4d1e589d229bebe6637c2de819f5d612762c939b8d7f1f\", \"idplug_base\" : 14, \"track\" : { \"type\" : \"FeatureCollection\", \"features\" : [ { \"geometry\" : { \"type\" : \"Point\", \"coordinates\" : [ -3.6803143, 40.4048615 ] }, \"type\" : \"Feature\", \"properties\" : { \"var\" : \"28007,ES,Madrid,Madrid,AVDA MENENDEZ PELAYO 117,Madrid\", \"speed\" : 1.77, \"secondsfromstart\" : 153 } }, { \"geometry\" : { \"type\" : \"Point\", \"coordinates\" : [ -3.67770349972222, 40.4029987997222 ] }, \"type\" : \"Feature\", \"properties\" : { \"var\" : \"28007,ES,Madrid,Madrid,AVDA CIUDAD DE BARCELONA 51,Madrid\", \"speed\" : 6.58, \"secondsfromstart\" : 93 } }, { \"geometry\" : { \"type\" : \"Point\", \"coordinates\" : [ -3.67432209972222, 40.4009430997222 ] }, \"type\" : \"Feature\", \"properties\" : { \"var\" : \"28007,ES,Madrid,Madrid,AVDA CIUDAD DE BARCELONA 81,Madrid\", \"speed\" : 4.72, \"secondsfromstart\" : 32 } } ] }, \"user_type\" : 1, \"idunplug_base\" : 23, \"travel_time\" : 162, \"idunplug_station\" : 82, \"ageRange\" : 0, \"idplug_station\" : 83, \"unplug_hourTime\" : { \"$date\" : \"2019-01-01T00:00:00.000+0100\" }, \"zip_code\" : \"\" }']"
            ]
          },
          "metadata": {
            "tags": []
          },
          "execution_count": 8
        }
      ]
    },
    {
      "cell_type": "markdown",
      "metadata": {
        "id": "KosiIgA650BR",
        "colab_type": "text"
      },
      "source": [
        "### **Analisis y comparativas entre datos nocturnos y diurnos**"
      ]
    },
    {
      "cell_type": "code",
      "metadata": {
        "id": "g1IsfEyAnMkq",
        "colab_type": "code",
        "colab": {}
      },
      "source": [
        "def mapper(line):\n",
        "  data = json.loads(line)\n",
        "  user = data['user_type']\n",
        "  user_day = data['user_day_code']\n",
        "  start = data['idunplug_station']\n",
        "  end = data['idplug_station']\n",
        "  date = data['unplug_hourTime']['$date'][0:10]\n",
        "  hora = data['unplug_hourTime']['$date'][11:19]\n",
        "  time = data['travel_time']\n",
        "  return user, user_day, start, end , time, date, hora "
      ],
      "execution_count": 0,
      "outputs": []
    },
    {
      "cell_type": "code",
      "metadata": {
        "id": "rq8O6lpjmNht",
        "colab_type": "code",
        "colab": {}
      },
      "source": [
        "def horasNocturnas(line):\n",
        "  data = json.loads(line)\n",
        "  hora_minima = 3600 #Esto seria pasar las 01:00:00 horas a segundos‬\n",
        "  hora_maxima = 18000 #Esto seria pasar las 05:00:00 horas a segundos‬\n",
        "  hora = data['unplug_hourTime']['$date'][11:19]\n",
        "  hora_actual = int(hora[0:2]) * 3600 + int(hora[3:5]) * 60 + int(hora[6:8])\n",
        "  #En teoria con multipicar solo las horas ya valdria porque no hay ni minutos ni segundos\n",
        "  return hora_minima <= hora_actual <= hora_maxima\n",
        "rddNocturna = rdd_raw.filter(lambda x: horasNocturnas(x))"
      ],
      "execution_count": 0,
      "outputs": []
    },
    {
      "cell_type": "code",
      "metadata": {
        "id": "hsZPcvOumRhZ",
        "colab_type": "code",
        "colab": {}
      },
      "source": [
        "rddNocturna.take(1)"
      ],
      "execution_count": 0,
      "outputs": []
    },
    {
      "cell_type": "code",
      "metadata": {
        "id": "LUr-oo96mVlY",
        "colab_type": "code",
        "outputId": "1d8a990c-1971-4493-e1c6-9462db619be8",
        "colab": {
          "base_uri": "https://localhost:8080/",
          "height": 35
        }
      },
      "source": [
        "#Separamos ahora por tipo de usuario y vemos cuantos hay de cada tipo en total en todo el mes(para caso nocturno)\n",
        "rddNocturna_datos = rddNocturna.map(mapper)\n",
        "night_data = rddNocturna_datos.countByKey()\n",
        "night_data"
      ],
      "execution_count": 12,
      "outputs": [
        {
          "output_type": "execute_result",
          "data": {
            "text/plain": [
              "defaultdict(int, {0: 157, 1: 13843, 2: 132, 3: 2432})"
            ]
          },
          "metadata": {
            "tags": []
          },
          "execution_count": 12
        }
      ]
    },
    {
      "cell_type": "code",
      "metadata": {
        "id": "elTfuGWJpLA2",
        "colab_type": "code",
        "outputId": "663f7a7d-3048-4437-8c41-e52f54e3f80f",
        "colab": {
          "base_uri": "https://localhost:8080/",
          "height": 303
        }
      },
      "source": [
        "import matplotlib.pyplot as plt\n",
        "plt.title('Datos por tipo de usuario nocturnos')\n",
        "names = list(night_data.keys()) \n",
        "values = list(night_data.values())\n",
        "plt.bar(names, values, 1)\n",
        "plt.xlabel('Tipo de usuarios', fontsize=18)\n",
        "plt.ylabel('Cantidad de usuarios', fontsize=16)\n",
        "names.sort()\n",
        "plt.xticks(names, [\"0\",\"1\",\"2\",\"3\"])\n",
        "plt.show()"
      ],
      "execution_count": 21,
      "outputs": [
        {
          "output_type": "display_data",
          "data": {
            "image/png": "[encoded data removed]",
            "text/plain": [
              "<Figure size 432x288 with 1 Axes>"
            ]
          },
          "metadata": {
            "tags": [],
            "needs_background": "light"
          }
        }
      ]
    },
    {
      "cell_type": "markdown",
      "metadata": {
        "id": "ifDFmsLAoQ-m",
        "colab_type": "text"
      },
      "source": [
        "Podemos observar como la mayoría de usuarios que han usado bicimad por la noche son usuarios del tipo 1, que son los usuarios anuales mientras que hay muy pocos usuarios ocasionales. Veamos una comparación con los datos diurnos."
      ]
    },
    {
      "cell_type": "code",
      "metadata": {
        "id": "CiDPrAkonlY9",
        "colab_type": "code",
        "colab": {}
      },
      "source": [
        "def horasDiurnas(line):\n",
        "  data = json.loads(line)\n",
        "  hora_minima = 18000 #Esto seria pasar las 05:00:00 horas a segundos‬\n",
        "  hora = data['unplug_hourTime']['$date'][11:19]\n",
        "  hora_actual = int(hora[0:2]) * 3600 + int(hora[3:5]) * 60 + int(hora[6:8])\n",
        "  #En teoria con multipicar solo las horas ya valdria porque no hay ni minutos ni segundos\n",
        "  return hora_minima < hora_actual\n",
        "rddDiurna = rdd_raw.filter(lambda x: horasDiurnas(x))"
      ],
      "execution_count": 0,
      "outputs": []
    },
    {
      "cell_type": "code",
      "metadata": {
        "id": "SZPKRLMbpf3X",
        "colab_type": "code",
        "outputId": "33841fbd-003c-498c-e4ae-163cf1c4ceb6",
        "colab": {
          "base_uri": "https://localhost:8080/",
          "height": 55
        }
      },
      "source": [
        "rddDiurna.take(1)"
      ],
      "execution_count": 17,
      "outputs": [
        {
          "output_type": "execute_result",
          "data": {
            "text/plain": [
              "['{ \"_id\" : { \"$oid\" : \"5c4b07ef2f38432e007dae95\" }, \"user_day_code\" : \"963823d9e2087febb35ccffa49f4311dc679dede68cc5aafe7a385f24009575d\", \"idplug_base\" : 5, \"track\" : { \"type\" : \"FeatureCollection\", \"features\" : [ { \"geometry\" : { \"type\" : \"Point\", \"coordinates\" : [ -3.6910045, 40.4080585997222 ] }, \"type\" : \"Feature\", \"properties\" : { \"var\" : \"28007,ES,Madrid,Madrid,AVDA CIUDAD DE BARCELONA 2D,Madrid\", \"speed\" : 7.27, \"secondsfromstart\" : 314 } }, { \"geometry\" : { \"type\" : \"Point\", \"coordinates\" : [ -3.69283509972222, 40.4106409997222 ] }, \"type\" : \"Feature\", \"properties\" : { \"var\" : \"28014,ES,Madrid,Madrid,PASEO PRADO 38,Madrid\", \"speed\" : 7.5, \"secondsfromstart\" : 254 } }, { \"geometry\" : { \"type\" : \"Point\", \"coordinates\" : [ -3.6943575, 40.4149359997222 ] }, \"type\" : \"Feature\", \"properties\" : { \"var\" : \"28014,ES,Madrid,Madrid,PASEO PRADO,Madrid\", \"speed\" : 8, \"secondsfromstart\" : 194 } }, { \"geometry\" : { \"type\" : \"Point\", \"coordinates\" : [ -3.69392699972222, 40.4191884997222 ] }, \"type\" : \"Feature\", \"properties\" : { \"var\" : \"28014,ES,Madrid,Madrid,CALLE ALCALA 48,Madrid\", \"speed\" : 5.61, \"secondsfromstart\" : 135 } }, { \"geometry\" : { \"type\" : \"Point\", \"coordinates\" : [ -3.6965545, 40.4201945 ] }, \"type\" : \"Feature\", \"properties\" : { \"var\" : \"28004,ES,Madrid,Madrid,CALLE INFANTAS 31,Madrid\", \"speed\" : 7.52, \"secondsfromstart\" : 75 } } ] }, \"user_type\" : 1, \"idunplug_base\" : 24, \"travel_time\" : 334, \"idunplug_station\" : 19, \"ageRange\" : 0, \"idplug_station\" : 85, \"unplug_hourTime\" : { \"$date\" : \"2019-01-01T06:00:00.000+0100\" }, \"zip_code\" : \"\" }']"
            ]
          },
          "metadata": {
            "tags": []
          },
          "execution_count": 17
        }
      ]
    },
    {
      "cell_type": "code",
      "metadata": {
        "id": "lsgyxLYbpCJx",
        "colab_type": "code",
        "outputId": "49a90076-edf5-41ed-c023-b2160aaa6d0b",
        "colab": {
          "base_uri": "https://localhost:8080/",
          "height": 35
        }
      },
      "source": [
        "#Separamos ahora por tipo de usuario y vemos cuantos hay de cada tipo en total en todo el mes(para caso diurno)\n",
        "rddDiurna_datos = rddDiurna.map(mapper)\n",
        "day_data = rddDiurna_datos.countByKey()\n",
        "day_data"
      ],
      "execution_count": 19,
      "outputs": [
        {
          "output_type": "execute_result",
          "data": {
            "text/plain": [
              "defaultdict(int, {0: 1646, 1: 233460, 2: 1793, 3: 18328})"
            ]
          },
          "metadata": {
            "tags": []
          },
          "execution_count": 19
        }
      ]
    },
    {
      "cell_type": "code",
      "metadata": {
        "id": "R3-qnozJ7I6f",
        "colab_type": "code",
        "colab": {
          "base_uri": "https://localhost:8080/",
          "height": 303
        },
        "outputId": "2a126f5a-1054-4aef-ed02-e0b411c155e4"
      },
      "source": [
        "plt.title('Datos por tipo de usuario diurnos')\n",
        "names = list(day_data.keys()) \n",
        "values = list(day_data.values())\n",
        "plt.bar(names, values, 1)\n",
        "plt.xlabel('Tipo de usuarios', fontsize=18)\n",
        "plt.ylabel('Cantidad de usuarios', fontsize=16)\n",
        "names.sort()\n",
        "plt.xticks(names, [\"0\",\"1\",\"2\",\"3\"])\n",
        "plt.show()"
      ],
      "execution_count": 20,
      "outputs": [
        {
          "output_type": "display_data",
          "data": {
            "image/png": "[encoded data removed]",
            "text/plain": [
              "<Figure size 432x288 with 1 Axes>"
            ]
          },
          "metadata": {
            "tags": [],
            "needs_background": "light"
          }
        }
      ]
    },
    {
      "cell_type": "markdown",
      "metadata": {
        "id": "IJb9B0UlqVoB",
        "colab_type": "text"
      },
      "source": [
        "Los datos de los histogramas son muy parecidos por lo que para ver la diferencia entre los datos nocturnos y los diurnos, es necesario hacer una proporcion para ver como son estos datos"
      ]
    },
    {
      "cell_type": "code",
      "metadata": {
        "id": "HN6Jm3fiqrlO",
        "colab_type": "code",
        "outputId": "09ceb236-5b1f-4804-9e1f-f230ee4d9e59",
        "colab": {
          "base_uri": "https://localhost:8080/",
          "height": 35
        }
      },
      "source": [
        "#Proporcion datos nocturnos\n",
        "print(\"Proporción entre tipo 2 sobre tipo 1: \", 132/13843)"
      ],
      "execution_count": 22,
      "outputs": [
        {
          "output_type": "stream",
          "text": [
            "Proporción entre tipo 2 sobre tipo 1:  0.00953550530954273\n"
          ],
          "name": "stdout"
        }
      ]
    },
    {
      "cell_type": "code",
      "metadata": {
        "id": "aQ6gNFlNqfOJ",
        "colab_type": "code",
        "outputId": "e14543cc-fe3c-4602-fa6c-da244404af27",
        "colab": {
          "base_uri": "https://localhost:8080/",
          "height": 35
        }
      },
      "source": [
        "#Proporcion datos diurnos\n",
        "print(\"Proporción entre tipo 2 sobre tipo 1: \", 1793/233460)"
      ],
      "execution_count": 23,
      "outputs": [
        {
          "output_type": "stream",
          "text": [
            "Proporción entre tipo 2 sobre tipo 1:  0.007680116508181273\n"
          ],
          "name": "stdout"
        }
      ]
    },
    {
      "cell_type": "markdown",
      "metadata": {
        "id": "iy479xLdqyf4",
        "colab_type": "text"
      },
      "source": [
        "Las proporciones son muy parecidas por lo que podriamos considerar que no afecta en gran medida el tipo de usuarios dependiendo de las horas"
      ]
    },
    {
      "cell_type": "markdown",
      "metadata": {
        "id": "5HHl--Qv6IJR",
        "colab_type": "text"
      },
      "source": [
        "### **Analisis profundo de datos nocturnos**"
      ]
    },
    {
      "cell_type": "markdown",
      "metadata": {
        "id": "lkdxOGgnhFxw",
        "colab_type": "text"
      },
      "source": [
        "Veamos ahora, los fines de semana. Si nos vamos a enero de 2019, los fines de semana (viernes-domingo) fueron los días, 4,5,6,11,12,13,18,19,20,25,26,27.\n"
      ]
    },
    {
      "cell_type": "code",
      "metadata": {
        "id": "Qg6WMd5Thz2k",
        "colab_type": "code",
        "colab": {}
      },
      "source": [
        "def weekend(line):\n",
        "  #Como en realidad queremos las noches, 'la noche del vierne' sería el sabado ya, entonces, buscamos los\n",
        "  #días: 5,6,7,12,13,14,19,20,21,26,27,28.\n",
        "  data=json.loads(line)\n",
        "  days=['2019-01-05', '2019-01-06', '2019-01-07','2019-01-12','2019-01-13','2019-01-14', '2019-01-19', '2019-01-20','2019-01-21','2019-01-26', '2019-01-27', '2019-01-28']\n",
        "  dia_actual=data['unplug_hourTime']['$date'][0:10]\n",
        "  return dia_actual in days"
      ],
      "execution_count": 0,
      "outputs": []
    },
    {
      "cell_type": "code",
      "metadata": {
        "id": "mhw8JA0wki-7",
        "colab_type": "code",
        "outputId": "739e19cc-f201-4c29-ff8f-6b11295d5f07",
        "colab": {
          "base_uri": "https://localhost:8080/",
          "height": 35
        }
      },
      "source": [
        "rddWeekend=rddNocturna.filter(lambda x: weekend(x))\n",
        "rddWeekend_datos=rddWeekend.map(mapper)\n",
        "weekend_data=rddWeekend_datos.countByKey()\n",
        "weekend_data"
      ],
      "execution_count": 65,
      "outputs": [
        {
          "output_type": "execute_result",
          "data": {
            "text/plain": [
              "defaultdict(int, {0: 129, 1: 8225, 2: 83, 3: 913})"
            ]
          },
          "metadata": {
            "tags": []
          },
          "execution_count": 65
        }
      ]
    },
    {
      "cell_type": "code",
      "metadata": {
        "id": "MEFxYX_d3_SS",
        "colab_type": "code",
        "outputId": "7ee9f710-2c0c-4403-a8d3-3a7f3e65a988",
        "colab": {
          "base_uri": "https://localhost:8080/",
          "height": 134
        }
      },
      "source": [
        "fig=plt.figure()\n",
        "fig.subplots_adjust(bottom=0.025, left=0.05, top = 0.975, right=0.975)\n",
        "fig.add_subplot(1,4,1)\n",
        "plt.pie([night_data[0]-weekend_data[0], weekend_data[0]], labels=['L-J', 'V-D'],\n",
        "        autopct='%1.1f%%', shadow=True, startangle=90)\n",
        "plt.title('Indefinido')\n",
        "fig.add_subplot(1,4,2)\n",
        "plt.pie([night_data[1]-weekend_data[1], weekend_data[1]], labels=['L-J', 'V-D'],\n",
        "        autopct='%1.1f%%', shadow=True, startangle=90)\n",
        "plt.title('Anuales')\n",
        "fig.add_subplot(1,4,3)\n",
        "plt.pie([night_data[2]-weekend_data[2], weekend_data[2]], labels=['L-J', 'V-D'],\n",
        "        autopct='%1.1f%%', shadow=True, startangle=90)\n",
        "plt.title('Ocasionales')\n",
        "fig.add_subplot(1,4,4)\n",
        "plt.pie([night_data[3]-weekend_data[3], weekend_data[3]], labels=['L-J', 'V-D'],\n",
        "        autopct='%1.1f%%', shadow=True, startangle=90)\n",
        "plt.title('Trabajadores')\n",
        "#plt.legend(['entre semana', 'fin de semana'], loc=4)\n",
        "plt.show()"
      ],
      "execution_count": 0,
      "outputs": [
        {
          "output_type": "display_data",
          "data": {
            "image/png": "[encoded data removed]",
            "text/plain": [
              "<Figure size 432x288 with 4 Axes>"
            ]
          },
          "metadata": {
            "tags": []
          }
        }
      ]
    },
    {
      "cell_type": "markdown",
      "metadata": {
        "id": "ADqigq0d1LwJ",
        "colab_type": "text"
      },
      "source": [
        "Como vemos, más de la mitad de viajeros ordinarios nocturnos, utilizan BiciMad en el fin de semana, incluso más del 60% en los viajeros ocasionales. Sin embargo, de los trabajadores de la empresa, solo el 37% lo hace en fin de semana.\n"
      ]
    },
    {
      "cell_type": "markdown",
      "metadata": {
        "id": "FKK2lUlid6EW",
        "colab_type": "text"
      },
      "source": [
        "Veamos ahora, los movimientos por horas.\n"
      ]
    },
    {
      "cell_type": "code",
      "metadata": {
        "id": "H5mxPxhseSov",
        "colab_type": "code",
        "outputId": "749d3e4d-56de-46e4-dd67-279be6f02fb2",
        "colab": {
          "base_uri": "https://localhost:8080/",
          "height": 121
        }
      },
      "source": [
        "def movimientosPorHoras(line):\n",
        "  data= json.loads(line)\n",
        "  hora= data['unplug_hourTime']['$date'][11:19]\n",
        "  user=data['user_type']\n",
        "  return hora, user\n",
        "rddHoras=rddNocturna.map(movimientosPorHoras)\n",
        "time_data=rddHoras.countByKey()\n",
        "time_data"
      ],
      "execution_count": 66,
      "outputs": [
        {
          "output_type": "execute_result",
          "data": {
            "text/plain": [
              "defaultdict(int,\n",
              "            {'01:00:00': 5521,\n",
              "             '02:00:00': 4394,\n",
              "             '03:00:00': 2612,\n",
              "             '04:00:00': 2207,\n",
              "             '05:00:00': 1830})"
            ]
          },
          "metadata": {
            "tags": []
          },
          "execution_count": 66
        }
      ]
    },
    {
      "cell_type": "code",
      "metadata": {
        "id": "jvF6nnsHBuhi",
        "colab_type": "code",
        "outputId": "a154be82-add5-42bb-a777-609dffaee619",
        "colab": {
          "base_uri": "https://localhost:8080/",
          "height": 121
        }
      },
      "source": [
        "rddHorasWeekend=rddWeekend.map(movimientosPorHoras)\n",
        "weekend_time_data = rddHorasWeekend.countByKey()\n",
        "weekend_time_data"
      ],
      "execution_count": 67,
      "outputs": [
        {
          "output_type": "execute_result",
          "data": {
            "text/plain": [
              "defaultdict(int,\n",
              "            {'01:00:00': 2812,\n",
              "             '02:00:00': 2453,\n",
              "             '03:00:00': 1684,\n",
              "             '04:00:00': 1396,\n",
              "             '05:00:00': 1005})"
            ]
          },
          "metadata": {
            "tags": []
          },
          "execution_count": 67
        }
      ]
    },
    {
      "cell_type": "code",
      "metadata": {
        "id": "sz70AxnqAEkI",
        "colab_type": "code",
        "outputId": "239ac532-8c76-4e3e-8a4a-59847387b437",
        "colab": {
          "base_uri": "https://localhost:8080/",
          "height": 244
        }
      },
      "source": [
        "fig=plt.figure()\n",
        "fig.subplots_adjust(bottom=0.025, left=0.05, top = 0.975, right=0.975)\n",
        "fig.add_subplot(1,2,1)\n",
        "plt.pie(list(time_data.values()), labels=list(time_data.keys()),\n",
        "        autopct='%1.1f%%', shadow=True, startangle=90)\n",
        "plt.title('Viajes nocturnos\\n por horas L-J')\n",
        "fig.add_subplot(1,2,2)\n",
        "plt.pie(list(weekend_time_data.values()), labels=list(weekend_time_data.keys()),\n",
        "        autopct='%1.1f%%', shadow=True, startangle=90)\n",
        "plt.title('Viajes nocturnos\\n por horas V-D')\n",
        "plt.show()"
      ],
      "execution_count": 0,
      "outputs": [
        {
          "output_type": "display_data",
          "data": {
            "image/png": "[encoded data removed]",
            "text/plain": [
              "<Figure size 432x288 with 2 Axes>"
            ]
          },
          "metadata": {
            "tags": []
          }
        }
      ]
    },
    {
      "cell_type": "markdown",
      "metadata": {
        "id": "gFViHoToCZyZ",
        "colab_type": "text"
      },
      "source": [
        "Como vemos, en ambos casos, la mayoría de viajes se producen entre la 1 y las 3 de la madrugada, quizás se deba a que a partir de una cierta hora, sea más seguro otro tipo de transporte que la bici.\n",
        "Durante el fin de semana, baja el tanto porciento de viajes entre la 1 y las 2 en un 3,2% y sin embargo, hay un incremento entre las 3 y las 4 del 2,2%, y entre las 4 y las 5 del 1,6%."
      ]
    },
    {
      "cell_type": "markdown",
      "metadata": {
        "id": "BZFdCqgXGv5H",
        "colab_type": "text"
      },
      "source": [
        "Para entenderlo mejor, veamos también distinciones por horas y usuarios."
      ]
    },
    {
      "cell_type": "code",
      "metadata": {
        "id": "xg87ylMrh79t",
        "colab_type": "code",
        "colab": {
          "base_uri": "https://localhost:8080/",
          "height": 1000
        },
        "outputId": "28b80ff8-5563-44c9-b516-7de746a30288"
      },
      "source": [
        "horas = ['01:00:00', '02:00:00', '03:00:00', '04:00:00', '05:00:00']\n",
        "#fig=plt.figure()\n",
        "#fig.subplots_adjust(bottom=0.025, left=0.05, top = 0.975, right=0.975) \n",
        "#fig.add_subplot(3,5,1)\n",
        "def grafica(dic, value):\n",
        "  fig=plt.figure()\n",
        "  fig.subplots_adjust(bottom=0.025, left=0.05, top = 0.975, right=0.975) \n",
        "  #linea = value/2 +1\n",
        "  #pos = (value % 2) + 1\n",
        "  #fig.add_subplot(linea,5,pos)\n",
        "  plt.pie(list(dic.values()), labels=list(dic.keys()),\n",
        "        autopct='%1.1f%%', shadow=True, startangle=90)\n",
        "  plt.title('Viajes tipo '+str(value)+' a las '+horas[value]+' horas')\n",
        "  plt.show()\n",
        "for i in range(5):\n",
        "  grafica(rddHoras.filter(lambda x: x[0] == horas[i]).map(lambda x: (x[1], 1)).countByKey(), i)\n",
        "#Tarda un rato y he intentado ponerlo como lo ponia elisa pero quedaba muy pequeño y no se absolutamente nada. Asi se ve mas pero a lo mejor\n",
        "#ocupa demasiado."
      ],
      "execution_count": 100,
      "outputs": [
        {
          "output_type": "display_data",
          "data": {
            "image/png": "[encoded data removed]",
            "text/plain": [
              "<Figure size 432x288 with 1 Axes>"
            ]
          },
          "metadata": {
            "tags": []
          }
        },
        {
          "output_type": "display_data",
          "data": {
            "image/png": "[encoded data removed]",
            "text/plain": [
              "<Figure size 432x288 with 1 Axes>"
            ]
          },
          "metadata": {
            "tags": []
          }
        },
        {
          "output_type": "display_data",
          "data": {
            "image/png": "[encoded data removed]",
            "text/plain": [
              "<Figure size 432x288 with 1 Axes>"
            ]
          },
          "metadata": {
            "tags": []
          }
        },
        {
          "output_type": "display_data",
          "data": {
            "image/png": "[encoded data removed]",
            "text/plain": [
              "<Figure size 432x288 with 1 Axes>"
            ]
          },
          "metadata": {
            "tags": []
          }
        },
        {
          "output_type": "display_data",
          "data": {
            "image/png": "[encoded data removed]",
            "text/plain": [
              "<Figure size 432x288 with 1 Axes>"
            ]
          },
          "metadata": {
            "tags": []
          }
        }
      ]
    },
    {
      "cell_type": "markdown",
      "metadata": {
        "id": "94H1EyV88Vcp",
        "colab_type": "text"
      },
      "source": [
        "Esto de aqui abajo lo he hecho pero no sabia por que y lo he dejado asi jaja"
      ]
    },
    {
      "cell_type": "code",
      "metadata": {
        "id": "KU7ETUMV8pqy",
        "colab_type": "code",
        "colab": {
          "base_uri": "https://localhost:8080/",
          "height": 35
        },
        "outputId": "e586e304-2a8d-4a83-93ce-b294ac3754ec"
      },
      "source": [
        "#Esta RDD ya tiene los datos importantes usando la funcion mapper        \n",
        "rddNocturna_ordenada = rddNocturna_datos.map(lambda x: (x[2], 1)).groupByKey().mapValues(tuple).map(lambda x: (len(x[1]), x[0]))\n",
        "rddNocturna_ordenada.sortByKey(False).map(lambda x: (x[1], x[0])).take(1)"
      ],
      "execution_count": 57,
      "outputs": [
        {
          "output_type": "execute_result",
          "data": {
            "text/plain": [
              "[(57, 366)]"
            ]
          },
          "metadata": {
            "tags": []
          },
          "execution_count": 57
        }
      ]
    },
    {
      "cell_type": "markdown",
      "metadata": {
        "id": "VOwaGVj1WjlW",
        "colab_type": "text"
      },
      "source": [
        "La estacion de la que parten mas bicis es de la 57, veamos que estaciones tienen como destino"
      ]
    },
    {
      "cell_type": "code",
      "metadata": {
        "id": "PxUgSoqrWfgb",
        "colab_type": "code",
        "colab": {}
      },
      "source": [
        "rddNocturna_datos.filter(lambda x: x[2] == 57).map(lambda)"
      ],
      "execution_count": 0,
      "outputs": []
    },
    {
      "cell_type": "code",
      "metadata": {
        "id": "2EkS9bEAWyzl",
        "colab_type": "code",
        "colab": {}
      },
      "source": [
        ""
      ],
      "execution_count": 0,
      "outputs": []
    }
  ]
}