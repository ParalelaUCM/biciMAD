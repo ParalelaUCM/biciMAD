{
  "nbformat": 4,
  "nbformat_minor": 0,
  "metadata": {
    "colab": {
      "name": "Copia de triciclos.ipynb",
      "provenance": [],
      "collapsed_sections": [],
      "authorship_tag": "ABX9TyPiNFam35TdQgQQbm/eNet5",
      "include_colab_link": true
    },
    "kernelspec": {
      "name": "python3",
      "display_name": "Python 3"
    }
  },
  "cells": [
    {
      "cell_type": "markdown",
      "metadata": {
        "id": "view-in-github",
        "colab_type": "text"
      },
      "source": [
        "<a href=\"https://colab.research.google.com/github/ParalelaUCM/biciMAD/blob/master/triciclos2.ipynb\" target=\"_parent\"><img src=\"https://colab.research.google.com/assets/colab-badge.svg\" alt=\"Open In Colab\"/></a>"
      ]
    },
    {
      "cell_type": "code",
      "metadata": {
        "id": "6UM1p2S_SdFU",
        "colab_type": "code",
        "colab": {}
      },
      "source": [
        "!apt-get install openjdk-8-jdk\n",
        "\n",
        "import os\n",
        "os.environ[\"JAVA_HOME\"] = \"/usr/lib/jvm/java-8-openjdk-amd64\"\n",
        "\n",
        "!pip install pyspark"
      ],
      "execution_count": 0,
      "outputs": []
    },
    {
      "cell_type": "code",
      "metadata": {
        "id": "kNPIrjo0Trvm",
        "colab_type": "code",
        "colab": {}
      },
      "source": [
        "import json\n",
        "from pyspark import SparkContext\n",
        "sc = SparkContext()"
      ],
      "execution_count": 0,
      "outputs": []
    },
    {
      "cell_type": "code",
      "metadata": {
        "id": "4SztX75ohThC",
        "colab_type": "code",
        "colab": {}
      },
      "source": [
        "rdd_usages = {}\n",
        "def mapper_usages(line):\n",
        "  data = json.loads(line)\n",
        "  user = data['user_type']\n",
        "  user_day = data['user_day_code']\n",
        "  start = data['idunplug_station']\n",
        "  end = data['idplug_station']\n",
        "  date = data['unplug_hourTime']['$date'][0:10]\n",
        "  hora = data['unplug_hourTime']['$date'][11:19]\n",
        "  time = data['travel_time']\n",
        "  age = data['ageRange']\n",
        "  try:\n",
        "    track = data['track']\n",
        "  except:\n",
        "    track = None\n",
        "  return {\"user_type\": user,\n",
        "          \"user_day_code\": user_day,\n",
        "          \"start\": start,\n",
        "          \"end\": end,\n",
        "          \"travel_time\": time,\n",
        "          \"date\": date,\n",
        "          \"hour\": hora,\n",
        "          \"age\": age,\n",
        "          \"track\": track}"
      ],
      "execution_count": 0,
      "outputs": []
    },
    {
      "cell_type": "code",
      "metadata": {
        "id": "Vh8iem3dhosU",
        "colab_type": "code",
        "colab": {
          "base_uri": "https://localhost:8080/",
          "height": 34
        },
        "outputId": "602901e8-0966-4322-c069-93a85b4f4458"
      },
      "source": [
        "directory = '/content'\n",
        "rdd_usages['2019'] = sc.emptyRDD()\n",
        "for filename in os.listdir(directory):\n",
        "    if filename.endswith(\".json\"):\n",
        "      #Nos quedamos con la fecha del dataset en formato YYYYMM\n",
        "      name = filename.split(\"_\")[0]\n",
        "      rdd_usages[name] = sc.textFile(os.path.join(directory, filename)).map(mapper_usages)\n",
        "      rdd_usages['2019'] = rdd_usages['2019'].union(rdd_usages[name])\n",
        "      #DEBUG starts\n",
        "      print(name)\n",
        "      #DEBUG ends\n",
        "    else:\n",
        "        continue"
      ],
      "execution_count": 14,
      "outputs": [
        {
          "output_type": "stream",
          "text": [
            "201901\n"
          ],
          "name": "stdout"
        }
      ]
    },
    {
      "cell_type": "code",
      "metadata": {
        "id": "Dm8Po27Ohx1K",
        "colab_type": "code",
        "colab": {}
      },
      "source": [
        "rddprima = rdd_usages['2019'].map(lambda x: ((x['user_day_code'],x['user_type']),[x['start'],x['end']]))\\\n",
        "                              .groupByKey().map(lambda x: (x[0],list(x[1])))"
      ],
      "execution_count": 0,
      "outputs": []
    },
    {
      "cell_type": "code",
      "metadata": {
        "id": "tV-6Ir24itTF",
        "colab_type": "code",
        "colab": {
          "base_uri": "https://localhost:8080/",
          "height": 51
        },
        "outputId": "fd0bb44f-f8f7-4ee6-d411-cd0ecb53e078"
      },
      "source": [
        "rddprima.take(1)"
      ],
      "execution_count": 181,
      "outputs": [
        {
          "output_type": "execute_result",
          "data": {
            "text/plain": [
              "[(('aa4275d4a7ef4a0b7fd1fff2eec15dda5774781fdeea6b9b262caa8af132c429', 1),\n",
              "  [[30, 100]])]"
            ]
          },
          "metadata": {
            "tags": []
          },
          "execution_count": 181
        }
      ]
    },
    {
      "cell_type": "code",
      "metadata": {
        "id": "r9SnwuSj1I6q",
        "colab_type": "code",
        "colab": {}
      },
      "source": [
        "def adic(ldl):\n",
        "  d = {}\n",
        "  for elem in ldl:\n",
        "    key,value = str(elem[0]),str(elem[1])\n",
        "    if key in d:\n",
        "      d[key].append(value)\n",
        "    else:\n",
        "      d[key]=[value]\n",
        "  return d"
      ],
      "execution_count": 0,
      "outputs": []
    },
    {
      "cell_type": "code",
      "metadata": {
        "id": "l3INuOLf1UL6",
        "colab_type": "code",
        "colab": {}
      },
      "source": [
        "separador = \"-->\"\n",
        "def unomas(dic):\n",
        "  dk = list(dic.keys())\n",
        "  for key in dk:\n",
        "    if not isinstance(dic[key],int): #ya es un ciclo\n",
        "      for elem in dic[key]:      \n",
        "        if key==elem:\n",
        "          dic[key+separador+elem]=1 #[integer] indica ciclo\n",
        "        else:\n",
        "          spl = key.split(separador)\n",
        "          if elem in spl:\n",
        "            pos = spl.index(elem)\n",
        "            dic[key+separador+elem]=len(spl)-pos #[integer] indica ciclo\n",
        "          else:\n",
        "            try:\n",
        "              dic[key+separador+elem]=dic[elem]\n",
        "            except KeyError:\n",
        "              pass\n",
        "  return dic"
      ],
      "execution_count": 0,
      "outputs": []
    },
    {
      "cell_type": "code",
      "metadata": {
        "id": "DuiDHyzw8ZM7",
        "colab_type": "code",
        "colab": {}
      },
      "source": [
        "def sigue(dic):\n",
        "  if len(dic) == len(unomas(dic)):\n",
        "    return dic\n",
        "  else:\n",
        "    return (sigue(unomas(dic)))"
      ],
      "execution_count": 0,
      "outputs": []
    },
    {
      "cell_type": "code",
      "metadata": {
        "id": "KdRxSnK6qNVO",
        "colab_type": "code",
        "colab": {}
      },
      "source": [
        "def tieneciclos(dic):\n",
        "  resultado = False\n",
        "  for key,value in dic.items():\n",
        "    if isinstance(value,int):\n",
        "      resultado = True\n",
        "  return resultado\n"
      ],
      "execution_count": 0,
      "outputs": []
    },
    {
      "cell_type": "code",
      "metadata": {
        "id": "YlQSL_0Bwhaf",
        "colab_type": "code",
        "colab": {}
      },
      "source": [
        "def dameciclos(dic):\n",
        "  dic2 = {}\n",
        "  for key,value in dic.items():\n",
        "    if isinstance(value,int):\n",
        "      try:\n",
        "        dic2[value].append(key)\n",
        "      except:\n",
        "        dic2[value]=[key]\n",
        "  return dic2"
      ],
      "execution_count": 0,
      "outputs": []
    },
    {
      "cell_type": "code",
      "metadata": {
        "id": "NWQjM6uN6i2e",
        "colab_type": "code",
        "colab": {}
      },
      "source": [
        "rdd = rddprima.mapValues(lambda x: adic(x)).mapValues(lambda x: sigue(x))\\\n",
        "          .filter(lambda x: len(x[1])>0).filter(lambda x: tieneciclos(x[1]))\\\n",
        "          .mapValues(lambda x:dameciclos(x))"
      ],
      "execution_count": 0,
      "outputs": []
    },
    {
      "cell_type": "code",
      "metadata": {
        "id": "gITJ9PD5xtcI",
        "colab_type": "code",
        "colab": {
          "base_uri": "https://localhost:8080/",
          "height": 527
        },
        "outputId": "ab84a12e-4c5b-452e-8b8f-6cd6006866df"
      },
      "source": [
        "rdd.take(10)"
      ],
      "execution_count": 215,
      "outputs": [
        {
          "output_type": "execute_result",
          "data": {
            "text/plain": [
              "[(('e803c8d95160b6a328ef497ef33322937c6b9f2a2df1e3f45ccf6e2529265085', 1),\n",
              "  {2: ['95-->75-->95',\n",
              "    '11-->75-->11',\n",
              "    '75-->95-->75',\n",
              "    '75-->11-->75',\n",
              "    '95-->11-->75-->11',\n",
              "    '95-->75-->11-->75',\n",
              "    '11-->75-->95-->75'],\n",
              "   3: ['95-->11-->75-->95', '11-->75-->95-->11', '75-->95-->11-->75']}),\n",
              " (('3c3b6732a0b384c78791d3d86dfb44f1141ec5075f4ed6f38d445b74bbd86bf5', 1),\n",
              "  {2: ['143-->157-->143', '157-->143-->157']}),\n",
              " (('58ba8b1ada60486c0ce079ade7fd291da026d029db3526885b1c58e2456b53a2', 1),\n",
              "  {2: ['67-->47-->67', '47-->67-->47']}),\n",
              " (('a985a9c1060233924c92ee1c39d74e07c75a00e0c238054cb8e742eb7cc79885', 1),\n",
              "  {1: ['149-->149']}),\n",
              " (('1356d624f8a8e0371b907e6acfb10257749384479c38984c059b85e2eca46e0c', 1),\n",
              "  {2: ['79-->115-->79', '115-->79-->115']}),\n",
              " (('43c0c98ecb31b9a84119e659dee84c51eec5b84c9f18b94a591adadbf5091a97', 1),\n",
              "  {1: ['168-->168', '157-->168-->168']}),\n",
              " (('f155c1f2a548e1234d24f72d8d1c064cbbf287ffe536fbefa45732f61d9bf9b3', 1),\n",
              "  {2: ['46-->19-->46', '19-->46-->19']}),\n",
              " (('e59865d071bdf1375720560e895d9625afdf8a60aa248ea19841c6543e9ffcb2', 1),\n",
              "  {3: ['8-->58-->21-->8', '58-->21-->8-->58', '21-->8-->58-->21']}),\n",
              " (('3e4c97a6bd1cb591f42fbb1df48ad08487c3580d26f40910c08c88e2369dbde8', 1),\n",
              "  {2: ['149-->125-->149', '125-->149-->125']}),\n",
              " (('845eb4ccce9b25a8c5e26a99779fb4bae4867145da273ccdd4c63ea7ca30337b', 1),\n",
              "  {3: ['135-->136-->167-->135',\n",
              "    '136-->167-->135-->136',\n",
              "    '167-->135-->136-->167',\n",
              "    '165-->135-->136-->167-->135']})]"
            ]
          },
          "metadata": {
            "tags": []
          },
          "execution_count": 215
        }
      ]
    },
    {
      "cell_type": "code",
      "metadata": {
        "id": "F5g5uGAZ-xM_",
        "colab_type": "code",
        "outputId": "f40285a6-4676-45ba-ea33-932c91315508",
        "colab": {
          "base_uri": "https://localhost:8080/",
          "height": 238
        }
      },
      "source": [
        "#todos los ciclos de longitud m:\n",
        "m=10\n",
        "a = rdd.filter(lambda x: m in x[1].keys()).mapValues(lambda x: x[m])\n",
        "print(\"ciclos de longitud \"+str(m+1)+\": \")\n",
        "a.collect()\n",
        "#aqui tenemos el problema de que repite los 11 posibles ciclos"
      ],
      "execution_count": 210,
      "outputs": [
        {
          "output_type": "stream",
          "text": [
            "ciclos de longitud 11: \n"
          ],
          "name": "stdout"
        },
        {
          "output_type": "execute_result",
          "data": {
            "text/plain": [
              "[(('de72307865c05f16a90b242c8ccd218d64c57a116b7a94c0b6cec7312c54ba28', 1),\n",
              "  ['58-->46-->107-->63-->157-->114-->35-->18-->164-->27-->58',\n",
              "   '46-->107-->63-->157-->114-->35-->18-->164-->27-->58-->46',\n",
              "   '107-->63-->157-->114-->35-->18-->164-->27-->58-->46-->107',\n",
              "   '63-->157-->114-->35-->18-->164-->27-->58-->46-->107-->63',\n",
              "   '157-->114-->35-->18-->164-->27-->58-->46-->107-->63-->157',\n",
              "   '114-->35-->18-->164-->27-->58-->46-->107-->63-->157-->114',\n",
              "   '35-->18-->164-->27-->58-->46-->107-->63-->157-->114-->35',\n",
              "   '18-->164-->27-->58-->46-->107-->63-->157-->114-->35-->18',\n",
              "   '164-->27-->58-->46-->107-->63-->157-->114-->35-->18-->164',\n",
              "   '27-->58-->46-->107-->63-->157-->114-->35-->18-->164-->27',\n",
              "   '26-->58-->46-->107-->63-->157-->114-->35-->18-->164-->27-->58'])]"
            ]
          },
          "metadata": {
            "tags": []
          },
          "execution_count": 210
        }
      ]
    },
    {
      "cell_type": "code",
      "metadata": {
        "id": "igFFPTv24V-C",
        "colab_type": "code",
        "colab": {
          "base_uri": "https://localhost:8080/",
          "height": 51
        },
        "outputId": "4840390b-86e8-4eda-f37c-b42cdc9e7240"
      },
      "source": [
        "rddprima.filter(lambda x: x[0][0]=='e803c8d95160b6a328ef497ef33322937c6b9f2a2df1e3f45ccf6e2529265085').collect()"
      ],
      "execution_count": 216,
      "outputs": [
        {
          "output_type": "execute_result",
          "data": {
            "text/plain": [
              "[(('e803c8d95160b6a328ef497ef33322937c6b9f2a2df1e3f45ccf6e2529265085', 1),\n",
              "  [[95, 11], [11, 75], [75, 95], [95, 75], [75, 11]])]"
            ]
          },
          "metadata": {
            "tags": []
          },
          "execution_count": 216
        }
      ]
    },
    {
      "cell_type": "code",
      "metadata": {
        "id": "ByreAn0E2p7_",
        "colab_type": "code",
        "colab": {}
      },
      "source": [
        "qwe = sc.emptyRDD()"
      ],
      "execution_count": 0,
      "outputs": []
    },
    {
      "cell_type": "code",
      "metadata": {
        "id": "ePl9bibM2wNj",
        "colab_type": "code",
        "colab": {
          "base_uri": "https://localhost:8080/",
          "height": 34
        },
        "outputId": "6b47748d-e475-4719-e0d2-6cbcfaeef471"
      },
      "source": [
        "qwe.isEmpty()"
      ],
      "execution_count": 194,
      "outputs": [
        {
          "output_type": "execute_result",
          "data": {
            "text/plain": [
              "True"
            ]
          },
          "metadata": {
            "tags": []
          },
          "execution_count": 194
        }
      ]
    },
    {
      "cell_type": "code",
      "metadata": {
        "id": "-orJhcLT20EC",
        "colab_type": "code",
        "colab": {
          "base_uri": "https://localhost:8080/",
          "height": 357
        },
        "outputId": "63e5f6da-5924-4817-dbe9-b245f1d8d013"
      },
      "source": [
        "for m in range(20):\n",
        "  print(m,rdd.filter(lambda x: m in x[1].keys()).mapValues(lambda x: x[m]).isEmpty())"
      ],
      "execution_count": 197,
      "outputs": [
        {
          "output_type": "stream",
          "text": [
            "0 True\n",
            "1 False\n",
            "2 False\n",
            "3 False\n",
            "4 False\n",
            "5 False\n",
            "6 False\n",
            "7 False\n",
            "8 True\n",
            "9 True\n",
            "10 False\n",
            "11 True\n",
            "12 True\n",
            "13 True\n",
            "14 True\n",
            "15 True\n",
            "16 True\n",
            "17 True\n",
            "18 True\n",
            "19 True\n"
          ],
          "name": "stdout"
        }
      ]
    },
    {
      "cell_type": "code",
      "metadata": {
        "id": "wPaWuQDz3MYX",
        "colab_type": "code",
        "colab": {}
      },
      "source": [
        "m=3\n",
        "rddm = rdd.filter(lambda x: m in x[1].keys()).mapValues(lambda x: x[m])"
      ],
      "execution_count": 0,
      "outputs": []
    },
    {
      "cell_type": "code",
      "metadata": {
        "id": "jq9rOmCS3ThF",
        "colab_type": "code",
        "colab": {
          "base_uri": "https://localhost:8080/",
          "height": 51
        },
        "outputId": "36b6d0fd-538e-484d-e1e1-02a5045bdc6d"
      },
      "source": [
        "rddm.take(1)"
      ],
      "execution_count": 203,
      "outputs": [
        {
          "output_type": "execute_result",
          "data": {
            "text/plain": [
              "[(('e803c8d95160b6a328ef497ef33322937c6b9f2a2df1e3f45ccf6e2529265085', 1),\n",
              "  '75-->95-->11-->75')]"
            ]
          },
          "metadata": {
            "tags": []
          },
          "execution_count": 203
        }
      ]
    },
    {
      "cell_type": "code",
      "metadata": {
        "id": "ywkWzxPi3nmd",
        "colab_type": "code",
        "colab": {
          "base_uri": "https://localhost:8080/",
          "height": 34
        },
        "outputId": "66cda0fe-78d4-4179-a2ca-3adf8dd1ec4c"
      },
      "source": [
        "rddm.map(lambda x: (x[0][1],len(x[1]))).take(1)"
      ],
      "execution_count": 206,
      "outputs": [
        {
          "output_type": "execute_result",
          "data": {
            "text/plain": [
              "[(1, 17)]"
            ]
          },
          "metadata": {
            "tags": []
          },
          "execution_count": 206
        }
      ]
    }
  ]
}