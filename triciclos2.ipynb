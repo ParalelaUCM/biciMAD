{
  "nbformat": 4,
  "nbformat_minor": 0,
  "metadata": {
    "colab": {
      "name": "triciclos2.ipynb",
      "provenance": [],
      "collapsed_sections": [],
      "authorship_tag": "ABX9TyMHOg4ZQKZCSw9VCCrADcIs",
      "include_colab_link": true
    },
    "kernelspec": {
      "name": "python3",
      "display_name": "Python 3"
    }
  },
  "cells": [
    {
      "cell_type": "markdown",
      "metadata": {
        "id": "view-in-github",
        "colab_type": "text"
      },
      "source": [
        "<a href=\"https://colab.research.google.com/github/ParalelaUCM/biciMAD/blob/master/triciclos2.ipynb\" target=\"_parent\"><img src=\"https://colab.research.google.com/assets/colab-badge.svg\" alt=\"Open In Colab\"/></a>"
      ]
    },
    {
      "cell_type": "code",
      "metadata": {
        "id": "6UM1p2S_SdFU",
        "colab_type": "code",
        "colab": {}
      },
      "source": [
        "!apt-get install openjdk-8-jdk\n",
        "\n",
        "import os\n",
        "os.environ[\"JAVA_HOME\"] = \"/usr/lib/jvm/java-8-openjdk-amd64\"\n",
        "\n",
        "!pip install pyspark"
      ],
      "execution_count": 0,
      "outputs": []
    },
    {
      "cell_type": "code",
      "metadata": {
        "id": "kNPIrjo0Trvm",
        "colab_type": "code",
        "colab": {}
      },
      "source": [
        "import json\n",
        "from pyspark import SparkContext\n",
        "sc = SparkContext()"
      ],
      "execution_count": 0,
      "outputs": []
    },
    {
      "cell_type": "code",
      "metadata": {
        "id": "4SztX75ohThC",
        "colab_type": "code",
        "colab": {}
      },
      "source": [
        "rdd_usages = {}\n",
        "def mapper_usages(line):\n",
        "  data = json.loads(line)\n",
        "  user = data['user_type']\n",
        "  user_day = data['user_day_code']\n",
        "  start = data['idunplug_station']\n",
        "  end = data['idplug_station']\n",
        "  date = data['unplug_hourTime']['$date'][0:10]\n",
        "  hora = data['unplug_hourTime']['$date'][11:19]\n",
        "  time = data['travel_time']\n",
        "  age = data['ageRange']\n",
        "  try:\n",
        "    track = data['track']\n",
        "  except:\n",
        "    track = None\n",
        "  return {\"user_type\": user,\n",
        "          \"user_day_code\": user_day,\n",
        "          \"start\": start,\n",
        "          \"end\": end,\n",
        "          \"travel_time\": time,\n",
        "          \"date\": date,\n",
        "          \"hour\": hora,\n",
        "          \"age\": age,\n",
        "          \"track\": track}"
      ],
      "execution_count": 0,
      "outputs": []
    },
    {
      "cell_type": "code",
      "metadata": {
        "id": "Vh8iem3dhosU",
        "colab_type": "code",
        "outputId": "ed8f38d4-7859-4b93-e959-675d8714ffef",
        "colab": {
          "base_uri": "https://localhost:8080/",
          "height": 34
        }
      },
      "source": [
        "directory = '/content'\n",
        "rdd_usages['2019'] = sc.emptyRDD()\n",
        "for filename in os.listdir(directory):\n",
        "    if filename.endswith(\".json\"):\n",
        "      #Nos quedamos con la fecha del dataset en formato YYYYMM\n",
        "      name = filename.split(\"_\")[0]\n",
        "      rdd_usages[name] = sc.textFile(os.path.join(directory, filename)).map(mapper_usages)\n",
        "      rdd_usages['2019'] = rdd_usages['2019'].union(rdd_usages[name])\n",
        "      #DEBUG starts\n",
        "      print(name)\n",
        "      #DEBUG ends\n",
        "    else:\n",
        "        continue"
      ],
      "execution_count": 85,
      "outputs": [
        {
          "output_type": "stream",
          "text": [
            "201901\n"
          ],
          "name": "stdout"
        }
      ]
    },
    {
      "cell_type": "code",
      "metadata": {
        "id": "Dm8Po27Ohx1K",
        "colab_type": "code",
        "colab": {}
      },
      "source": [
        "rddprima = rdd_usages['2019'].map(lambda x: ((x['user_day_code'],x['user_type']),[x['start'],x['end']]))\\\n",
        "                              .groupByKey().map(lambda x: (x[0],list(x[1])))"
      ],
      "execution_count": 0,
      "outputs": []
    },
    {
      "cell_type": "code",
      "metadata": {
        "id": "tV-6Ir24itTF",
        "colab_type": "code",
        "outputId": "bf1f937f-3dbb-4ae0-9999-2fec6f53ef23",
        "colab": {
          "base_uri": "https://localhost:8080/",
          "height": 51
        }
      },
      "source": [
        "rddprima.take(1)"
      ],
      "execution_count": 87,
      "outputs": [
        {
          "output_type": "execute_result",
          "data": {
            "text/plain": [
              "[(('333b4a5272918ac2fa476dd005238976cb1620ee5f91220cd6985f266607f5d7', 1),\n",
              "  [[76, 97]])]"
            ]
          },
          "metadata": {
            "tags": []
          },
          "execution_count": 87
        }
      ]
    },
    {
      "cell_type": "code",
      "metadata": {
        "id": "r9SnwuSj1I6q",
        "colab_type": "code",
        "colab": {}
      },
      "source": [
        "def adic(ldl):\n",
        "  d = {}\n",
        "  for elem in ldl:\n",
        "    key,value = str(elem[0]),str(elem[1])\n",
        "    if key in d:\n",
        "      d[key].append(value)\n",
        "    else:\n",
        "      d[key]=[value]\n",
        "  return d"
      ],
      "execution_count": 0,
      "outputs": []
    },
    {
      "cell_type": "code",
      "metadata": {
        "id": "WlBnNUJmkdX4",
        "colab_type": "code",
        "colab": {
          "base_uri": "https://localhost:8080/",
          "height": 170
        },
        "outputId": "485e73a3-83db-4215-a3b6-7e0e1174aac9"
      },
      "source": [
        "rddprima.mapValues(adic).filter(lambda x: len(x[1])>2).mapValues(sigue).take(1)"
      ],
      "execution_count": 89,
      "outputs": [
        {
          "output_type": "execute_result",
          "data": {
            "text/plain": [
              "[(('0c99e40b1169ec5ec180ec68da553cf61d86a4675573d2a6d1da354acccbaae0', 1),\n",
              "  {('46',): 1,\n",
              "   '42': ['46'],\n",
              "   '42_46': ['43', '46'],\n",
              "   '44': ['46'],\n",
              "   '44_46': ['43', '46'],\n",
              "   '46': ['43', '46'],\n",
              "   '5': ['54'],\n",
              "   '53': ['43']})]"
            ]
          },
          "metadata": {
            "tags": []
          },
          "execution_count": 89
        }
      ]
    },
    {
      "cell_type": "code",
      "metadata": {
        "id": "l3INuOLf1UL6",
        "colab_type": "code",
        "colab": {}
      },
      "source": [
        "separador = \"_\"\n",
        "def unomas(dic):\n",
        "  dk = list(dic.keys())\n",
        "  for key in dk:\n",
        "    if not isinstance(key, tuple): #ya es un ciclo\n",
        "      for elem in dic[key]:      \n",
        "        if key==elem:\n",
        "          dic[tuple(set([key]))]=1 #[integer] indica ciclo longitud 1\n",
        "        else:\n",
        "          spl = key.split(separador)\n",
        "          if elem in spl:\n",
        "            pos = spl.index(elem)\n",
        "            lis = spl[pos:]\n",
        "            dic[tuple(set(lis))] = len(spl)-pos #[integer] indica ciclo\n",
        "          else:\n",
        "            try:\n",
        "              dic[key+separador+elem]=dic[elem]\n",
        "            except KeyError:\n",
        "              pass\n",
        "  return dic"
      ],
      "execution_count": 0,
      "outputs": []
    },
    {
      "cell_type": "code",
      "metadata": {
        "id": "Ks9JtbltpR94",
        "colab_type": "code",
        "colab": {
          "base_uri": "https://localhost:8080/",
          "height": 34
        },
        "outputId": "478cd871-eeae-4dcb-8f4c-bce50ccbe3b5"
      },
      "source": [
        "set(['123'])"
      ],
      "execution_count": 91,
      "outputs": [
        {
          "output_type": "execute_result",
          "data": {
            "text/plain": [
              "{'123'}"
            ]
          },
          "metadata": {
            "tags": []
          },
          "execution_count": 91
        }
      ]
    },
    {
      "cell_type": "code",
      "metadata": {
        "id": "DuiDHyzw8ZM7",
        "colab_type": "code",
        "colab": {}
      },
      "source": [
        "def sigue(dic):\n",
        "  if len(dic) == len(unomas(dic)):\n",
        "    return dic\n",
        "  else:\n",
        "    return (sigue(unomas(dic)))"
      ],
      "execution_count": 0,
      "outputs": []
    },
    {
      "cell_type": "code",
      "metadata": {
        "id": "KdRxSnK6qNVO",
        "colab_type": "code",
        "colab": {}
      },
      "source": [
        "def tieneciclos(dic):\n",
        "  resultado = False\n",
        "  for key,value in dic.items():\n",
        "    if isinstance(key,tuple):\n",
        "      resultado = True\n",
        "  return resultado\n"
      ],
      "execution_count": 0,
      "outputs": []
    },
    {
      "cell_type": "code",
      "metadata": {
        "id": "YlQSL_0Bwhaf",
        "colab_type": "code",
        "colab": {}
      },
      "source": [
        "def dameciclos(dic):\n",
        "  dic2 = {}\n",
        "  for key,value in dic.items():\n",
        "    if isinstance(key,tuple):\n",
        "      try:\n",
        "        dic2[value].append(key)\n",
        "      except:\n",
        "        dic2[value]=[key]\n",
        "  return dic2"
      ],
      "execution_count": 0,
      "outputs": []
    },
    {
      "cell_type": "code",
      "metadata": {
        "id": "NWQjM6uN6i2e",
        "colab_type": "code",
        "colab": {}
      },
      "source": [
        "rdd_ciclos = rddprima.mapValues(lambda x: adic(x)).mapValues(lambda x: sigue(x))\\\n",
        "          .filter(lambda x: len(x[1])>0).filter(lambda x: tieneciclos(x[1]))\\\n",
        "          .mapValues(lambda x:dameciclos(x))"
      ],
      "execution_count": 0,
      "outputs": []
    },
    {
      "cell_type": "code",
      "metadata": {
        "id": "gITJ9PD5xtcI",
        "colab_type": "code",
        "outputId": "15407e4b-6eff-4f9c-ed4e-0fad8ef88e43",
        "colab": {
          "base_uri": "https://localhost:8080/",
          "height": 85
        }
      },
      "source": [
        "rdd_ciclos.take(2)"
      ],
      "execution_count": 96,
      "outputs": [
        {
          "output_type": "execute_result",
          "data": {
            "text/plain": [
              "[(('a985a9c1060233924c92ee1c39d74e07c75a00e0c238054cb8e742eb7cc79885', 1),\n",
              "  {1: [('149',)]}),\n",
              " (('0c99e40b1169ec5ec180ec68da553cf61d86a4675573d2a6d1da354acccbaae0', 1),\n",
              "  {1: [('46',)]})]"
            ]
          },
          "metadata": {
            "tags": []
          },
          "execution_count": 96
        }
      ]
    },
    {
      "cell_type": "code",
      "metadata": {
        "id": "-orJhcLT20EC",
        "colab_type": "code",
        "outputId": "83b5ed42-26c2-4436-b609-851f4cb52c4e",
        "colab": {
          "base_uri": "https://localhost:8080/",
          "height": 357
        }
      },
      "source": [
        "for m in range(20): # para ver ciclos de qué longitudes hemos encontrado\n",
        "  print(m,not(rdd.filter(lambda x: m in x[1].keys()).mapValues(lambda x: x[m]).isEmpty()))"
      ],
      "execution_count": 101,
      "outputs": [
        {
          "output_type": "stream",
          "text": [
            "0 False\n",
            "1 True\n",
            "2 True\n",
            "3 True\n",
            "4 True\n",
            "5 True\n",
            "6 True\n",
            "7 True\n",
            "8 False\n",
            "9 False\n",
            "10 True\n",
            "11 False\n",
            "12 False\n",
            "13 False\n",
            "14 False\n",
            "15 False\n",
            "16 False\n",
            "17 False\n",
            "18 False\n",
            "19 False\n"
          ],
          "name": "stdout"
        }
      ]
    },
    {
      "cell_type": "code",
      "metadata": {
        "id": "7gqbTyMbs1s0",
        "colab_type": "code",
        "colab": {}
      },
      "source": [
        "rdd_triciclos = rdd_ciclos.filter(lambda x: 3 in x[1].keys()).mapValues(lambda x: x[3])\n",
        "rdd_biciclos = rdd_ciclos.filter(lambda x: 2 in x[1].keys()).mapValues(lambda x: x[2])"
      ],
      "execution_count": 0,
      "outputs": []
    },
    {
      "cell_type": "code",
      "metadata": {
        "id": "a7tN3ZvkuHQ3",
        "colab_type": "code",
        "colab": {
          "base_uri": "https://localhost:8080/",
          "height": 255
        },
        "outputId": "3d43b675-af6d-46e6-c9c1-081b9799a672"
      },
      "source": [
        "print(\"GENERAL\")\n",
        "for i in range(13):\n",
        "  aux = rdd_ciclos.filter(lambda x: i in x[1].keys()).mapValues(lambda x: x[i])\n",
        "  print(\"ciclos de longitud\",i,\":\",aux.count())"
      ],
      "execution_count": 99,
      "outputs": [
        {
          "output_type": "stream",
          "text": [
            "GENERAL\n",
            "ciclos de longitud 0 : 0\n",
            "ciclos de longitud 1 : 6100\n",
            "ciclos de longitud 2 : 24069\n",
            "ciclos de longitud 3 : 1552\n",
            "ciclos de longitud 4 : 174\n",
            "ciclos de longitud 5 : 33\n",
            "ciclos de longitud 6 : 5\n",
            "ciclos de longitud 7 : 2\n",
            "ciclos de longitud 8 : 0\n",
            "ciclos de longitud 9 : 0\n",
            "ciclos de longitud 10 : 1\n",
            "ciclos de longitud 11 : 0\n",
            "ciclos de longitud 12 : 0\n"
          ],
          "name": "stdout"
        }
      ]
    },
    {
      "cell_type": "code",
      "metadata": {
        "id": "J4PzSq8puj23",
        "colab_type": "code",
        "colab": {
          "base_uri": "https://localhost:8080/",
          "height": 255
        },
        "outputId": "7e199a12-3941-4ed2-8297-033852bc2680"
      },
      "source": [
        "print(\"TRABAJADORES\")\n",
        "for i in range(13):\n",
        "  aux = rdd_ciclos.filter(lambda x: x[0][1]==3).filter(lambda x: i in x[1].keys()).mapValues(lambda x: x[i])\n",
        "  print(\"ciclos de longitud\",i,\":\",aux.count())"
      ],
      "execution_count": 100,
      "outputs": [
        {
          "output_type": "stream",
          "text": [
            "TRABAJADORES\n",
            "ciclos de longitud 0 : 0\n",
            "ciclos de longitud 1 : 587\n",
            "ciclos de longitud 2 : 7\n",
            "ciclos de longitud 3 : 0\n",
            "ciclos de longitud 4 : 2\n",
            "ciclos de longitud 5 : 0\n",
            "ciclos de longitud 6 : 0\n",
            "ciclos de longitud 7 : 0\n",
            "ciclos de longitud 8 : 0\n",
            "ciclos de longitud 9 : 0\n",
            "ciclos de longitud 10 : 0\n",
            "ciclos de longitud 11 : 0\n",
            "ciclos de longitud 12 : 0\n"
          ],
          "name": "stdout"
        }
      ]
    }
  ]
}