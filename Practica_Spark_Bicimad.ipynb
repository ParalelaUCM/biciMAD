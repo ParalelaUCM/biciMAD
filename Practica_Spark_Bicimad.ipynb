{
  "nbformat": 4,
  "nbformat_minor": 0,
  "metadata": {
    "colab": {
      "name": "Practica_Spark_Bicimad.ipynb",
      "provenance": [],
      "collapsed_sections": [],
      "toc_visible": true,
      "include_colab_link": true
    },
    "kernelspec": {
      "name": "python3",
      "display_name": "Python 3"
    }
  },
  "cells": [
    {
      "cell_type": "markdown",
      "metadata": {
        "id": "view-in-github",
        "colab_type": "text"
      },
      "source": [
        "<a href=\"https://colab.research.google.com/github/ParalelaUCM/biciMAD/blob/master/Practica_Spark_Bicimad.ipynb\" target=\"_parent\"><img src=\"https://colab.research.google.com/assets/colab-badge.svg\" alt=\"Open In Colab\"/></a>"
      ]
    },
    {
      "cell_type": "markdown",
      "metadata": {
        "id": "AlSjamwcsDhs",
        "colab_type": "text"
      },
      "source": [
        "---\n",
        "#Setup\n",
        "Instalamos y configuramos las herramientas necesarias para empezar a trabajar\n"
      ]
    },
    {
      "cell_type": "code",
      "metadata": {
        "id": "LiuGD8SErVEL",
        "colab_type": "code",
        "colab": {}
      },
      "source": [
        "!apt-get install openjdk-8-jdk\n",
        "!apt install unzip\n",
        "import os\n",
        "os.environ[\"JAVA_HOME\"] = \"/usr/lib/jvm/java-8-openjdk-amd64\"\n",
        "!pip install pyspark"
      ],
      "execution_count": 0,
      "outputs": []
    },
    {
      "cell_type": "code",
      "metadata": {
        "id": "JNoyd7gjub48",
        "colab_type": "code",
        "colab": {}
      },
      "source": [
        "!apt install unzip"
      ],
      "execution_count": 0,
      "outputs": []
    },
    {
      "cell_type": "markdown",
      "metadata": {
        "id": "_zZiFmRTpZqH",
        "colab_type": "text"
      },
      "source": [
        "---\n",
        "\n",
        "#**Descargamos los datasets de bicibad**\n",
        "\n",
        "Descargaremos cada dataset de la [web oficial](https://opendata.emtmadrid.es/Datos-estaticos/Datos-generales-(1)) de **biciMAD**. Los renombraremos a '*.zip*' para poder descomprimirlos y una vez descomprimidos los movemos a la carpeta '*datasets*'. Por último eliminamos los ficheros comprimidos."
      ]
    },
    {
      "cell_type": "code",
      "metadata": {
        "id": "srvXiN2wsP1m",
        "colab_type": "code",
        "colab": {}
      },
      "source": [
        "#Carpeta para el dataset\n",
        "!mkdir dataset"
      ],
      "execution_count": 0,
      "outputs": []
    },
    {
      "cell_type": "code",
      "metadata": {
        "id": "E_mygi1Tp_9W",
        "colab_type": "code",
        "outputId": "31889166-6021-470c-c645-ab1f7632c0d8",
        "colab": {
          "base_uri": "https://localhost:8080/",
          "height": 258
        }
      },
      "source": [
        "#Enero de 2019\n",
        "!wget -N \"https://opendata.emtmadrid.es/getattachment/2ebcc70a-4914-43c6-9ada-a0f0520032a4/201901_Usage_Bicimad.aspx\"\n",
        "!mv 201901_Usage_Bicimad.aspx 201901_Usage_Bicimad.zip\n",
        "!unzip 201901_Usage_Bicimad.zip\n",
        "!mv 201901_Usage_Bicimad.json dataset\n",
        "!rm 201901_Usage_Bicimad.zip"
      ],
      "execution_count": 4,
      "outputs": [
        {
          "output_type": "stream",
          "text": [
            "--2020-05-24 16:21:31--  https://opendata.emtmadrid.es/getattachment/2ebcc70a-4914-43c6-9ada-a0f0520032a4/201901_Usage_Bicimad.aspx\n",
            "Resolving opendata.emtmadrid.es (opendata.emtmadrid.es)... 185.79.130.130\n",
            "Connecting to opendata.emtmadrid.es (opendata.emtmadrid.es)|185.79.130.130|:443... connected.\n",
            "HTTP request sent, awaiting response... 200 OK\n",
            "Length: 78311972 (75M) [application/zip]\n",
            "Saving to: ‘201901_Usage_Bicimad.aspx’\n",
            "\n",
            "201901_Usage_Bicima 100%[===================>]  74.68M  1.85MB/s    in 45s     \n",
            "\n",
            "2020-05-24 16:22:16 (1.67 MB/s) - ‘201901_Usage_Bicimad.aspx’ saved [78311972/78311972]\n",
            "\n",
            "Archive:  201901_Usage_Bicimad.zip\n",
            "  inflating: 201901_Usage_Bicimad.json  \n"
          ],
          "name": "stdout"
        }
      ]
    },
    {
      "cell_type": "code",
      "metadata": {
        "colab_type": "code",
        "id": "pUXYeehiwWDp",
        "colab": {}
      },
      "source": [
        "'''\n",
        "#Febrero de 2019\n",
        "!wget -N \"https://opendata.emtmadrid.es/getattachment/aa8c34d2-ddba-46d9-b6db-882c0b4a12f0/201902_Usage_Bicimad.aspx\"\n",
        "!mv 201902_Usage_Bicimad.aspx 201902_Usage_Bicimad.zip \n",
        "!unzip 201902_Usage_Bicimad.zip\n",
        "!mv 201902_Usage_Bicimad.json dataset\n",
        "!rm 201902_Usage_Bicimad.zip\n",
        "'''"
      ],
      "execution_count": 0,
      "outputs": []
    },
    {
      "cell_type": "code",
      "metadata": {
        "colab_type": "code",
        "id": "08NfgOWiwWaD",
        "colab": {}
      },
      "source": [
        "'''\n",
        "#Junio de 2019\n",
        "!wget -N \"https://opendata.emtmadrid.es/getattachment/7517a650-ccdf-4ab1-b1b0-a1d13694472e/201906_Usage_Bicimad.aspx\"\n",
        "!mv 201906_Usage_Bicimad.aspx 201906_Usage_Bicimad.zip\n",
        "!unzip 201906_Usage_Bicimad.zip\n",
        "!mv 201906_Usage_Bicimad.json dataset\n",
        "!rm 201906_Usage_Bicimad.zip\n",
        "'''"
      ],
      "execution_count": 0,
      "outputs": []
    },
    {
      "cell_type": "markdown",
      "metadata": {
        "id": "GJdqqnxu3CPh",
        "colab_type": "text"
      },
      "source": [
        "---\n",
        "#Ahora ya podemos empezar:"
      ]
    },
    {
      "cell_type": "code",
      "metadata": {
        "id": "33X2ppcc4XeF",
        "colab_type": "code",
        "colab": {}
      },
      "source": [
        "#Aquí ya podemos empezar a trabajar\n",
        "import json\n",
        "from pyspark import SparkContext\n",
        "sc = SparkContext()"
      ],
      "execution_count": 0,
      "outputs": []
    },
    {
      "cell_type": "code",
      "metadata": {
        "id": "ibPV6VOqarxx",
        "colab_type": "code",
        "colab": {}
      },
      "source": [
        "rdd_raw  = sc.textFile('/content/dataset/201901_Usage_Bicimad.json')"
      ],
      "execution_count": 0,
      "outputs": []
    },
    {
      "cell_type": "code",
      "metadata": {
        "id": "DwPNQWkLdKLa",
        "colab_type": "code",
        "colab": {
          "base_uri": "https://localhost:8080/",
          "height": 54
        },
        "outputId": "ed319184-f647-4db9-fd82-aef07e3135c6"
      },
      "source": [
        "rdd_raw.take(1)"
      ],
      "execution_count": 9,
      "outputs": [
        {
          "output_type": "execute_result",
          "data": {
            "text/plain": [
              "['{ \"_id\" : { \"$oid\" : \"5c4b07ea2f38432e007daab8\" }, \"user_day_code\" : \"b3b5b61509ab89afbf4d1e589d229bebe6637c2de819f5d612762c939b8d7f1f\", \"idplug_base\" : 14, \"track\" : { \"type\" : \"FeatureCollection\", \"features\" : [ { \"geometry\" : { \"type\" : \"Point\", \"coordinates\" : [ -3.6803143, 40.4048615 ] }, \"type\" : \"Feature\", \"properties\" : { \"var\" : \"28007,ES,Madrid,Madrid,AVDA MENENDEZ PELAYO 117,Madrid\", \"speed\" : 1.77, \"secondsfromstart\" : 153 } }, { \"geometry\" : { \"type\" : \"Point\", \"coordinates\" : [ -3.67770349972222, 40.4029987997222 ] }, \"type\" : \"Feature\", \"properties\" : { \"var\" : \"28007,ES,Madrid,Madrid,AVDA CIUDAD DE BARCELONA 51,Madrid\", \"speed\" : 6.58, \"secondsfromstart\" : 93 } }, { \"geometry\" : { \"type\" : \"Point\", \"coordinates\" : [ -3.67432209972222, 40.4009430997222 ] }, \"type\" : \"Feature\", \"properties\" : { \"var\" : \"28007,ES,Madrid,Madrid,AVDA CIUDAD DE BARCELONA 81,Madrid\", \"speed\" : 4.72, \"secondsfromstart\" : 32 } } ] }, \"user_type\" : 1, \"idunplug_base\" : 23, \"travel_time\" : 162, \"idunplug_station\" : 82, \"ageRange\" : 0, \"idplug_station\" : 83, \"unplug_hourTime\" : { \"$date\" : \"2019-01-01T00:00:00.000+0100\" }, \"zip_code\" : \"\" }']"
            ]
          },
          "metadata": {
            "tags": []
          },
          "execution_count": 9
        }
      ]
    },
    {
      "cell_type": "code",
      "metadata": {
        "id": "osJ5F_5NaDZg",
        "colab_type": "code",
        "colab": {}
      },
      "source": [
        "def mapper(line):\n",
        "    data = json.loads(line)\n",
        "    id_usuario = data['_id']['$oid']\n",
        "    rango_edad = data['ageRange']\n",
        "    tipo_usuario = data['user_type']\n",
        "    id_usuario_dia = data['user_day_code']\n",
        "    start = data['idunplug_station']\n",
        "    end = data['idplug_station']\n",
        "    time = data['travel_time']\n",
        "    dia = data['unplug_hourTime']['$date'][:10]\n",
        "    hora = data['unplug_hourTime']['$date'][11:12]\n",
        "    return id_usuario, rango_edad\n",
        "    '''\n",
        "    return u_t, u_c, start, end, time\n",
        "    '''"
      ],
      "execution_count": 0,
      "outputs": []
    },
    {
      "cell_type": "code",
      "metadata": {
        "id": "3zzmM1wEa30w",
        "colab_type": "code",
        "colab": {}
      },
      "source": [
        "rdd = rdd_raw.map(mapper)"
      ],
      "execution_count": 0,
      "outputs": []
    },
    {
      "cell_type": "code",
      "metadata": {
        "id": "2zo7NHB6a8jW",
        "colab_type": "code",
        "outputId": "1a7f2e5e-7a9d-45c3-c522-37d4a8a7435a",
        "colab": {
          "base_uri": "https://localhost:8080/",
          "height": 102
        }
      },
      "source": [
        "rdd.take(5)"
      ],
      "execution_count": 12,
      "outputs": [
        {
          "output_type": "execute_result",
          "data": {
            "text/plain": [
              "[('5c4b07ea2f38432e007daab8', 0),\n",
              " ('5c4b07ea2f38432e007daaba', 5),\n",
              " ('5c4b07ea2f38432e007daabb', 0),\n",
              " ('5c4b07ea2f38432e007daabd', 3),\n",
              " ('5c4b07ea2f38432e007daabe', 4)]"
            ]
          },
          "metadata": {
            "tags": []
          },
          "execution_count": 12
        }
      ]
    },
    {
      "cell_type": "code",
      "metadata": {
        "id": "4iTDwcElgRi8",
        "colab_type": "code",
        "colab": {
          "base_uri": "https://localhost:8080/",
          "height": 187
        },
        "outputId": "72b73241-8107-4711-8787-ee40783796b0"
      },
      "source": [
        "!pip show py4j"
      ],
      "execution_count": 13,
      "outputs": [
        {
          "output_type": "stream",
          "text": [
            "Name: py4j\n",
            "Version: 0.10.7\n",
            "Summary: Enables Python programs to dynamically access arbitrary Java objects\n",
            "Home-page: https://www.py4j.org/\n",
            "Author: Barthelemy Dagenais\n",
            "Author-email: barthelemy@infobart.com\n",
            "License: BSD License\n",
            "Location: /usr/local/lib/python3.6/dist-packages\n",
            "Requires: \n",
            "Required-by: pyspark\n"
          ],
          "name": "stdout"
        }
      ]
    }
  ]
}